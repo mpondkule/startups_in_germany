{
 "cells": [
  {
   "cell_type": "markdown",
   "metadata": {},
   "source": [
    "# **Scrapping Algorithm**"
   ]
  },
  {
   "cell_type": "code",
   "execution_count": 13,
   "metadata": {},
   "outputs": [],
   "source": [
    "from bs4 import BeautifulSoup  # to parse html\n",
    "from datetime import datetime\n",
    "import os\n",
    "import pandas as pd\n",
    "from pip._vendor import requests\n",
    "from time import (sleep,)  # function that allows you to pause the program. helpful to spae out requests"
   ]
  },
  {
   "cell_type": "code",
   "execution_count": 14,
   "metadata": {},
   "outputs": [],
   "source": [
    "# Define our url: https://www.failory.com/startups/germany\n",
    "\n",
    "html_text = requests.get('https://www.failory.com/startups/germany', timeout=15)"
   ]
  },
  {
   "cell_type": "code",
   "execution_count": 15,
   "metadata": {},
   "outputs": [],
   "source": [
    "# Getting the info from the beautifulSoup\n",
    "soup = BeautifulSoup(html_text.content, 'html.parser')\n",
    "startups = soup.find_all('h3')\n",
    "lists = soup.find_all('ul')\n",
    "startups = [str(i) for i in startups]\n",
    "lists = [str(i) for i in lists]\n",
    "lists = [i.replace('</li><li>', '</li>  <li>') for i in lists]"
   ]
  },
  {
   "cell_type": "code",
   "execution_count": 16,
   "metadata": {},
   "outputs": [],
   "source": [
    "startups = [i.strip(\"<h3>/)1234567890 \") for i in startups]"
   ]
  },
  {
   "cell_type": "code",
   "execution_count": 17,
   "metadata": {},
   "outputs": [],
   "source": [
    "#Cleaning all the html stuff\n",
    "import re\n",
    "CLEANR = re.compile('<.*?>|&([a-z0-9]+|#[0-9]{1,6}|#x[0-9a-f]{1,6});') \n",
    "\n",
    "def cleanhtml(raw_html):  #Function given I'm working on disentangling what \".sub\" does... to be continued\n",
    "  cleantext = re.sub(CLEANR, '', raw_html)\n",
    "  return cleantext\n",
    "lists = [cleanhtml(lists[i]) for i in range(len(lists))]"
   ]
  },
  {
   "cell_type": "code",
   "execution_count": 18,
   "metadata": {},
   "outputs": [
    {
     "data": {
      "text/plain": [
       "['City: Munich',\n",
       " 'Started in: 2011',\n",
       " 'Founders: Alexander Rinke, Bastian Nominacher, Martin Klenk',\n",
       " 'Industries: Analytics, Business Intelligence, SaaS, Software',\n",
       " 'Number of employees: 1001-5000',\n",
       " 'Funding amount: $1,367,500,000',\n",
       " 'Number of funding rounds: 4',\n",
       " 'Number of investors: 9']"
      ]
     },
     "execution_count": 18,
     "metadata": {},
     "output_type": "execute_result"
    }
   ],
   "source": [
    "lists = [i.split(\"  \") for i in lists]\n",
    "lists[0]"
   ]
  },
  {
   "cell_type": "code",
   "execution_count": 19,
   "metadata": {},
   "outputs": [],
   "source": [
    "for i, k in enumerate(startups):\n",
    "    lists[i].insert(0, k)"
   ]
  },
  {
   "cell_type": "code",
   "execution_count": 23,
   "metadata": {},
   "outputs": [],
   "source": [
    "lists_dict = []\n",
    "for i in lists:\n",
    "    job_dict = {}\n",
    "    job_dict['Company'] = i[0]\n",
    "    for k in i:\n",
    "        if 'City' in k:\n",
    "            k_rep = k.replace(\"City: \", \"\")\n",
    "            job_dict['City'] = k_rep\n",
    "        elif 'Started in' in k:\n",
    "            k_rep = k.replace(\"Started in: \", \"\")\n",
    "            job_dict['Started_in'] = k_rep\n",
    "        elif 'Founders:' in k:\n",
    "            k_rep = k.replace(\"Founders: \", \"\")\n",
    "            job_dict['Founders'] = k_rep\n",
    "        elif 'Industries:' in k:\n",
    "            k_rep = k.replace(\"Industries: \", \"\")\n",
    "            job_dict['Industries'] = k_rep\n",
    "        elif 'Number of employees:' in k:\n",
    "            k_rep = k.replace(\"Number of employees: \", \"\")\n",
    "            job_dict['Number_of_employees'] = k_rep\n",
    "        elif 'Funding amount' in k:\n",
    "            k_rep = k.replace(\"Funding amount: \", \"\")\n",
    "            job_dict['Funding_amount'] = k_rep\n",
    "        elif 'Number of funding rounds: ' in k:\n",
    "            k_rep = k.replace(\"Number of funding rounds: \", \"\")\n",
    "            job_dict['Number_of_funding_rounds'] = k_rep\n",
    "        elif 'Number of investors: ' in k:\n",
    "            k_rep = k.replace(\"Number of investors: \", \"\")\n",
    "            job_dict['Number_of_investors'] = k_rep\n",
    "        else:\n",
    "            continue\n",
    "    lists_dict.append(job_dict)"
   ]
  },
  {
   "cell_type": "code",
   "execution_count": 24,
   "metadata": {},
   "outputs": [],
   "source": [
    "df = pd.DataFrame.from_dict(lists_dict)\n",
    "df.to_csv('../data/raw/sturtups_in_germany.csv')"
   ]
  }
 ],
 "metadata": {
  "kernelspec": {
   "display_name": "Python 3 (ipykernel)",
   "language": "python",
   "name": "python3"
  },
  "language_info": {
   "codemirror_mode": {
    "name": "ipython",
    "version": 3
   },
   "file_extension": ".py",
   "mimetype": "text/x-python",
   "name": "python",
   "nbconvert_exporter": "python",
   "pygments_lexer": "ipython3",
   "version": "3.9.12"
  },
  "vscode": {
   "interpreter": {
    "hash": "c66e47488d3153cf3923b5fc54c9dae3e52358c5c3566753a8ac6e75a9240c2c"
   }
  }
 },
 "nbformat": 4,
 "nbformat_minor": 4
}
