{
 "cells": [
  {
   "cell_type": "code",
   "execution_count": 85,
   "id": "c67e2cd0-991d-4b87-8264-3c3810474ff5",
   "metadata": {},
   "outputs": [
    {
     "data": {
      "text/html": [
       "<div>\n",
       "<style scoped>\n",
       "    .dataframe tbody tr th:only-of-type {\n",
       "        vertical-align: middle;\n",
       "    }\n",
       "\n",
       "    .dataframe tbody tr th {\n",
       "        vertical-align: top;\n",
       "    }\n",
       "\n",
       "    .dataframe thead th {\n",
       "        text-align: right;\n",
       "    }\n",
       "</style>\n",
       "<table border=\"1\" class=\"dataframe\">\n",
       "  <thead>\n",
       "    <tr style=\"text-align: right;\">\n",
       "      <th></th>\n",
       "      <th>Unnamed: 0</th>\n",
       "      <th>state_code</th>\n",
       "      <th>latitude</th>\n",
       "      <th>longitude</th>\n",
       "      <th>zip_code</th>\n",
       "      <th>id</th>\n",
       "      <th>city</th>\n",
       "      <th>Unnamed: 6</th>\n",
       "      <th>name</th>\n",
       "      <th>labels</th>\n",
       "      <th>...</th>\n",
       "      <th>object_id</th>\n",
       "      <th>has_VC</th>\n",
       "      <th>has_angel</th>\n",
       "      <th>has_roundA</th>\n",
       "      <th>has_roundB</th>\n",
       "      <th>has_roundC</th>\n",
       "      <th>has_roundD</th>\n",
       "      <th>avg_participants</th>\n",
       "      <th>is_top500</th>\n",
       "      <th>status</th>\n",
       "    </tr>\n",
       "  </thead>\n",
       "  <tbody>\n",
       "    <tr>\n",
       "      <th>0</th>\n",
       "      <td>1005</td>\n",
       "      <td>CA</td>\n",
       "      <td>42.358880</td>\n",
       "      <td>-71.056820</td>\n",
       "      <td>92101</td>\n",
       "      <td>c:6669</td>\n",
       "      <td>San Diego</td>\n",
       "      <td>NaN</td>\n",
       "      <td>Bandsintown</td>\n",
       "      <td>1</td>\n",
       "      <td>...</td>\n",
       "      <td>c:6669</td>\n",
       "      <td>0</td>\n",
       "      <td>1</td>\n",
       "      <td>0</td>\n",
       "      <td>0</td>\n",
       "      <td>0</td>\n",
       "      <td>0</td>\n",
       "      <td>1.0000</td>\n",
       "      <td>0</td>\n",
       "      <td>acquired</td>\n",
       "    </tr>\n",
       "    <tr>\n",
       "      <th>1</th>\n",
       "      <td>204</td>\n",
       "      <td>CA</td>\n",
       "      <td>37.238916</td>\n",
       "      <td>-121.973718</td>\n",
       "      <td>95032</td>\n",
       "      <td>c:16283</td>\n",
       "      <td>Los Gatos</td>\n",
       "      <td>NaN</td>\n",
       "      <td>TriCipher</td>\n",
       "      <td>1</td>\n",
       "      <td>...</td>\n",
       "      <td>c:16283</td>\n",
       "      <td>1</td>\n",
       "      <td>0</td>\n",
       "      <td>0</td>\n",
       "      <td>1</td>\n",
       "      <td>1</td>\n",
       "      <td>1</td>\n",
       "      <td>4.7500</td>\n",
       "      <td>1</td>\n",
       "      <td>acquired</td>\n",
       "    </tr>\n",
       "    <tr>\n",
       "      <th>2</th>\n",
       "      <td>1001</td>\n",
       "      <td>CA</td>\n",
       "      <td>32.901049</td>\n",
       "      <td>-117.192656</td>\n",
       "      <td>92121</td>\n",
       "      <td>c:65620</td>\n",
       "      <td>San Diego</td>\n",
       "      <td>San Diego CA 92121</td>\n",
       "      <td>Plixi</td>\n",
       "      <td>1</td>\n",
       "      <td>...</td>\n",
       "      <td>c:65620</td>\n",
       "      <td>0</td>\n",
       "      <td>0</td>\n",
       "      <td>1</td>\n",
       "      <td>0</td>\n",
       "      <td>0</td>\n",
       "      <td>0</td>\n",
       "      <td>4.0000</td>\n",
       "      <td>1</td>\n",
       "      <td>acquired</td>\n",
       "    </tr>\n",
       "    <tr>\n",
       "      <th>3</th>\n",
       "      <td>738</td>\n",
       "      <td>CA</td>\n",
       "      <td>37.320309</td>\n",
       "      <td>-122.050040</td>\n",
       "      <td>95014</td>\n",
       "      <td>c:42668</td>\n",
       "      <td>Cupertino</td>\n",
       "      <td>Cupertino CA 95014</td>\n",
       "      <td>Solidcore Systems</td>\n",
       "      <td>1</td>\n",
       "      <td>...</td>\n",
       "      <td>c:42668</td>\n",
       "      <td>0</td>\n",
       "      <td>0</td>\n",
       "      <td>0</td>\n",
       "      <td>1</td>\n",
       "      <td>1</td>\n",
       "      <td>1</td>\n",
       "      <td>3.3333</td>\n",
       "      <td>1</td>\n",
       "      <td>acquired</td>\n",
       "    </tr>\n",
       "    <tr>\n",
       "      <th>4</th>\n",
       "      <td>1002</td>\n",
       "      <td>CA</td>\n",
       "      <td>37.779281</td>\n",
       "      <td>-122.419236</td>\n",
       "      <td>94105</td>\n",
       "      <td>c:65806</td>\n",
       "      <td>San Francisco</td>\n",
       "      <td>San Francisco CA 94105</td>\n",
       "      <td>Inhale Digital</td>\n",
       "      <td>0</td>\n",
       "      <td>...</td>\n",
       "      <td>c:65806</td>\n",
       "      <td>1</td>\n",
       "      <td>1</td>\n",
       "      <td>0</td>\n",
       "      <td>0</td>\n",
       "      <td>0</td>\n",
       "      <td>0</td>\n",
       "      <td>1.0000</td>\n",
       "      <td>1</td>\n",
       "      <td>closed</td>\n",
       "    </tr>\n",
       "  </tbody>\n",
       "</table>\n",
       "<p>5 rows × 49 columns</p>\n",
       "</div>"
      ],
      "text/plain": [
       "   Unnamed: 0 state_code   latitude   longitude zip_code       id  \\\n",
       "0        1005         CA  42.358880  -71.056820    92101   c:6669   \n",
       "1         204         CA  37.238916 -121.973718    95032  c:16283   \n",
       "2        1001         CA  32.901049 -117.192656    92121  c:65620   \n",
       "3         738         CA  37.320309 -122.050040    95014  c:42668   \n",
       "4        1002         CA  37.779281 -122.419236    94105  c:65806   \n",
       "\n",
       "            city              Unnamed: 6               name  labels  ...  \\\n",
       "0      San Diego                     NaN        Bandsintown       1  ...   \n",
       "1      Los Gatos                     NaN          TriCipher       1  ...   \n",
       "2      San Diego      San Diego CA 92121              Plixi       1  ...   \n",
       "3      Cupertino      Cupertino CA 95014  Solidcore Systems       1  ...   \n",
       "4  San Francisco  San Francisco CA 94105     Inhale Digital       0  ...   \n",
       "\n",
       "  object_id has_VC has_angel has_roundA  has_roundB  has_roundC  has_roundD  \\\n",
       "0    c:6669      0         1          0           0           0           0   \n",
       "1   c:16283      1         0          0           1           1           1   \n",
       "2   c:65620      0         0          1           0           0           0   \n",
       "3   c:42668      0         0          0           1           1           1   \n",
       "4   c:65806      1         1          0           0           0           0   \n",
       "\n",
       "   avg_participants  is_top500    status  \n",
       "0            1.0000          0  acquired  \n",
       "1            4.7500          1  acquired  \n",
       "2            4.0000          1  acquired  \n",
       "3            3.3333          1  acquired  \n",
       "4            1.0000          1    closed  \n",
       "\n",
       "[5 rows x 49 columns]"
      ]
     },
     "execution_count": 85,
     "metadata": {},
     "output_type": "execute_result"
    }
   ],
   "source": [
    "# reading data from csv\n",
    "import pandas as pd\n",
    "df = pd.read_csv('../data/raw/startup data.csv')\n",
    "df.head()"
   ]
  },
  {
   "cell_type": "code",
   "execution_count": 30,
   "id": "d267de72-e14c-403a-9461-de72621aecc8",
   "metadata": {},
   "outputs": [
    {
     "name": "stdout",
     "output_type": "stream",
     "text": [
      "<class 'pandas.core.frame.DataFrame'>\n",
      "RangeIndex: 923 entries, 0 to 922\n",
      "Data columns (total 49 columns):\n",
      " #   Column                    Non-Null Count  Dtype  \n",
      "---  ------                    --------------  -----  \n",
      " 0   Unnamed: 0                923 non-null    int64  \n",
      " 1   state_code                923 non-null    object \n",
      " 2   latitude                  923 non-null    float64\n",
      " 3   longitude                 923 non-null    float64\n",
      " 4   zip_code                  923 non-null    object \n",
      " 5   id                        923 non-null    object \n",
      " 6   city                      923 non-null    object \n",
      " 7   Unnamed: 6                430 non-null    object \n",
      " 8   name                      923 non-null    object \n",
      " 9   labels                    923 non-null    int64  \n",
      " 10  founded_at                923 non-null    object \n",
      " 11  closed_at                 335 non-null    object \n",
      " 12  first_funding_at          923 non-null    object \n",
      " 13  last_funding_at           923 non-null    object \n",
      " 14  age_first_funding_year    923 non-null    float64\n",
      " 15  age_last_funding_year     923 non-null    float64\n",
      " 16  age_first_milestone_year  771 non-null    float64\n",
      " 17  age_last_milestone_year   771 non-null    float64\n",
      " 18  relationships             923 non-null    int64  \n",
      " 19  funding_rounds            923 non-null    int64  \n",
      " 20  funding_total_usd         923 non-null    int64  \n",
      " 21  milestones                923 non-null    int64  \n",
      " 22  state_code.1              922 non-null    object \n",
      " 23  is_CA                     923 non-null    int64  \n",
      " 24  is_NY                     923 non-null    int64  \n",
      " 25  is_MA                     923 non-null    int64  \n",
      " 26  is_TX                     923 non-null    int64  \n",
      " 27  is_otherstate             923 non-null    int64  \n",
      " 28  category_code             923 non-null    object \n",
      " 29  is_software               923 non-null    int64  \n",
      " 30  is_web                    923 non-null    int64  \n",
      " 31  is_mobile                 923 non-null    int64  \n",
      " 32  is_enterprise             923 non-null    int64  \n",
      " 33  is_advertising            923 non-null    int64  \n",
      " 34  is_gamesvideo             923 non-null    int64  \n",
      " 35  is_ecommerce              923 non-null    int64  \n",
      " 36  is_biotech                923 non-null    int64  \n",
      " 37  is_consulting             923 non-null    int64  \n",
      " 38  is_othercategory          923 non-null    int64  \n",
      " 39  object_id                 923 non-null    object \n",
      " 40  has_VC                    923 non-null    int64  \n",
      " 41  has_angel                 923 non-null    int64  \n",
      " 42  has_roundA                923 non-null    int64  \n",
      " 43  has_roundB                923 non-null    int64  \n",
      " 44  has_roundC                923 non-null    int64  \n",
      " 45  has_roundD                923 non-null    int64  \n",
      " 46  avg_participants          923 non-null    float64\n",
      " 47  is_top500                 923 non-null    int64  \n",
      " 48  status                    923 non-null    object \n",
      "dtypes: float64(7), int64(28), object(14)\n",
      "memory usage: 353.5+ KB\n"
     ]
    }
   ],
   "source": [
    "df.info()"
   ]
  },
  {
   "cell_type": "code",
   "execution_count": 132,
   "id": "a30372ee-2aaf-46d3-a688-29c61b3998eb",
   "metadata": {},
   "outputs": [
    {
     "data": {
      "text/html": [
       "<div>\n",
       "<style scoped>\n",
       "    .dataframe tbody tr th:only-of-type {\n",
       "        vertical-align: middle;\n",
       "    }\n",
       "\n",
       "    .dataframe tbody tr th {\n",
       "        vertical-align: top;\n",
       "    }\n",
       "\n",
       "    .dataframe thead th {\n",
       "        text-align: right;\n",
       "    }\n",
       "</style>\n",
       "<table border=\"1\" class=\"dataframe\">\n",
       "  <thead>\n",
       "    <tr style=\"text-align: right;\">\n",
       "      <th></th>\n",
       "      <th>category_code</th>\n",
       "      <th>name</th>\n",
       "      <th>funding</th>\n",
       "    </tr>\n",
       "  </thead>\n",
       "  <tbody>\n",
       "    <tr>\n",
       "      <th>355</th>\n",
       "      <td>web</td>\n",
       "      <td>Plixi</td>\n",
       "      <td>2600000</td>\n",
       "    </tr>\n",
       "  </tbody>\n",
       "</table>\n",
       "</div>"
      ],
      "text/plain": [
       "    category_code   name  funding\n",
       "355           web  Plixi  2600000"
      ]
     },
     "execution_count": 132,
     "metadata": {},
     "output_type": "execute_result"
    }
   ],
   "source": [
    "df_category_size = df.groupby([\"category_code\"], as_index=False).agg(\"size\")\n",
    "#df_category_founded = df.groupby([\"category_code\", \"founded_at\"]).agg(\"size\")\n",
    "df_category_founded = df.groupby([\"founded_at\", \"category_code\"], as_index=False).agg(size=(\"category_code\",\"size\"))\n",
    "df_category_founded['founded_at'] = pd.DatetimeIndex(df_category_founded['founded_at']).year\n",
    "df_category_funding = df.groupby([\"category_code\"], as_index=False).agg(funding=(\"funding_total_usd\",\"sum\"))\n",
    "df_category_company = df[(df[\"category_code\"] == \"mobile\") | (df[\"category_code\"] == \"software\")\n",
    "                        | (df[\"category_code\"] == \"web\") | (df[\"category_code\"] == \"biotech\")]\n",
    "#df_category_company\n",
    "df_category_company_funding = df_category_company.groupby([\"category_code\",\"name\"], as_index=False).agg(funding=(\"funding_total_usd\",\"sum\"))\n",
    "\n",
    "#df_category_company_funding = df.groupby([df[df[\"category_code\"] == \"mobile\" | df[\"category_code\"] == \"software\"\n",
    "#                                          | df[\"category_code\"] == \"web\" | df[\"category_code\"] == \"biotech\"], \n",
    "#                                         \"name\"], as_index=False).agg(funding=(\"funding_total_usd\",\"sum\"))\n",
    "#df_category_funding_year = df.groupby([\"founded_at\", \"category_code\"], as_index=False).agg(funding=(\"funding_total_usd\",\"sum\"))\n",
    "#df_category_funding_year['founded_at'] = pd.DatetimeIndex(df_category_funding_year['founded_at']).year\n",
    "#df_category_funding\n",
    "#df_category_size\n",
    "#df_category_founded.head(30)\n",
    "#df_category_funding_year.head(30)\n",
    "df_category_company_funding[(df_category_company_funding[\"name\"] == \"Plixi\")]"
   ]
  },
  {
   "cell_type": "code",
   "execution_count": 109,
   "id": "8a5c35c7-5009-4943-b233-a777193cded7",
   "metadata": {},
   "outputs": [
    {
     "data": {
      "application/vnd.plotly.v1+json": {
       "config": {
        "plotlyServerURL": "https://plot.ly"
       },
       "data": [
        {
         "alignmentgroup": "True",
         "hovertemplate": "category_code=%{x}<br>size=%{y}<extra></extra>",
         "legendgroup": "",
         "marker": {
          "color": "#636efa",
          "pattern": {
           "shape": ""
          }
         },
         "name": "",
         "offsetgroup": "",
         "orientation": "v",
         "showlegend": false,
         "textposition": "auto",
         "type": "bar",
         "x": [
          "advertising",
          "analytics",
          "automotive",
          "biotech",
          "cleantech",
          "consulting",
          "ecommerce",
          "education",
          "enterprise",
          "fashion",
          "finance",
          "games_video",
          "hardware",
          "health",
          "hospitality",
          "manufacturing",
          "medical",
          "messaging",
          "mobile",
          "music",
          "network_hosting",
          "news",
          "other",
          "photo_video",
          "public_relations",
          "real_estate",
          "search",
          "security",
          "semiconductor",
          "social",
          "software",
          "sports",
          "transportation",
          "travel",
          "web"
         ],
         "xaxis": "x",
         "y": [
          62,
          19,
          2,
          34,
          23,
          3,
          25,
          4,
          73,
          8,
          6,
          52,
          27,
          3,
          1,
          2,
          7,
          11,
          79,
          6,
          34,
          8,
          11,
          7,
          25,
          3,
          12,
          19,
          35,
          14,
          153,
          1,
          2,
          8,
          144
         ],
         "yaxis": "y"
        }
       ],
       "layout": {
        "autosize": true,
        "barmode": "relative",
        "legend": {
         "tracegroupgap": 0
        },
        "margin": {
         "t": 60
        },
        "paper_bgcolor": "white",
        "plot_bgcolor": "rgb(254, 246, 224)",
        "template": {
         "data": {
          "bar": [
           {
            "error_x": {
             "color": "#2a3f5f"
            },
            "error_y": {
             "color": "#2a3f5f"
            },
            "marker": {
             "line": {
              "color": "#E5ECF6",
              "width": 0.5
             },
             "pattern": {
              "fillmode": "overlay",
              "size": 10,
              "solidity": 0.2
             }
            },
            "type": "bar"
           }
          ],
          "barpolar": [
           {
            "marker": {
             "line": {
              "color": "#E5ECF6",
              "width": 0.5
             },
             "pattern": {
              "fillmode": "overlay",
              "size": 10,
              "solidity": 0.2
             }
            },
            "type": "barpolar"
           }
          ],
          "carpet": [
           {
            "aaxis": {
             "endlinecolor": "#2a3f5f",
             "gridcolor": "white",
             "linecolor": "white",
             "minorgridcolor": "white",
             "startlinecolor": "#2a3f5f"
            },
            "baxis": {
             "endlinecolor": "#2a3f5f",
             "gridcolor": "white",
             "linecolor": "white",
             "minorgridcolor": "white",
             "startlinecolor": "#2a3f5f"
            },
            "type": "carpet"
           }
          ],
          "choropleth": [
           {
            "colorbar": {
             "outlinewidth": 0,
             "ticks": ""
            },
            "type": "choropleth"
           }
          ],
          "contour": [
           {
            "colorbar": {
             "outlinewidth": 0,
             "ticks": ""
            },
            "colorscale": [
             [
              0,
              "#0d0887"
             ],
             [
              0.1111111111111111,
              "#46039f"
             ],
             [
              0.2222222222222222,
              "#7201a8"
             ],
             [
              0.3333333333333333,
              "#9c179e"
             ],
             [
              0.4444444444444444,
              "#bd3786"
             ],
             [
              0.5555555555555556,
              "#d8576b"
             ],
             [
              0.6666666666666666,
              "#ed7953"
             ],
             [
              0.7777777777777778,
              "#fb9f3a"
             ],
             [
              0.8888888888888888,
              "#fdca26"
             ],
             [
              1,
              "#f0f921"
             ]
            ],
            "type": "contour"
           }
          ],
          "contourcarpet": [
           {
            "colorbar": {
             "outlinewidth": 0,
             "ticks": ""
            },
            "type": "contourcarpet"
           }
          ],
          "heatmap": [
           {
            "colorbar": {
             "outlinewidth": 0,
             "ticks": ""
            },
            "colorscale": [
             [
              0,
              "#0d0887"
             ],
             [
              0.1111111111111111,
              "#46039f"
             ],
             [
              0.2222222222222222,
              "#7201a8"
             ],
             [
              0.3333333333333333,
              "#9c179e"
             ],
             [
              0.4444444444444444,
              "#bd3786"
             ],
             [
              0.5555555555555556,
              "#d8576b"
             ],
             [
              0.6666666666666666,
              "#ed7953"
             ],
             [
              0.7777777777777778,
              "#fb9f3a"
             ],
             [
              0.8888888888888888,
              "#fdca26"
             ],
             [
              1,
              "#f0f921"
             ]
            ],
            "type": "heatmap"
           }
          ],
          "heatmapgl": [
           {
            "colorbar": {
             "outlinewidth": 0,
             "ticks": ""
            },
            "colorscale": [
             [
              0,
              "#0d0887"
             ],
             [
              0.1111111111111111,
              "#46039f"
             ],
             [
              0.2222222222222222,
              "#7201a8"
             ],
             [
              0.3333333333333333,
              "#9c179e"
             ],
             [
              0.4444444444444444,
              "#bd3786"
             ],
             [
              0.5555555555555556,
              "#d8576b"
             ],
             [
              0.6666666666666666,
              "#ed7953"
             ],
             [
              0.7777777777777778,
              "#fb9f3a"
             ],
             [
              0.8888888888888888,
              "#fdca26"
             ],
             [
              1,
              "#f0f921"
             ]
            ],
            "type": "heatmapgl"
           }
          ],
          "histogram": [
           {
            "marker": {
             "pattern": {
              "fillmode": "overlay",
              "size": 10,
              "solidity": 0.2
             }
            },
            "type": "histogram"
           }
          ],
          "histogram2d": [
           {
            "colorbar": {
             "outlinewidth": 0,
             "ticks": ""
            },
            "colorscale": [
             [
              0,
              "#0d0887"
             ],
             [
              0.1111111111111111,
              "#46039f"
             ],
             [
              0.2222222222222222,
              "#7201a8"
             ],
             [
              0.3333333333333333,
              "#9c179e"
             ],
             [
              0.4444444444444444,
              "#bd3786"
             ],
             [
              0.5555555555555556,
              "#d8576b"
             ],
             [
              0.6666666666666666,
              "#ed7953"
             ],
             [
              0.7777777777777778,
              "#fb9f3a"
             ],
             [
              0.8888888888888888,
              "#fdca26"
             ],
             [
              1,
              "#f0f921"
             ]
            ],
            "type": "histogram2d"
           }
          ],
          "histogram2dcontour": [
           {
            "colorbar": {
             "outlinewidth": 0,
             "ticks": ""
            },
            "colorscale": [
             [
              0,
              "#0d0887"
             ],
             [
              0.1111111111111111,
              "#46039f"
             ],
             [
              0.2222222222222222,
              "#7201a8"
             ],
             [
              0.3333333333333333,
              "#9c179e"
             ],
             [
              0.4444444444444444,
              "#bd3786"
             ],
             [
              0.5555555555555556,
              "#d8576b"
             ],
             [
              0.6666666666666666,
              "#ed7953"
             ],
             [
              0.7777777777777778,
              "#fb9f3a"
             ],
             [
              0.8888888888888888,
              "#fdca26"
             ],
             [
              1,
              "#f0f921"
             ]
            ],
            "type": "histogram2dcontour"
           }
          ],
          "mesh3d": [
           {
            "colorbar": {
             "outlinewidth": 0,
             "ticks": ""
            },
            "type": "mesh3d"
           }
          ],
          "parcoords": [
           {
            "line": {
             "colorbar": {
              "outlinewidth": 0,
              "ticks": ""
             }
            },
            "type": "parcoords"
           }
          ],
          "pie": [
           {
            "automargin": true,
            "type": "pie"
           }
          ],
          "scatter": [
           {
            "marker": {
             "colorbar": {
              "outlinewidth": 0,
              "ticks": ""
             }
            },
            "type": "scatter"
           }
          ],
          "scatter3d": [
           {
            "line": {
             "colorbar": {
              "outlinewidth": 0,
              "ticks": ""
             }
            },
            "marker": {
             "colorbar": {
              "outlinewidth": 0,
              "ticks": ""
             }
            },
            "type": "scatter3d"
           }
          ],
          "scattercarpet": [
           {
            "marker": {
             "colorbar": {
              "outlinewidth": 0,
              "ticks": ""
             }
            },
            "type": "scattercarpet"
           }
          ],
          "scattergeo": [
           {
            "marker": {
             "colorbar": {
              "outlinewidth": 0,
              "ticks": ""
             }
            },
            "type": "scattergeo"
           }
          ],
          "scattergl": [
           {
            "marker": {
             "colorbar": {
              "outlinewidth": 0,
              "ticks": ""
             }
            },
            "type": "scattergl"
           }
          ],
          "scattermapbox": [
           {
            "marker": {
             "colorbar": {
              "outlinewidth": 0,
              "ticks": ""
             }
            },
            "type": "scattermapbox"
           }
          ],
          "scatterpolar": [
           {
            "marker": {
             "colorbar": {
              "outlinewidth": 0,
              "ticks": ""
             }
            },
            "type": "scatterpolar"
           }
          ],
          "scatterpolargl": [
           {
            "marker": {
             "colorbar": {
              "outlinewidth": 0,
              "ticks": ""
             }
            },
            "type": "scatterpolargl"
           }
          ],
          "scatterternary": [
           {
            "marker": {
             "colorbar": {
              "outlinewidth": 0,
              "ticks": ""
             }
            },
            "type": "scatterternary"
           }
          ],
          "surface": [
           {
            "colorbar": {
             "outlinewidth": 0,
             "ticks": ""
            },
            "colorscale": [
             [
              0,
              "#0d0887"
             ],
             [
              0.1111111111111111,
              "#46039f"
             ],
             [
              0.2222222222222222,
              "#7201a8"
             ],
             [
              0.3333333333333333,
              "#9c179e"
             ],
             [
              0.4444444444444444,
              "#bd3786"
             ],
             [
              0.5555555555555556,
              "#d8576b"
             ],
             [
              0.6666666666666666,
              "#ed7953"
             ],
             [
              0.7777777777777778,
              "#fb9f3a"
             ],
             [
              0.8888888888888888,
              "#fdca26"
             ],
             [
              1,
              "#f0f921"
             ]
            ],
            "type": "surface"
           }
          ],
          "table": [
           {
            "cells": {
             "fill": {
              "color": "#EBF0F8"
             },
             "line": {
              "color": "white"
             }
            },
            "header": {
             "fill": {
              "color": "#C8D4E3"
             },
             "line": {
              "color": "white"
             }
            },
            "type": "table"
           }
          ]
         },
         "layout": {
          "annotationdefaults": {
           "arrowcolor": "#2a3f5f",
           "arrowhead": 0,
           "arrowwidth": 1
          },
          "autotypenumbers": "strict",
          "coloraxis": {
           "colorbar": {
            "outlinewidth": 0,
            "ticks": ""
           }
          },
          "colorscale": {
           "diverging": [
            [
             0,
             "#8e0152"
            ],
            [
             0.1,
             "#c51b7d"
            ],
            [
             0.2,
             "#de77ae"
            ],
            [
             0.3,
             "#f1b6da"
            ],
            [
             0.4,
             "#fde0ef"
            ],
            [
             0.5,
             "#f7f7f7"
            ],
            [
             0.6,
             "#e6f5d0"
            ],
            [
             0.7,
             "#b8e186"
            ],
            [
             0.8,
             "#7fbc41"
            ],
            [
             0.9,
             "#4d9221"
            ],
            [
             1,
             "#276419"
            ]
           ],
           "sequential": [
            [
             0,
             "#0d0887"
            ],
            [
             0.1111111111111111,
             "#46039f"
            ],
            [
             0.2222222222222222,
             "#7201a8"
            ],
            [
             0.3333333333333333,
             "#9c179e"
            ],
            [
             0.4444444444444444,
             "#bd3786"
            ],
            [
             0.5555555555555556,
             "#d8576b"
            ],
            [
             0.6666666666666666,
             "#ed7953"
            ],
            [
             0.7777777777777778,
             "#fb9f3a"
            ],
            [
             0.8888888888888888,
             "#fdca26"
            ],
            [
             1,
             "#f0f921"
            ]
           ],
           "sequentialminus": [
            [
             0,
             "#0d0887"
            ],
            [
             0.1111111111111111,
             "#46039f"
            ],
            [
             0.2222222222222222,
             "#7201a8"
            ],
            [
             0.3333333333333333,
             "#9c179e"
            ],
            [
             0.4444444444444444,
             "#bd3786"
            ],
            [
             0.5555555555555556,
             "#d8576b"
            ],
            [
             0.6666666666666666,
             "#ed7953"
            ],
            [
             0.7777777777777778,
             "#fb9f3a"
            ],
            [
             0.8888888888888888,
             "#fdca26"
            ],
            [
             1,
             "#f0f921"
            ]
           ]
          },
          "colorway": [
           "#636efa",
           "#EF553B",
           "#00cc96",
           "#ab63fa",
           "#FFA15A",
           "#19d3f3",
           "#FF6692",
           "#B6E880",
           "#FF97FF",
           "#FECB52"
          ],
          "font": {
           "color": "#2a3f5f"
          },
          "geo": {
           "bgcolor": "white",
           "lakecolor": "white",
           "landcolor": "#E5ECF6",
           "showlakes": true,
           "showland": true,
           "subunitcolor": "white"
          },
          "hoverlabel": {
           "align": "left"
          },
          "hovermode": "closest",
          "mapbox": {
           "style": "light"
          },
          "paper_bgcolor": "white",
          "plot_bgcolor": "#E5ECF6",
          "polar": {
           "angularaxis": {
            "gridcolor": "white",
            "linecolor": "white",
            "ticks": ""
           },
           "bgcolor": "#E5ECF6",
           "radialaxis": {
            "gridcolor": "white",
            "linecolor": "white",
            "ticks": ""
           }
          },
          "scene": {
           "xaxis": {
            "backgroundcolor": "#E5ECF6",
            "gridcolor": "white",
            "gridwidth": 2,
            "linecolor": "white",
            "showbackground": true,
            "ticks": "",
            "zerolinecolor": "white"
           },
           "yaxis": {
            "backgroundcolor": "#E5ECF6",
            "gridcolor": "white",
            "gridwidth": 2,
            "linecolor": "white",
            "showbackground": true,
            "ticks": "",
            "zerolinecolor": "white"
           },
           "zaxis": {
            "backgroundcolor": "#E5ECF6",
            "gridcolor": "white",
            "gridwidth": 2,
            "linecolor": "white",
            "showbackground": true,
            "ticks": "",
            "zerolinecolor": "white"
           }
          },
          "shapedefaults": {
           "line": {
            "color": "#2a3f5f"
           }
          },
          "ternary": {
           "aaxis": {
            "gridcolor": "white",
            "linecolor": "white",
            "ticks": ""
           },
           "baxis": {
            "gridcolor": "white",
            "linecolor": "white",
            "ticks": ""
           },
           "bgcolor": "#E5ECF6",
           "caxis": {
            "gridcolor": "white",
            "linecolor": "white",
            "ticks": ""
           }
          },
          "title": {
           "x": 0.05
          },
          "xaxis": {
           "automargin": true,
           "gridcolor": "white",
           "linecolor": "white",
           "ticks": "",
           "title": {
            "standoff": 15
           },
           "zerolinecolor": "white",
           "zerolinewidth": 2
          },
          "yaxis": {
           "automargin": true,
           "gridcolor": "white",
           "linecolor": "white",
           "ticks": "",
           "title": {
            "standoff": 15
           },
           "zerolinecolor": "white",
           "zerolinewidth": 2
          }
         }
        },
        "title": {
         "font": {
          "size": 18
         },
         "text": "American startups: Size us Industry category"
        },
        "xaxis": {
         "anchor": "y",
         "autorange": true,
         "domain": [
          0,
          1
         ],
         "range": [
          -0.5,
          34.5
         ],
         "title": {
          "font": {
           "size": 18
          },
          "text": " Industry category"
         },
         "type": "category"
        },
        "yaxis": {
         "anchor": "x",
         "autorange": true,
         "domain": [
          0,
          1
         ],
         "range": [
          0,
          161.05263157894737
         ],
         "title": {
          "font": {
           "size": 18
          },
          "text": " No of startups"
         },
         "type": "linear"
        }
       }
      },
      "image/png": "[encoded data removed]",
      "text/html": [
       "<div>                            <div id=\"b3098ac6-1161-4522-bb4e-4ed559bda148\" class=\"plotly-graph-div\" style=\"height:600px; width:100%;\"></div>            <script type=\"text/javascript\">                require([\"plotly\"], function(Plotly) {                    window.PLOTLYENV=window.PLOTLYENV || {};                                    if (document.getElementById(\"b3098ac6-1161-4522-bb4e-4ed559bda148\")) {                    Plotly.newPlot(                        \"b3098ac6-1161-4522-bb4e-4ed559bda148\",                        [{\"alignmentgroup\":\"True\",\"hovertemplate\":\"category_code=%{x}<br>size=%{y}<extra></extra>\",\"legendgroup\":\"\",\"marker\":{\"color\":\"#636efa\",\"pattern\":{\"shape\":\"\"}},\"name\":\"\",\"offsetgroup\":\"\",\"orientation\":\"v\",\"showlegend\":false,\"textposition\":\"auto\",\"x\":[\"advertising\",\"analytics\",\"automotive\",\"biotech\",\"cleantech\",\"consulting\",\"ecommerce\",\"education\",\"enterprise\",\"fashion\",\"finance\",\"games_video\",\"hardware\",\"health\",\"hospitality\",\"manufacturing\",\"medical\",\"messaging\",\"mobile\",\"music\",\"network_hosting\",\"news\",\"other\",\"photo_video\",\"public_relations\",\"real_estate\",\"search\",\"security\",\"semiconductor\",\"social\",\"software\",\"sports\",\"transportation\",\"travel\",\"web\"],\"xaxis\":\"x\",\"y\":[62,19,2,34,23,3,25,4,73,8,6,52,27,3,1,2,7,11,79,6,34,8,11,7,25,3,12,19,35,14,153,1,2,8,144],\"yaxis\":\"y\",\"type\":\"bar\"}],                        {\"template\":{\"data\":{\"bar\":[{\"error_x\":{\"color\":\"#2a3f5f\"},\"error_y\":{\"color\":\"#2a3f5f\"},\"marker\":{\"line\":{\"color\":\"#E5ECF6\",\"width\":0.5},\"pattern\":{\"fillmode\":\"overlay\",\"size\":10,\"solidity\":0.2}},\"type\":\"bar\"}],\"barpolar\":[{\"marker\":{\"line\":{\"color\":\"#E5ECF6\",\"width\":0.5},\"pattern\":{\"fillmode\":\"overlay\",\"size\":10,\"solidity\":0.2}},\"type\":\"barpolar\"}],\"carpet\":[{\"aaxis\":{\"endlinecolor\":\"#2a3f5f\",\"gridcolor\":\"white\",\"linecolor\":\"white\",\"minorgridcolor\":\"white\",\"startlinecolor\":\"#2a3f5f\"},\"baxis\":{\"endlinecolor\":\"#2a3f5f\",\"gridcolor\":\"white\",\"linecolor\":\"white\",\"minorgridcolor\":\"white\",\"startlinecolor\":\"#2a3f5f\"},\"type\":\"carpet\"}],\"choropleth\":[{\"colorbar\":{\"outlinewidth\":0,\"ticks\":\"\"},\"type\":\"choropleth\"}],\"contour\":[{\"colorbar\":{\"outlinewidth\":0,\"ticks\":\"\"},\"colorscale\":[[0.0,\"#0d0887\"],[0.1111111111111111,\"#46039f\"],[0.2222222222222222,\"#7201a8\"],[0.3333333333333333,\"#9c179e\"],[0.4444444444444444,\"#bd3786\"],[0.5555555555555556,\"#d8576b\"],[0.6666666666666666,\"#ed7953\"],[0.7777777777777778,\"#fb9f3a\"],[0.8888888888888888,\"#fdca26\"],[1.0,\"#f0f921\"]],\"type\":\"contour\"}],\"contourcarpet\":[{\"colorbar\":{\"outlinewidth\":0,\"ticks\":\"\"},\"type\":\"contourcarpet\"}],\"heatmap\":[{\"colorbar\":{\"outlinewidth\":0,\"ticks\":\"\"},\"colorscale\":[[0.0,\"#0d0887\"],[0.1111111111111111,\"#46039f\"],[0.2222222222222222,\"#7201a8\"],[0.3333333333333333,\"#9c179e\"],[0.4444444444444444,\"#bd3786\"],[0.5555555555555556,\"#d8576b\"],[0.6666666666666666,\"#ed7953\"],[0.7777777777777778,\"#fb9f3a\"],[0.8888888888888888,\"#fdca26\"],[1.0,\"#f0f921\"]],\"type\":\"heatmap\"}],\"heatmapgl\":[{\"colorbar\":{\"outlinewidth\":0,\"ticks\":\"\"},\"colorscale\":[[0.0,\"#0d0887\"],[0.1111111111111111,\"#46039f\"],[0.2222222222222222,\"#7201a8\"],[0.3333333333333333,\"#9c179e\"],[0.4444444444444444,\"#bd3786\"],[0.5555555555555556,\"#d8576b\"],[0.6666666666666666,\"#ed7953\"],[0.7777777777777778,\"#fb9f3a\"],[0.8888888888888888,\"#fdca26\"],[1.0,\"#f0f921\"]],\"type\":\"heatmapgl\"}],\"histogram\":[{\"marker\":{\"pattern\":{\"fillmode\":\"overlay\",\"size\":10,\"solidity\":0.2}},\"type\":\"histogram\"}],\"histogram2d\":[{\"colorbar\":{\"outlinewidth\":0,\"ticks\":\"\"},\"colorscale\":[[0.0,\"#0d0887\"],[0.1111111111111111,\"#46039f\"],[0.2222222222222222,\"#7201a8\"],[0.3333333333333333,\"#9c179e\"],[0.4444444444444444,\"#bd3786\"],[0.5555555555555556,\"#d8576b\"],[0.6666666666666666,\"#ed7953\"],[0.7777777777777778,\"#fb9f3a\"],[0.8888888888888888,\"#fdca26\"],[1.0,\"#f0f921\"]],\"type\":\"histogram2d\"}],\"histogram2dcontour\":[{\"colorbar\":{\"outlinewidth\":0,\"ticks\":\"\"},\"colorscale\":[[0.0,\"#0d0887\"],[0.1111111111111111,\"#46039f\"],[0.2222222222222222,\"#7201a8\"],[0.3333333333333333,\"#9c179e\"],[0.4444444444444444,\"#bd3786\"],[0.5555555555555556,\"#d8576b\"],[0.6666666666666666,\"#ed7953\"],[0.7777777777777778,\"#fb9f3a\"],[0.8888888888888888,\"#fdca26\"],[1.0,\"#f0f921\"]],\"type\":\"histogram2dcontour\"}],\"mesh3d\":[{\"colorbar\":{\"outlinewidth\":0,\"ticks\":\"\"},\"type\":\"mesh3d\"}],\"parcoords\":[{\"line\":{\"colorbar\":{\"outlinewidth\":0,\"ticks\":\"\"}},\"type\":\"parcoords\"}],\"pie\":[{\"automargin\":true,\"type\":\"pie\"}],\"scatter\":[{\"marker\":{\"colorbar\":{\"outlinewidth\":0,\"ticks\":\"\"}},\"type\":\"scatter\"}],\"scatter3d\":[{\"line\":{\"colorbar\":{\"outlinewidth\":0,\"ticks\":\"\"}},\"marker\":{\"colorbar\":{\"outlinewidth\":0,\"ticks\":\"\"}},\"type\":\"scatter3d\"}],\"scattercarpet\":[{\"marker\":{\"colorbar\":{\"outlinewidth\":0,\"ticks\":\"\"}},\"type\":\"scattercarpet\"}],\"scattergeo\":[{\"marker\":{\"colorbar\":{\"outlinewidth\":0,\"ticks\":\"\"}},\"type\":\"scattergeo\"}],\"scattergl\":[{\"marker\":{\"colorbar\":{\"outlinewidth\":0,\"ticks\":\"\"}},\"type\":\"scattergl\"}],\"scattermapbox\":[{\"marker\":{\"colorbar\":{\"outlinewidth\":0,\"ticks\":\"\"}},\"type\":\"scattermapbox\"}],\"scatterpolar\":[{\"marker\":{\"colorbar\":{\"outlinewidth\":0,\"ticks\":\"\"}},\"type\":\"scatterpolar\"}],\"scatterpolargl\":[{\"marker\":{\"colorbar\":{\"outlinewidth\":0,\"ticks\":\"\"}},\"type\":\"scatterpolargl\"}],\"scatterternary\":[{\"marker\":{\"colorbar\":{\"outlinewidth\":0,\"ticks\":\"\"}},\"type\":\"scatterternary\"}],\"surface\":[{\"colorbar\":{\"outlinewidth\":0,\"ticks\":\"\"},\"colorscale\":[[0.0,\"#0d0887\"],[0.1111111111111111,\"#46039f\"],[0.2222222222222222,\"#7201a8\"],[0.3333333333333333,\"#9c179e\"],[0.4444444444444444,\"#bd3786\"],[0.5555555555555556,\"#d8576b\"],[0.6666666666666666,\"#ed7953\"],[0.7777777777777778,\"#fb9f3a\"],[0.8888888888888888,\"#fdca26\"],[1.0,\"#f0f921\"]],\"type\":\"surface\"}],\"table\":[{\"cells\":{\"fill\":{\"color\":\"#EBF0F8\"},\"line\":{\"color\":\"white\"}},\"header\":{\"fill\":{\"color\":\"#C8D4E3\"},\"line\":{\"color\":\"white\"}},\"type\":\"table\"}]},\"layout\":{\"annotationdefaults\":{\"arrowcolor\":\"#2a3f5f\",\"arrowhead\":0,\"arrowwidth\":1},\"autotypenumbers\":\"strict\",\"coloraxis\":{\"colorbar\":{\"outlinewidth\":0,\"ticks\":\"\"}},\"colorscale\":{\"diverging\":[[0,\"#8e0152\"],[0.1,\"#c51b7d\"],[0.2,\"#de77ae\"],[0.3,\"#f1b6da\"],[0.4,\"#fde0ef\"],[0.5,\"#f7f7f7\"],[0.6,\"#e6f5d0\"],[0.7,\"#b8e186\"],[0.8,\"#7fbc41\"],[0.9,\"#4d9221\"],[1,\"#276419\"]],\"sequential\":[[0.0,\"#0d0887\"],[0.1111111111111111,\"#46039f\"],[0.2222222222222222,\"#7201a8\"],[0.3333333333333333,\"#9c179e\"],[0.4444444444444444,\"#bd3786\"],[0.5555555555555556,\"#d8576b\"],[0.6666666666666666,\"#ed7953\"],[0.7777777777777778,\"#fb9f3a\"],[0.8888888888888888,\"#fdca26\"],[1.0,\"#f0f921\"]],\"sequentialminus\":[[0.0,\"#0d0887\"],[0.1111111111111111,\"#46039f\"],[0.2222222222222222,\"#7201a8\"],[0.3333333333333333,\"#9c179e\"],[0.4444444444444444,\"#bd3786\"],[0.5555555555555556,\"#d8576b\"],[0.6666666666666666,\"#ed7953\"],[0.7777777777777778,\"#fb9f3a\"],[0.8888888888888888,\"#fdca26\"],[1.0,\"#f0f921\"]]},\"colorway\":[\"#636efa\",\"#EF553B\",\"#00cc96\",\"#ab63fa\",\"#FFA15A\",\"#19d3f3\",\"#FF6692\",\"#B6E880\",\"#FF97FF\",\"#FECB52\"],\"font\":{\"color\":\"#2a3f5f\"},\"geo\":{\"bgcolor\":\"white\",\"lakecolor\":\"white\",\"landcolor\":\"#E5ECF6\",\"showlakes\":true,\"showland\":true,\"subunitcolor\":\"white\"},\"hoverlabel\":{\"align\":\"left\"},\"hovermode\":\"closest\",\"mapbox\":{\"style\":\"light\"},\"paper_bgcolor\":\"white\",\"plot_bgcolor\":\"#E5ECF6\",\"polar\":{\"angularaxis\":{\"gridcolor\":\"white\",\"linecolor\":\"white\",\"ticks\":\"\"},\"bgcolor\":\"#E5ECF6\",\"radialaxis\":{\"gridcolor\":\"white\",\"linecolor\":\"white\",\"ticks\":\"\"}},\"scene\":{\"xaxis\":{\"backgroundcolor\":\"#E5ECF6\",\"gridcolor\":\"white\",\"gridwidth\":2,\"linecolor\":\"white\",\"showbackground\":true,\"ticks\":\"\",\"zerolinecolor\":\"white\"},\"yaxis\":{\"backgroundcolor\":\"#E5ECF6\",\"gridcolor\":\"white\",\"gridwidth\":2,\"linecolor\":\"white\",\"showbackground\":true,\"ticks\":\"\",\"zerolinecolor\":\"white\"},\"zaxis\":{\"backgroundcolor\":\"#E5ECF6\",\"gridcolor\":\"white\",\"gridwidth\":2,\"linecolor\":\"white\",\"showbackground\":true,\"ticks\":\"\",\"zerolinecolor\":\"white\"}},\"shapedefaults\":{\"line\":{\"color\":\"#2a3f5f\"}},\"ternary\":{\"aaxis\":{\"gridcolor\":\"white\",\"linecolor\":\"white\",\"ticks\":\"\"},\"baxis\":{\"gridcolor\":\"white\",\"linecolor\":\"white\",\"ticks\":\"\"},\"bgcolor\":\"#E5ECF6\",\"caxis\":{\"gridcolor\":\"white\",\"linecolor\":\"white\",\"ticks\":\"\"}},\"title\":{\"x\":0.05},\"xaxis\":{\"automargin\":true,\"gridcolor\":\"white\",\"linecolor\":\"white\",\"ticks\":\"\",\"title\":{\"standoff\":15},\"zerolinecolor\":\"white\",\"zerolinewidth\":2},\"yaxis\":{\"automargin\":true,\"gridcolor\":\"white\",\"linecolor\":\"white\",\"ticks\":\"\",\"title\":{\"standoff\":15},\"zerolinecolor\":\"white\",\"zerolinewidth\":2}}},\"xaxis\":{\"anchor\":\"y\",\"domain\":[0.0,1.0],\"title\":{\"text\":\" Industry category\",\"font\":{\"size\":18}}},\"yaxis\":{\"anchor\":\"x\",\"domain\":[0.0,1.0],\"title\":{\"text\":\" No of startups\",\"font\":{\"size\":18}}},\"legend\":{\"tracegroupgap\":0},\"margin\":{\"t\":60},\"barmode\":\"relative\",\"height\":600,\"title\":{\"font\":{\"size\":18},\"text\":\"American startups: Size us Industry category\"},\"paper_bgcolor\":\"white\",\"plot_bgcolor\":\"rgb(254, 246, 224)\"},                        {\"responsive\": true}                    ).then(function(){\n",
       "                            \n",
       "var gd = document.getElementById('b3098ac6-1161-4522-bb4e-4ed559bda148');\n",
       "var x = new MutationObserver(function (mutations, observer) {{\n",
       "        var display = window.getComputedStyle(gd).display;\n",
       "        if (!display || display === 'none') {{\n",
       "            console.log([gd, 'removed!']);\n",
       "            Plotly.purge(gd);\n",
       "            observer.disconnect();\n",
       "        }}\n",
       "}});\n",
       "\n",
       "// Listen for the removal of the full notebook cells\n",
       "var notebookContainer = gd.closest('#notebook-container');\n",
       "if (notebookContainer) {{\n",
       "    x.observe(notebookContainer, {childList: true});\n",
       "}}\n",
       "\n",
       "// Listen for the clearing of the current output cell\n",
       "var outputEl = gd.closest('.output');\n",
       "if (outputEl) {{\n",
       "    x.observe(outputEl, {childList: true});\n",
       "}}\n",
       "\n",
       "                        })                };                });            </script>        </div>"
      ]
     },
     "metadata": {},
     "output_type": "display_data"
    }
   ],
   "source": [
    "import plotly.express as px\n",
    "fig = px.bar(df_category_size, x=\"category_code\", y=\"size\", height=600)\n",
    "fig.update_layout(\n",
    "    title={\"text\": \"American startups: Size us Industry category\", \"font\": {\"size\": 18}},\n",
    "    xaxis={\"title\": {\"text\": \" Industry category\", \"font\": {\"size\": 18}}},\n",
    "    yaxis={\"title\": {\"text\": \" No of startups\", \"font\": {\"size\": 18}}},\n",
    "    paper_bgcolor='white',plot_bgcolor='rgb(254, 246, 224)'\n",
    ")\n",
    "fig.show()"
   ]
  },
  {
   "cell_type": "code",
   "execution_count": 110,
   "id": "89bf9512-8ca1-48fa-83c0-84f205ac36e7",
   "metadata": {},
   "outputs": [
    {
     "data": {
      "application/vnd.plotly.v1+json": {
       "config": {
        "plotlyServerURL": "https://plot.ly"
       },
       "data": [
        {
         "alignmentgroup": "True",
         "hovertemplate": "category_code=software<br>founded_at=%{x}<br>size=%{y}<extra></extra>",
         "legendgroup": "software",
         "marker": {
          "color": "#636efa",
          "pattern": {
           "shape": ""
          }
         },
         "name": "software",
         "offsetgroup": "software",
         "orientation": "v",
         "showlegend": true,
         "textposition": "auto",
         "type": "bar",
         "x": [
          1984,
          1985,
          1997,
          1998,
          1999,
          2000,
          2001,
          2002,
          2003,
          2004,
          2005,
          2006,
          2007,
          2008,
          2009,
          2010,
          2011,
          2002,
          2005,
          2006,
          2007,
          2009,
          2004,
          2004,
          2005,
          2007,
          2009,
          1999,
          2000,
          2008,
          2007,
          2004,
          2008,
          2010,
          2004,
          2005,
          2005,
          2010,
          2000,
          2003,
          2006,
          2012,
          2004,
          2007,
          2008,
          2010,
          2008,
          2005,
          2006,
          2008,
          2003,
          2006,
          2006,
          2009
         ],
         "xaxis": "x",
         "y": [
          1,
          1,
          1,
          3,
          1,
          11,
          12,
          13,
          18,
          8,
          13,
          7,
          13,
          6,
          1,
          2,
          2,
          2,
          1,
          2,
          1,
          1,
          1,
          1,
          1,
          1,
          1,
          1,
          1,
          1,
          1,
          1,
          1,
          1,
          1,
          1,
          1,
          1,
          1,
          1,
          1,
          1,
          1,
          1,
          2,
          1,
          1,
          1,
          1,
          1,
          1,
          1,
          1,
          1
         ],
         "yaxis": "y"
        },
        {
         "alignmentgroup": "True",
         "hovertemplate": "category_code=cleantech<br>founded_at=%{x}<br>size=%{y}<extra></extra>",
         "legendgroup": "cleantech",
         "marker": {
          "color": "#EF553B",
          "pattern": {
           "shape": ""
          }
         },
         "name": "cleantech",
         "offsetgroup": "cleantech",
         "orientation": "v",
         "showlegend": true,
         "textposition": "auto",
         "type": "bar",
         "x": [
          1992,
          2001,
          2002,
          2004,
          2005,
          2006,
          2007,
          2008,
          2009,
          2005,
          2008,
          2009,
          2008
         ],
         "xaxis": "x",
         "y": [
          1,
          1,
          1,
          2,
          1,
          2,
          4,
          6,
          1,
          1,
          1,
          1,
          1
         ],
         "yaxis": "y"
        },
        {
         "alignmentgroup": "True",
         "hovertemplate": "category_code=hardware<br>founded_at=%{x}<br>size=%{y}<extra></extra>",
         "legendgroup": "hardware",
         "marker": {
          "color": "#00cc96",
          "pattern": {
           "shape": ""
          }
         },
         "name": "hardware",
         "offsetgroup": "hardware",
         "orientation": "v",
         "showlegend": true,
         "textposition": "auto",
         "type": "bar",
         "x": [
          1995,
          1996,
          1999,
          2000,
          2001,
          2002,
          2003,
          2004,
          2005,
          2006,
          2007,
          2009,
          2007,
          2005,
          2001
         ],
         "xaxis": "x",
         "y": [
          1,
          1,
          1,
          4,
          2,
          1,
          2,
          6,
          2,
          2,
          1,
          1,
          1,
          1,
          1
         ],
         "yaxis": "y"
        },
        {
         "alignmentgroup": "True",
         "hovertemplate": "category_code=biotech<br>founded_at=%{x}<br>size=%{y}<extra></extra>",
         "legendgroup": "biotech",
         "marker": {
          "color": "#ab63fa",
          "pattern": {
           "shape": ""
          }
         },
         "name": "biotech",
         "offsetgroup": "biotech",
         "orientation": "v",
         "showlegend": true,
         "textposition": "auto",
         "type": "bar",
         "x": [
          1996,
          1997,
          1999,
          2000,
          2001,
          2002,
          2003,
          2004,
          2005,
          2006,
          2007,
          2008,
          2009,
          1999
         ],
         "xaxis": "x",
         "y": [
          1,
          2,
          2,
          4,
          1,
          3,
          4,
          4,
          2,
          6,
          1,
          2,
          1,
          1
         ],
         "yaxis": "y"
        },
        {
         "alignmentgroup": "True",
         "hovertemplate": "category_code=semiconductor<br>founded_at=%{x}<br>size=%{y}<extra></extra>",
         "legendgroup": "semiconductor",
         "marker": {
          "color": "#FFA15A",
          "pattern": {
           "shape": ""
          }
         },
         "name": "semiconductor",
         "offsetgroup": "semiconductor",
         "orientation": "v",
         "showlegend": true,
         "textposition": "auto",
         "type": "bar",
         "x": [
          1996,
          1999,
          2000,
          2001,
          2002,
          2003,
          2004,
          2006,
          2008,
          2001,
          2003,
          2004,
          2000
         ],
         "xaxis": "x",
         "y": [
          1,
          1,
          8,
          4,
          5,
          5,
          4,
          2,
          1,
          1,
          1,
          1,
          1
         ],
         "yaxis": "y"
        },
        {
         "alignmentgroup": "True",
         "hovertemplate": "category_code=security<br>founded_at=%{x}<br>size=%{y}<extra></extra>",
         "legendgroup": "security",
         "marker": {
          "color": "#19d3f3",
          "pattern": {
           "shape": ""
          }
         },
         "name": "security",
         "offsetgroup": "security",
         "orientation": "v",
         "showlegend": true,
         "textposition": "auto",
         "type": "bar",
         "x": [
          1998,
          2000,
          2001,
          2002,
          2003,
          2004,
          2005,
          2006,
          2007,
          2009,
          2004,
          2005
         ],
         "xaxis": "x",
         "y": [
          1,
          2,
          1,
          3,
          4,
          2,
          1,
          1,
          1,
          1,
          1,
          1
         ],
         "yaxis": "y"
        },
        {
         "alignmentgroup": "True",
         "hovertemplate": "category_code=games_video<br>founded_at=%{x}<br>size=%{y}<extra></extra>",
         "legendgroup": "games_video",
         "marker": {
          "color": "#FF6692",
          "pattern": {
           "shape": ""
          }
         },
         "name": "games_video",
         "offsetgroup": "games_video",
         "orientation": "v",
         "showlegend": true,
         "textposition": "auto",
         "type": "bar",
         "x": [
          1999,
          2000,
          2001,
          2002,
          2003,
          2004,
          2005,
          2006,
          2007,
          2008,
          2009,
          2010,
          2007,
          2008,
          2006,
          2005,
          2008,
          2010,
          2001,
          2007,
          2005,
          2005,
          2006,
          2010,
          2007,
          2008,
          2000,
          2006,
          2008,
          2006,
          2010,
          2007,
          2010
         ],
         "xaxis": "x",
         "y": [
          1,
          1,
          1,
          1,
          1,
          4,
          1,
          5,
          7,
          2,
          3,
          1,
          1,
          1,
          1,
          1,
          1,
          1,
          1,
          1,
          1,
          1,
          1,
          3,
          2,
          1,
          1,
          1,
          1,
          1,
          1,
          1,
          1
         ],
         "yaxis": "y"
        },
        {
         "alignmentgroup": "True",
         "hovertemplate": "category_code=other<br>founded_at=%{x}<br>size=%{y}<extra></extra>",
         "legendgroup": "other",
         "marker": {
          "color": "#B6E880",
          "pattern": {
           "shape": ""
          }
         },
         "name": "other",
         "offsetgroup": "other",
         "orientation": "v",
         "showlegend": true,
         "textposition": "auto",
         "type": "bar",
         "x": [
          1999,
          2001,
          2002,
          2003,
          2004,
          2005,
          2007,
          2010
         ],
         "xaxis": "x",
         "y": [
          1,
          1,
          2,
          1,
          2,
          1,
          2,
          1
         ],
         "yaxis": "y"
        },
        {
         "alignmentgroup": "True",
         "hovertemplate": "category_code=public_relations<br>founded_at=%{x}<br>size=%{y}<extra></extra>",
         "legendgroup": "public_relations",
         "marker": {
          "color": "#FF97FF",
          "pattern": {
           "shape": ""
          }
         },
         "name": "public_relations",
         "offsetgroup": "public_relations",
         "orientation": "v",
         "showlegend": true,
         "textposition": "auto",
         "type": "bar",
         "x": [
          1999,
          2000,
          2001,
          2002,
          2003,
          2005,
          2006,
          2008,
          2009,
          2007,
          2007,
          2007
         ],
         "xaxis": "x",
         "y": [
          1,
          6,
          4,
          5,
          2,
          1,
          1,
          1,
          1,
          1,
          1,
          1
         ],
         "yaxis": "y"
        },
        {
         "alignmentgroup": "True",
         "hovertemplate": "category_code=advertising<br>founded_at=%{x}<br>size=%{y}<extra></extra>",
         "legendgroup": "advertising",
         "marker": {
          "color": "#FECB52",
          "pattern": {
           "shape": ""
          }
         },
         "name": "advertising",
         "offsetgroup": "advertising",
         "orientation": "v",
         "showlegend": true,
         "textposition": "auto",
         "type": "bar",
         "x": [
          2000,
          2001,
          2002,
          2003,
          2004,
          2005,
          2006,
          2007,
          2008,
          2009,
          2011,
          2000,
          2009,
          2006,
          2008,
          2006,
          2008,
          2006,
          2007,
          2004,
          2007,
          2005,
          2006,
          2006,
          2007,
          2010,
          2011,
          2004,
          2007,
          2013,
          2005,
          2009,
          2002,
          2010,
          2009,
          2008,
          2010,
          2005,
          2009,
          2006
         ],
         "xaxis": "x",
         "y": [
          1,
          1,
          4,
          6,
          1,
          4,
          3,
          4,
          3,
          2,
          1,
          1,
          1,
          2,
          1,
          1,
          1,
          1,
          1,
          1,
          1,
          1,
          1,
          1,
          1,
          1,
          1,
          1,
          1,
          1,
          3,
          1,
          1,
          1,
          1,
          1,
          1,
          1,
          1,
          1
         ],
         "yaxis": "y"
        },
        {
         "alignmentgroup": "True",
         "hovertemplate": "category_code=consulting<br>founded_at=%{x}<br>size=%{y}<extra></extra>",
         "legendgroup": "consulting",
         "marker": {
          "color": "#636efa",
          "pattern": {
           "shape": ""
          }
         },
         "name": "consulting",
         "offsetgroup": "consulting",
         "orientation": "v",
         "showlegend": true,
         "textposition": "auto",
         "type": "bar",
         "x": [
          2000,
          2005,
          2006
         ],
         "xaxis": "x",
         "y": [
          1,
          1,
          1
         ],
         "yaxis": "y"
        },
        {
         "alignmentgroup": "True",
         "hovertemplate": "category_code=enterprise<br>founded_at=%{x}<br>size=%{y}<extra></extra>",
         "legendgroup": "enterprise",
         "marker": {
          "color": "#EF553B",
          "pattern": {
           "shape": ""
          }
         },
         "name": "enterprise",
         "offsetgroup": "enterprise",
         "orientation": "v",
         "showlegend": true,
         "textposition": "auto",
         "type": "bar",
         "x": [
          2000,
          2001,
          2002,
          2003,
          2004,
          2005,
          2006,
          2007,
          2008,
          2009,
          2010,
          2011,
          2009,
          2010,
          2009,
          2008,
          2004,
          2000,
          2004,
          2011,
          2009,
          2005,
          2006,
          2007,
          2009,
          1999,
          2006,
          2007,
          2004,
          2005,
          2008,
          2010,
          2011,
          2009,
          2007,
          2008,
          2010,
          2009,
          2005,
          2009,
          2010,
          2007,
          2008,
          2010,
          2008
         ],
         "xaxis": "x",
         "y": [
          2,
          4,
          3,
          2,
          2,
          2,
          4,
          2,
          5,
          8,
          1,
          1,
          1,
          1,
          1,
          1,
          1,
          1,
          1,
          1,
          1,
          1,
          2,
          1,
          1,
          1,
          2,
          1,
          1,
          1,
          1,
          1,
          1,
          1,
          2,
          1,
          1,
          1,
          1,
          1,
          2,
          1,
          1,
          1,
          1
         ],
         "yaxis": "y"
        },
        {
         "alignmentgroup": "True",
         "hovertemplate": "category_code=mobile<br>founded_at=%{x}<br>size=%{y}<extra></extra>",
         "legendgroup": "mobile",
         "marker": {
          "color": "#00cc96",
          "pattern": {
           "shape": ""
          }
         },
         "name": "mobile",
         "offsetgroup": "mobile",
         "orientation": "v",
         "showlegend": true,
         "textposition": "auto",
         "type": "bar",
         "x": [
          2000,
          2001,
          2002,
          2003,
          2004,
          2005,
          2006,
          2008,
          2009,
          2010,
          2011,
          2012,
          2003,
          2005,
          2008,
          2007,
          2000,
          2005,
          2000,
          2006,
          2011,
          2005,
          2003,
          2010,
          2006,
          2009,
          2003,
          2005,
          2009,
          2010,
          2005,
          2006,
          2000,
          2008,
          2009,
          2009,
          2007,
          2008,
          2011,
          2006,
          2005,
          2009,
          2010
         ],
         "xaxis": "x",
         "y": [
          3,
          5,
          2,
          2,
          6,
          7,
          4,
          4,
          2,
          6,
          3,
          1,
          1,
          1,
          1,
          1,
          1,
          1,
          1,
          1,
          1,
          1,
          1,
          1,
          1,
          2,
          1,
          1,
          1,
          1,
          1,
          3,
          1,
          1,
          1,
          1,
          1,
          1,
          1,
          1,
          1,
          1,
          1
         ],
         "yaxis": "y"
        },
        {
         "alignmentgroup": "True",
         "hovertemplate": "category_code=network_hosting<br>founded_at=%{x}<br>size=%{y}<extra></extra>",
         "legendgroup": "network_hosting",
         "marker": {
          "color": "#ab63fa",
          "pattern": {
           "shape": ""
          }
         },
         "name": "network_hosting",
         "offsetgroup": "network_hosting",
         "orientation": "v",
         "showlegend": true,
         "textposition": "auto",
         "type": "bar",
         "x": [
          2000,
          2002,
          2003,
          2004,
          2005,
          2006,
          2008,
          2006,
          2006,
          2006,
          1990,
          2007,
          2007,
          2006,
          2008,
          2006
         ],
         "xaxis": "x",
         "y": [
          6,
          5,
          3,
          1,
          5,
          3,
          1,
          1,
          1,
          1,
          1,
          1,
          2,
          1,
          1,
          1
         ],
         "yaxis": "y"
        },
        {
         "alignmentgroup": "True",
         "hovertemplate": "category_code=web<br>founded_at=%{x}<br>size=%{y}<extra></extra>",
         "legendgroup": "web",
         "marker": {
          "color": "#FFA15A",
          "pattern": {
           "shape": ""
          }
         },
         "name": "web",
         "offsetgroup": "web",
         "orientation": "v",
         "showlegend": true,
         "textposition": "auto",
         "type": "bar",
         "x": [
          2000,
          2001,
          2002,
          2003,
          2004,
          2005,
          2006,
          2007,
          2008,
          2009,
          2010,
          2011,
          2012,
          2005,
          2007,
          2006,
          2010,
          2012,
          2005,
          2005,
          2006,
          2007,
          2010,
          2004,
          2011,
          2002,
          2000,
          2004,
          2005,
          2007,
          2009,
          2004,
          2005,
          2006,
          2007,
          2010,
          2013,
          2004,
          2005,
          2007,
          2009,
          2011,
          2009,
          2009,
          2005,
          2005,
          2006,
          2008,
          2009,
          2008,
          2007,
          2009,
          2005,
          2006,
          2007,
          2005,
          2003,
          2005,
          2006,
          2007,
          2010,
          2011,
          2009,
          2007,
          2005,
          2007,
          2010,
          2005,
          2007,
          2006,
          2007,
          2009,
          2010,
          2011,
          2009,
          2010,
          2007,
          2006,
          2007,
          2007,
          2010
         ],
         "xaxis": "x",
         "y": [
          4,
          1,
          4,
          3,
          4,
          8,
          6,
          5,
          7,
          6,
          9,
          2,
          1,
          1,
          1,
          1,
          1,
          1,
          1,
          1,
          2,
          2,
          1,
          1,
          1,
          1,
          1,
          1,
          1,
          1,
          1,
          2,
          2,
          1,
          2,
          3,
          1,
          1,
          1,
          1,
          1,
          1,
          1,
          1,
          1,
          1,
          1,
          1,
          1,
          1,
          1,
          1,
          1,
          1,
          1,
          1,
          1,
          3,
          3,
          2,
          1,
          1,
          1,
          1,
          1,
          1,
          1,
          1,
          1,
          1,
          2,
          1,
          2,
          1,
          1,
          1,
          1,
          1,
          1,
          3,
          1
         ],
         "yaxis": "y"
        },
        {
         "alignmentgroup": "True",
         "hovertemplate": "category_code=search<br>founded_at=%{x}<br>size=%{y}<extra></extra>",
         "legendgroup": "search",
         "marker": {
          "color": "#19d3f3",
          "pattern": {
           "shape": ""
          }
         },
         "name": "search",
         "offsetgroup": "search",
         "orientation": "v",
         "showlegend": true,
         "textposition": "auto",
         "type": "bar",
         "x": [
          2002,
          2005,
          2006,
          2008,
          2006,
          2006,
          2006,
          2005,
          2008,
          2004,
          2005
         ],
         "xaxis": "x",
         "y": [
          2,
          1,
          1,
          1,
          1,
          1,
          1,
          1,
          1,
          1,
          1
         ],
         "yaxis": "y"
        },
        {
         "alignmentgroup": "True",
         "hovertemplate": "category_code=automotive<br>founded_at=%{x}<br>size=%{y}<extra></extra>",
         "legendgroup": "automotive",
         "marker": {
          "color": "#FF6692",
          "pattern": {
           "shape": ""
          }
         },
         "name": "automotive",
         "offsetgroup": "automotive",
         "orientation": "v",
         "showlegend": true,
         "textposition": "auto",
         "type": "bar",
         "x": [
          2003,
          2011
         ],
         "xaxis": "x",
         "y": [
          1,
          1
         ],
         "yaxis": "y"
        },
        {
         "alignmentgroup": "True",
         "hovertemplate": "category_code=medical<br>founded_at=%{x}<br>size=%{y}<extra></extra>",
         "legendgroup": "medical",
         "marker": {
          "color": "#B6E880",
          "pattern": {
           "shape": ""
          }
         },
         "name": "medical",
         "offsetgroup": "medical",
         "orientation": "v",
         "showlegend": true,
         "textposition": "auto",
         "type": "bar",
         "x": [
          2003,
          2004,
          2005,
          2006,
          2008,
          2006
         ],
         "xaxis": "x",
         "y": [
          1,
          1,
          2,
          1,
          1,
          1
         ],
         "yaxis": "y"
        },
        {
         "alignmentgroup": "True",
         "hovertemplate": "category_code=finance<br>founded_at=%{x}<br>size=%{y}<extra></extra>",
         "legendgroup": "finance",
         "marker": {
          "color": "#FF97FF",
          "pattern": {
           "shape": ""
          }
         },
         "name": "finance",
         "offsetgroup": "finance",
         "orientation": "v",
         "showlegend": true,
         "textposition": "auto",
         "type": "bar",
         "x": [
          2004,
          2006,
          2009,
          2008,
          2006
         ],
         "xaxis": "x",
         "y": [
          2,
          1,
          1,
          1,
          1
         ],
         "yaxis": "y"
        },
        {
         "alignmentgroup": "True",
         "hovertemplate": "category_code=social<br>founded_at=%{x}<br>size=%{y}<extra></extra>",
         "legendgroup": "social",
         "marker": {
          "color": "#FECB52",
          "pattern": {
           "shape": ""
          }
         },
         "name": "social",
         "offsetgroup": "social",
         "orientation": "v",
         "showlegend": true,
         "textposition": "auto",
         "type": "bar",
         "x": [
          2004,
          2007,
          2008,
          2009,
          2011,
          2011,
          2010,
          2009,
          2009,
          2011,
          2009
         ],
         "xaxis": "x",
         "y": [
          1,
          1,
          3,
          1,
          1,
          1,
          2,
          1,
          1,
          1,
          1
         ],
         "yaxis": "y"
        },
        {
         "alignmentgroup": "True",
         "hovertemplate": "category_code=analytics<br>founded_at=%{x}<br>size=%{y}<extra></extra>",
         "legendgroup": "analytics",
         "marker": {
          "color": "#636efa",
          "pattern": {
           "shape": ""
          }
         },
         "name": "analytics",
         "offsetgroup": "analytics",
         "orientation": "v",
         "showlegend": true,
         "textposition": "auto",
         "type": "bar",
         "x": [
          2005,
          2006,
          2007,
          2009,
          2010,
          2007,
          2008,
          2007,
          2008,
          2010,
          2009,
          2010,
          2010,
          2009,
          2008,
          2005,
          2010,
          2012,
          2008
         ],
         "xaxis": "x",
         "y": [
          1,
          1,
          1,
          1,
          1,
          1,
          1,
          1,
          1,
          1,
          1,
          1,
          1,
          1,
          1,
          1,
          1,
          1,
          1
         ],
         "yaxis": "y"
        },
        {
         "alignmentgroup": "True",
         "hovertemplate": "category_code=ecommerce<br>founded_at=%{x}<br>size=%{y}<extra></extra>",
         "legendgroup": "ecommerce",
         "marker": {
          "color": "#EF553B",
          "pattern": {
           "shape": ""
          }
         },
         "name": "ecommerce",
         "offsetgroup": "ecommerce",
         "orientation": "v",
         "showlegend": true,
         "textposition": "auto",
         "type": "bar",
         "x": [
          2005,
          2006,
          2008,
          2009,
          2010,
          2011,
          2012,
          2013,
          2011,
          2004,
          2006,
          2008,
          2009,
          2010,
          2006,
          2005,
          2009,
          2012,
          2003,
          2006,
          2008,
          2009
         ],
         "xaxis": "x",
         "y": [
          1,
          2,
          2,
          1,
          1,
          1,
          2,
          1,
          1,
          1,
          1,
          1,
          1,
          1,
          1,
          1,
          1,
          1,
          1,
          1,
          1,
          1
         ],
         "yaxis": "y"
        },
        {
         "alignmentgroup": "True",
         "hovertemplate": "category_code=messaging<br>founded_at=%{x}<br>size=%{y}<extra></extra>",
         "legendgroup": "messaging",
         "marker": {
          "color": "#00cc96",
          "pattern": {
           "shape": ""
          }
         },
         "name": "messaging",
         "offsetgroup": "messaging",
         "orientation": "v",
         "showlegend": true,
         "textposition": "auto",
         "type": "bar",
         "x": [
          2005,
          2008,
          2009,
          2007,
          2010,
          2011,
          2008,
          2009,
          2009,
          2011
         ],
         "xaxis": "x",
         "y": [
          1,
          1,
          2,
          1,
          1,
          1,
          1,
          1,
          1,
          1
         ],
         "yaxis": "y"
        },
        {
         "alignmentgroup": "True",
         "hovertemplate": "category_code=health<br>founded_at=%{x}<br>size=%{y}<extra></extra>",
         "legendgroup": "health",
         "marker": {
          "color": "#ab63fa",
          "pattern": {
           "shape": ""
          }
         },
         "name": "health",
         "offsetgroup": "health",
         "orientation": "v",
         "showlegend": true,
         "textposition": "auto",
         "type": "bar",
         "x": [
          2006,
          2008,
          2007
         ],
         "xaxis": "x",
         "y": [
          1,
          1,
          1
         ],
         "yaxis": "y"
        },
        {
         "alignmentgroup": "True",
         "hovertemplate": "category_code=news<br>founded_at=%{x}<br>size=%{y}<extra></extra>",
         "legendgroup": "news",
         "marker": {
          "color": "#FFA15A",
          "pattern": {
           "shape": ""
          }
         },
         "name": "news",
         "offsetgroup": "news",
         "orientation": "v",
         "showlegend": true,
         "textposition": "auto",
         "type": "bar",
         "x": [
          2006,
          2011,
          2012,
          2004,
          2009,
          2010,
          2005,
          2012
         ],
         "xaxis": "x",
         "y": [
          1,
          1,
          1,
          1,
          1,
          1,
          1,
          1
         ],
         "yaxis": "y"
        },
        {
         "alignmentgroup": "True",
         "hovertemplate": "category_code=music<br>founded_at=%{x}<br>size=%{y}<extra></extra>",
         "legendgroup": "music",
         "marker": {
          "color": "#19d3f3",
          "pattern": {
           "shape": ""
          }
         },
         "name": "music",
         "offsetgroup": "music",
         "orientation": "v",
         "showlegend": true,
         "textposition": "auto",
         "type": "bar",
         "x": [
          2007,
          2007,
          2003,
          2007,
          2005,
          2004
         ],
         "xaxis": "x",
         "y": [
          1,
          1,
          1,
          1,
          1,
          1
         ],
         "yaxis": "y"
        },
        {
         "alignmentgroup": "True",
         "hovertemplate": "category_code=photo_video<br>founded_at=%{x}<br>size=%{y}<extra></extra>",
         "legendgroup": "photo_video",
         "marker": {
          "color": "#FF6692",
          "pattern": {
           "shape": ""
          }
         },
         "name": "photo_video",
         "offsetgroup": "photo_video",
         "orientation": "v",
         "showlegend": true,
         "textposition": "auto",
         "type": "bar",
         "x": [
          2007,
          2009,
          2010,
          2008,
          2000,
          2010
         ],
         "xaxis": "x",
         "y": [
          2,
          1,
          1,
          1,
          1,
          1
         ],
         "yaxis": "y"
        },
        {
         "alignmentgroup": "True",
         "hovertemplate": "category_code=transportation<br>founded_at=%{x}<br>size=%{y}<extra></extra>",
         "legendgroup": "transportation",
         "marker": {
          "color": "#B6E880",
          "pattern": {
           "shape": ""
          }
         },
         "name": "transportation",
         "offsetgroup": "transportation",
         "orientation": "v",
         "showlegend": true,
         "textposition": "auto",
         "type": "bar",
         "x": [
          2007,
          2000
         ],
         "xaxis": "x",
         "y": [
          1,
          1
         ],
         "yaxis": "y"
        },
        {
         "alignmentgroup": "True",
         "hovertemplate": "category_code=manufacturing<br>founded_at=%{x}<br>size=%{y}<extra></extra>",
         "legendgroup": "manufacturing",
         "marker": {
          "color": "#FF97FF",
          "pattern": {
           "shape": ""
          }
         },
         "name": "manufacturing",
         "offsetgroup": "manufacturing",
         "orientation": "v",
         "showlegend": true,
         "textposition": "auto",
         "type": "bar",
         "x": [
          2008,
          2009
         ],
         "xaxis": "x",
         "y": [
          1,
          1
         ],
         "yaxis": "y"
        },
        {
         "alignmentgroup": "True",
         "hovertemplate": "category_code=real_estate<br>founded_at=%{x}<br>size=%{y}<extra></extra>",
         "legendgroup": "real_estate",
         "marker": {
          "color": "#FECB52",
          "pattern": {
           "shape": ""
          }
         },
         "name": "real_estate",
         "offsetgroup": "real_estate",
         "orientation": "v",
         "showlegend": true,
         "textposition": "auto",
         "type": "bar",
         "x": [
          2008,
          2010,
          2010
         ],
         "xaxis": "x",
         "y": [
          1,
          1,
          1
         ],
         "yaxis": "y"
        },
        {
         "alignmentgroup": "True",
         "hovertemplate": "category_code=travel<br>founded_at=%{x}<br>size=%{y}<extra></extra>",
         "legendgroup": "travel",
         "marker": {
          "color": "#636efa",
          "pattern": {
           "shape": ""
          }
         },
         "name": "travel",
         "offsetgroup": "travel",
         "orientation": "v",
         "showlegend": true,
         "textposition": "auto",
         "type": "bar",
         "x": [
          2008,
          2006,
          2011,
          2009,
          2010,
          2008,
          2007,
          2009
         ],
         "xaxis": "x",
         "y": [
          1,
          1,
          1,
          1,
          1,
          1,
          1,
          1
         ],
         "yaxis": "y"
        },
        {
         "alignmentgroup": "True",
         "hovertemplate": "category_code=fashion<br>founded_at=%{x}<br>size=%{y}<extra></extra>",
         "legendgroup": "fashion",
         "marker": {
          "color": "#EF553B",
          "pattern": {
           "shape": ""
          }
         },
         "name": "fashion",
         "offsetgroup": "fashion",
         "orientation": "v",
         "showlegend": true,
         "textposition": "auto",
         "type": "bar",
         "x": [
          2009,
          2010,
          2011,
          2007,
          2009,
          2010,
          2009,
          2011
         ],
         "xaxis": "x",
         "y": [
          1,
          1,
          1,
          1,
          1,
          1,
          1,
          1
         ],
         "yaxis": "y"
        },
        {
         "alignmentgroup": "True",
         "hovertemplate": "category_code=hospitality<br>founded_at=%{x}<br>size=%{y}<extra></extra>",
         "legendgroup": "hospitality",
         "marker": {
          "color": "#00cc96",
          "pattern": {
           "shape": ""
          }
         },
         "name": "hospitality",
         "offsetgroup": "hospitality",
         "orientation": "v",
         "showlegend": true,
         "textposition": "auto",
         "type": "bar",
         "x": [
          2010
         ],
         "xaxis": "x",
         "y": [
          1
         ],
         "yaxis": "y"
        },
        {
         "alignmentgroup": "True",
         "hovertemplate": "category_code=education<br>founded_at=%{x}<br>size=%{y}<extra></extra>",
         "legendgroup": "education",
         "marker": {
          "color": "#ab63fa",
          "pattern": {
           "shape": ""
          }
         },
         "name": "education",
         "offsetgroup": "education",
         "orientation": "v",
         "showlegend": true,
         "textposition": "auto",
         "type": "bar",
         "x": [
          2007,
          2011,
          2007,
          2010
         ],
         "xaxis": "x",
         "y": [
          1,
          1,
          1,
          1
         ],
         "yaxis": "y"
        },
        {
         "alignmentgroup": "True",
         "hovertemplate": "category_code=sports<br>founded_at=%{x}<br>size=%{y}<extra></extra>",
         "legendgroup": "sports",
         "marker": {
          "color": "#FFA15A",
          "pattern": {
           "shape": ""
          }
         },
         "name": "sports",
         "offsetgroup": "sports",
         "orientation": "v",
         "showlegend": true,
         "textposition": "auto",
         "type": "bar",
         "x": [
          2009
         ],
         "xaxis": "x",
         "y": [
          1
         ],
         "yaxis": "y"
        }
       ],
       "layout": {
        "autosize": true,
        "barmode": "relative",
        "legend": {
         "title": {
          "text": "category_code"
         },
         "tracegroupgap": 0
        },
        "paper_bgcolor": "white",
        "plot_bgcolor": "rgb(254, 246, 224)",
        "template": {
         "data": {
          "bar": [
           {
            "error_x": {
             "color": "#2a3f5f"
            },
            "error_y": {
             "color": "#2a3f5f"
            },
            "marker": {
             "line": {
              "color": "#E5ECF6",
              "width": 0.5
             },
             "pattern": {
              "fillmode": "overlay",
              "size": 10,
              "solidity": 0.2
             }
            },
            "type": "bar"
           }
          ],
          "barpolar": [
           {
            "marker": {
             "line": {
              "color": "#E5ECF6",
              "width": 0.5
             },
             "pattern": {
              "fillmode": "overlay",
              "size": 10,
              "solidity": 0.2
             }
            },
            "type": "barpolar"
           }
          ],
          "carpet": [
           {
            "aaxis": {
             "endlinecolor": "#2a3f5f",
             "gridcolor": "white",
             "linecolor": "white",
             "minorgridcolor": "white",
             "startlinecolor": "#2a3f5f"
            },
            "baxis": {
             "endlinecolor": "#2a3f5f",
             "gridcolor": "white",
             "linecolor": "white",
             "minorgridcolor": "white",
             "startlinecolor": "#2a3f5f"
            },
            "type": "carpet"
           }
          ],
          "choropleth": [
           {
            "colorbar": {
             "outlinewidth": 0,
             "ticks": ""
            },
            "type": "choropleth"
           }
          ],
          "contour": [
           {
            "colorbar": {
             "outlinewidth": 0,
             "ticks": ""
            },
            "colorscale": [
             [
              0,
              "#0d0887"
             ],
             [
              0.1111111111111111,
              "#46039f"
             ],
             [
              0.2222222222222222,
              "#7201a8"
             ],
             [
              0.3333333333333333,
              "#9c179e"
             ],
             [
              0.4444444444444444,
              "#bd3786"
             ],
             [
              0.5555555555555556,
              "#d8576b"
             ],
             [
              0.6666666666666666,
              "#ed7953"
             ],
             [
              0.7777777777777778,
              "#fb9f3a"
             ],
             [
              0.8888888888888888,
              "#fdca26"
             ],
             [
              1,
              "#f0f921"
             ]
            ],
            "type": "contour"
           }
          ],
          "contourcarpet": [
           {
            "colorbar": {
             "outlinewidth": 0,
             "ticks": ""
            },
            "type": "contourcarpet"
           }
          ],
          "heatmap": [
           {
            "colorbar": {
             "outlinewidth": 0,
             "ticks": ""
            },
            "colorscale": [
             [
              0,
              "#0d0887"
             ],
             [
              0.1111111111111111,
              "#46039f"
             ],
             [
              0.2222222222222222,
              "#7201a8"
             ],
             [
              0.3333333333333333,
              "#9c179e"
             ],
             [
              0.4444444444444444,
              "#bd3786"
             ],
             [
              0.5555555555555556,
              "#d8576b"
             ],
             [
              0.6666666666666666,
              "#ed7953"
             ],
             [
              0.7777777777777778,
              "#fb9f3a"
             ],
             [
              0.8888888888888888,
              "#fdca26"
             ],
             [
              1,
              "#f0f921"
             ]
            ],
            "type": "heatmap"
           }
          ],
          "heatmapgl": [
           {
            "colorbar": {
             "outlinewidth": 0,
             "ticks": ""
            },
            "colorscale": [
             [
              0,
              "#0d0887"
             ],
             [
              0.1111111111111111,
              "#46039f"
             ],
             [
              0.2222222222222222,
              "#7201a8"
             ],
             [
              0.3333333333333333,
              "#9c179e"
             ],
             [
              0.4444444444444444,
              "#bd3786"
             ],
             [
              0.5555555555555556,
              "#d8576b"
             ],
             [
              0.6666666666666666,
              "#ed7953"
             ],
             [
              0.7777777777777778,
              "#fb9f3a"
             ],
             [
              0.8888888888888888,
              "#fdca26"
             ],
             [
              1,
              "#f0f921"
             ]
            ],
            "type": "heatmapgl"
           }
          ],
          "histogram": [
           {
            "marker": {
             "pattern": {
              "fillmode": "overlay",
              "size": 10,
              "solidity": 0.2
             }
            },
            "type": "histogram"
           }
          ],
          "histogram2d": [
           {
            "colorbar": {
             "outlinewidth": 0,
             "ticks": ""
            },
            "colorscale": [
             [
              0,
              "#0d0887"
             ],
             [
              0.1111111111111111,
              "#46039f"
             ],
             [
              0.2222222222222222,
              "#7201a8"
             ],
             [
              0.3333333333333333,
              "#9c179e"
             ],
             [
              0.4444444444444444,
              "#bd3786"
             ],
             [
              0.5555555555555556,
              "#d8576b"
             ],
             [
              0.6666666666666666,
              "#ed7953"
             ],
             [
              0.7777777777777778,
              "#fb9f3a"
             ],
             [
              0.8888888888888888,
              "#fdca26"
             ],
             [
              1,
              "#f0f921"
             ]
            ],
            "type": "histogram2d"
           }
          ],
          "histogram2dcontour": [
           {
            "colorbar": {
             "outlinewidth": 0,
             "ticks": ""
            },
            "colorscale": [
             [
              0,
              "#0d0887"
             ],
             [
              0.1111111111111111,
              "#46039f"
             ],
             [
              0.2222222222222222,
              "#7201a8"
             ],
             [
              0.3333333333333333,
              "#9c179e"
             ],
             [
              0.4444444444444444,
              "#bd3786"
             ],
             [
              0.5555555555555556,
              "#d8576b"
             ],
             [
              0.6666666666666666,
              "#ed7953"
             ],
             [
              0.7777777777777778,
              "#fb9f3a"
             ],
             [
              0.8888888888888888,
              "#fdca26"
             ],
             [
              1,
              "#f0f921"
             ]
            ],
            "type": "histogram2dcontour"
           }
          ],
          "mesh3d": [
           {
            "colorbar": {
             "outlinewidth": 0,
             "ticks": ""
            },
            "type": "mesh3d"
           }
          ],
          "parcoords": [
           {
            "line": {
             "colorbar": {
              "outlinewidth": 0,
              "ticks": ""
             }
            },
            "type": "parcoords"
           }
          ],
          "pie": [
           {
            "automargin": true,
            "type": "pie"
           }
          ],
          "scatter": [
           {
            "marker": {
             "colorbar": {
              "outlinewidth": 0,
              "ticks": ""
             }
            },
            "type": "scatter"
           }
          ],
          "scatter3d": [
           {
            "line": {
             "colorbar": {
              "outlinewidth": 0,
              "ticks": ""
             }
            },
            "marker": {
             "colorbar": {
              "outlinewidth": 0,
              "ticks": ""
             }
            },
            "type": "scatter3d"
           }
          ],
          "scattercarpet": [
           {
            "marker": {
             "colorbar": {
              "outlinewidth": 0,
              "ticks": ""
             }
            },
            "type": "scattercarpet"
           }
          ],
          "scattergeo": [
           {
            "marker": {
             "colorbar": {
              "outlinewidth": 0,
              "ticks": ""
             }
            },
            "type": "scattergeo"
           }
          ],
          "scattergl": [
           {
            "marker": {
             "colorbar": {
              "outlinewidth": 0,
              "ticks": ""
             }
            },
            "type": "scattergl"
           }
          ],
          "scattermapbox": [
           {
            "marker": {
             "colorbar": {
              "outlinewidth": 0,
              "ticks": ""
             }
            },
            "type": "scattermapbox"
           }
          ],
          "scatterpolar": [
           {
            "marker": {
             "colorbar": {
              "outlinewidth": 0,
              "ticks": ""
             }
            },
            "type": "scatterpolar"
           }
          ],
          "scatterpolargl": [
           {
            "marker": {
             "colorbar": {
              "outlinewidth": 0,
              "ticks": ""
             }
            },
            "type": "scatterpolargl"
           }
          ],
          "scatterternary": [
           {
            "marker": {
             "colorbar": {
              "outlinewidth": 0,
              "ticks": ""
             }
            },
            "type": "scatterternary"
           }
          ],
          "surface": [
           {
            "colorbar": {
             "outlinewidth": 0,
             "ticks": ""
            },
            "colorscale": [
             [
              0,
              "#0d0887"
             ],
             [
              0.1111111111111111,
              "#46039f"
             ],
             [
              0.2222222222222222,
              "#7201a8"
             ],
             [
              0.3333333333333333,
              "#9c179e"
             ],
             [
              0.4444444444444444,
              "#bd3786"
             ],
             [
              0.5555555555555556,
              "#d8576b"
             ],
             [
              0.6666666666666666,
              "#ed7953"
             ],
             [
              0.7777777777777778,
              "#fb9f3a"
             ],
             [
              0.8888888888888888,
              "#fdca26"
             ],
             [
              1,
              "#f0f921"
             ]
            ],
            "type": "surface"
           }
          ],
          "table": [
           {
            "cells": {
             "fill": {
              "color": "#EBF0F8"
             },
             "line": {
              "color": "white"
             }
            },
            "header": {
             "fill": {
              "color": "#C8D4E3"
             },
             "line": {
              "color": "white"
             }
            },
            "type": "table"
           }
          ]
         },
         "layout": {
          "annotationdefaults": {
           "arrowcolor": "#2a3f5f",
           "arrowhead": 0,
           "arrowwidth": 1
          },
          "autotypenumbers": "strict",
          "coloraxis": {
           "colorbar": {
            "outlinewidth": 0,
            "ticks": ""
           }
          },
          "colorscale": {
           "diverging": [
            [
             0,
             "#8e0152"
            ],
            [
             0.1,
             "#c51b7d"
            ],
            [
             0.2,
             "#de77ae"
            ],
            [
             0.3,
             "#f1b6da"
            ],
            [
             0.4,
             "#fde0ef"
            ],
            [
             0.5,
             "#f7f7f7"
            ],
            [
             0.6,
             "#e6f5d0"
            ],
            [
             0.7,
             "#b8e186"
            ],
            [
             0.8,
             "#7fbc41"
            ],
            [
             0.9,
             "#4d9221"
            ],
            [
             1,
             "#276419"
            ]
           ],
           "sequential": [
            [
             0,
             "#0d0887"
            ],
            [
             0.1111111111111111,
             "#46039f"
            ],
            [
             0.2222222222222222,
             "#7201a8"
            ],
            [
             0.3333333333333333,
             "#9c179e"
            ],
            [
             0.4444444444444444,
             "#bd3786"
            ],
            [
             0.5555555555555556,
             "#d8576b"
            ],
            [
             0.6666666666666666,
             "#ed7953"
            ],
            [
             0.7777777777777778,
             "#fb9f3a"
            ],
            [
             0.8888888888888888,
             "#fdca26"
            ],
            [
             1,
             "#f0f921"
            ]
           ],
           "sequentialminus": [
            [
             0,
             "#0d0887"
            ],
            [
             0.1111111111111111,
             "#46039f"
            ],
            [
             0.2222222222222222,
             "#7201a8"
            ],
            [
             0.3333333333333333,
             "#9c179e"
            ],
            [
             0.4444444444444444,
             "#bd3786"
            ],
            [
             0.5555555555555556,
             "#d8576b"
            ],
            [
             0.6666666666666666,
             "#ed7953"
            ],
            [
             0.7777777777777778,
             "#fb9f3a"
            ],
            [
             0.8888888888888888,
             "#fdca26"
            ],
            [
             1,
             "#f0f921"
            ]
           ]
          },
          "colorway": [
           "#636efa",
           "#EF553B",
           "#00cc96",
           "#ab63fa",
           "#FFA15A",
           "#19d3f3",
           "#FF6692",
           "#B6E880",
           "#FF97FF",
           "#FECB52"
          ],
          "font": {
           "color": "#2a3f5f"
          },
          "geo": {
           "bgcolor": "white",
           "lakecolor": "white",
           "landcolor": "#E5ECF6",
           "showlakes": true,
           "showland": true,
           "subunitcolor": "white"
          },
          "hoverlabel": {
           "align": "left"
          },
          "hovermode": "closest",
          "mapbox": {
           "style": "light"
          },
          "paper_bgcolor": "white",
          "plot_bgcolor": "#E5ECF6",
          "polar": {
           "angularaxis": {
            "gridcolor": "white",
            "linecolor": "white",
            "ticks": ""
           },
           "bgcolor": "#E5ECF6",
           "radialaxis": {
            "gridcolor": "white",
            "linecolor": "white",
            "ticks": ""
           }
          },
          "scene": {
           "xaxis": {
            "backgroundcolor": "#E5ECF6",
            "gridcolor": "white",
            "gridwidth": 2,
            "linecolor": "white",
            "showbackground": true,
            "ticks": "",
            "zerolinecolor": "white"
           },
           "yaxis": {
            "backgroundcolor": "#E5ECF6",
            "gridcolor": "white",
            "gridwidth": 2,
            "linecolor": "white",
            "showbackground": true,
            "ticks": "",
            "zerolinecolor": "white"
           },
           "zaxis": {
            "backgroundcolor": "#E5ECF6",
            "gridcolor": "white",
            "gridwidth": 2,
            "linecolor": "white",
            "showbackground": true,
            "ticks": "",
            "zerolinecolor": "white"
           }
          },
          "shapedefaults": {
           "line": {
            "color": "#2a3f5f"
           }
          },
          "ternary": {
           "aaxis": {
            "gridcolor": "white",
            "linecolor": "white",
            "ticks": ""
           },
           "baxis": {
            "gridcolor": "white",
            "linecolor": "white",
            "ticks": ""
           },
           "bgcolor": "#E5ECF6",
           "caxis": {
            "gridcolor": "white",
            "linecolor": "white",
            "ticks": ""
           }
          },
          "title": {
           "x": 0.05
          },
          "xaxis": {
           "automargin": true,
           "gridcolor": "white",
           "linecolor": "white",
           "ticks": "",
           "title": {
            "standoff": 15
           },
           "zerolinecolor": "white",
           "zerolinewidth": 2
          },
          "yaxis": {
           "automargin": true,
           "gridcolor": "white",
           "linecolor": "white",
           "ticks": "",
           "title": {
            "standoff": 15
           },
           "zerolinecolor": "white",
           "zerolinewidth": 2
          }
         }
        },
        "title": {
         "font": {
          "size": 18
         },
         "text": "American startups: Size us Foundation year"
        },
        "xaxis": {
         "anchor": "y",
         "autorange": true,
         "domain": [
          0,
          1
         ],
         "range": [
          1983.5,
          2013.5
         ],
         "title": {
          "font": {
           "size": 18
          },
          "text": " Foundation year"
         },
         "type": "linear"
        },
        "yaxis": {
         "anchor": "x",
         "autorange": true,
         "domain": [
          0,
          1
         ],
         "range": [
          0,
          112.63157894736842
         ],
         "title": {
          "font": {
           "size": 18
          },
          "text": " No of startups"
         },
         "type": "linear"
        }
       }
      },
      "image/png": "[encoded data removed]",
      "text/html": [
       "<div>                            <div id=\"1ea58b2b-1bea-4293-875b-20220b1678d5\" class=\"plotly-graph-div\" style=\"height:600px; width:100%;\"></div>            <script type=\"text/javascript\">                require([\"plotly\"], function(Plotly) {                    window.PLOTLYENV=window.PLOTLYENV || {};                                    if (document.getElementById(\"1ea58b2b-1bea-4293-875b-20220b1678d5\")) {                    Plotly.newPlot(                        \"1ea58b2b-1bea-4293-875b-20220b1678d5\",                        [{\"alignmentgroup\":\"True\",\"hovertemplate\":\"category_code=software<br>founded_at=%{x}<br>size=%{y}<extra></extra>\",\"legendgroup\":\"software\",\"marker\":{\"color\":\"#636efa\",\"pattern\":{\"shape\":\"\"}},\"name\":\"software\",\"offsetgroup\":\"software\",\"orientation\":\"v\",\"showlegend\":true,\"textposition\":\"auto\",\"x\":[1984,1985,1997,1998,1999,2000,2001,2002,2003,2004,2005,2006,2007,2008,2009,2010,2011,2002,2005,2006,2007,2009,2004,2004,2005,2007,2009,1999,2000,2008,2007,2004,2008,2010,2004,2005,2005,2010,2000,2003,2006,2012,2004,2007,2008,2010,2008,2005,2006,2008,2003,2006,2006,2009],\"xaxis\":\"x\",\"y\":[1,1,1,3,1,11,12,13,18,8,13,7,13,6,1,2,2,2,1,2,1,1,1,1,1,1,1,1,1,1,1,1,1,1,1,1,1,1,1,1,1,1,1,1,2,1,1,1,1,1,1,1,1,1],\"yaxis\":\"y\",\"type\":\"bar\"},{\"alignmentgroup\":\"True\",\"hovertemplate\":\"category_code=cleantech<br>founded_at=%{x}<br>size=%{y}<extra></extra>\",\"legendgroup\":\"cleantech\",\"marker\":{\"color\":\"#EF553B\",\"pattern\":{\"shape\":\"\"}},\"name\":\"cleantech\",\"offsetgroup\":\"cleantech\",\"orientation\":\"v\",\"showlegend\":true,\"textposition\":\"auto\",\"x\":[1992,2001,2002,2004,2005,2006,2007,2008,2009,2005,2008,2009,2008],\"xaxis\":\"x\",\"y\":[1,1,1,2,1,2,4,6,1,1,1,1,1],\"yaxis\":\"y\",\"type\":\"bar\"},{\"alignmentgroup\":\"True\",\"hovertemplate\":\"category_code=hardware<br>founded_at=%{x}<br>size=%{y}<extra></extra>\",\"legendgroup\":\"hardware\",\"marker\":{\"color\":\"#00cc96\",\"pattern\":{\"shape\":\"\"}},\"name\":\"hardware\",\"offsetgroup\":\"hardware\",\"orientation\":\"v\",\"showlegend\":true,\"textposition\":\"auto\",\"x\":[1995,1996,1999,2000,2001,2002,2003,2004,2005,2006,2007,2009,2007,2005,2001],\"xaxis\":\"x\",\"y\":[1,1,1,4,2,1,2,6,2,2,1,1,1,1,1],\"yaxis\":\"y\",\"type\":\"bar\"},{\"alignmentgroup\":\"True\",\"hovertemplate\":\"category_code=biotech<br>founded_at=%{x}<br>size=%{y}<extra></extra>\",\"legendgroup\":\"biotech\",\"marker\":{\"color\":\"#ab63fa\",\"pattern\":{\"shape\":\"\"}},\"name\":\"biotech\",\"offsetgroup\":\"biotech\",\"orientation\":\"v\",\"showlegend\":true,\"textposition\":\"auto\",\"x\":[1996,1997,1999,2000,2001,2002,2003,2004,2005,2006,2007,2008,2009,1999],\"xaxis\":\"x\",\"y\":[1,2,2,4,1,3,4,4,2,6,1,2,1,1],\"yaxis\":\"y\",\"type\":\"bar\"},{\"alignmentgroup\":\"True\",\"hovertemplate\":\"category_code=semiconductor<br>founded_at=%{x}<br>size=%{y}<extra></extra>\",\"legendgroup\":\"semiconductor\",\"marker\":{\"color\":\"#FFA15A\",\"pattern\":{\"shape\":\"\"}},\"name\":\"semiconductor\",\"offsetgroup\":\"semiconductor\",\"orientation\":\"v\",\"showlegend\":true,\"textposition\":\"auto\",\"x\":[1996,1999,2000,2001,2002,2003,2004,2006,2008,2001,2003,2004,2000],\"xaxis\":\"x\",\"y\":[1,1,8,4,5,5,4,2,1,1,1,1,1],\"yaxis\":\"y\",\"type\":\"bar\"},{\"alignmentgroup\":\"True\",\"hovertemplate\":\"category_code=security<br>founded_at=%{x}<br>size=%{y}<extra></extra>\",\"legendgroup\":\"security\",\"marker\":{\"color\":\"#19d3f3\",\"pattern\":{\"shape\":\"\"}},\"name\":\"security\",\"offsetgroup\":\"security\",\"orientation\":\"v\",\"showlegend\":true,\"textposition\":\"auto\",\"x\":[1998,2000,2001,2002,2003,2004,2005,2006,2007,2009,2004,2005],\"xaxis\":\"x\",\"y\":[1,2,1,3,4,2,1,1,1,1,1,1],\"yaxis\":\"y\",\"type\":\"bar\"},{\"alignmentgroup\":\"True\",\"hovertemplate\":\"category_code=games_video<br>founded_at=%{x}<br>size=%{y}<extra></extra>\",\"legendgroup\":\"games_video\",\"marker\":{\"color\":\"#FF6692\",\"pattern\":{\"shape\":\"\"}},\"name\":\"games_video\",\"offsetgroup\":\"games_video\",\"orientation\":\"v\",\"showlegend\":true,\"textposition\":\"auto\",\"x\":[1999,2000,2001,2002,2003,2004,2005,2006,2007,2008,2009,2010,2007,2008,2006,2005,2008,2010,2001,2007,2005,2005,2006,2010,2007,2008,2000,2006,2008,2006,2010,2007,2010],\"xaxis\":\"x\",\"y\":[1,1,1,1,1,4,1,5,7,2,3,1,1,1,1,1,1,1,1,1,1,1,1,3,2,1,1,1,1,1,1,1,1],\"yaxis\":\"y\",\"type\":\"bar\"},{\"alignmentgroup\":\"True\",\"hovertemplate\":\"category_code=other<br>founded_at=%{x}<br>size=%{y}<extra></extra>\",\"legendgroup\":\"other\",\"marker\":{\"color\":\"#B6E880\",\"pattern\":{\"shape\":\"\"}},\"name\":\"other\",\"offsetgroup\":\"other\",\"orientation\":\"v\",\"showlegend\":true,\"textposition\":\"auto\",\"x\":[1999,2001,2002,2003,2004,2005,2007,2010],\"xaxis\":\"x\",\"y\":[1,1,2,1,2,1,2,1],\"yaxis\":\"y\",\"type\":\"bar\"},{\"alignmentgroup\":\"True\",\"hovertemplate\":\"category_code=public_relations<br>founded_at=%{x}<br>size=%{y}<extra></extra>\",\"legendgroup\":\"public_relations\",\"marker\":{\"color\":\"#FF97FF\",\"pattern\":{\"shape\":\"\"}},\"name\":\"public_relations\",\"offsetgroup\":\"public_relations\",\"orientation\":\"v\",\"showlegend\":true,\"textposition\":\"auto\",\"x\":[1999,2000,2001,2002,2003,2005,2006,2008,2009,2007,2007,2007],\"xaxis\":\"x\",\"y\":[1,6,4,5,2,1,1,1,1,1,1,1],\"yaxis\":\"y\",\"type\":\"bar\"},{\"alignmentgroup\":\"True\",\"hovertemplate\":\"category_code=advertising<br>founded_at=%{x}<br>size=%{y}<extra></extra>\",\"legendgroup\":\"advertising\",\"marker\":{\"color\":\"#FECB52\",\"pattern\":{\"shape\":\"\"}},\"name\":\"advertising\",\"offsetgroup\":\"advertising\",\"orientation\":\"v\",\"showlegend\":true,\"textposition\":\"auto\",\"x\":[2000,2001,2002,2003,2004,2005,2006,2007,2008,2009,2011,2000,2009,2006,2008,2006,2008,2006,2007,2004,2007,2005,2006,2006,2007,2010,2011,2004,2007,2013,2005,2009,2002,2010,2009,2008,2010,2005,2009,2006],\"xaxis\":\"x\",\"y\":[1,1,4,6,1,4,3,4,3,2,1,1,1,2,1,1,1,1,1,1,1,1,1,1,1,1,1,1,1,1,3,1,1,1,1,1,1,1,1,1],\"yaxis\":\"y\",\"type\":\"bar\"},{\"alignmentgroup\":\"True\",\"hovertemplate\":\"category_code=consulting<br>founded_at=%{x}<br>size=%{y}<extra></extra>\",\"legendgroup\":\"consulting\",\"marker\":{\"color\":\"#636efa\",\"pattern\":{\"shape\":\"\"}},\"name\":\"consulting\",\"offsetgroup\":\"consulting\",\"orientation\":\"v\",\"showlegend\":true,\"textposition\":\"auto\",\"x\":[2000,2005,2006],\"xaxis\":\"x\",\"y\":[1,1,1],\"yaxis\":\"y\",\"type\":\"bar\"},{\"alignmentgroup\":\"True\",\"hovertemplate\":\"category_code=enterprise<br>founded_at=%{x}<br>size=%{y}<extra></extra>\",\"legendgroup\":\"enterprise\",\"marker\":{\"color\":\"#EF553B\",\"pattern\":{\"shape\":\"\"}},\"name\":\"enterprise\",\"offsetgroup\":\"enterprise\",\"orientation\":\"v\",\"showlegend\":true,\"textposition\":\"auto\",\"x\":[2000,2001,2002,2003,2004,2005,2006,2007,2008,2009,2010,2011,2009,2010,2009,2008,2004,2000,2004,2011,2009,2005,2006,2007,2009,1999,2006,2007,2004,2005,2008,2010,2011,2009,2007,2008,2010,2009,2005,2009,2010,2007,2008,2010,2008],\"xaxis\":\"x\",\"y\":[2,4,3,2,2,2,4,2,5,8,1,1,1,1,1,1,1,1,1,1,1,1,2,1,1,1,2,1,1,1,1,1,1,1,2,1,1,1,1,1,2,1,1,1,1],\"yaxis\":\"y\",\"type\":\"bar\"},{\"alignmentgroup\":\"True\",\"hovertemplate\":\"category_code=mobile<br>founded_at=%{x}<br>size=%{y}<extra></extra>\",\"legendgroup\":\"mobile\",\"marker\":{\"color\":\"#00cc96\",\"pattern\":{\"shape\":\"\"}},\"name\":\"mobile\",\"offsetgroup\":\"mobile\",\"orientation\":\"v\",\"showlegend\":true,\"textposition\":\"auto\",\"x\":[2000,2001,2002,2003,2004,2005,2006,2008,2009,2010,2011,2012,2003,2005,2008,2007,2000,2005,2000,2006,2011,2005,2003,2010,2006,2009,2003,2005,2009,2010,2005,2006,2000,2008,2009,2009,2007,2008,2011,2006,2005,2009,2010],\"xaxis\":\"x\",\"y\":[3,5,2,2,6,7,4,4,2,6,3,1,1,1,1,1,1,1,1,1,1,1,1,1,1,2,1,1,1,1,1,3,1,1,1,1,1,1,1,1,1,1,1],\"yaxis\":\"y\",\"type\":\"bar\"},{\"alignmentgroup\":\"True\",\"hovertemplate\":\"category_code=network_hosting<br>founded_at=%{x}<br>size=%{y}<extra></extra>\",\"legendgroup\":\"network_hosting\",\"marker\":{\"color\":\"#ab63fa\",\"pattern\":{\"shape\":\"\"}},\"name\":\"network_hosting\",\"offsetgroup\":\"network_hosting\",\"orientation\":\"v\",\"showlegend\":true,\"textposition\":\"auto\",\"x\":[2000,2002,2003,2004,2005,2006,2008,2006,2006,2006,1990,2007,2007,2006,2008,2006],\"xaxis\":\"x\",\"y\":[6,5,3,1,5,3,1,1,1,1,1,1,2,1,1,1],\"yaxis\":\"y\",\"type\":\"bar\"},{\"alignmentgroup\":\"True\",\"hovertemplate\":\"category_code=web<br>founded_at=%{x}<br>size=%{y}<extra></extra>\",\"legendgroup\":\"web\",\"marker\":{\"color\":\"#FFA15A\",\"pattern\":{\"shape\":\"\"}},\"name\":\"web\",\"offsetgroup\":\"web\",\"orientation\":\"v\",\"showlegend\":true,\"textposition\":\"auto\",\"x\":[2000,2001,2002,2003,2004,2005,2006,2007,2008,2009,2010,2011,2012,2005,2007,2006,2010,2012,2005,2005,2006,2007,2010,2004,2011,2002,2000,2004,2005,2007,2009,2004,2005,2006,2007,2010,2013,2004,2005,2007,2009,2011,2009,2009,2005,2005,2006,2008,2009,2008,2007,2009,2005,2006,2007,2005,2003,2005,2006,2007,2010,2011,2009,2007,2005,2007,2010,2005,2007,2006,2007,2009,2010,2011,2009,2010,2007,2006,2007,2007,2010],\"xaxis\":\"x\",\"y\":[4,1,4,3,4,8,6,5,7,6,9,2,1,1,1,1,1,1,1,1,2,2,1,1,1,1,1,1,1,1,1,2,2,1,2,3,1,1,1,1,1,1,1,1,1,1,1,1,1,1,1,1,1,1,1,1,1,3,3,2,1,1,1,1,1,1,1,1,1,1,2,1,2,1,1,1,1,1,1,3,1],\"yaxis\":\"y\",\"type\":\"bar\"},{\"alignmentgroup\":\"True\",\"hovertemplate\":\"category_code=search<br>founded_at=%{x}<br>size=%{y}<extra></extra>\",\"legendgroup\":\"search\",\"marker\":{\"color\":\"#19d3f3\",\"pattern\":{\"shape\":\"\"}},\"name\":\"search\",\"offsetgroup\":\"search\",\"orientation\":\"v\",\"showlegend\":true,\"textposition\":\"auto\",\"x\":[2002,2005,2006,2008,2006,2006,2006,2005,2008,2004,2005],\"xaxis\":\"x\",\"y\":[2,1,1,1,1,1,1,1,1,1,1],\"yaxis\":\"y\",\"type\":\"bar\"},{\"alignmentgroup\":\"True\",\"hovertemplate\":\"category_code=automotive<br>founded_at=%{x}<br>size=%{y}<extra></extra>\",\"legendgroup\":\"automotive\",\"marker\":{\"color\":\"#FF6692\",\"pattern\":{\"shape\":\"\"}},\"name\":\"automotive\",\"offsetgroup\":\"automotive\",\"orientation\":\"v\",\"showlegend\":true,\"textposition\":\"auto\",\"x\":[2003,2011],\"xaxis\":\"x\",\"y\":[1,1],\"yaxis\":\"y\",\"type\":\"bar\"},{\"alignmentgroup\":\"True\",\"hovertemplate\":\"category_code=medical<br>founded_at=%{x}<br>size=%{y}<extra></extra>\",\"legendgroup\":\"medical\",\"marker\":{\"color\":\"#B6E880\",\"pattern\":{\"shape\":\"\"}},\"name\":\"medical\",\"offsetgroup\":\"medical\",\"orientation\":\"v\",\"showlegend\":true,\"textposition\":\"auto\",\"x\":[2003,2004,2005,2006,2008,2006],\"xaxis\":\"x\",\"y\":[1,1,2,1,1,1],\"yaxis\":\"y\",\"type\":\"bar\"},{\"alignmentgroup\":\"True\",\"hovertemplate\":\"category_code=finance<br>founded_at=%{x}<br>size=%{y}<extra></extra>\",\"legendgroup\":\"finance\",\"marker\":{\"color\":\"#FF97FF\",\"pattern\":{\"shape\":\"\"}},\"name\":\"finance\",\"offsetgroup\":\"finance\",\"orientation\":\"v\",\"showlegend\":true,\"textposition\":\"auto\",\"x\":[2004,2006,2009,2008,2006],\"xaxis\":\"x\",\"y\":[2,1,1,1,1],\"yaxis\":\"y\",\"type\":\"bar\"},{\"alignmentgroup\":\"True\",\"hovertemplate\":\"category_code=social<br>founded_at=%{x}<br>size=%{y}<extra></extra>\",\"legendgroup\":\"social\",\"marker\":{\"color\":\"#FECB52\",\"pattern\":{\"shape\":\"\"}},\"name\":\"social\",\"offsetgroup\":\"social\",\"orientation\":\"v\",\"showlegend\":true,\"textposition\":\"auto\",\"x\":[2004,2007,2008,2009,2011,2011,2010,2009,2009,2011,2009],\"xaxis\":\"x\",\"y\":[1,1,3,1,1,1,2,1,1,1,1],\"yaxis\":\"y\",\"type\":\"bar\"},{\"alignmentgroup\":\"True\",\"hovertemplate\":\"category_code=analytics<br>founded_at=%{x}<br>size=%{y}<extra></extra>\",\"legendgroup\":\"analytics\",\"marker\":{\"color\":\"#636efa\",\"pattern\":{\"shape\":\"\"}},\"name\":\"analytics\",\"offsetgroup\":\"analytics\",\"orientation\":\"v\",\"showlegend\":true,\"textposition\":\"auto\",\"x\":[2005,2006,2007,2009,2010,2007,2008,2007,2008,2010,2009,2010,2010,2009,2008,2005,2010,2012,2008],\"xaxis\":\"x\",\"y\":[1,1,1,1,1,1,1,1,1,1,1,1,1,1,1,1,1,1,1],\"yaxis\":\"y\",\"type\":\"bar\"},{\"alignmentgroup\":\"True\",\"hovertemplate\":\"category_code=ecommerce<br>founded_at=%{x}<br>size=%{y}<extra></extra>\",\"legendgroup\":\"ecommerce\",\"marker\":{\"color\":\"#EF553B\",\"pattern\":{\"shape\":\"\"}},\"name\":\"ecommerce\",\"offsetgroup\":\"ecommerce\",\"orientation\":\"v\",\"showlegend\":true,\"textposition\":\"auto\",\"x\":[2005,2006,2008,2009,2010,2011,2012,2013,2011,2004,2006,2008,2009,2010,2006,2005,2009,2012,2003,2006,2008,2009],\"xaxis\":\"x\",\"y\":[1,2,2,1,1,1,2,1,1,1,1,1,1,1,1,1,1,1,1,1,1,1],\"yaxis\":\"y\",\"type\":\"bar\"},{\"alignmentgroup\":\"True\",\"hovertemplate\":\"category_code=messaging<br>founded_at=%{x}<br>size=%{y}<extra></extra>\",\"legendgroup\":\"messaging\",\"marker\":{\"color\":\"#00cc96\",\"pattern\":{\"shape\":\"\"}},\"name\":\"messaging\",\"offsetgroup\":\"messaging\",\"orientation\":\"v\",\"showlegend\":true,\"textposition\":\"auto\",\"x\":[2005,2008,2009,2007,2010,2011,2008,2009,2009,2011],\"xaxis\":\"x\",\"y\":[1,1,2,1,1,1,1,1,1,1],\"yaxis\":\"y\",\"type\":\"bar\"},{\"alignmentgroup\":\"True\",\"hovertemplate\":\"category_code=health<br>founded_at=%{x}<br>size=%{y}<extra></extra>\",\"legendgroup\":\"health\",\"marker\":{\"color\":\"#ab63fa\",\"pattern\":{\"shape\":\"\"}},\"name\":\"health\",\"offsetgroup\":\"health\",\"orientation\":\"v\",\"showlegend\":true,\"textposition\":\"auto\",\"x\":[2006,2008,2007],\"xaxis\":\"x\",\"y\":[1,1,1],\"yaxis\":\"y\",\"type\":\"bar\"},{\"alignmentgroup\":\"True\",\"hovertemplate\":\"category_code=news<br>founded_at=%{x}<br>size=%{y}<extra></extra>\",\"legendgroup\":\"news\",\"marker\":{\"color\":\"#FFA15A\",\"pattern\":{\"shape\":\"\"}},\"name\":\"news\",\"offsetgroup\":\"news\",\"orientation\":\"v\",\"showlegend\":true,\"textposition\":\"auto\",\"x\":[2006,2011,2012,2004,2009,2010,2005,2012],\"xaxis\":\"x\",\"y\":[1,1,1,1,1,1,1,1],\"yaxis\":\"y\",\"type\":\"bar\"},{\"alignmentgroup\":\"True\",\"hovertemplate\":\"category_code=music<br>founded_at=%{x}<br>size=%{y}<extra></extra>\",\"legendgroup\":\"music\",\"marker\":{\"color\":\"#19d3f3\",\"pattern\":{\"shape\":\"\"}},\"name\":\"music\",\"offsetgroup\":\"music\",\"orientation\":\"v\",\"showlegend\":true,\"textposition\":\"auto\",\"x\":[2007,2007,2003,2007,2005,2004],\"xaxis\":\"x\",\"y\":[1,1,1,1,1,1],\"yaxis\":\"y\",\"type\":\"bar\"},{\"alignmentgroup\":\"True\",\"hovertemplate\":\"category_code=photo_video<br>founded_at=%{x}<br>size=%{y}<extra></extra>\",\"legendgroup\":\"photo_video\",\"marker\":{\"color\":\"#FF6692\",\"pattern\":{\"shape\":\"\"}},\"name\":\"photo_video\",\"offsetgroup\":\"photo_video\",\"orientation\":\"v\",\"showlegend\":true,\"textposition\":\"auto\",\"x\":[2007,2009,2010,2008,2000,2010],\"xaxis\":\"x\",\"y\":[2,1,1,1,1,1],\"yaxis\":\"y\",\"type\":\"bar\"},{\"alignmentgroup\":\"True\",\"hovertemplate\":\"category_code=transportation<br>founded_at=%{x}<br>size=%{y}<extra></extra>\",\"legendgroup\":\"transportation\",\"marker\":{\"color\":\"#B6E880\",\"pattern\":{\"shape\":\"\"}},\"name\":\"transportation\",\"offsetgroup\":\"transportation\",\"orientation\":\"v\",\"showlegend\":true,\"textposition\":\"auto\",\"x\":[2007,2000],\"xaxis\":\"x\",\"y\":[1,1],\"yaxis\":\"y\",\"type\":\"bar\"},{\"alignmentgroup\":\"True\",\"hovertemplate\":\"category_code=manufacturing<br>founded_at=%{x}<br>size=%{y}<extra></extra>\",\"legendgroup\":\"manufacturing\",\"marker\":{\"color\":\"#FF97FF\",\"pattern\":{\"shape\":\"\"}},\"name\":\"manufacturing\",\"offsetgroup\":\"manufacturing\",\"orientation\":\"v\",\"showlegend\":true,\"textposition\":\"auto\",\"x\":[2008,2009],\"xaxis\":\"x\",\"y\":[1,1],\"yaxis\":\"y\",\"type\":\"bar\"},{\"alignmentgroup\":\"True\",\"hovertemplate\":\"category_code=real_estate<br>founded_at=%{x}<br>size=%{y}<extra></extra>\",\"legendgroup\":\"real_estate\",\"marker\":{\"color\":\"#FECB52\",\"pattern\":{\"shape\":\"\"}},\"name\":\"real_estate\",\"offsetgroup\":\"real_estate\",\"orientation\":\"v\",\"showlegend\":true,\"textposition\":\"auto\",\"x\":[2008,2010,2010],\"xaxis\":\"x\",\"y\":[1,1,1],\"yaxis\":\"y\",\"type\":\"bar\"},{\"alignmentgroup\":\"True\",\"hovertemplate\":\"category_code=travel<br>founded_at=%{x}<br>size=%{y}<extra></extra>\",\"legendgroup\":\"travel\",\"marker\":{\"color\":\"#636efa\",\"pattern\":{\"shape\":\"\"}},\"name\":\"travel\",\"offsetgroup\":\"travel\",\"orientation\":\"v\",\"showlegend\":true,\"textposition\":\"auto\",\"x\":[2008,2006,2011,2009,2010,2008,2007,2009],\"xaxis\":\"x\",\"y\":[1,1,1,1,1,1,1,1],\"yaxis\":\"y\",\"type\":\"bar\"},{\"alignmentgroup\":\"True\",\"hovertemplate\":\"category_code=fashion<br>founded_at=%{x}<br>size=%{y}<extra></extra>\",\"legendgroup\":\"fashion\",\"marker\":{\"color\":\"#EF553B\",\"pattern\":{\"shape\":\"\"}},\"name\":\"fashion\",\"offsetgroup\":\"fashion\",\"orientation\":\"v\",\"showlegend\":true,\"textposition\":\"auto\",\"x\":[2009,2010,2011,2007,2009,2010,2009,2011],\"xaxis\":\"x\",\"y\":[1,1,1,1,1,1,1,1],\"yaxis\":\"y\",\"type\":\"bar\"},{\"alignmentgroup\":\"True\",\"hovertemplate\":\"category_code=hospitality<br>founded_at=%{x}<br>size=%{y}<extra></extra>\",\"legendgroup\":\"hospitality\",\"marker\":{\"color\":\"#00cc96\",\"pattern\":{\"shape\":\"\"}},\"name\":\"hospitality\",\"offsetgroup\":\"hospitality\",\"orientation\":\"v\",\"showlegend\":true,\"textposition\":\"auto\",\"x\":[2010],\"xaxis\":\"x\",\"y\":[1],\"yaxis\":\"y\",\"type\":\"bar\"},{\"alignmentgroup\":\"True\",\"hovertemplate\":\"category_code=education<br>founded_at=%{x}<br>size=%{y}<extra></extra>\",\"legendgroup\":\"education\",\"marker\":{\"color\":\"#ab63fa\",\"pattern\":{\"shape\":\"\"}},\"name\":\"education\",\"offsetgroup\":\"education\",\"orientation\":\"v\",\"showlegend\":true,\"textposition\":\"auto\",\"x\":[2007,2011,2007,2010],\"xaxis\":\"x\",\"y\":[1,1,1,1],\"yaxis\":\"y\",\"type\":\"bar\"},{\"alignmentgroup\":\"True\",\"hovertemplate\":\"category_code=sports<br>founded_at=%{x}<br>size=%{y}<extra></extra>\",\"legendgroup\":\"sports\",\"marker\":{\"color\":\"#FFA15A\",\"pattern\":{\"shape\":\"\"}},\"name\":\"sports\",\"offsetgroup\":\"sports\",\"orientation\":\"v\",\"showlegend\":true,\"textposition\":\"auto\",\"x\":[2009],\"xaxis\":\"x\",\"y\":[1],\"yaxis\":\"y\",\"type\":\"bar\"}],                        {\"template\":{\"data\":{\"bar\":[{\"error_x\":{\"color\":\"#2a3f5f\"},\"error_y\":{\"color\":\"#2a3f5f\"},\"marker\":{\"line\":{\"color\":\"#E5ECF6\",\"width\":0.5},\"pattern\":{\"fillmode\":\"overlay\",\"size\":10,\"solidity\":0.2}},\"type\":\"bar\"}],\"barpolar\":[{\"marker\":{\"line\":{\"color\":\"#E5ECF6\",\"width\":0.5},\"pattern\":{\"fillmode\":\"overlay\",\"size\":10,\"solidity\":0.2}},\"type\":\"barpolar\"}],\"carpet\":[{\"aaxis\":{\"endlinecolor\":\"#2a3f5f\",\"gridcolor\":\"white\",\"linecolor\":\"white\",\"minorgridcolor\":\"white\",\"startlinecolor\":\"#2a3f5f\"},\"baxis\":{\"endlinecolor\":\"#2a3f5f\",\"gridcolor\":\"white\",\"linecolor\":\"white\",\"minorgridcolor\":\"white\",\"startlinecolor\":\"#2a3f5f\"},\"type\":\"carpet\"}],\"choropleth\":[{\"colorbar\":{\"outlinewidth\":0,\"ticks\":\"\"},\"type\":\"choropleth\"}],\"contour\":[{\"colorbar\":{\"outlinewidth\":0,\"ticks\":\"\"},\"colorscale\":[[0.0,\"#0d0887\"],[0.1111111111111111,\"#46039f\"],[0.2222222222222222,\"#7201a8\"],[0.3333333333333333,\"#9c179e\"],[0.4444444444444444,\"#bd3786\"],[0.5555555555555556,\"#d8576b\"],[0.6666666666666666,\"#ed7953\"],[0.7777777777777778,\"#fb9f3a\"],[0.8888888888888888,\"#fdca26\"],[1.0,\"#f0f921\"]],\"type\":\"contour\"}],\"contourcarpet\":[{\"colorbar\":{\"outlinewidth\":0,\"ticks\":\"\"},\"type\":\"contourcarpet\"}],\"heatmap\":[{\"colorbar\":{\"outlinewidth\":0,\"ticks\":\"\"},\"colorscale\":[[0.0,\"#0d0887\"],[0.1111111111111111,\"#46039f\"],[0.2222222222222222,\"#7201a8\"],[0.3333333333333333,\"#9c179e\"],[0.4444444444444444,\"#bd3786\"],[0.5555555555555556,\"#d8576b\"],[0.6666666666666666,\"#ed7953\"],[0.7777777777777778,\"#fb9f3a\"],[0.8888888888888888,\"#fdca26\"],[1.0,\"#f0f921\"]],\"type\":\"heatmap\"}],\"heatmapgl\":[{\"colorbar\":{\"outlinewidth\":0,\"ticks\":\"\"},\"colorscale\":[[0.0,\"#0d0887\"],[0.1111111111111111,\"#46039f\"],[0.2222222222222222,\"#7201a8\"],[0.3333333333333333,\"#9c179e\"],[0.4444444444444444,\"#bd3786\"],[0.5555555555555556,\"#d8576b\"],[0.6666666666666666,\"#ed7953\"],[0.7777777777777778,\"#fb9f3a\"],[0.8888888888888888,\"#fdca26\"],[1.0,\"#f0f921\"]],\"type\":\"heatmapgl\"}],\"histogram\":[{\"marker\":{\"pattern\":{\"fillmode\":\"overlay\",\"size\":10,\"solidity\":0.2}},\"type\":\"histogram\"}],\"histogram2d\":[{\"colorbar\":{\"outlinewidth\":0,\"ticks\":\"\"},\"colorscale\":[[0.0,\"#0d0887\"],[0.1111111111111111,\"#46039f\"],[0.2222222222222222,\"#7201a8\"],[0.3333333333333333,\"#9c179e\"],[0.4444444444444444,\"#bd3786\"],[0.5555555555555556,\"#d8576b\"],[0.6666666666666666,\"#ed7953\"],[0.7777777777777778,\"#fb9f3a\"],[0.8888888888888888,\"#fdca26\"],[1.0,\"#f0f921\"]],\"type\":\"histogram2d\"}],\"histogram2dcontour\":[{\"colorbar\":{\"outlinewidth\":0,\"ticks\":\"\"},\"colorscale\":[[0.0,\"#0d0887\"],[0.1111111111111111,\"#46039f\"],[0.2222222222222222,\"#7201a8\"],[0.3333333333333333,\"#9c179e\"],[0.4444444444444444,\"#bd3786\"],[0.5555555555555556,\"#d8576b\"],[0.6666666666666666,\"#ed7953\"],[0.7777777777777778,\"#fb9f3a\"],[0.8888888888888888,\"#fdca26\"],[1.0,\"#f0f921\"]],\"type\":\"histogram2dcontour\"}],\"mesh3d\":[{\"colorbar\":{\"outlinewidth\":0,\"ticks\":\"\"},\"type\":\"mesh3d\"}],\"parcoords\":[{\"line\":{\"colorbar\":{\"outlinewidth\":0,\"ticks\":\"\"}},\"type\":\"parcoords\"}],\"pie\":[{\"automargin\":true,\"type\":\"pie\"}],\"scatter\":[{\"marker\":{\"colorbar\":{\"outlinewidth\":0,\"ticks\":\"\"}},\"type\":\"scatter\"}],\"scatter3d\":[{\"line\":{\"colorbar\":{\"outlinewidth\":0,\"ticks\":\"\"}},\"marker\":{\"colorbar\":{\"outlinewidth\":0,\"ticks\":\"\"}},\"type\":\"scatter3d\"}],\"scattercarpet\":[{\"marker\":{\"colorbar\":{\"outlinewidth\":0,\"ticks\":\"\"}},\"type\":\"scattercarpet\"}],\"scattergeo\":[{\"marker\":{\"colorbar\":{\"outlinewidth\":0,\"ticks\":\"\"}},\"type\":\"scattergeo\"}],\"scattergl\":[{\"marker\":{\"colorbar\":{\"outlinewidth\":0,\"ticks\":\"\"}},\"type\":\"scattergl\"}],\"scattermapbox\":[{\"marker\":{\"colorbar\":{\"outlinewidth\":0,\"ticks\":\"\"}},\"type\":\"scattermapbox\"}],\"scatterpolar\":[{\"marker\":{\"colorbar\":{\"outlinewidth\":0,\"ticks\":\"\"}},\"type\":\"scatterpolar\"}],\"scatterpolargl\":[{\"marker\":{\"colorbar\":{\"outlinewidth\":0,\"ticks\":\"\"}},\"type\":\"scatterpolargl\"}],\"scatterternary\":[{\"marker\":{\"colorbar\":{\"outlinewidth\":0,\"ticks\":\"\"}},\"type\":\"scatterternary\"}],\"surface\":[{\"colorbar\":{\"outlinewidth\":0,\"ticks\":\"\"},\"colorscale\":[[0.0,\"#0d0887\"],[0.1111111111111111,\"#46039f\"],[0.2222222222222222,\"#7201a8\"],[0.3333333333333333,\"#9c179e\"],[0.4444444444444444,\"#bd3786\"],[0.5555555555555556,\"#d8576b\"],[0.6666666666666666,\"#ed7953\"],[0.7777777777777778,\"#fb9f3a\"],[0.8888888888888888,\"#fdca26\"],[1.0,\"#f0f921\"]],\"type\":\"surface\"}],\"table\":[{\"cells\":{\"fill\":{\"color\":\"#EBF0F8\"},\"line\":{\"color\":\"white\"}},\"header\":{\"fill\":{\"color\":\"#C8D4E3\"},\"line\":{\"color\":\"white\"}},\"type\":\"table\"}]},\"layout\":{\"annotationdefaults\":{\"arrowcolor\":\"#2a3f5f\",\"arrowhead\":0,\"arrowwidth\":1},\"autotypenumbers\":\"strict\",\"coloraxis\":{\"colorbar\":{\"outlinewidth\":0,\"ticks\":\"\"}},\"colorscale\":{\"diverging\":[[0,\"#8e0152\"],[0.1,\"#c51b7d\"],[0.2,\"#de77ae\"],[0.3,\"#f1b6da\"],[0.4,\"#fde0ef\"],[0.5,\"#f7f7f7\"],[0.6,\"#e6f5d0\"],[0.7,\"#b8e186\"],[0.8,\"#7fbc41\"],[0.9,\"#4d9221\"],[1,\"#276419\"]],\"sequential\":[[0.0,\"#0d0887\"],[0.1111111111111111,\"#46039f\"],[0.2222222222222222,\"#7201a8\"],[0.3333333333333333,\"#9c179e\"],[0.4444444444444444,\"#bd3786\"],[0.5555555555555556,\"#d8576b\"],[0.6666666666666666,\"#ed7953\"],[0.7777777777777778,\"#fb9f3a\"],[0.8888888888888888,\"#fdca26\"],[1.0,\"#f0f921\"]],\"sequentialminus\":[[0.0,\"#0d0887\"],[0.1111111111111111,\"#46039f\"],[0.2222222222222222,\"#7201a8\"],[0.3333333333333333,\"#9c179e\"],[0.4444444444444444,\"#bd3786\"],[0.5555555555555556,\"#d8576b\"],[0.6666666666666666,\"#ed7953\"],[0.7777777777777778,\"#fb9f3a\"],[0.8888888888888888,\"#fdca26\"],[1.0,\"#f0f921\"]]},\"colorway\":[\"#636efa\",\"#EF553B\",\"#00cc96\",\"#ab63fa\",\"#FFA15A\",\"#19d3f3\",\"#FF6692\",\"#B6E880\",\"#FF97FF\",\"#FECB52\"],\"font\":{\"color\":\"#2a3f5f\"},\"geo\":{\"bgcolor\":\"white\",\"lakecolor\":\"white\",\"landcolor\":\"#E5ECF6\",\"showlakes\":true,\"showland\":true,\"subunitcolor\":\"white\"},\"hoverlabel\":{\"align\":\"left\"},\"hovermode\":\"closest\",\"mapbox\":{\"style\":\"light\"},\"paper_bgcolor\":\"white\",\"plot_bgcolor\":\"#E5ECF6\",\"polar\":{\"angularaxis\":{\"gridcolor\":\"white\",\"linecolor\":\"white\",\"ticks\":\"\"},\"bgcolor\":\"#E5ECF6\",\"radialaxis\":{\"gridcolor\":\"white\",\"linecolor\":\"white\",\"ticks\":\"\"}},\"scene\":{\"xaxis\":{\"backgroundcolor\":\"#E5ECF6\",\"gridcolor\":\"white\",\"gridwidth\":2,\"linecolor\":\"white\",\"showbackground\":true,\"ticks\":\"\",\"zerolinecolor\":\"white\"},\"yaxis\":{\"backgroundcolor\":\"#E5ECF6\",\"gridcolor\":\"white\",\"gridwidth\":2,\"linecolor\":\"white\",\"showbackground\":true,\"ticks\":\"\",\"zerolinecolor\":\"white\"},\"zaxis\":{\"backgroundcolor\":\"#E5ECF6\",\"gridcolor\":\"white\",\"gridwidth\":2,\"linecolor\":\"white\",\"showbackground\":true,\"ticks\":\"\",\"zerolinecolor\":\"white\"}},\"shapedefaults\":{\"line\":{\"color\":\"#2a3f5f\"}},\"ternary\":{\"aaxis\":{\"gridcolor\":\"white\",\"linecolor\":\"white\",\"ticks\":\"\"},\"baxis\":{\"gridcolor\":\"white\",\"linecolor\":\"white\",\"ticks\":\"\"},\"bgcolor\":\"#E5ECF6\",\"caxis\":{\"gridcolor\":\"white\",\"linecolor\":\"white\",\"ticks\":\"\"}},\"title\":{\"x\":0.05},\"xaxis\":{\"automargin\":true,\"gridcolor\":\"white\",\"linecolor\":\"white\",\"ticks\":\"\",\"title\":{\"standoff\":15},\"zerolinecolor\":\"white\",\"zerolinewidth\":2},\"yaxis\":{\"automargin\":true,\"gridcolor\":\"white\",\"linecolor\":\"white\",\"ticks\":\"\",\"title\":{\"standoff\":15},\"zerolinecolor\":\"white\",\"zerolinewidth\":2}}},\"xaxis\":{\"anchor\":\"y\",\"domain\":[0.0,1.0],\"title\":{\"text\":\" Foundation year\",\"font\":{\"size\":18}}},\"yaxis\":{\"anchor\":\"x\",\"domain\":[0.0,1.0],\"title\":{\"text\":\" No of startups\",\"font\":{\"size\":18}}},\"legend\":{\"title\":{\"text\":\"category_code\"},\"tracegroupgap\":0},\"title\":{\"text\":\"American startups: Size us Foundation year\",\"font\":{\"size\":18}},\"barmode\":\"relative\",\"height\":600,\"paper_bgcolor\":\"white\",\"plot_bgcolor\":\"rgb(254, 246, 224)\"},                        {\"responsive\": true}                    ).then(function(){\n",
       "                            \n",
       "var gd = document.getElementById('1ea58b2b-1bea-4293-875b-20220b1678d5');\n",
       "var x = new MutationObserver(function (mutations, observer) {{\n",
       "        var display = window.getComputedStyle(gd).display;\n",
       "        if (!display || display === 'none') {{\n",
       "            console.log([gd, 'removed!']);\n",
       "            Plotly.purge(gd);\n",
       "            observer.disconnect();\n",
       "        }}\n",
       "}});\n",
       "\n",
       "// Listen for the removal of the full notebook cells\n",
       "var notebookContainer = gd.closest('#notebook-container');\n",
       "if (notebookContainer) {{\n",
       "    x.observe(notebookContainer, {childList: true});\n",
       "}}\n",
       "\n",
       "// Listen for the clearing of the current output cell\n",
       "var outputEl = gd.closest('.output');\n",
       "if (outputEl) {{\n",
       "    x.observe(outputEl, {childList: true});\n",
       "}}\n",
       "\n",
       "                        })                };                });            </script>        </div>"
      ]
     },
     "metadata": {},
     "output_type": "display_data"
    }
   ],
   "source": [
    "import plotly.express as px\n",
    "\n",
    "fig1 = px.bar(df_category_founded, x=\"founded_at\", y=\"size\", color=\"category_code\", title=\"American startups: Size us Foundation year\", height=600)\n",
    "fig1.update_layout(\n",
    "    title={\"text\": \"American startups: Size us Foundation year\", \"font\": {\"size\": 18}},\n",
    "    xaxis={\"title\": {\"text\": \" Foundation year\", \"font\": {\"size\": 18}}},\n",
    "    yaxis={\"title\": {\"text\": \" No of startups\", \"font\": {\"size\": 18}}},\n",
    "    paper_bgcolor='white',plot_bgcolor='rgb(254, 246, 224)'\n",
    ")\n",
    "fig1.show()"
   ]
  },
  {
   "cell_type": "code",
   "execution_count": 111,
   "id": "1f25d7e0-1c3c-4a5f-920e-750b1a22051f",
   "metadata": {},
   "outputs": [
    {
     "data": {
      "application/vnd.plotly.v1+json": {
       "config": {
        "plotlyServerURL": "https://plot.ly"
       },
       "data": [
        {
         "alignmentgroup": "True",
         "hovertemplate": "category_code=%{x}<br>funding=%{y}<extra></extra>",
         "legendgroup": "",
         "marker": {
          "color": "#636efa",
          "pattern": {
           "shape": ""
          }
         },
         "name": "",
         "offsetgroup": "",
         "orientation": "v",
         "showlegend": false,
         "textposition": "auto",
         "type": "bar",
         "x": [
          "advertising",
          "analytics",
          "automotive",
          "biotech",
          "cleantech",
          "consulting",
          "ecommerce",
          "education",
          "enterprise",
          "fashion",
          "finance",
          "games_video",
          "hardware",
          "health",
          "hospitality",
          "manufacturing",
          "medical",
          "messaging",
          "mobile",
          "music",
          "network_hosting",
          "news",
          "other",
          "photo_video",
          "public_relations",
          "real_estate",
          "search",
          "security",
          "semiconductor",
          "social",
          "software",
          "sports",
          "transportation",
          "travel",
          "web"
         ],
         "xaxis": "x",
         "y": [
          918619012,
          276415182,
          52000000,
          1723699484,
          1300284730,
          58050000,
          329081922,
          43263835,
          1338882096,
          133570000,
          193178704,
          844643530,
          773938873,
          66330000,
          3750000,
          4662000,
          166334616,
          59053000,
          7263750881,
          99725019,
          735033389,
          95380000,
          345309233,
          108286415,
          277066000,
          7347782,
          156300000,
          373428570,
          1105156970,
          44973498,
          2657598865,
          2000000,
          127704370,
          48575000,
          1729035436
         ],
         "yaxis": "y"
        }
       ],
       "layout": {
        "autosize": true,
        "barmode": "relative",
        "legend": {
         "tracegroupgap": 0
        },
        "margin": {
         "t": 60
        },
        "paper_bgcolor": "white",
        "plot_bgcolor": "rgb(254, 246, 224)",
        "template": {
         "data": {
          "bar": [
           {
            "error_x": {
             "color": "#2a3f5f"
            },
            "error_y": {
             "color": "#2a3f5f"
            },
            "marker": {
             "line": {
              "color": "#E5ECF6",
              "width": 0.5
             },
             "pattern": {
              "fillmode": "overlay",
              "size": 10,
              "solidity": 0.2
             }
            },
            "type": "bar"
           }
          ],
          "barpolar": [
           {
            "marker": {
             "line": {
              "color": "#E5ECF6",
              "width": 0.5
             },
             "pattern": {
              "fillmode": "overlay",
              "size": 10,
              "solidity": 0.2
             }
            },
            "type": "barpolar"
           }
          ],
          "carpet": [
           {
            "aaxis": {
             "endlinecolor": "#2a3f5f",
             "gridcolor": "white",
             "linecolor": "white",
             "minorgridcolor": "white",
             "startlinecolor": "#2a3f5f"
            },
            "baxis": {
             "endlinecolor": "#2a3f5f",
             "gridcolor": "white",
             "linecolor": "white",
             "minorgridcolor": "white",
             "startlinecolor": "#2a3f5f"
            },
            "type": "carpet"
           }
          ],
          "choropleth": [
           {
            "colorbar": {
             "outlinewidth": 0,
             "ticks": ""
            },
            "type": "choropleth"
           }
          ],
          "contour": [
           {
            "colorbar": {
             "outlinewidth": 0,
             "ticks": ""
            },
            "colorscale": [
             [
              0,
              "#0d0887"
             ],
             [
              0.1111111111111111,
              "#46039f"
             ],
             [
              0.2222222222222222,
              "#7201a8"
             ],
             [
              0.3333333333333333,
              "#9c179e"
             ],
             [
              0.4444444444444444,
              "#bd3786"
             ],
             [
              0.5555555555555556,
              "#d8576b"
             ],
             [
              0.6666666666666666,
              "#ed7953"
             ],
             [
              0.7777777777777778,
              "#fb9f3a"
             ],
             [
              0.8888888888888888,
              "#fdca26"
             ],
             [
              1,
              "#f0f921"
             ]
            ],
            "type": "contour"
           }
          ],
          "contourcarpet": [
           {
            "colorbar": {
             "outlinewidth": 0,
             "ticks": ""
            },
            "type": "contourcarpet"
           }
          ],
          "heatmap": [
           {
            "colorbar": {
             "outlinewidth": 0,
             "ticks": ""
            },
            "colorscale": [
             [
              0,
              "#0d0887"
             ],
             [
              0.1111111111111111,
              "#46039f"
             ],
             [
              0.2222222222222222,
              "#7201a8"
             ],
             [
              0.3333333333333333,
              "#9c179e"
             ],
             [
              0.4444444444444444,
              "#bd3786"
             ],
             [
              0.5555555555555556,
              "#d8576b"
             ],
             [
              0.6666666666666666,
              "#ed7953"
             ],
             [
              0.7777777777777778,
              "#fb9f3a"
             ],
             [
              0.8888888888888888,
              "#fdca26"
             ],
             [
              1,
              "#f0f921"
             ]
            ],
            "type": "heatmap"
           }
          ],
          "heatmapgl": [
           {
            "colorbar": {
             "outlinewidth": 0,
             "ticks": ""
            },
            "colorscale": [
             [
              0,
              "#0d0887"
             ],
             [
              0.1111111111111111,
              "#46039f"
             ],
             [
              0.2222222222222222,
              "#7201a8"
             ],
             [
              0.3333333333333333,
              "#9c179e"
             ],
             [
              0.4444444444444444,
              "#bd3786"
             ],
             [
              0.5555555555555556,
              "#d8576b"
             ],
             [
              0.6666666666666666,
              "#ed7953"
             ],
             [
              0.7777777777777778,
              "#fb9f3a"
             ],
             [
              0.8888888888888888,
              "#fdca26"
             ],
             [
              1,
              "#f0f921"
             ]
            ],
            "type": "heatmapgl"
           }
          ],
          "histogram": [
           {
            "marker": {
             "pattern": {
              "fillmode": "overlay",
              "size": 10,
              "solidity": 0.2
             }
            },
            "type": "histogram"
           }
          ],
          "histogram2d": [
           {
            "colorbar": {
             "outlinewidth": 0,
             "ticks": ""
            },
            "colorscale": [
             [
              0,
              "#0d0887"
             ],
             [
              0.1111111111111111,
              "#46039f"
             ],
             [
              0.2222222222222222,
              "#7201a8"
             ],
             [
              0.3333333333333333,
              "#9c179e"
             ],
             [
              0.4444444444444444,
              "#bd3786"
             ],
             [
              0.5555555555555556,
              "#d8576b"
             ],
             [
              0.6666666666666666,
              "#ed7953"
             ],
             [
              0.7777777777777778,
              "#fb9f3a"
             ],
             [
              0.8888888888888888,
              "#fdca26"
             ],
             [
              1,
              "#f0f921"
             ]
            ],
            "type": "histogram2d"
           }
          ],
          "histogram2dcontour": [
           {
            "colorbar": {
             "outlinewidth": 0,
             "ticks": ""
            },
            "colorscale": [
             [
              0,
              "#0d0887"
             ],
             [
              0.1111111111111111,
              "#46039f"
             ],
             [
              0.2222222222222222,
              "#7201a8"
             ],
             [
              0.3333333333333333,
              "#9c179e"
             ],
             [
              0.4444444444444444,
              "#bd3786"
             ],
             [
              0.5555555555555556,
              "#d8576b"
             ],
             [
              0.6666666666666666,
              "#ed7953"
             ],
             [
              0.7777777777777778,
              "#fb9f3a"
             ],
             [
              0.8888888888888888,
              "#fdca26"
             ],
             [
              1,
              "#f0f921"
             ]
            ],
            "type": "histogram2dcontour"
           }
          ],
          "mesh3d": [
           {
            "colorbar": {
             "outlinewidth": 0,
             "ticks": ""
            },
            "type": "mesh3d"
           }
          ],
          "parcoords": [
           {
            "line": {
             "colorbar": {
              "outlinewidth": 0,
              "ticks": ""
             }
            },
            "type": "parcoords"
           }
          ],
          "pie": [
           {
            "automargin": true,
            "type": "pie"
           }
          ],
          "scatter": [
           {
            "marker": {
             "colorbar": {
              "outlinewidth": 0,
              "ticks": ""
             }
            },
            "type": "scatter"
           }
          ],
          "scatter3d": [
           {
            "line": {
             "colorbar": {
              "outlinewidth": 0,
              "ticks": ""
             }
            },
            "marker": {
             "colorbar": {
              "outlinewidth": 0,
              "ticks": ""
             }
            },
            "type": "scatter3d"
           }
          ],
          "scattercarpet": [
           {
            "marker": {
             "colorbar": {
              "outlinewidth": 0,
              "ticks": ""
             }
            },
            "type": "scattercarpet"
           }
          ],
          "scattergeo": [
           {
            "marker": {
             "colorbar": {
              "outlinewidth": 0,
              "ticks": ""
             }
            },
            "type": "scattergeo"
           }
          ],
          "scattergl": [
           {
            "marker": {
             "colorbar": {
              "outlinewidth": 0,
              "ticks": ""
             }
            },
            "type": "scattergl"
           }
          ],
          "scattermapbox": [
           {
            "marker": {
             "colorbar": {
              "outlinewidth": 0,
              "ticks": ""
             }
            },
            "type": "scattermapbox"
           }
          ],
          "scatterpolar": [
           {
            "marker": {
             "colorbar": {
              "outlinewidth": 0,
              "ticks": ""
             }
            },
            "type": "scatterpolar"
           }
          ],
          "scatterpolargl": [
           {
            "marker": {
             "colorbar": {
              "outlinewidth": 0,
              "ticks": ""
             }
            },
            "type": "scatterpolargl"
           }
          ],
          "scatterternary": [
           {
            "marker": {
             "colorbar": {
              "outlinewidth": 0,
              "ticks": ""
             }
            },
            "type": "scatterternary"
           }
          ],
          "surface": [
           {
            "colorbar": {
             "outlinewidth": 0,
             "ticks": ""
            },
            "colorscale": [
             [
              0,
              "#0d0887"
             ],
             [
              0.1111111111111111,
              "#46039f"
             ],
             [
              0.2222222222222222,
              "#7201a8"
             ],
             [
              0.3333333333333333,
              "#9c179e"
             ],
             [
              0.4444444444444444,
              "#bd3786"
             ],
             [
              0.5555555555555556,
              "#d8576b"
             ],
             [
              0.6666666666666666,
              "#ed7953"
             ],
             [
              0.7777777777777778,
              "#fb9f3a"
             ],
             [
              0.8888888888888888,
              "#fdca26"
             ],
             [
              1,
              "#f0f921"
             ]
            ],
            "type": "surface"
           }
          ],
          "table": [
           {
            "cells": {
             "fill": {
              "color": "#EBF0F8"
             },
             "line": {
              "color": "white"
             }
            },
            "header": {
             "fill": {
              "color": "#C8D4E3"
             },
             "line": {
              "color": "white"
             }
            },
            "type": "table"
           }
          ]
         },
         "layout": {
          "annotationdefaults": {
           "arrowcolor": "#2a3f5f",
           "arrowhead": 0,
           "arrowwidth": 1
          },
          "autotypenumbers": "strict",
          "coloraxis": {
           "colorbar": {
            "outlinewidth": 0,
            "ticks": ""
           }
          },
          "colorscale": {
           "diverging": [
            [
             0,
             "#8e0152"
            ],
            [
             0.1,
             "#c51b7d"
            ],
            [
             0.2,
             "#de77ae"
            ],
            [
             0.3,
             "#f1b6da"
            ],
            [
             0.4,
             "#fde0ef"
            ],
            [
             0.5,
             "#f7f7f7"
            ],
            [
             0.6,
             "#e6f5d0"
            ],
            [
             0.7,
             "#b8e186"
            ],
            [
             0.8,
             "#7fbc41"
            ],
            [
             0.9,
             "#4d9221"
            ],
            [
             1,
             "#276419"
            ]
           ],
           "sequential": [
            [
             0,
             "#0d0887"
            ],
            [
             0.1111111111111111,
             "#46039f"
            ],
            [
             0.2222222222222222,
             "#7201a8"
            ],
            [
             0.3333333333333333,
             "#9c179e"
            ],
            [
             0.4444444444444444,
             "#bd3786"
            ],
            [
             0.5555555555555556,
             "#d8576b"
            ],
            [
             0.6666666666666666,
             "#ed7953"
            ],
            [
             0.7777777777777778,
             "#fb9f3a"
            ],
            [
             0.8888888888888888,
             "#fdca26"
            ],
            [
             1,
             "#f0f921"
            ]
           ],
           "sequentialminus": [
            [
             0,
             "#0d0887"
            ],
            [
             0.1111111111111111,
             "#46039f"
            ],
            [
             0.2222222222222222,
             "#7201a8"
            ],
            [
             0.3333333333333333,
             "#9c179e"
            ],
            [
             0.4444444444444444,
             "#bd3786"
            ],
            [
             0.5555555555555556,
             "#d8576b"
            ],
            [
             0.6666666666666666,
             "#ed7953"
            ],
            [
             0.7777777777777778,
             "#fb9f3a"
            ],
            [
             0.8888888888888888,
             "#fdca26"
            ],
            [
             1,
             "#f0f921"
            ]
           ]
          },
          "colorway": [
           "#636efa",
           "#EF553B",
           "#00cc96",
           "#ab63fa",
           "#FFA15A",
           "#19d3f3",
           "#FF6692",
           "#B6E880",
           "#FF97FF",
           "#FECB52"
          ],
          "font": {
           "color": "#2a3f5f"
          },
          "geo": {
           "bgcolor": "white",
           "lakecolor": "white",
           "landcolor": "#E5ECF6",
           "showlakes": true,
           "showland": true,
           "subunitcolor": "white"
          },
          "hoverlabel": {
           "align": "left"
          },
          "hovermode": "closest",
          "mapbox": {
           "style": "light"
          },
          "paper_bgcolor": "white",
          "plot_bgcolor": "#E5ECF6",
          "polar": {
           "angularaxis": {
            "gridcolor": "white",
            "linecolor": "white",
            "ticks": ""
           },
           "bgcolor": "#E5ECF6",
           "radialaxis": {
            "gridcolor": "white",
            "linecolor": "white",
            "ticks": ""
           }
          },
          "scene": {
           "xaxis": {
            "backgroundcolor": "#E5ECF6",
            "gridcolor": "white",
            "gridwidth": 2,
            "linecolor": "white",
            "showbackground": true,
            "ticks": "",
            "zerolinecolor": "white"
           },
           "yaxis": {
            "backgroundcolor": "#E5ECF6",
            "gridcolor": "white",
            "gridwidth": 2,
            "linecolor": "white",
            "showbackground": true,
            "ticks": "",
            "zerolinecolor": "white"
           },
           "zaxis": {
            "backgroundcolor": "#E5ECF6",
            "gridcolor": "white",
            "gridwidth": 2,
            "linecolor": "white",
            "showbackground": true,
            "ticks": "",
            "zerolinecolor": "white"
           }
          },
          "shapedefaults": {
           "line": {
            "color": "#2a3f5f"
           }
          },
          "ternary": {
           "aaxis": {
            "gridcolor": "white",
            "linecolor": "white",
            "ticks": ""
           },
           "baxis": {
            "gridcolor": "white",
            "linecolor": "white",
            "ticks": ""
           },
           "bgcolor": "#E5ECF6",
           "caxis": {
            "gridcolor": "white",
            "linecolor": "white",
            "ticks": ""
           }
          },
          "title": {
           "x": 0.05
          },
          "xaxis": {
           "automargin": true,
           "gridcolor": "white",
           "linecolor": "white",
           "ticks": "",
           "title": {
            "standoff": 15
           },
           "zerolinecolor": "white",
           "zerolinewidth": 2
          },
          "yaxis": {
           "automargin": true,
           "gridcolor": "white",
           "linecolor": "white",
           "ticks": "",
           "title": {
            "standoff": 15
           },
           "zerolinecolor": "white",
           "zerolinewidth": 2
          }
         }
        },
        "title": {
         "font": {
          "size": 18
         },
         "text": "American startups: Funding us Industry category"
        },
        "xaxis": {
         "anchor": "y",
         "autorange": true,
         "domain": [
          0,
          1
         ],
         "range": [
          -0.5,
          34.5
         ],
         "title": {
          "font": {
           "size": 18
          },
          "text": " Industry category"
         },
         "type": "category"
        },
        "yaxis": {
         "anchor": "x",
         "autorange": true,
         "domain": [
          0,
          1
         ],
         "range": [
          0,
          7646053558.947369
         ],
         "title": {
          "font": {
           "size": 18
          },
          "text": " Funding in per billion Dollars"
         },
         "type": "linear"
        }
       }
      },
      "image/png": "[encoded data removed]",
      "text/html": [
       "<div>                            <div id=\"d3f5705a-25f9-4f59-9b4d-8b125d3d311a\" class=\"plotly-graph-div\" style=\"height:600px; width:100%;\"></div>            <script type=\"text/javascript\">                require([\"plotly\"], function(Plotly) {                    window.PLOTLYENV=window.PLOTLYENV || {};                                    if (document.getElementById(\"d3f5705a-25f9-4f59-9b4d-8b125d3d311a\")) {                    Plotly.newPlot(                        \"d3f5705a-25f9-4f59-9b4d-8b125d3d311a\",                        [{\"alignmentgroup\":\"True\",\"hovertemplate\":\"category_code=%{x}<br>funding=%{y}<extra></extra>\",\"legendgroup\":\"\",\"marker\":{\"color\":\"#636efa\",\"pattern\":{\"shape\":\"\"}},\"name\":\"\",\"offsetgroup\":\"\",\"orientation\":\"v\",\"showlegend\":false,\"textposition\":\"auto\",\"x\":[\"advertising\",\"analytics\",\"automotive\",\"biotech\",\"cleantech\",\"consulting\",\"ecommerce\",\"education\",\"enterprise\",\"fashion\",\"finance\",\"games_video\",\"hardware\",\"health\",\"hospitality\",\"manufacturing\",\"medical\",\"messaging\",\"mobile\",\"music\",\"network_hosting\",\"news\",\"other\",\"photo_video\",\"public_relations\",\"real_estate\",\"search\",\"security\",\"semiconductor\",\"social\",\"software\",\"sports\",\"transportation\",\"travel\",\"web\"],\"xaxis\":\"x\",\"y\":[918619012,276415182,52000000,1723699484,1300284730,58050000,329081922,43263835,1338882096,133570000,193178704,844643530,773938873,66330000,3750000,4662000,166334616,59053000,7263750881,99725019,735033389,95380000,345309233,108286415,277066000,7347782,156300000,373428570,1105156970,44973498,2657598865,2000000,127704370,48575000,1729035436],\"yaxis\":\"y\",\"type\":\"bar\"}],                        {\"template\":{\"data\":{\"bar\":[{\"error_x\":{\"color\":\"#2a3f5f\"},\"error_y\":{\"color\":\"#2a3f5f\"},\"marker\":{\"line\":{\"color\":\"#E5ECF6\",\"width\":0.5},\"pattern\":{\"fillmode\":\"overlay\",\"size\":10,\"solidity\":0.2}},\"type\":\"bar\"}],\"barpolar\":[{\"marker\":{\"line\":{\"color\":\"#E5ECF6\",\"width\":0.5},\"pattern\":{\"fillmode\":\"overlay\",\"size\":10,\"solidity\":0.2}},\"type\":\"barpolar\"}],\"carpet\":[{\"aaxis\":{\"endlinecolor\":\"#2a3f5f\",\"gridcolor\":\"white\",\"linecolor\":\"white\",\"minorgridcolor\":\"white\",\"startlinecolor\":\"#2a3f5f\"},\"baxis\":{\"endlinecolor\":\"#2a3f5f\",\"gridcolor\":\"white\",\"linecolor\":\"white\",\"minorgridcolor\":\"white\",\"startlinecolor\":\"#2a3f5f\"},\"type\":\"carpet\"}],\"choropleth\":[{\"colorbar\":{\"outlinewidth\":0,\"ticks\":\"\"},\"type\":\"choropleth\"}],\"contour\":[{\"colorbar\":{\"outlinewidth\":0,\"ticks\":\"\"},\"colorscale\":[[0.0,\"#0d0887\"],[0.1111111111111111,\"#46039f\"],[0.2222222222222222,\"#7201a8\"],[0.3333333333333333,\"#9c179e\"],[0.4444444444444444,\"#bd3786\"],[0.5555555555555556,\"#d8576b\"],[0.6666666666666666,\"#ed7953\"],[0.7777777777777778,\"#fb9f3a\"],[0.8888888888888888,\"#fdca26\"],[1.0,\"#f0f921\"]],\"type\":\"contour\"}],\"contourcarpet\":[{\"colorbar\":{\"outlinewidth\":0,\"ticks\":\"\"},\"type\":\"contourcarpet\"}],\"heatmap\":[{\"colorbar\":{\"outlinewidth\":0,\"ticks\":\"\"},\"colorscale\":[[0.0,\"#0d0887\"],[0.1111111111111111,\"#46039f\"],[0.2222222222222222,\"#7201a8\"],[0.3333333333333333,\"#9c179e\"],[0.4444444444444444,\"#bd3786\"],[0.5555555555555556,\"#d8576b\"],[0.6666666666666666,\"#ed7953\"],[0.7777777777777778,\"#fb9f3a\"],[0.8888888888888888,\"#fdca26\"],[1.0,\"#f0f921\"]],\"type\":\"heatmap\"}],\"heatmapgl\":[{\"colorbar\":{\"outlinewidth\":0,\"ticks\":\"\"},\"colorscale\":[[0.0,\"#0d0887\"],[0.1111111111111111,\"#46039f\"],[0.2222222222222222,\"#7201a8\"],[0.3333333333333333,\"#9c179e\"],[0.4444444444444444,\"#bd3786\"],[0.5555555555555556,\"#d8576b\"],[0.6666666666666666,\"#ed7953\"],[0.7777777777777778,\"#fb9f3a\"],[0.8888888888888888,\"#fdca26\"],[1.0,\"#f0f921\"]],\"type\":\"heatmapgl\"}],\"histogram\":[{\"marker\":{\"pattern\":{\"fillmode\":\"overlay\",\"size\":10,\"solidity\":0.2}},\"type\":\"histogram\"}],\"histogram2d\":[{\"colorbar\":{\"outlinewidth\":0,\"ticks\":\"\"},\"colorscale\":[[0.0,\"#0d0887\"],[0.1111111111111111,\"#46039f\"],[0.2222222222222222,\"#7201a8\"],[0.3333333333333333,\"#9c179e\"],[0.4444444444444444,\"#bd3786\"],[0.5555555555555556,\"#d8576b\"],[0.6666666666666666,\"#ed7953\"],[0.7777777777777778,\"#fb9f3a\"],[0.8888888888888888,\"#fdca26\"],[1.0,\"#f0f921\"]],\"type\":\"histogram2d\"}],\"histogram2dcontour\":[{\"colorbar\":{\"outlinewidth\":0,\"ticks\":\"\"},\"colorscale\":[[0.0,\"#0d0887\"],[0.1111111111111111,\"#46039f\"],[0.2222222222222222,\"#7201a8\"],[0.3333333333333333,\"#9c179e\"],[0.4444444444444444,\"#bd3786\"],[0.5555555555555556,\"#d8576b\"],[0.6666666666666666,\"#ed7953\"],[0.7777777777777778,\"#fb9f3a\"],[0.8888888888888888,\"#fdca26\"],[1.0,\"#f0f921\"]],\"type\":\"histogram2dcontour\"}],\"mesh3d\":[{\"colorbar\":{\"outlinewidth\":0,\"ticks\":\"\"},\"type\":\"mesh3d\"}],\"parcoords\":[{\"line\":{\"colorbar\":{\"outlinewidth\":0,\"ticks\":\"\"}},\"type\":\"parcoords\"}],\"pie\":[{\"automargin\":true,\"type\":\"pie\"}],\"scatter\":[{\"marker\":{\"colorbar\":{\"outlinewidth\":0,\"ticks\":\"\"}},\"type\":\"scatter\"}],\"scatter3d\":[{\"line\":{\"colorbar\":{\"outlinewidth\":0,\"ticks\":\"\"}},\"marker\":{\"colorbar\":{\"outlinewidth\":0,\"ticks\":\"\"}},\"type\":\"scatter3d\"}],\"scattercarpet\":[{\"marker\":{\"colorbar\":{\"outlinewidth\":0,\"ticks\":\"\"}},\"type\":\"scattercarpet\"}],\"scattergeo\":[{\"marker\":{\"colorbar\":{\"outlinewidth\":0,\"ticks\":\"\"}},\"type\":\"scattergeo\"}],\"scattergl\":[{\"marker\":{\"colorbar\":{\"outlinewidth\":0,\"ticks\":\"\"}},\"type\":\"scattergl\"}],\"scattermapbox\":[{\"marker\":{\"colorbar\":{\"outlinewidth\":0,\"ticks\":\"\"}},\"type\":\"scattermapbox\"}],\"scatterpolar\":[{\"marker\":{\"colorbar\":{\"outlinewidth\":0,\"ticks\":\"\"}},\"type\":\"scatterpolar\"}],\"scatterpolargl\":[{\"marker\":{\"colorbar\":{\"outlinewidth\":0,\"ticks\":\"\"}},\"type\":\"scatterpolargl\"}],\"scatterternary\":[{\"marker\":{\"colorbar\":{\"outlinewidth\":0,\"ticks\":\"\"}},\"type\":\"scatterternary\"}],\"surface\":[{\"colorbar\":{\"outlinewidth\":0,\"ticks\":\"\"},\"colorscale\":[[0.0,\"#0d0887\"],[0.1111111111111111,\"#46039f\"],[0.2222222222222222,\"#7201a8\"],[0.3333333333333333,\"#9c179e\"],[0.4444444444444444,\"#bd3786\"],[0.5555555555555556,\"#d8576b\"],[0.6666666666666666,\"#ed7953\"],[0.7777777777777778,\"#fb9f3a\"],[0.8888888888888888,\"#fdca26\"],[1.0,\"#f0f921\"]],\"type\":\"surface\"}],\"table\":[{\"cells\":{\"fill\":{\"color\":\"#EBF0F8\"},\"line\":{\"color\":\"white\"}},\"header\":{\"fill\":{\"color\":\"#C8D4E3\"},\"line\":{\"color\":\"white\"}},\"type\":\"table\"}]},\"layout\":{\"annotationdefaults\":{\"arrowcolor\":\"#2a3f5f\",\"arrowhead\":0,\"arrowwidth\":1},\"autotypenumbers\":\"strict\",\"coloraxis\":{\"colorbar\":{\"outlinewidth\":0,\"ticks\":\"\"}},\"colorscale\":{\"diverging\":[[0,\"#8e0152\"],[0.1,\"#c51b7d\"],[0.2,\"#de77ae\"],[0.3,\"#f1b6da\"],[0.4,\"#fde0ef\"],[0.5,\"#f7f7f7\"],[0.6,\"#e6f5d0\"],[0.7,\"#b8e186\"],[0.8,\"#7fbc41\"],[0.9,\"#4d9221\"],[1,\"#276419\"]],\"sequential\":[[0.0,\"#0d0887\"],[0.1111111111111111,\"#46039f\"],[0.2222222222222222,\"#7201a8\"],[0.3333333333333333,\"#9c179e\"],[0.4444444444444444,\"#bd3786\"],[0.5555555555555556,\"#d8576b\"],[0.6666666666666666,\"#ed7953\"],[0.7777777777777778,\"#fb9f3a\"],[0.8888888888888888,\"#fdca26\"],[1.0,\"#f0f921\"]],\"sequentialminus\":[[0.0,\"#0d0887\"],[0.1111111111111111,\"#46039f\"],[0.2222222222222222,\"#7201a8\"],[0.3333333333333333,\"#9c179e\"],[0.4444444444444444,\"#bd3786\"],[0.5555555555555556,\"#d8576b\"],[0.6666666666666666,\"#ed7953\"],[0.7777777777777778,\"#fb9f3a\"],[0.8888888888888888,\"#fdca26\"],[1.0,\"#f0f921\"]]},\"colorway\":[\"#636efa\",\"#EF553B\",\"#00cc96\",\"#ab63fa\",\"#FFA15A\",\"#19d3f3\",\"#FF6692\",\"#B6E880\",\"#FF97FF\",\"#FECB52\"],\"font\":{\"color\":\"#2a3f5f\"},\"geo\":{\"bgcolor\":\"white\",\"lakecolor\":\"white\",\"landcolor\":\"#E5ECF6\",\"showlakes\":true,\"showland\":true,\"subunitcolor\":\"white\"},\"hoverlabel\":{\"align\":\"left\"},\"hovermode\":\"closest\",\"mapbox\":{\"style\":\"light\"},\"paper_bgcolor\":\"white\",\"plot_bgcolor\":\"#E5ECF6\",\"polar\":{\"angularaxis\":{\"gridcolor\":\"white\",\"linecolor\":\"white\",\"ticks\":\"\"},\"bgcolor\":\"#E5ECF6\",\"radialaxis\":{\"gridcolor\":\"white\",\"linecolor\":\"white\",\"ticks\":\"\"}},\"scene\":{\"xaxis\":{\"backgroundcolor\":\"#E5ECF6\",\"gridcolor\":\"white\",\"gridwidth\":2,\"linecolor\":\"white\",\"showbackground\":true,\"ticks\":\"\",\"zerolinecolor\":\"white\"},\"yaxis\":{\"backgroundcolor\":\"#E5ECF6\",\"gridcolor\":\"white\",\"gridwidth\":2,\"linecolor\":\"white\",\"showbackground\":true,\"ticks\":\"\",\"zerolinecolor\":\"white\"},\"zaxis\":{\"backgroundcolor\":\"#E5ECF6\",\"gridcolor\":\"white\",\"gridwidth\":2,\"linecolor\":\"white\",\"showbackground\":true,\"ticks\":\"\",\"zerolinecolor\":\"white\"}},\"shapedefaults\":{\"line\":{\"color\":\"#2a3f5f\"}},\"ternary\":{\"aaxis\":{\"gridcolor\":\"white\",\"linecolor\":\"white\",\"ticks\":\"\"},\"baxis\":{\"gridcolor\":\"white\",\"linecolor\":\"white\",\"ticks\":\"\"},\"bgcolor\":\"#E5ECF6\",\"caxis\":{\"gridcolor\":\"white\",\"linecolor\":\"white\",\"ticks\":\"\"}},\"title\":{\"x\":0.05},\"xaxis\":{\"automargin\":true,\"gridcolor\":\"white\",\"linecolor\":\"white\",\"ticks\":\"\",\"title\":{\"standoff\":15},\"zerolinecolor\":\"white\",\"zerolinewidth\":2},\"yaxis\":{\"automargin\":true,\"gridcolor\":\"white\",\"linecolor\":\"white\",\"ticks\":\"\",\"title\":{\"standoff\":15},\"zerolinecolor\":\"white\",\"zerolinewidth\":2}}},\"xaxis\":{\"anchor\":\"y\",\"domain\":[0.0,1.0],\"title\":{\"text\":\" Industry category\",\"font\":{\"size\":18}}},\"yaxis\":{\"anchor\":\"x\",\"domain\":[0.0,1.0],\"title\":{\"text\":\" Funding in per billion Dollars\",\"font\":{\"size\":18}}},\"legend\":{\"tracegroupgap\":0},\"margin\":{\"t\":60},\"barmode\":\"relative\",\"height\":600,\"title\":{\"font\":{\"size\":18},\"text\":\"American startups: Funding us Industry category\"},\"paper_bgcolor\":\"white\",\"plot_bgcolor\":\"rgb(254, 246, 224)\"},                        {\"responsive\": true}                    ).then(function(){\n",
       "                            \n",
       "var gd = document.getElementById('d3f5705a-25f9-4f59-9b4d-8b125d3d311a');\n",
       "var x = new MutationObserver(function (mutations, observer) {{\n",
       "        var display = window.getComputedStyle(gd).display;\n",
       "        if (!display || display === 'none') {{\n",
       "            console.log([gd, 'removed!']);\n",
       "            Plotly.purge(gd);\n",
       "            observer.disconnect();\n",
       "        }}\n",
       "}});\n",
       "\n",
       "// Listen for the removal of the full notebook cells\n",
       "var notebookContainer = gd.closest('#notebook-container');\n",
       "if (notebookContainer) {{\n",
       "    x.observe(notebookContainer, {childList: true});\n",
       "}}\n",
       "\n",
       "// Listen for the clearing of the current output cell\n",
       "var outputEl = gd.closest('.output');\n",
       "if (outputEl) {{\n",
       "    x.observe(outputEl, {childList: true});\n",
       "}}\n",
       "\n",
       "                        })                };                });            </script>        </div>"
      ]
     },
     "metadata": {},
     "output_type": "display_data"
    }
   ],
   "source": [
    "import plotly.express as px\n",
    "#df_category_funding[\"funding\"] = df_category_funding[\"funding\"]\n",
    "fig2 = px.bar(df_category_funding, x=\"category_code\", y=\"funding\", height=600)\n",
    "fig2.update_layout(\n",
    "    title={\"text\": \"American startups: Funding us Industry category\", \"font\": {\"size\": 18}},\n",
    "    xaxis={\"title\": {\"text\": \" Industry category\", \"font\": {\"size\": 18}}},\n",
    "    yaxis={\"title\": {\"text\": \" Funding in per billion Dollars\", \"font\": {\"size\": 18}}},\n",
    "    paper_bgcolor='white',plot_bgcolor='rgb(254, 246, 224)'\n",
    ")\n",
    "fig2.show()"
   ]
  },
  {
   "cell_type": "code",
   "execution_count": 133,
   "id": "69a10798-121b-495e-bb28-b5c8ae23727e",
   "metadata": {},
   "outputs": [
    {
     "data": {
      "application/vnd.plotly.v1+json": {
       "config": {
        "plotlyServerURL": "https://plot.ly"
       },
       "data": [
        {
         "alignmentgroup": "True",
         "hovertemplate": "name=AkaRx<br>category_code=%{x}<br>funding=%{y}<extra></extra>",
         "legendgroup": "AkaRx",
         "marker": {
          "color": "#636efa",
          "pattern": {
           "shape": ""
          }
         },
         "name": "AkaRx",
         "offsetgroup": "AkaRx",
         "orientation": "v",
         "showlegend": true,
         "textposition": "auto",
         "type": "bar",
         "x": [
          "biotech"
         ],
         "xaxis": "x",
         "y": [
          26100000
         ],
         "yaxis": "y"
        },
        {
         "alignmentgroup": "True",
         "hovertemplate": "name=Alnara Pharmaceuticals<br>category_code=%{x}<br>funding=%{y}<extra></extra>",
         "legendgroup": "Alnara Pharmaceuticals",
         "marker": {
          "color": "#EF553B",
          "pattern": {
           "shape": ""
          }
         },
         "name": "Alnara Pharmaceuticals",
         "offsetgroup": "Alnara Pharmaceuticals",
         "orientation": "v",
         "showlegend": true,
         "textposition": "auto",
         "type": "bar",
         "x": [
          "biotech"
         ],
         "xaxis": "x",
         "y": [
          55000000
         ],
         "yaxis": "y"
        },
        {
         "alignmentgroup": "True",
         "hovertemplate": "name=Aragon Pharmaceuticals<br>category_code=%{x}<br>funding=%{y}<extra></extra>",
         "legendgroup": "Aragon Pharmaceuticals",
         "marker": {
          "color": "#00cc96",
          "pattern": {
           "shape": ""
          }
         },
         "name": "Aragon Pharmaceuticals",
         "offsetgroup": "Aragon Pharmaceuticals",
         "orientation": "v",
         "showlegend": true,
         "textposition": "auto",
         "type": "bar",
         "x": [
          "biotech"
         ],
         "xaxis": "x",
         "y": [
          122000000
         ],
         "yaxis": "y"
        },
        {
         "alignmentgroup": "True",
         "hovertemplate": "name=Ardian<br>category_code=%{x}<br>funding=%{y}<extra></extra>",
         "legendgroup": "Ardian",
         "marker": {
          "color": "#ab63fa",
          "pattern": {
           "shape": ""
          }
         },
         "name": "Ardian",
         "offsetgroup": "Ardian",
         "orientation": "v",
         "showlegend": true,
         "textposition": "auto",
         "type": "bar",
         "x": [
          "biotech"
         ],
         "xaxis": "x",
         "y": [
          64080000
         ],
         "yaxis": "y"
        },
        {
         "alignmentgroup": "True",
         "hovertemplate": "name=Artisan Pharma<br>category_code=%{x}<br>funding=%{y}<extra></extra>",
         "legendgroup": "Artisan Pharma",
         "marker": {
          "color": "#FFA15A",
          "pattern": {
           "shape": ""
          }
         },
         "name": "Artisan Pharma",
         "offsetgroup": "Artisan Pharma",
         "orientation": "v",
         "showlegend": true,
         "textposition": "auto",
         "type": "bar",
         "x": [
          "biotech"
         ],
         "xaxis": "x",
         "y": [
          85381111
         ],
         "yaxis": "y"
        },
        {
         "alignmentgroup": "True",
         "hovertemplate": "name=Avid Radiopharmaceuticals<br>category_code=%{x}<br>funding=%{y}<extra></extra>",
         "legendgroup": "Avid Radiopharmaceuticals",
         "marker": {
          "color": "#19d3f3",
          "pattern": {
           "shape": ""
          }
         },
         "name": "Avid Radiopharmaceuticals",
         "offsetgroup": "Avid Radiopharmaceuticals",
         "orientation": "v",
         "showlegend": true,
         "textposition": "auto",
         "type": "bar",
         "x": [
          "biotech"
         ],
         "xaxis": "x",
         "y": [
          69900000
         ],
         "yaxis": "y"
        },
        {
         "alignmentgroup": "True",
         "hovertemplate": "name=BioSeek<br>category_code=%{x}<br>funding=%{y}<extra></extra>",
         "legendgroup": "BioSeek",
         "marker": {
          "color": "#FF6692",
          "pattern": {
           "shape": ""
          }
         },
         "name": "BioSeek",
         "offsetgroup": "BioSeek",
         "orientation": "v",
         "showlegend": true,
         "textposition": "auto",
         "type": "bar",
         "x": [
          "biotech"
         ],
         "xaxis": "x",
         "y": [
          10000000
         ],
         "yaxis": "y"
        },
        {
         "alignmentgroup": "True",
         "hovertemplate": "name=Bioenvision<br>category_code=%{x}<br>funding=%{y}<extra></extra>",
         "legendgroup": "Bioenvision",
         "marker": {
          "color": "#B6E880",
          "pattern": {
           "shape": ""
          }
         },
         "name": "Bioenvision",
         "offsetgroup": "Bioenvision",
         "orientation": "v",
         "showlegend": true,
         "textposition": "auto",
         "type": "bar",
         "x": [
          "biotech"
         ],
         "xaxis": "x",
         "y": [
          7410000
         ],
         "yaxis": "y"
        },
        {
         "alignmentgroup": "True",
         "hovertemplate": "name=Biofisica<br>category_code=%{x}<br>funding=%{y}<extra></extra>",
         "legendgroup": "Biofisica",
         "marker": {
          "color": "#FF97FF",
          "pattern": {
           "shape": ""
          }
         },
         "name": "Biofisica",
         "offsetgroup": "Biofisica",
         "orientation": "v",
         "showlegend": true,
         "textposition": "auto",
         "type": "bar",
         "x": [
          "biotech"
         ],
         "xaxis": "x",
         "y": [
          7300000
         ],
         "yaxis": "y"
        },
        {
         "alignmentgroup": "True",
         "hovertemplate": "name=Biolex Therapeutics<br>category_code=%{x}<br>funding=%{y}<extra></extra>",
         "legendgroup": "Biolex Therapeutics",
         "marker": {
          "color": "#FECB52",
          "pattern": {
           "shape": ""
          }
         },
         "name": "Biolex Therapeutics",
         "offsetgroup": "Biolex Therapeutics",
         "orientation": "v",
         "showlegend": true,
         "textposition": "auto",
         "type": "bar",
         "x": [
          "biotech"
         ],
         "xaxis": "x",
         "y": [
          162264126
         ],
         "yaxis": "y"
        },
        {
         "alignmentgroup": "True",
         "hovertemplate": "name=Calibra Medical<br>category_code=%{x}<br>funding=%{y}<extra></extra>",
         "legendgroup": "Calibra Medical",
         "marker": {
          "color": "#636efa",
          "pattern": {
           "shape": ""
          }
         },
         "name": "Calibra Medical",
         "offsetgroup": "Calibra Medical",
         "orientation": "v",
         "showlegend": true,
         "textposition": "auto",
         "type": "bar",
         "x": [
          "biotech"
         ],
         "xaxis": "x",
         "y": [
          19800000
         ],
         "yaxis": "y"
        },
        {
         "alignmentgroup": "True",
         "hovertemplate": "name=Elevation Pharmaceuticals<br>category_code=%{x}<br>funding=%{y}<extra></extra>",
         "legendgroup": "Elevation Pharmaceuticals",
         "marker": {
          "color": "#EF553B",
          "pattern": {
           "shape": ""
          }
         },
         "name": "Elevation Pharmaceuticals",
         "offsetgroup": "Elevation Pharmaceuticals",
         "orientation": "v",
         "showlegend": true,
         "textposition": "auto",
         "type": "bar",
         "x": [
          "biotech"
         ],
         "xaxis": "x",
         "y": [
          89400001
         ],
         "yaxis": "y"
        },
        {
         "alignmentgroup": "True",
         "hovertemplate": "name=FlowCardia<br>category_code=%{x}<br>funding=%{y}<extra></extra>",
         "legendgroup": "FlowCardia",
         "marker": {
          "color": "#00cc96",
          "pattern": {
           "shape": ""
          }
         },
         "name": "FlowCardia",
         "offsetgroup": "FlowCardia",
         "orientation": "v",
         "showlegend": true,
         "textposition": "auto",
         "type": "bar",
         "x": [
          "biotech"
         ],
         "xaxis": "x",
         "y": [
          30000000
         ],
         "yaxis": "y"
        },
        {
         "alignmentgroup": "True",
         "hovertemplate": "name=Foldrx Pharmaceuticals<br>category_code=%{x}<br>funding=%{y}<extra></extra>",
         "legendgroup": "Foldrx Pharmaceuticals",
         "marker": {
          "color": "#ab63fa",
          "pattern": {
           "shape": ""
          }
         },
         "name": "Foldrx Pharmaceuticals",
         "offsetgroup": "Foldrx Pharmaceuticals",
         "orientation": "v",
         "showlegend": true,
         "textposition": "auto",
         "type": "bar",
         "x": [
          "biotech"
         ],
         "xaxis": "x",
         "y": [
          29000000
         ],
         "yaxis": "y"
        },
        {
         "alignmentgroup": "True",
         "hovertemplate": "name=Heartscape<br>category_code=%{x}<br>funding=%{y}<extra></extra>",
         "legendgroup": "Heartscape",
         "marker": {
          "color": "#FFA15A",
          "pattern": {
           "shape": ""
          }
         },
         "name": "Heartscape",
         "offsetgroup": "Heartscape",
         "orientation": "v",
         "showlegend": true,
         "textposition": "auto",
         "type": "bar",
         "x": [
          "biotech"
         ],
         "xaxis": "x",
         "y": [
          16980999
         ],
         "yaxis": "y"
        },
        {
         "alignmentgroup": "True",
         "hovertemplate": "name=Lazarus Therapeutics<br>category_code=%{x}<br>funding=%{y}<extra></extra>",
         "legendgroup": "Lazarus Therapeutics",
         "marker": {
          "color": "#19d3f3",
          "pattern": {
           "shape": ""
          }
         },
         "name": "Lazarus Therapeutics",
         "offsetgroup": "Lazarus Therapeutics",
         "orientation": "v",
         "showlegend": true,
         "textposition": "auto",
         "type": "bar",
         "x": [
          "biotech"
         ],
         "xaxis": "x",
         "y": [
          100000
         ],
         "yaxis": "y"
        },
        {
         "alignmentgroup": "True",
         "hovertemplate": "name=Limerick BioPharma<br>category_code=%{x}<br>funding=%{y}<extra></extra>",
         "legendgroup": "Limerick BioPharma",
         "marker": {
          "color": "#FF6692",
          "pattern": {
           "shape": ""
          }
         },
         "name": "Limerick BioPharma",
         "offsetgroup": "Limerick BioPharma",
         "orientation": "v",
         "showlegend": true,
         "textposition": "auto",
         "type": "bar",
         "x": [
          "biotech"
         ],
         "xaxis": "x",
         "y": [
          49008830
         ],
         "yaxis": "y"
        },
        {
         "alignmentgroup": "True",
         "hovertemplate": "name=MAP Pharmaceuticals<br>category_code=%{x}<br>funding=%{y}<extra></extra>",
         "legendgroup": "MAP Pharmaceuticals",
         "marker": {
          "color": "#B6E880",
          "pattern": {
           "shape": ""
          }
         },
         "name": "MAP Pharmaceuticals",
         "offsetgroup": "MAP Pharmaceuticals",
         "orientation": "v",
         "showlegend": true,
         "textposition": "auto",
         "type": "bar",
         "x": [
          "biotech"
         ],
         "xaxis": "x",
         "y": [
          50000000
         ],
         "yaxis": "y"
        },
        {
         "alignmentgroup": "True",
         "hovertemplate": "name=NeoGuide Systems<br>category_code=%{x}<br>funding=%{y}<extra></extra>",
         "legendgroup": "NeoGuide Systems",
         "marker": {
          "color": "#FF97FF",
          "pattern": {
           "shape": ""
          }
         },
         "name": "NeoGuide Systems",
         "offsetgroup": "NeoGuide Systems",
         "orientation": "v",
         "showlegend": true,
         "textposition": "auto",
         "type": "bar",
         "x": [
          "biotech"
         ],
         "xaxis": "x",
         "y": [
          25000000
         ],
         "yaxis": "y"
        },
        {
         "alignmentgroup": "True",
         "hovertemplate": "name=NeuroTherapeutics Pharma<br>category_code=%{x}<br>funding=%{y}<extra></extra>",
         "legendgroup": "NeuroTherapeutics Pharma",
         "marker": {
          "color": "#FECB52",
          "pattern": {
           "shape": ""
          }
         },
         "name": "NeuroTherapeutics Pharma",
         "offsetgroup": "NeuroTherapeutics Pharma",
         "orientation": "v",
         "showlegend": true,
         "textposition": "auto",
         "type": "bar",
         "x": [
          "biotech"
         ],
         "xaxis": "x",
         "y": [
          55000000
         ],
         "yaxis": "y"
        },
        {
         "alignmentgroup": "True",
         "hovertemplate": "name=OptiMedica<br>category_code=%{x}<br>funding=%{y}<extra></extra>",
         "legendgroup": "OptiMedica",
         "marker": {
          "color": "#636efa",
          "pattern": {
           "shape": ""
          }
         },
         "name": "OptiMedica",
         "offsetgroup": "OptiMedica",
         "orientation": "v",
         "showlegend": true,
         "textposition": "auto",
         "type": "bar",
         "x": [
          "biotech"
         ],
         "xaxis": "x",
         "y": [
          51000000
         ],
         "yaxis": "y"
        },
        {
         "alignmentgroup": "True",
         "hovertemplate": "name=Origen Therapeutics<br>category_code=%{x}<br>funding=%{y}<extra></extra>",
         "legendgroup": "Origen Therapeutics",
         "marker": {
          "color": "#EF553B",
          "pattern": {
           "shape": ""
          }
         },
         "name": "Origen Therapeutics",
         "offsetgroup": "Origen Therapeutics",
         "orientation": "v",
         "showlegend": true,
         "textposition": "auto",
         "type": "bar",
         "x": [
          "biotech"
         ],
         "xaxis": "x",
         "y": [
          2000000
         ],
         "yaxis": "y"
        },
        {
         "alignmentgroup": "True",
         "hovertemplate": "name=Paracor Medical<br>category_code=%{x}<br>funding=%{y}<extra></extra>",
         "legendgroup": "Paracor Medical",
         "marker": {
          "color": "#00cc96",
          "pattern": {
           "shape": ""
          }
         },
         "name": "Paracor Medical",
         "offsetgroup": "Paracor Medical",
         "orientation": "v",
         "showlegend": true,
         "textposition": "auto",
         "type": "bar",
         "x": [
          "biotech"
         ],
         "xaxis": "x",
         "y": [
          44000000
         ],
         "yaxis": "y"
        },
        {
         "alignmentgroup": "True",
         "hovertemplate": "name=Pearl Therapeutics<br>category_code=%{x}<br>funding=%{y}<extra></extra>",
         "legendgroup": "Pearl Therapeutics",
         "marker": {
          "color": "#ab63fa",
          "pattern": {
           "shape": ""
          }
         },
         "name": "Pearl Therapeutics",
         "offsetgroup": "Pearl Therapeutics",
         "orientation": "v",
         "showlegend": true,
         "textposition": "auto",
         "type": "bar",
         "x": [
          "biotech"
         ],
         "xaxis": "x",
         "y": [
          232000100
         ],
         "yaxis": "y"
        },
        {
         "alignmentgroup": "True",
         "hovertemplate": "name=QuantaLife<br>category_code=%{x}<br>funding=%{y}<extra></extra>",
         "legendgroup": "QuantaLife",
         "marker": {
          "color": "#FFA15A",
          "pattern": {
           "shape": ""
          }
         },
         "name": "QuantaLife",
         "offsetgroup": "QuantaLife",
         "orientation": "v",
         "showlegend": true,
         "textposition": "auto",
         "type": "bar",
         "x": [
          "biotech"
         ],
         "xaxis": "x",
         "y": [
          20757182
         ],
         "yaxis": "y"
        },
        {
         "alignmentgroup": "True",
         "hovertemplate": "name=Reliant Technologies<br>category_code=%{x}<br>funding=%{y}<extra></extra>",
         "legendgroup": "Reliant Technologies",
         "marker": {
          "color": "#19d3f3",
          "pattern": {
           "shape": ""
          }
         },
         "name": "Reliant Technologies",
         "offsetgroup": "Reliant Technologies",
         "orientation": "v",
         "showlegend": true,
         "textposition": "auto",
         "type": "bar",
         "x": [
          "biotech"
         ],
         "xaxis": "x",
         "y": [
          15000000
         ],
         "yaxis": "y"
        },
        {
         "alignmentgroup": "True",
         "hovertemplate": "name=Roxro Pharma<br>category_code=%{x}<br>funding=%{y}<extra></extra>",
         "legendgroup": "Roxro Pharma",
         "marker": {
          "color": "#FF6692",
          "pattern": {
           "shape": ""
          }
         },
         "name": "Roxro Pharma",
         "offsetgroup": "Roxro Pharma",
         "orientation": "v",
         "showlegend": true,
         "textposition": "auto",
         "type": "bar",
         "x": [
          "biotech"
         ],
         "xaxis": "x",
         "y": [
          42700000
         ],
         "yaxis": "y"
        },
        {
         "alignmentgroup": "True",
         "hovertemplate": "name=SARcode Bioscience<br>category_code=%{x}<br>funding=%{y}<extra></extra>",
         "legendgroup": "SARcode Bioscience",
         "marker": {
          "color": "#B6E880",
          "pattern": {
           "shape": ""
          }
         },
         "name": "SARcode Bioscience",
         "offsetgroup": "SARcode Bioscience",
         "orientation": "v",
         "showlegend": true,
         "textposition": "auto",
         "type": "bar",
         "x": [
          "biotech"
         ],
         "xaxis": "x",
         "y": [
          73000000
         ],
         "yaxis": "y"
        },
        {
         "alignmentgroup": "True",
         "hovertemplate": "name=Sadra Medical<br>category_code=%{x}<br>funding=%{y}<extra></extra>",
         "legendgroup": "Sadra Medical",
         "marker": {
          "color": "#FF97FF",
          "pattern": {
           "shape": ""
          }
         },
         "name": "Sadra Medical",
         "offsetgroup": "Sadra Medical",
         "orientation": "v",
         "showlegend": true,
         "textposition": "auto",
         "type": "bar",
         "x": [
          "biotech"
         ],
         "xaxis": "x",
         "y": [
          58000000
         ],
         "yaxis": "y"
        },
        {
         "alignmentgroup": "True",
         "hovertemplate": "name=Taligen Therapeutics<br>category_code=%{x}<br>funding=%{y}<extra></extra>",
         "legendgroup": "Taligen Therapeutics",
         "marker": {
          "color": "#FECB52",
          "pattern": {
           "shape": ""
          }
         },
         "name": "Taligen Therapeutics",
         "offsetgroup": "Taligen Therapeutics",
         "orientation": "v",
         "showlegend": true,
         "textposition": "auto",
         "type": "bar",
         "x": [
          "biotech"
         ],
         "xaxis": "x",
         "y": [
          78750000
         ],
         "yaxis": "y"
        },
        {
         "alignmentgroup": "True",
         "hovertemplate": "name=Tercica<br>category_code=%{x}<br>funding=%{y}<extra></extra>",
         "legendgroup": "Tercica",
         "marker": {
          "color": "#636efa",
          "pattern": {
           "shape": ""
          }
         },
         "name": "Tercica",
         "offsetgroup": "Tercica",
         "orientation": "v",
         "showlegend": true,
         "textposition": "auto",
         "type": "bar",
         "x": [
          "biotech"
         ],
         "xaxis": "x",
         "y": [
          83000000
         ],
         "yaxis": "y"
        },
        {
         "alignmentgroup": "True",
         "hovertemplate": "name=Trinity Biosystems<br>category_code=%{x}<br>funding=%{y}<extra></extra>",
         "legendgroup": "Trinity Biosystems",
         "marker": {
          "color": "#EF553B",
          "pattern": {
           "shape": ""
          }
         },
         "name": "Trinity Biosystems",
         "offsetgroup": "Trinity Biosystems",
         "orientation": "v",
         "showlegend": true,
         "textposition": "auto",
         "type": "bar",
         "x": [
          "biotech"
         ],
         "xaxis": "x",
         "y": [
          28500000
         ],
         "yaxis": "y"
        },
        {
         "alignmentgroup": "True",
         "hovertemplate": "name=Viacor<br>category_code=%{x}<br>funding=%{y}<extra></extra>",
         "legendgroup": "Viacor",
         "marker": {
          "color": "#00cc96",
          "pattern": {
           "shape": ""
          }
         },
         "name": "Viacor",
         "offsetgroup": "Viacor",
         "orientation": "v",
         "showlegend": true,
         "textposition": "auto",
         "type": "bar",
         "x": [
          "biotech"
         ],
         "xaxis": "x",
         "y": [
          19009671
         ],
         "yaxis": "y"
        },
        {
         "alignmentgroup": "True",
         "hovertemplate": "name=Zymetis<br>category_code=%{x}<br>funding=%{y}<extra></extra>",
         "legendgroup": "Zymetis",
         "marker": {
          "color": "#ab63fa",
          "pattern": {
           "shape": ""
          }
         },
         "name": "Zymetis",
         "offsetgroup": "Zymetis",
         "orientation": "v",
         "showlegend": true,
         "textposition": "auto",
         "type": "bar",
         "x": [
          "biotech"
         ],
         "xaxis": "x",
         "y": [
          2257464
         ],
         "yaxis": "y"
        },
        {
         "alignmentgroup": "True",
         "hovertemplate": "name=AccelGolf<br>category_code=%{x}<br>funding=%{y}<extra></extra>",
         "legendgroup": "AccelGolf",
         "marker": {
          "color": "#FFA15A",
          "pattern": {
           "shape": ""
          }
         },
         "name": "AccelGolf",
         "offsetgroup": "AccelGolf",
         "orientation": "v",
         "showlegend": true,
         "textposition": "auto",
         "type": "bar",
         "x": [
          "mobile"
         ],
         "xaxis": "x",
         "y": [
          457282
         ],
         "yaxis": "y"
        },
        {
         "alignmentgroup": "True",
         "hovertemplate": "name=Action Engine<br>category_code=%{x}<br>funding=%{y}<extra></extra>",
         "legendgroup": "Action Engine",
         "marker": {
          "color": "#19d3f3",
          "pattern": {
           "shape": ""
          }
         },
         "name": "Action Engine",
         "offsetgroup": "Action Engine",
         "orientation": "v",
         "showlegend": true,
         "textposition": "auto",
         "type": "bar",
         "x": [
          "mobile"
         ],
         "xaxis": "x",
         "y": [
          58200000
         ],
         "yaxis": "y"
        },
        {
         "alignmentgroup": "True",
         "hovertemplate": "name=AisleBuyer<br>category_code=%{x}<br>funding=%{y}<extra></extra>",
         "legendgroup": "AisleBuyer",
         "marker": {
          "color": "#FF6692",
          "pattern": {
           "shape": ""
          }
         },
         "name": "AisleBuyer",
         "offsetgroup": "AisleBuyer",
         "orientation": "v",
         "showlegend": true,
         "textposition": "auto",
         "type": "bar",
         "x": [
          "mobile"
         ],
         "xaxis": "x",
         "y": [
          11500000
         ],
         "yaxis": "y"
        },
        {
         "alignmentgroup": "True",
         "hovertemplate": "name=Atrua Technologies<br>category_code=%{x}<br>funding=%{y}<extra></extra>",
         "legendgroup": "Atrua Technologies",
         "marker": {
          "color": "#B6E880",
          "pattern": {
           "shape": ""
          }
         },
         "name": "Atrua Technologies",
         "offsetgroup": "Atrua Technologies",
         "orientation": "v",
         "showlegend": true,
         "textposition": "auto",
         "type": "bar",
         "x": [
          "mobile"
         ],
         "xaxis": "x",
         "y": [
          13000000
         ],
         "yaxis": "y"
        },
        {
         "alignmentgroup": "True",
         "hovertemplate": "name=Avaak<br>category_code=%{x}<br>funding=%{y}<extra></extra>",
         "legendgroup": "Avaak",
         "marker": {
          "color": "#FF97FF",
          "pattern": {
           "shape": ""
          }
         },
         "name": "Avaak",
         "offsetgroup": "Avaak",
         "orientation": "v",
         "showlegend": true,
         "textposition": "auto",
         "type": "bar",
         "x": [
          "mobile"
         ],
         "xaxis": "x",
         "y": [
          17000000
         ],
         "yaxis": "y"
        },
        {
         "alignmentgroup": "True",
         "hovertemplate": "name=Azingo<br>category_code=%{x}<br>funding=%{y}<extra></extra>",
         "legendgroup": "Azingo",
         "marker": {
          "color": "#FECB52",
          "pattern": {
           "shape": ""
          }
         },
         "name": "Azingo",
         "offsetgroup": "Azingo",
         "orientation": "v",
         "showlegend": true,
         "textposition": "auto",
         "type": "bar",
         "x": [
          "mobile"
         ],
         "xaxis": "x",
         "y": [
          80000000
         ],
         "yaxis": "y"
        },
        {
         "alignmentgroup": "True",
         "hovertemplate": "name=Casabi<br>category_code=%{x}<br>funding=%{y}<extra></extra>",
         "legendgroup": "Casabi",
         "marker": {
          "color": "#636efa",
          "pattern": {
           "shape": ""
          }
         },
         "name": "Casabi",
         "offsetgroup": "Casabi",
         "orientation": "v",
         "showlegend": true,
         "textposition": "auto",
         "type": "bar",
         "x": [
          "mobile"
         ],
         "xaxis": "x",
         "y": [
          12800000
         ],
         "yaxis": "y"
        },
        {
         "alignmentgroup": "True",
         "hovertemplate": "name=Chomp<br>category_code=%{x}<br>funding=%{y}<extra></extra>",
         "legendgroup": "Chomp",
         "marker": {
          "color": "#EF553B",
          "pattern": {
           "shape": ""
          }
         },
         "name": "Chomp",
         "offsetgroup": "Chomp",
         "orientation": "v",
         "showlegend": true,
         "textposition": "auto",
         "type": "bar",
         "x": [
          "mobile"
         ],
         "xaxis": "x",
         "y": [
          2565000
         ],
         "yaxis": "y"
        },
        {
         "alignmentgroup": "True",
         "hovertemplate": "name=Clearwire<br>category_code=%{x}<br>funding=%{y}<extra></extra>",
         "legendgroup": "Clearwire",
         "marker": {
          "color": "#00cc96",
          "pattern": {
           "shape": ""
          }
         },
         "name": "Clearwire",
         "offsetgroup": "Clearwire",
         "orientation": "v",
         "showlegend": true,
         "textposition": "auto",
         "type": "bar",
         "x": [
          "mobile"
         ],
         "xaxis": "x",
         "y": [
          5700000000
         ],
         "yaxis": "y"
        },
        {
         "alignmentgroup": "True",
         "hovertemplate": "name=Crashlytics<br>category_code=%{x}<br>funding=%{y}<extra></extra>",
         "legendgroup": "Crashlytics",
         "marker": {
          "color": "#ab63fa",
          "pattern": {
           "shape": ""
          }
         },
         "name": "Crashlytics",
         "offsetgroup": "Crashlytics",
         "orientation": "v",
         "showlegend": true,
         "textposition": "auto",
         "type": "bar",
         "x": [
          "mobile"
         ],
         "xaxis": "x",
         "y": [
          6000000
         ],
         "yaxis": "y"
        },
        {
         "alignmentgroup": "True",
         "hovertemplate": "name=CrowdCompass<br>category_code=%{x}<br>funding=%{y}<extra></extra>",
         "legendgroup": "CrowdCompass",
         "marker": {
          "color": "#FFA15A",
          "pattern": {
           "shape": ""
          }
         },
         "name": "CrowdCompass",
         "offsetgroup": "CrowdCompass",
         "orientation": "v",
         "showlegend": true,
         "textposition": "auto",
         "type": "bar",
         "x": [
          "mobile"
         ],
         "xaxis": "x",
         "y": [
          1300000
         ],
         "yaxis": "y"
        },
        {
         "alignmentgroup": "True",
         "hovertemplate": "name=Dashwire<br>category_code=%{x}<br>funding=%{y}<extra></extra>",
         "legendgroup": "Dashwire",
         "marker": {
          "color": "#19d3f3",
          "pattern": {
           "shape": ""
          }
         },
         "name": "Dashwire",
         "offsetgroup": "Dashwire",
         "orientation": "v",
         "showlegend": true,
         "textposition": "auto",
         "type": "bar",
         "x": [
          "mobile"
         ],
         "xaxis": "x",
         "y": [
          5056559
         ],
         "yaxis": "y"
        },
        {
         "alignmentgroup": "True",
         "hovertemplate": "name=Defywire<br>category_code=%{x}<br>funding=%{y}<extra></extra>",
         "legendgroup": "Defywire",
         "marker": {
          "color": "#FF6692",
          "pattern": {
           "shape": ""
          }
         },
         "name": "Defywire",
         "offsetgroup": "Defywire",
         "orientation": "v",
         "showlegend": true,
         "textposition": "auto",
         "type": "bar",
         "x": [
          "mobile"
         ],
         "xaxis": "x",
         "y": [
          10600000
         ],
         "yaxis": "y"
        },
        {
         "alignmentgroup": "True",
         "hovertemplate": "name=Dexterra<br>category_code=%{x}<br>funding=%{y}<extra></extra>",
         "legendgroup": "Dexterra",
         "marker": {
          "color": "#B6E880",
          "pattern": {
           "shape": ""
          }
         },
         "name": "Dexterra",
         "offsetgroup": "Dexterra",
         "orientation": "v",
         "showlegend": true,
         "textposition": "auto",
         "type": "bar",
         "x": [
          "mobile"
         ],
         "xaxis": "x",
         "y": [
          122500000
         ],
         "yaxis": "y"
        },
        {
         "alignmentgroup": "True",
         "hovertemplate": "name=Dilithium Networks<br>category_code=%{x}<br>funding=%{y}<extra></extra>",
         "legendgroup": "Dilithium Networks",
         "marker": {
          "color": "#FF97FF",
          "pattern": {
           "shape": ""
          }
         },
         "name": "Dilithium Networks",
         "offsetgroup": "Dilithium Networks",
         "orientation": "v",
         "showlegend": true,
         "textposition": "auto",
         "type": "bar",
         "x": [
          "mobile"
         ],
         "xaxis": "x",
         "y": [
          98170000
         ],
         "yaxis": "y"
        },
        {
         "alignmentgroup": "True",
         "hovertemplate": "name=DubMeNow<br>category_code=%{x}<br>funding=%{y}<extra></extra>",
         "legendgroup": "DubMeNow",
         "marker": {
          "color": "#FECB52",
          "pattern": {
           "shape": ""
          }
         },
         "name": "DubMeNow",
         "offsetgroup": "DubMeNow",
         "orientation": "v",
         "showlegend": true,
         "textposition": "auto",
         "type": "bar",
         "x": [
          "mobile"
         ],
         "xaxis": "x",
         "y": [
          7516703
         ],
         "yaxis": "y"
        },
        {
         "alignmentgroup": "True",
         "hovertemplate": "name=Firethorn<br>category_code=%{x}<br>funding=%{y}<extra></extra>",
         "legendgroup": "Firethorn",
         "marker": {
          "color": "#636efa",
          "pattern": {
           "shape": ""
          }
         },
         "name": "Firethorn",
         "offsetgroup": "Firethorn",
         "orientation": "v",
         "showlegend": true,
         "textposition": "auto",
         "type": "bar",
         "x": [
          "mobile"
         ],
         "xaxis": "x",
         "y": [
          25131611
         ],
         "yaxis": "y"
        },
        {
         "alignmentgroup": "True",
         "hovertemplate": "name=FlyCast<br>category_code=%{x}<br>funding=%{y}<extra></extra>",
         "legendgroup": "FlyCast",
         "marker": {
          "color": "#EF553B",
          "pattern": {
           "shape": ""
          }
         },
         "name": "FlyCast",
         "offsetgroup": "FlyCast",
         "orientation": "v",
         "showlegend": true,
         "textposition": "auto",
         "type": "bar",
         "x": [
          "mobile"
         ],
         "xaxis": "x",
         "y": [
          2100000
         ],
         "yaxis": "y"
        },
        {
         "alignmentgroup": "True",
         "hovertemplate": "name=Geodelic Systems<br>category_code=%{x}<br>funding=%{y}<extra></extra>",
         "legendgroup": "Geodelic Systems",
         "marker": {
          "color": "#00cc96",
          "pattern": {
           "shape": ""
          }
         },
         "name": "Geodelic Systems",
         "offsetgroup": "Geodelic Systems",
         "orientation": "v",
         "showlegend": true,
         "textposition": "auto",
         "type": "bar",
         "x": [
          "mobile"
         ],
         "xaxis": "x",
         "y": [
          10500000
         ],
         "yaxis": "y"
        },
        {
         "alignmentgroup": "True",
         "hovertemplate": "name=Gradient X<br>category_code=%{x}<br>funding=%{y}<extra></extra>",
         "legendgroup": "Gradient X",
         "marker": {
          "color": "#ab63fa",
          "pattern": {
           "shape": ""
          }
         },
         "name": "Gradient X",
         "offsetgroup": "Gradient X",
         "orientation": "v",
         "showlegend": true,
         "textposition": "auto",
         "type": "bar",
         "x": [
          "mobile"
         ],
         "xaxis": "x",
         "y": [
          3750000
         ],
         "yaxis": "y"
        },
        {
         "alignmentgroup": "True",
         "hovertemplate": "name=GrandCentral<br>category_code=%{x}<br>funding=%{y}<extra></extra>",
         "legendgroup": "GrandCentral",
         "marker": {
          "color": "#FFA15A",
          "pattern": {
           "shape": ""
          }
         },
         "name": "GrandCentral",
         "offsetgroup": "GrandCentral",
         "orientation": "v",
         "showlegend": true,
         "textposition": "auto",
         "type": "bar",
         "x": [
          "mobile"
         ],
         "xaxis": "x",
         "y": [
          4000000
         ],
         "yaxis": "y"
        },
        {
         "alignmentgroup": "True",
         "hovertemplate": "name=Handmark<br>category_code=%{x}<br>funding=%{y}<extra></extra>",
         "legendgroup": "Handmark",
         "marker": {
          "color": "#19d3f3",
          "pattern": {
           "shape": ""
          }
         },
         "name": "Handmark",
         "offsetgroup": "Handmark",
         "orientation": "v",
         "showlegend": true,
         "textposition": "auto",
         "type": "bar",
         "x": [
          "mobile"
         ],
         "xaxis": "x",
         "y": [
          10000000
         ],
         "yaxis": "y"
        },
        {
         "alignmentgroup": "True",
         "hovertemplate": "name=Hashable<br>category_code=%{x}<br>funding=%{y}<extra></extra>",
         "legendgroup": "Hashable",
         "marker": {
          "color": "#FF6692",
          "pattern": {
           "shape": ""
          }
         },
         "name": "Hashable",
         "offsetgroup": "Hashable",
         "orientation": "v",
         "showlegend": true,
         "textposition": "auto",
         "type": "bar",
         "x": [
          "mobile"
         ],
         "xaxis": "x",
         "y": [
          4000000
         ],
         "yaxis": "y"
        },
        {
         "alignmentgroup": "True",
         "hovertemplate": "name=Hello Chair<br>category_code=%{x}<br>funding=%{y}<extra></extra>",
         "legendgroup": "Hello Chair",
         "marker": {
          "color": "#B6E880",
          "pattern": {
           "shape": ""
          }
         },
         "name": "Hello Chair",
         "offsetgroup": "Hello Chair",
         "orientation": "v",
         "showlegend": true,
         "textposition": "auto",
         "type": "bar",
         "x": [
          "mobile"
         ],
         "xaxis": "x",
         "y": [
          889999
         ],
         "yaxis": "y"
        },
        {
         "alignmentgroup": "True",
         "hovertemplate": "name=HighlightCam<br>category_code=%{x}<br>funding=%{y}<extra></extra>",
         "legendgroup": "HighlightCam",
         "marker": {
          "color": "#FF97FF",
          "pattern": {
           "shape": ""
          }
         },
         "name": "HighlightCam",
         "offsetgroup": "HighlightCam",
         "orientation": "v",
         "showlegend": true,
         "textposition": "auto",
         "type": "bar",
         "x": [
          "mobile"
         ],
         "xaxis": "x",
         "y": [
          3000000
         ],
         "yaxis": "y"
        },
        {
         "alignmentgroup": "True",
         "hovertemplate": "name=HipLogic<br>category_code=%{x}<br>funding=%{y}<extra></extra>",
         "legendgroup": "HipLogic",
         "marker": {
          "color": "#FECB52",
          "pattern": {
           "shape": ""
          }
         },
         "name": "HipLogic",
         "offsetgroup": "HipLogic",
         "orientation": "v",
         "showlegend": true,
         "textposition": "auto",
         "type": "bar",
         "x": [
          "mobile"
         ],
         "xaxis": "x",
         "y": [
          11500000
         ],
         "yaxis": "y"
        },
        {
         "alignmentgroup": "True",
         "hovertemplate": "name=Hurricane Party<br>category_code=%{x}<br>funding=%{y}<extra></extra>",
         "legendgroup": "Hurricane Party",
         "marker": {
          "color": "#636efa",
          "pattern": {
           "shape": ""
          }
         },
         "name": "Hurricane Party",
         "offsetgroup": "Hurricane Party",
         "orientation": "v",
         "showlegend": true,
         "textposition": "auto",
         "type": "bar",
         "x": [
          "mobile"
         ],
         "xaxis": "x",
         "y": [
          20000
         ],
         "yaxis": "y"
        },
        {
         "alignmentgroup": "True",
         "hovertemplate": "name=Instinctiv<br>category_code=%{x}<br>funding=%{y}<extra></extra>",
         "legendgroup": "Instinctiv",
         "marker": {
          "color": "#EF553B",
          "pattern": {
           "shape": ""
          }
         },
         "name": "Instinctiv",
         "offsetgroup": "Instinctiv",
         "orientation": "v",
         "showlegend": true,
         "textposition": "auto",
         "type": "bar",
         "x": [
          "mobile"
         ],
         "xaxis": "x",
         "y": [
          1420698
         ],
         "yaxis": "y"
        },
        {
         "alignmentgroup": "True",
         "hovertemplate": "name=Jajah<br>category_code=%{x}<br>funding=%{y}<extra></extra>",
         "legendgroup": "Jajah",
         "marker": {
          "color": "#00cc96",
          "pattern": {
           "shape": ""
          }
         },
         "name": "Jajah",
         "offsetgroup": "Jajah",
         "orientation": "v",
         "showlegend": true,
         "textposition": "auto",
         "type": "bar",
         "x": [
          "mobile"
         ],
         "xaxis": "x",
         "y": [
          33000000
         ],
         "yaxis": "y"
        },
        {
         "alignmentgroup": "True",
         "hovertemplate": "name=Jaxtr<br>category_code=%{x}<br>funding=%{y}<extra></extra>",
         "legendgroup": "Jaxtr",
         "marker": {
          "color": "#ab63fa",
          "pattern": {
           "shape": ""
          }
         },
         "name": "Jaxtr",
         "offsetgroup": "Jaxtr",
         "orientation": "v",
         "showlegend": true,
         "textposition": "auto",
         "type": "bar",
         "x": [
          "mobile"
         ],
         "xaxis": "x",
         "y": [
          21500000
         ],
         "yaxis": "y"
        },
        {
         "alignmentgroup": "True",
         "hovertemplate": "name=Jingle Networks<br>category_code=%{x}<br>funding=%{y}<extra></extra>",
         "legendgroup": "Jingle Networks",
         "marker": {
          "color": "#FFA15A",
          "pattern": {
           "shape": ""
          }
         },
         "name": "Jingle Networks",
         "offsetgroup": "Jingle Networks",
         "orientation": "v",
         "showlegend": true,
         "textposition": "auto",
         "type": "bar",
         "x": [
          "mobile"
         ],
         "xaxis": "x",
         "y": [
          88651133
         ],
         "yaxis": "y"
        },
        {
         "alignmentgroup": "True",
         "hovertemplate": "name=Jumptap<br>category_code=%{x}<br>funding=%{y}<extra></extra>",
         "legendgroup": "Jumptap",
         "marker": {
          "color": "#19d3f3",
          "pattern": {
           "shape": ""
          }
         },
         "name": "Jumptap",
         "offsetgroup": "Jumptap",
         "orientation": "v",
         "showlegend": true,
         "textposition": "auto",
         "type": "bar",
         "x": [
          "mobile"
         ],
         "xaxis": "x",
         "y": [
          121500000
         ],
         "yaxis": "y"
        },
        {
         "alignmentgroup": "True",
         "hovertemplate": "name=Karma<br>category_code=%{x}<br>funding=%{y}<extra></extra>",
         "legendgroup": "Karma",
         "marker": {
          "color": "#FF6692",
          "pattern": {
           "shape": ""
          }
         },
         "name": "Karma",
         "offsetgroup": "Karma",
         "orientation": "v",
         "showlegend": true,
         "textposition": "auto",
         "type": "bar",
         "x": [
          "mobile"
         ],
         "xaxis": "x",
         "y": [
          2304999
         ],
         "yaxis": "y"
        },
        {
         "alignmentgroup": "True",
         "hovertemplate": "name=Kima Labs<br>category_code=%{x}<br>funding=%{y}<extra></extra>",
         "legendgroup": "Kima Labs",
         "marker": {
          "color": "#B6E880",
          "pattern": {
           "shape": ""
          }
         },
         "name": "Kima Labs",
         "offsetgroup": "Kima Labs",
         "orientation": "v",
         "showlegend": true,
         "textposition": "auto",
         "type": "bar",
         "x": [
          "mobile"
         ],
         "xaxis": "x",
         "y": [
          770000
         ],
         "yaxis": "y"
        },
        {
         "alignmentgroup": "True",
         "hovertemplate": "name=Loopt<br>category_code=%{x}<br>funding=%{y}<extra></extra>",
         "legendgroup": "Loopt",
         "marker": {
          "color": "#FF97FF",
          "pattern": {
           "shape": ""
          }
         },
         "name": "Loopt",
         "offsetgroup": "Loopt",
         "orientation": "v",
         "showlegend": true,
         "textposition": "auto",
         "type": "bar",
         "x": [
          "mobile"
         ],
         "xaxis": "x",
         "y": [
          32006000
         ],
         "yaxis": "y"
        },
        {
         "alignmentgroup": "True",
         "hovertemplate": "name=MPOWER Mobile<br>category_code=%{x}<br>funding=%{y}<extra></extra>",
         "legendgroup": "MPOWER Mobile",
         "marker": {
          "color": "#FECB52",
          "pattern": {
           "shape": ""
          }
         },
         "name": "MPOWER Mobile",
         "offsetgroup": "MPOWER Mobile",
         "orientation": "v",
         "showlegend": true,
         "textposition": "auto",
         "type": "bar",
         "x": [
          "mobile"
         ],
         "xaxis": "x",
         "y": [
          5000000
         ],
         "yaxis": "y"
        },
        {
         "alignmentgroup": "True",
         "hovertemplate": "name=MetaCarta<br>category_code=%{x}<br>funding=%{y}<extra></extra>",
         "legendgroup": "MetaCarta",
         "marker": {
          "color": "#636efa",
          "pattern": {
           "shape": ""
          }
         },
         "name": "MetaCarta",
         "offsetgroup": "MetaCarta",
         "orientation": "v",
         "showlegend": true,
         "textposition": "auto",
         "type": "bar",
         "x": [
          "mobile"
         ],
         "xaxis": "x",
         "y": [
          10000000
         ],
         "yaxis": "y"
        },
        {
         "alignmentgroup": "True",
         "hovertemplate": "name=Miyowa<br>category_code=%{x}<br>funding=%{y}<extra></extra>",
         "legendgroup": "Miyowa",
         "marker": {
          "color": "#EF553B",
          "pattern": {
           "shape": ""
          }
         },
         "name": "Miyowa",
         "offsetgroup": "Miyowa",
         "orientation": "v",
         "showlegend": true,
         "textposition": "auto",
         "type": "bar",
         "x": [
          "mobile"
         ],
         "xaxis": "x",
         "y": [
          11725600
         ],
         "yaxis": "y"
        },
        {
         "alignmentgroup": "True",
         "hovertemplate": "name=MoPub<br>category_code=%{x}<br>funding=%{y}<extra></extra>",
         "legendgroup": "MoPub",
         "marker": {
          "color": "#00cc96",
          "pattern": {
           "shape": ""
          }
         },
         "name": "MoPub",
         "offsetgroup": "MoPub",
         "orientation": "v",
         "showlegend": true,
         "textposition": "auto",
         "type": "bar",
         "x": [
          "mobile"
         ],
         "xaxis": "x",
         "y": [
          18500000
         ],
         "yaxis": "y"
        },
        {
         "alignmentgroup": "True",
         "hovertemplate": "name=MoveableCode, Inc.<br>category_code=%{x}<br>funding=%{y}<extra></extra>",
         "legendgroup": "MoveableCode, Inc.",
         "marker": {
          "color": "#ab63fa",
          "pattern": {
           "shape": ""
          }
         },
         "name": "MoveableCode, Inc.",
         "offsetgroup": "MoveableCode, Inc.",
         "orientation": "v",
         "showlegend": true,
         "textposition": "auto",
         "type": "bar",
         "x": [
          "mobile"
         ],
         "xaxis": "x",
         "y": [
          350000
         ],
         "yaxis": "y"
        },
        {
         "alignmentgroup": "True",
         "hovertemplate": "name=MyCabbage<br>category_code=%{x}<br>funding=%{y}<extra></extra>",
         "legendgroup": "MyCabbage",
         "marker": {
          "color": "#FFA15A",
          "pattern": {
           "shape": ""
          }
         },
         "name": "MyCabbage",
         "offsetgroup": "MyCabbage",
         "orientation": "v",
         "showlegend": true,
         "textposition": "auto",
         "type": "bar",
         "x": [
          "mobile"
         ],
         "xaxis": "x",
         "y": [
          950000
         ],
         "yaxis": "y"
        },
        {
         "alignmentgroup": "True",
         "hovertemplate": "name=Onavo<br>category_code=%{x}<br>funding=%{y}<extra></extra>",
         "legendgroup": "Onavo",
         "marker": {
          "color": "#19d3f3",
          "pattern": {
           "shape": ""
          }
         },
         "name": "Onavo",
         "offsetgroup": "Onavo",
         "orientation": "v",
         "showlegend": true,
         "textposition": "auto",
         "type": "bar",
         "x": [
          "mobile"
         ],
         "xaxis": "x",
         "y": [
          13000000
         ],
         "yaxis": "y"
        },
        {
         "alignmentgroup": "True",
         "hovertemplate": "name=Ortiva Wireless<br>category_code=%{x}<br>funding=%{y}<extra></extra>",
         "legendgroup": "Ortiva Wireless",
         "marker": {
          "color": "#FF6692",
          "pattern": {
           "shape": ""
          }
         },
         "name": "Ortiva Wireless",
         "offsetgroup": "Ortiva Wireless",
         "orientation": "v",
         "showlegend": true,
         "textposition": "auto",
         "type": "bar",
         "x": [
          "mobile"
         ],
         "xaxis": "x",
         "y": [
          40000000
         ],
         "yaxis": "y"
        },
        {
         "alignmentgroup": "True",
         "hovertemplate": "name=Peek & Co<br>category_code=%{x}<br>funding=%{y}<extra></extra>",
         "legendgroup": "Peek & Co",
         "marker": {
          "color": "#B6E880",
          "pattern": {
           "shape": ""
          }
         },
         "name": "Peek & Co",
         "offsetgroup": "Peek & Co",
         "orientation": "v",
         "showlegend": true,
         "textposition": "auto",
         "type": "bar",
         "x": [
          "mobile"
         ],
         "xaxis": "x",
         "y": [
          626096
         ],
         "yaxis": "y"
        },
        {
         "alignmentgroup": "True",
         "hovertemplate": "name=Pelago<br>category_code=%{x}<br>funding=%{y}<extra></extra>",
         "legendgroup": "Pelago",
         "marker": {
          "color": "#FF97FF",
          "pattern": {
           "shape": ""
          }
         },
         "name": "Pelago",
         "offsetgroup": "Pelago",
         "orientation": "v",
         "showlegend": true,
         "textposition": "auto",
         "type": "bar",
         "x": [
          "mobile"
         ],
         "xaxis": "x",
         "y": [
          22400000
         ],
         "yaxis": "y"
        },
        {
         "alignmentgroup": "True",
         "hovertemplate": "name=Pixelpipe<br>category_code=%{x}<br>funding=%{y}<extra></extra>",
         "legendgroup": "Pixelpipe",
         "marker": {
          "color": "#FECB52",
          "pattern": {
           "shape": ""
          }
         },
         "name": "Pixelpipe",
         "offsetgroup": "Pixelpipe",
         "orientation": "v",
         "showlegend": true,
         "textposition": "auto",
         "type": "bar",
         "x": [
          "mobile"
         ],
         "xaxis": "x",
         "y": [
          2300000
         ],
         "yaxis": "y"
        },
        {
         "alignmentgroup": "True",
         "hovertemplate": "name=PlayerDuel<br>category_code=%{x}<br>funding=%{y}<extra></extra>",
         "legendgroup": "PlayerDuel",
         "marker": {
          "color": "#636efa",
          "pattern": {
           "shape": ""
          }
         },
         "name": "PlayerDuel",
         "offsetgroup": "PlayerDuel",
         "orientation": "v",
         "showlegend": true,
         "textposition": "auto",
         "type": "bar",
         "x": [
          "mobile"
         ],
         "xaxis": "x",
         "y": [
          21189
         ],
         "yaxis": "y"
        },
        {
         "alignmentgroup": "True",
         "hovertemplate": "name=Plusmo<br>category_code=%{x}<br>funding=%{y}<extra></extra>",
         "legendgroup": "Plusmo",
         "marker": {
          "color": "#EF553B",
          "pattern": {
           "shape": ""
          }
         },
         "name": "Plusmo",
         "offsetgroup": "Plusmo",
         "orientation": "v",
         "showlegend": true,
         "textposition": "auto",
         "type": "bar",
         "x": [
          "mobile"
         ],
         "xaxis": "x",
         "y": [
          4410000
         ],
         "yaxis": "y"
        },
        {
         "alignmentgroup": "True",
         "hovertemplate": "name=Pocket Communications Northeast<br>category_code=%{x}<br>funding=%{y}<extra></extra>",
         "legendgroup": "Pocket Communications Northeast",
         "marker": {
          "color": "#00cc96",
          "pattern": {
           "shape": ""
          }
         },
         "name": "Pocket Communications Northeast",
         "offsetgroup": "Pocket Communications Northeast",
         "orientation": "v",
         "showlegend": true,
         "textposition": "auto",
         "type": "bar",
         "x": [
          "mobile"
         ],
         "xaxis": "x",
         "y": [
          125000000
         ],
         "yaxis": "y"
        },
        {
         "alignmentgroup": "True",
         "hovertemplate": "name=Qik<br>category_code=%{x}<br>funding=%{y}<extra></extra>",
         "legendgroup": "Qik",
         "marker": {
          "color": "#ab63fa",
          "pattern": {
           "shape": ""
          }
         },
         "name": "Qik",
         "offsetgroup": "Qik",
         "orientation": "v",
         "showlegend": true,
         "textposition": "auto",
         "type": "bar",
         "x": [
          "mobile"
         ],
         "xaxis": "x",
         "y": [
          14800000
         ],
         "yaxis": "y"
        },
        {
         "alignmentgroup": "True",
         "hovertemplate": "name=RFinity<br>category_code=%{x}<br>funding=%{y}<extra></extra>",
         "legendgroup": "RFinity",
         "marker": {
          "color": "#FFA15A",
          "pattern": {
           "shape": ""
          }
         },
         "name": "RFinity",
         "offsetgroup": "RFinity",
         "orientation": "v",
         "showlegend": true,
         "textposition": "auto",
         "type": "bar",
         "x": [
          "mobile"
         ],
         "xaxis": "x",
         "y": [
          4000000
         ],
         "yaxis": "y"
        },
        {
         "alignmentgroup": "True",
         "hovertemplate": "name=Ribbit<br>category_code=%{x}<br>funding=%{y}<extra></extra>",
         "legendgroup": "Ribbit",
         "marker": {
          "color": "#19d3f3",
          "pattern": {
           "shape": ""
          }
         },
         "name": "Ribbit",
         "offsetgroup": "Ribbit",
         "orientation": "v",
         "showlegend": true,
         "textposition": "auto",
         "type": "bar",
         "x": [
          "mobile"
         ],
         "xaxis": "x",
         "y": [
          11000000
         ],
         "yaxis": "y"
        },
        {
         "alignmentgroup": "True",
         "hovertemplate": "name=SkyPilot Networks<br>category_code=%{x}<br>funding=%{y}<extra></extra>",
         "legendgroup": "SkyPilot Networks",
         "marker": {
          "color": "#FF6692",
          "pattern": {
           "shape": ""
          }
         },
         "name": "SkyPilot Networks",
         "offsetgroup": "SkyPilot Networks",
         "orientation": "v",
         "showlegend": true,
         "textposition": "auto",
         "type": "bar",
         "x": [
          "mobile"
         ],
         "xaxis": "x",
         "y": [
          68400000
         ],
         "yaxis": "y"
        },
        {
         "alignmentgroup": "True",
         "hovertemplate": "name=Socialize<br>category_code=%{x}<br>funding=%{y}<extra></extra>",
         "legendgroup": "Socialize",
         "marker": {
          "color": "#B6E880",
          "pattern": {
           "shape": ""
          }
         },
         "name": "Socialize",
         "offsetgroup": "Socialize",
         "orientation": "v",
         "showlegend": true,
         "textposition": "auto",
         "type": "bar",
         "x": [
          "mobile"
         ],
         "xaxis": "x",
         "y": [
          1820000
         ],
         "yaxis": "y"
        },
        {
         "alignmentgroup": "True",
         "hovertemplate": "name=Sonar.me<br>category_code=%{x}<br>funding=%{y}<extra></extra>",
         "legendgroup": "Sonar.me",
         "marker": {
          "color": "#FF97FF",
          "pattern": {
           "shape": ""
          }
         },
         "name": "Sonar.me",
         "offsetgroup": "Sonar.me",
         "orientation": "v",
         "showlegend": true,
         "textposition": "auto",
         "type": "bar",
         "x": [
          "mobile"
         ],
         "xaxis": "x",
         "y": [
          200000
         ],
         "yaxis": "y"
        },
        {
         "alignmentgroup": "True",
         "hovertemplate": "name=Songbird<br>category_code=%{x}<br>funding=%{y}<extra></extra>",
         "legendgroup": "Songbird",
         "marker": {
          "color": "#FECB52",
          "pattern": {
           "shape": ""
          }
         },
         "name": "Songbird",
         "offsetgroup": "Songbird",
         "orientation": "v",
         "showlegend": true,
         "textposition": "auto",
         "type": "bar",
         "x": [
          "mobile"
         ],
         "xaxis": "x",
         "y": [
          11015719
         ],
         "yaxis": "y"
        },
        {
         "alignmentgroup": "True",
         "hovertemplate": "name=Tapioca Mobile<br>category_code=%{x}<br>funding=%{y}<extra></extra>",
         "legendgroup": "Tapioca Mobile",
         "marker": {
          "color": "#636efa",
          "pattern": {
           "shape": ""
          }
         },
         "name": "Tapioca Mobile",
         "offsetgroup": "Tapioca Mobile",
         "orientation": "v",
         "showlegend": true,
         "textposition": "auto",
         "type": "bar",
         "x": [
          "mobile"
         ],
         "xaxis": "x",
         "y": [
          5000000
         ],
         "yaxis": "y"
        },
        {
         "alignmentgroup": "True",
         "hovertemplate": "name=Tatara Systems<br>category_code=%{x}<br>funding=%{y}<extra></extra>",
         "legendgroup": "Tatara Systems",
         "marker": {
          "color": "#EF553B",
          "pattern": {
           "shape": ""
          }
         },
         "name": "Tatara Systems",
         "offsetgroup": "Tatara Systems",
         "orientation": "v",
         "showlegend": true,
         "textposition": "auto",
         "type": "bar",
         "x": [
          "mobile"
         ],
         "xaxis": "x",
         "y": [
          33000000
         ],
         "yaxis": "y"
        },
        {
         "alignmentgroup": "True",
         "hovertemplate": "name=TeleFlip<br>category_code=%{x}<br>funding=%{y}<extra></extra>",
         "legendgroup": "TeleFlip",
         "marker": {
          "color": "#00cc96",
          "pattern": {
           "shape": ""
          }
         },
         "name": "TeleFlip",
         "offsetgroup": "TeleFlip",
         "orientation": "v",
         "showlegend": true,
         "textposition": "auto",
         "type": "bar",
         "x": [
          "mobile"
         ],
         "xaxis": "x",
         "y": [
          4900000
         ],
         "yaxis": "y"
        },
        {
         "alignmentgroup": "True",
         "hovertemplate": "name=Trendslide<br>category_code=%{x}<br>funding=%{y}<extra></extra>",
         "legendgroup": "Trendslide",
         "marker": {
          "color": "#ab63fa",
          "pattern": {
           "shape": ""
          }
         },
         "name": "Trendslide",
         "offsetgroup": "Trendslide",
         "orientation": "v",
         "showlegend": true,
         "textposition": "auto",
         "type": "bar",
         "x": [
          "mobile"
         ],
         "xaxis": "x",
         "y": [
          125000
         ],
         "yaxis": "y"
        },
        {
         "alignmentgroup": "True",
         "hovertemplate": "name=Trust Digital<br>category_code=%{x}<br>funding=%{y}<extra></extra>",
         "legendgroup": "Trust Digital",
         "marker": {
          "color": "#FFA15A",
          "pattern": {
           "shape": ""
          }
         },
         "name": "Trust Digital",
         "offsetgroup": "Trust Digital",
         "orientation": "v",
         "showlegend": true,
         "textposition": "auto",
         "type": "bar",
         "x": [
          "mobile"
         ],
         "xaxis": "x",
         "y": [
          23500000
         ],
         "yaxis": "y"
        },
        {
         "alignmentgroup": "True",
         "hovertemplate": "name=Turf Geography Club<br>category_code=%{x}<br>funding=%{y}<extra></extra>",
         "legendgroup": "Turf Geography Club",
         "marker": {
          "color": "#19d3f3",
          "pattern": {
           "shape": ""
          }
         },
         "name": "Turf Geography Club",
         "offsetgroup": "Turf Geography Club",
         "orientation": "v",
         "showlegend": true,
         "textposition": "auto",
         "type": "bar",
         "x": [
          "mobile"
         ],
         "xaxis": "x",
         "y": [
          890000
         ],
         "yaxis": "y"
        },
        {
         "alignmentgroup": "True",
         "hovertemplate": "name=Venmo<br>category_code=%{x}<br>funding=%{y}<extra></extra>",
         "legendgroup": "Venmo",
         "marker": {
          "color": "#FF6692",
          "pattern": {
           "shape": ""
          }
         },
         "name": "Venmo",
         "offsetgroup": "Venmo",
         "orientation": "v",
         "showlegend": true,
         "textposition": "auto",
         "type": "bar",
         "x": [
          "mobile"
         ],
         "xaxis": "x",
         "y": [
          1200000
         ],
         "yaxis": "y"
        },
        {
         "alignmentgroup": "True",
         "hovertemplate": "name=Vizibility<br>category_code=%{x}<br>funding=%{y}<extra></extra>",
         "legendgroup": "Vizibility",
         "marker": {
          "color": "#B6E880",
          "pattern": {
           "shape": ""
          }
         },
         "name": "Vizibility",
         "offsetgroup": "Vizibility",
         "orientation": "v",
         "showlegend": true,
         "textposition": "auto",
         "type": "bar",
         "x": [
          "mobile"
         ],
         "xaxis": "x",
         "y": [
          4705910
         ],
         "yaxis": "y"
        },
        {
         "alignmentgroup": "True",
         "hovertemplate": "name=Vlingo<br>category_code=%{x}<br>funding=%{y}<extra></extra>",
         "legendgroup": "Vlingo",
         "marker": {
          "color": "#FF97FF",
          "pattern": {
           "shape": ""
          }
         },
         "name": "Vlingo",
         "offsetgroup": "Vlingo",
         "orientation": "v",
         "showlegend": true,
         "textposition": "auto",
         "type": "bar",
         "x": [
          "mobile"
         ],
         "xaxis": "x",
         "y": [
          26500000
         ],
         "yaxis": "y"
        },
        {
         "alignmentgroup": "True",
         "hovertemplate": "name=VoodooVox<br>category_code=%{x}<br>funding=%{y}<extra></extra>",
         "legendgroup": "VoodooVox",
         "marker": {
          "color": "#FECB52",
          "pattern": {
           "shape": ""
          }
         },
         "name": "VoodooVox",
         "offsetgroup": "VoodooVox",
         "orientation": "v",
         "showlegend": true,
         "textposition": "auto",
         "type": "bar",
         "x": [
          "mobile"
         ],
         "xaxis": "x",
         "y": [
          9650000
         ],
         "yaxis": "y"
        },
        {
         "alignmentgroup": "True",
         "hovertemplate": "name=WAY Systems<br>category_code=%{x}<br>funding=%{y}<extra></extra>",
         "legendgroup": "WAY Systems",
         "marker": {
          "color": "#636efa",
          "pattern": {
           "shape": ""
          }
         },
         "name": "WAY Systems",
         "offsetgroup": "WAY Systems",
         "orientation": "v",
         "showlegend": true,
         "textposition": "auto",
         "type": "bar",
         "x": [
          "mobile"
         ],
         "xaxis": "x",
         "y": [
          22000000
         ],
         "yaxis": "y"
        },
        {
         "alignmentgroup": "True",
         "hovertemplate": "name=Wander (f. YongoPal)<br>category_code=%{x}<br>funding=%{y}<extra></extra>",
         "legendgroup": "Wander (f. YongoPal)",
         "marker": {
          "color": "#EF553B",
          "pattern": {
           "shape": ""
          }
         },
         "name": "Wander (f. YongoPal)",
         "offsetgroup": "Wander (f. YongoPal)",
         "orientation": "v",
         "showlegend": true,
         "textposition": "auto",
         "type": "bar",
         "x": [
          "mobile"
         ],
         "xaxis": "x",
         "y": [
          185000
         ],
         "yaxis": "y"
        },
        {
         "alignmentgroup": "True",
         "hovertemplate": "name=Where<br>category_code=%{x}<br>funding=%{y}<extra></extra>",
         "legendgroup": "Where",
         "marker": {
          "color": "#00cc96",
          "pattern": {
           "shape": ""
          }
         },
         "name": "Where",
         "offsetgroup": "Where",
         "orientation": "v",
         "showlegend": true,
         "textposition": "auto",
         "type": "bar",
         "x": [
          "mobile"
         ],
         "xaxis": "x",
         "y": [
          19100000
         ],
         "yaxis": "y"
        },
        {
         "alignmentgroup": "True",
         "hovertemplate": "name=WiChorus<br>category_code=%{x}<br>funding=%{y}<extra></extra>",
         "legendgroup": "WiChorus",
         "marker": {
          "color": "#ab63fa",
          "pattern": {
           "shape": ""
          }
         },
         "name": "WiChorus",
         "offsetgroup": "WiChorus",
         "orientation": "v",
         "showlegend": true,
         "textposition": "auto",
         "type": "bar",
         "x": [
          "mobile"
         ],
         "xaxis": "x",
         "y": [
          42500000
         ],
         "yaxis": "y"
        },
        {
         "alignmentgroup": "True",
         "hovertemplate": "name=Xtify Inc.<br>category_code=%{x}<br>funding=%{y}<extra></extra>",
         "legendgroup": "Xtify Inc.",
         "marker": {
          "color": "#FFA15A",
          "pattern": {
           "shape": ""
          }
         },
         "name": "Xtify Inc.",
         "offsetgroup": "Xtify Inc.",
         "orientation": "v",
         "showlegend": true,
         "textposition": "auto",
         "type": "bar",
         "x": [
          "mobile"
         ],
         "xaxis": "x",
         "y": [
          5686383
         ],
         "yaxis": "y"
        },
        {
         "alignmentgroup": "True",
         "hovertemplate": "name=Zenprise<br>category_code=%{x}<br>funding=%{y}<extra></extra>",
         "legendgroup": "Zenprise",
         "marker": {
          "color": "#19d3f3",
          "pattern": {
           "shape": ""
          }
         },
         "name": "Zenprise",
         "offsetgroup": "Zenprise",
         "orientation": "v",
         "showlegend": true,
         "textposition": "auto",
         "type": "bar",
         "x": [
          "mobile"
         ],
         "xaxis": "x",
         "y": [
          64630000
         ],
         "yaxis": "y"
        },
        {
         "alignmentgroup": "True",
         "hovertemplate": "name=Zong<br>category_code=%{x}<br>funding=%{y}<extra></extra>",
         "legendgroup": "Zong",
         "marker": {
          "color": "#FF6692",
          "pattern": {
           "shape": ""
          }
         },
         "name": "Zong",
         "offsetgroup": "Zong",
         "orientation": "v",
         "showlegend": true,
         "textposition": "auto",
         "type": "bar",
         "x": [
          "mobile"
         ],
         "xaxis": "x",
         "y": [
          27500000
         ],
         "yaxis": "y"
        },
        {
         "alignmentgroup": "True",
         "hovertemplate": "name=ZoomSafer<br>category_code=%{x}<br>funding=%{y}<extra></extra>",
         "legendgroup": "ZoomSafer",
         "marker": {
          "color": "#B6E880",
          "pattern": {
           "shape": ""
          }
         },
         "name": "ZoomSafer",
         "offsetgroup": "ZoomSafer",
         "orientation": "v",
         "showlegend": true,
         "textposition": "auto",
         "type": "bar",
         "x": [
          "mobile"
         ],
         "xaxis": "x",
         "y": [
          3350000
         ],
         "yaxis": "y"
        },
        {
         "alignmentgroup": "True",
         "hovertemplate": "name=iSkoot<br>category_code=%{x}<br>funding=%{y}<extra></extra>",
         "legendgroup": "iSkoot",
         "marker": {
          "color": "#FF97FF",
          "pattern": {
           "shape": ""
          }
         },
         "name": "iSkoot",
         "offsetgroup": "iSkoot",
         "orientation": "v",
         "showlegend": true,
         "textposition": "auto",
         "type": "bar",
         "x": [
          "mobile"
         ],
         "xaxis": "x",
         "y": [
          32200000
         ],
         "yaxis": "y"
        },
        {
         "alignmentgroup": "True",
         "hovertemplate": "name=kwiry<br>category_code=%{x}<br>funding=%{y}<extra></extra>",
         "legendgroup": "kwiry",
         "marker": {
          "color": "#FECB52",
          "pattern": {
           "shape": ""
          }
         },
         "name": "kwiry",
         "offsetgroup": "kwiry",
         "orientation": "v",
         "showlegend": true,
         "textposition": "auto",
         "type": "bar",
         "x": [
          "mobile"
         ],
         "xaxis": "x",
         "y": [
          1000000
         ],
         "yaxis": "y"
        },
        {
         "alignmentgroup": "True",
         "hovertemplate": "name=mFoundry<br>category_code=%{x}<br>funding=%{y}<extra></extra>",
         "legendgroup": "mFoundry",
         "marker": {
          "color": "#636efa",
          "pattern": {
           "shape": ""
          }
         },
         "name": "mFoundry",
         "offsetgroup": "mFoundry",
         "orientation": "v",
         "showlegend": true,
         "textposition": "auto",
         "type": "bar",
         "x": [
          "mobile"
         ],
         "xaxis": "x",
         "y": [
          40300000
         ],
         "yaxis": "y"
        },
        {
         "alignmentgroup": "True",
         "hovertemplate": "name=mSnap<br>category_code=%{x}<br>funding=%{y}<extra></extra>",
         "legendgroup": "mSnap",
         "marker": {
          "color": "#EF553B",
          "pattern": {
           "shape": ""
          }
         },
         "name": "mSnap",
         "offsetgroup": "mSnap",
         "orientation": "v",
         "showlegend": true,
         "textposition": "auto",
         "type": "bar",
         "x": [
          "mobile"
         ],
         "xaxis": "x",
         "y": [
          5000000
         ],
         "yaxis": "y"
        },
        {
         "alignmentgroup": "True",
         "hovertemplate": "name=skyrockit<br>category_code=%{x}<br>funding=%{y}<extra></extra>",
         "legendgroup": "skyrockit",
         "marker": {
          "color": "#00cc96",
          "pattern": {
           "shape": ""
          }
         },
         "name": "skyrockit",
         "offsetgroup": "skyrockit",
         "orientation": "v",
         "showlegend": true,
         "textposition": "auto",
         "type": "bar",
         "x": [
          "mobile"
         ],
         "xaxis": "x",
         "y": [
          2600000
         ],
         "yaxis": "y"
        },
        {
         "alignmentgroup": "True",
         "hovertemplate": "name=Accept Software<br>category_code=%{x}<br>funding=%{y}<extra></extra>",
         "legendgroup": "Accept Software",
         "marker": {
          "color": "#ab63fa",
          "pattern": {
           "shape": ""
          }
         },
         "name": "Accept Software",
         "offsetgroup": "Accept Software",
         "orientation": "v",
         "showlegend": true,
         "textposition": "auto",
         "type": "bar",
         "x": [
          "software"
         ],
         "xaxis": "x",
         "y": [
          25305000
         ],
         "yaxis": "y"
        },
        {
         "alignmentgroup": "True",
         "hovertemplate": "name=Airwide Solutions<br>category_code=%{x}<br>funding=%{y}<extra></extra>",
         "legendgroup": "Airwide Solutions",
         "marker": {
          "color": "#FFA15A",
          "pattern": {
           "shape": ""
          }
         },
         "name": "Airwide Solutions",
         "offsetgroup": "Airwide Solutions",
         "orientation": "v",
         "showlegend": true,
         "textposition": "auto",
         "type": "bar",
         "x": [
          "software"
         ],
         "xaxis": "x",
         "y": [
          25000000
         ],
         "yaxis": "y"
        },
        {
         "alignmentgroup": "True",
         "hovertemplate": "name=Akorri Networks<br>category_code=%{x}<br>funding=%{y}<extra></extra>",
         "legendgroup": "Akorri Networks",
         "marker": {
          "color": "#19d3f3",
          "pattern": {
           "shape": ""
          }
         },
         "name": "Akorri Networks",
         "offsetgroup": "Akorri Networks",
         "orientation": "v",
         "showlegend": true,
         "textposition": "auto",
         "type": "bar",
         "x": [
          "software"
         ],
         "xaxis": "x",
         "y": [
          48730000
         ],
         "yaxis": "y"
        },
        {
         "alignmentgroup": "True",
         "hovertemplate": "name=AlterPoint<br>category_code=%{x}<br>funding=%{y}<extra></extra>",
         "legendgroup": "AlterPoint",
         "marker": {
          "color": "#FF6692",
          "pattern": {
           "shape": ""
          }
         },
         "name": "AlterPoint",
         "offsetgroup": "AlterPoint",
         "orientation": "v",
         "showlegend": true,
         "textposition": "auto",
         "type": "bar",
         "x": [
          "software"
         ],
         "xaxis": "x",
         "y": [
          26800000
         ],
         "yaxis": "y"
        },
        {
         "alignmentgroup": "True",
         "hovertemplate": "name=Amadesa<br>category_code=%{x}<br>funding=%{y}<extra></extra>",
         "legendgroup": "Amadesa",
         "marker": {
          "color": "#B6E880",
          "pattern": {
           "shape": ""
          }
         },
         "name": "Amadesa",
         "offsetgroup": "Amadesa",
         "orientation": "v",
         "showlegend": true,
         "textposition": "auto",
         "type": "bar",
         "x": [
          "software"
         ],
         "xaxis": "x",
         "y": [
          12800000
         ],
         "yaxis": "y"
        },
        {
         "alignmentgroup": "True",
         "hovertemplate": "name=Anystream<br>category_code=%{x}<br>funding=%{y}<extra></extra>",
         "legendgroup": "Anystream",
         "marker": {
          "color": "#FF97FF",
          "pattern": {
           "shape": ""
          }
         },
         "name": "Anystream",
         "offsetgroup": "Anystream",
         "orientation": "v",
         "showlegend": true,
         "textposition": "auto",
         "type": "bar",
         "x": [
          "software"
         ],
         "xaxis": "x",
         "y": [
          59000000
         ],
         "yaxis": "y"
        },
        {
         "alignmentgroup": "True",
         "hovertemplate": "name=Appscio<br>category_code=%{x}<br>funding=%{y}<extra></extra>",
         "legendgroup": "Appscio",
         "marker": {
          "color": "#FECB52",
          "pattern": {
           "shape": ""
          }
         },
         "name": "Appscio",
         "offsetgroup": "Appscio",
         "orientation": "v",
         "showlegend": true,
         "textposition": "auto",
         "type": "bar",
         "x": [
          "software"
         ],
         "xaxis": "x",
         "y": [
          7000000
         ],
         "yaxis": "y"
        },
        {
         "alignmentgroup": "True",
         "hovertemplate": "name=Appstores.com<br>category_code=%{x}<br>funding=%{y}<extra></extra>",
         "legendgroup": "Appstores.com",
         "marker": {
          "color": "#636efa",
          "pattern": {
           "shape": ""
          }
         },
         "name": "Appstores.com",
         "offsetgroup": "Appstores.com",
         "orientation": "v",
         "showlegend": true,
         "textposition": "auto",
         "type": "bar",
         "x": [
          "software"
         ],
         "xaxis": "x",
         "y": [
          1155000
         ],
         "yaxis": "y"
        },
        {
         "alignmentgroup": "True",
         "hovertemplate": "name=Aptana<br>category_code=%{x}<br>funding=%{y}<extra></extra>",
         "legendgroup": "Aptana",
         "marker": {
          "color": "#EF553B",
          "pattern": {
           "shape": ""
          }
         },
         "name": "Aptana",
         "offsetgroup": "Aptana",
         "orientation": "v",
         "showlegend": true,
         "textposition": "auto",
         "type": "bar",
         "x": [
          "software"
         ],
         "xaxis": "x",
         "y": [
          7800000
         ],
         "yaxis": "y"
        },
        {
         "alignmentgroup": "True",
         "hovertemplate": "name=ArcSight<br>category_code=%{x}<br>funding=%{y}<extra></extra>",
         "legendgroup": "ArcSight",
         "marker": {
          "color": "#00cc96",
          "pattern": {
           "shape": ""
          }
         },
         "name": "ArcSight",
         "offsetgroup": "ArcSight",
         "orientation": "v",
         "showlegend": true,
         "textposition": "auto",
         "type": "bar",
         "x": [
          "software"
         ],
         "xaxis": "x",
         "y": [
          26914000
         ],
         "yaxis": "y"
        },
        {
         "alignmentgroup": "True",
         "hovertemplate": "name=Arch Rock Corporation<br>category_code=%{x}<br>funding=%{y}<extra></extra>",
         "legendgroup": "Arch Rock Corporation",
         "marker": {
          "color": "#ab63fa",
          "pattern": {
           "shape": ""
          }
         },
         "name": "Arch Rock Corporation",
         "offsetgroup": "Arch Rock Corporation",
         "orientation": "v",
         "showlegend": true,
         "textposition": "auto",
         "type": "bar",
         "x": [
          "software"
         ],
         "xaxis": "x",
         "y": [
          15000000
         ],
         "yaxis": "y"
        },
        {
         "alignmentgroup": "True",
         "hovertemplate": "name=Athena Design Systems<br>category_code=%{x}<br>funding=%{y}<extra></extra>",
         "legendgroup": "Athena Design Systems",
         "marker": {
          "color": "#FFA15A",
          "pattern": {
           "shape": ""
          }
         },
         "name": "Athena Design Systems",
         "offsetgroup": "Athena Design Systems",
         "orientation": "v",
         "showlegend": true,
         "textposition": "auto",
         "type": "bar",
         "x": [
          "software"
         ],
         "xaxis": "x",
         "y": [
          4000000
         ],
         "yaxis": "y"
        },
        {
         "alignmentgroup": "True",
         "hovertemplate": "name=Attributor<br>category_code=%{x}<br>funding=%{y}<extra></extra>",
         "legendgroup": "Attributor",
         "marker": {
          "color": "#19d3f3",
          "pattern": {
           "shape": ""
          }
         },
         "name": "Attributor",
         "offsetgroup": "Attributor",
         "orientation": "v",
         "showlegend": true,
         "textposition": "auto",
         "type": "bar",
         "x": [
          "software"
         ],
         "xaxis": "x",
         "y": [
          25200000
         ],
         "yaxis": "y"
        },
        {
         "alignmentgroup": "True",
         "hovertemplate": "name=AutoVirt<br>category_code=%{x}<br>funding=%{y}<extra></extra>",
         "legendgroup": "AutoVirt",
         "marker": {
          "color": "#FF6692",
          "pattern": {
           "shape": ""
          }
         },
         "name": "AutoVirt",
         "offsetgroup": "AutoVirt",
         "orientation": "v",
         "showlegend": true,
         "textposition": "auto",
         "type": "bar",
         "x": [
          "software"
         ],
         "xaxis": "x",
         "y": [
          24300000
         ],
         "yaxis": "y"
        },
        {
         "alignmentgroup": "True",
         "hovertemplate": "name=Aveksa<br>category_code=%{x}<br>funding=%{y}<extra></extra>",
         "legendgroup": "Aveksa",
         "marker": {
          "color": "#B6E880",
          "pattern": {
           "shape": ""
          }
         },
         "name": "Aveksa",
         "offsetgroup": "Aveksa",
         "orientation": "v",
         "showlegend": true,
         "textposition": "auto",
         "type": "bar",
         "x": [
          "software"
         ],
         "xaxis": "x",
         "y": [
          28000000
         ],
         "yaxis": "y"
        },
        {
         "alignmentgroup": "True",
         "hovertemplate": "name=AwesomeTouch<br>category_code=%{x}<br>funding=%{y}<extra></extra>",
         "legendgroup": "AwesomeTouch",
         "marker": {
          "color": "#FF97FF",
          "pattern": {
           "shape": ""
          }
         },
         "name": "AwesomeTouch",
         "offsetgroup": "AwesomeTouch",
         "orientation": "v",
         "showlegend": true,
         "textposition": "auto",
         "type": "bar",
         "x": [
          "software"
         ],
         "xaxis": "x",
         "y": [
          59700
         ],
         "yaxis": "y"
        },
        {
         "alignmentgroup": "True",
         "hovertemplate": "name=Azaire Networks<br>category_code=%{x}<br>funding=%{y}<extra></extra>",
         "legendgroup": "Azaire Networks",
         "marker": {
          "color": "#FECB52",
          "pattern": {
           "shape": ""
          }
         },
         "name": "Azaire Networks",
         "offsetgroup": "Azaire Networks",
         "orientation": "v",
         "showlegend": true,
         "textposition": "auto",
         "type": "bar",
         "x": [
          "software"
         ],
         "xaxis": "x",
         "y": [
          21000000
         ],
         "yaxis": "y"
        },
        {
         "alignmentgroup": "True",
         "hovertemplate": "name=B-hive Networks<br>category_code=%{x}<br>funding=%{y}<extra></extra>",
         "legendgroup": "B-hive Networks",
         "marker": {
          "color": "#636efa",
          "pattern": {
           "shape": ""
          }
         },
         "name": "B-hive Networks",
         "offsetgroup": "B-hive Networks",
         "orientation": "v",
         "showlegend": true,
         "textposition": "auto",
         "type": "bar",
         "x": [
          "software"
         ],
         "xaxis": "x",
         "y": [
          7500000
         ],
         "yaxis": "y"
        },
        {
         "alignmentgroup": "True",
         "hovertemplate": "name=Behavio<br>category_code=%{x}<br>funding=%{y}<extra></extra>",
         "legendgroup": "Behavio",
         "marker": {
          "color": "#EF553B",
          "pattern": {
           "shape": ""
          }
         },
         "name": "Behavio",
         "offsetgroup": "Behavio",
         "orientation": "v",
         "showlegend": true,
         "textposition": "auto",
         "type": "bar",
         "x": [
          "software"
         ],
         "xaxis": "x",
         "y": [
          355000
         ],
         "yaxis": "y"
        },
        {
         "alignmentgroup": "True",
         "hovertemplate": "name=BestVendor<br>category_code=%{x}<br>funding=%{y}<extra></extra>",
         "legendgroup": "BestVendor",
         "marker": {
          "color": "#00cc96",
          "pattern": {
           "shape": ""
          }
         },
         "name": "BestVendor",
         "offsetgroup": "BestVendor",
         "orientation": "v",
         "showlegend": true,
         "textposition": "auto",
         "type": "bar",
         "x": [
          "software"
         ],
         "xaxis": "x",
         "y": [
          4200000
         ],
         "yaxis": "y"
        },
        {
         "alignmentgroup": "True",
         "hovertemplate": "name=BlueNote Networks<br>category_code=%{x}<br>funding=%{y}<extra></extra>",
         "legendgroup": "BlueNote Networks",
         "marker": {
          "color": "#ab63fa",
          "pattern": {
           "shape": ""
          }
         },
         "name": "BlueNote Networks",
         "offsetgroup": "BlueNote Networks",
         "orientation": "v",
         "showlegend": true,
         "textposition": "auto",
         "type": "bar",
         "x": [
          "software"
         ],
         "xaxis": "x",
         "y": [
          23400000
         ],
         "yaxis": "y"
        },
        {
         "alignmentgroup": "True",
         "hovertemplate": "name=Braintree<br>category_code=%{x}<br>funding=%{y}<extra></extra>",
         "legendgroup": "Braintree",
         "marker": {
          "color": "#FFA15A",
          "pattern": {
           "shape": ""
          }
         },
         "name": "Braintree",
         "offsetgroup": "Braintree",
         "orientation": "v",
         "showlegend": true,
         "textposition": "auto",
         "type": "bar",
         "x": [
          "software"
         ],
         "xaxis": "x",
         "y": [
          69000000
         ],
         "yaxis": "y"
        },
        {
         "alignmentgroup": "True",
         "hovertemplate": "name=Brickfish<br>category_code=%{x}<br>funding=%{y}<extra></extra>",
         "legendgroup": "Brickfish",
         "marker": {
          "color": "#19d3f3",
          "pattern": {
           "shape": ""
          }
         },
         "name": "Brickfish",
         "offsetgroup": "Brickfish",
         "orientation": "v",
         "showlegend": true,
         "textposition": "auto",
         "type": "bar",
         "x": [
          "software"
         ],
         "xaxis": "x",
         "y": [
          940261
         ],
         "yaxis": "y"
        },
        {
         "alignmentgroup": "True",
         "hovertemplate": "name=BridgePort Networks<br>category_code=%{x}<br>funding=%{y}<extra></extra>",
         "legendgroup": "BridgePort Networks",
         "marker": {
          "color": "#FF6692",
          "pattern": {
           "shape": ""
          }
         },
         "name": "BridgePort Networks",
         "offsetgroup": "BridgePort Networks",
         "orientation": "v",
         "showlegend": true,
         "textposition": "auto",
         "type": "bar",
         "x": [
          "software"
         ],
         "xaxis": "x",
         "y": [
          13000000
         ],
         "yaxis": "y"
        },
        {
         "alignmentgroup": "True",
         "hovertemplate": "name=BroadLight<br>category_code=%{x}<br>funding=%{y}<extra></extra>",
         "legendgroup": "BroadLight",
         "marker": {
          "color": "#B6E880",
          "pattern": {
           "shape": ""
          }
         },
         "name": "BroadLight",
         "offsetgroup": "BroadLight",
         "orientation": "v",
         "showlegend": true,
         "textposition": "auto",
         "type": "bar",
         "x": [
          "software"
         ],
         "xaxis": "x",
         "y": [
          27000000
         ],
         "yaxis": "y"
        },
        {
         "alignmentgroup": "True",
         "hovertemplate": "name=Camiant<br>category_code=%{x}<br>funding=%{y}<extra></extra>",
         "legendgroup": "Camiant",
         "marker": {
          "color": "#FF97FF",
          "pattern": {
           "shape": ""
          }
         },
         "name": "Camiant",
         "offsetgroup": "Camiant",
         "orientation": "v",
         "showlegend": true,
         "textposition": "auto",
         "type": "bar",
         "x": [
          "software"
         ],
         "xaxis": "x",
         "y": [
          16100000
         ],
         "yaxis": "y"
        },
        {
         "alignmentgroup": "True",
         "hovertemplate": "name=CardStar<br>category_code=%{x}<br>funding=%{y}<extra></extra>",
         "legendgroup": "CardStar",
         "marker": {
          "color": "#FECB52",
          "pattern": {
           "shape": ""
          }
         },
         "name": "CardStar",
         "offsetgroup": "CardStar",
         "orientation": "v",
         "showlegend": true,
         "textposition": "auto",
         "type": "bar",
         "x": [
          "software"
         ],
         "xaxis": "x",
         "y": [
          2030882
         ],
         "yaxis": "y"
        },
        {
         "alignmentgroup": "True",
         "hovertemplate": "name=Cassatt<br>category_code=%{x}<br>funding=%{y}<extra></extra>",
         "legendgroup": "Cassatt",
         "marker": {
          "color": "#636efa",
          "pattern": {
           "shape": ""
          }
         },
         "name": "Cassatt",
         "offsetgroup": "Cassatt",
         "orientation": "v",
         "showlegend": true,
         "textposition": "auto",
         "type": "bar",
         "x": [
          "software"
         ],
         "xaxis": "x",
         "y": [
          15000000
         ],
         "yaxis": "y"
        },
        {
         "alignmentgroup": "True",
         "hovertemplate": "name=Causata<br>category_code=%{x}<br>funding=%{y}<extra></extra>",
         "legendgroup": "Causata",
         "marker": {
          "color": "#EF553B",
          "pattern": {
           "shape": ""
          }
         },
         "name": "Causata",
         "offsetgroup": "Causata",
         "orientation": "v",
         "showlegend": true,
         "textposition": "auto",
         "type": "bar",
         "x": [
          "software"
         ],
         "xaxis": "x",
         "y": [
          15500000
         ],
         "yaxis": "y"
        },
        {
         "alignmentgroup": "True",
         "hovertemplate": "name=CentrePath<br>category_code=%{x}<br>funding=%{y}<extra></extra>",
         "legendgroup": "CentrePath",
         "marker": {
          "color": "#00cc96",
          "pattern": {
           "shape": ""
          }
         },
         "name": "CentrePath",
         "offsetgroup": "CentrePath",
         "orientation": "v",
         "showlegend": true,
         "textposition": "auto",
         "type": "bar",
         "x": [
          "software"
         ],
         "xaxis": "x",
         "y": [
          15050000
         ],
         "yaxis": "y"
        },
        {
         "alignmentgroup": "True",
         "hovertemplate": "name=Certeon<br>category_code=%{x}<br>funding=%{y}<extra></extra>",
         "legendgroup": "Certeon",
         "marker": {
          "color": "#ab63fa",
          "pattern": {
           "shape": ""
          }
         },
         "name": "Certeon",
         "offsetgroup": "Certeon",
         "orientation": "v",
         "showlegend": true,
         "textposition": "auto",
         "type": "bar",
         "x": [
          "software"
         ],
         "xaxis": "x",
         "y": [
          19000000
         ],
         "yaxis": "y"
        },
        {
         "alignmentgroup": "True",
         "hovertemplate": "name=Clearwell Systems<br>category_code=%{x}<br>funding=%{y}<extra></extra>",
         "legendgroup": "Clearwell Systems",
         "marker": {
          "color": "#FFA15A",
          "pattern": {
           "shape": ""
          }
         },
         "name": "Clearwell Systems",
         "offsetgroup": "Clearwell Systems",
         "orientation": "v",
         "showlegend": true,
         "textposition": "auto",
         "type": "bar",
         "x": [
          "software"
         ],
         "xaxis": "x",
         "y": [
          29000000
         ],
         "yaxis": "y"
        },
        {
         "alignmentgroup": "True",
         "hovertemplate": "name=CloudShield Technologies<br>category_code=%{x}<br>funding=%{y}<extra></extra>",
         "legendgroup": "CloudShield Technologies",
         "marker": {
          "color": "#19d3f3",
          "pattern": {
           "shape": ""
          }
         },
         "name": "CloudShield Technologies",
         "offsetgroup": "CloudShield Technologies",
         "orientation": "v",
         "showlegend": true,
         "textposition": "auto",
         "type": "bar",
         "x": [
          "software"
         ],
         "xaxis": "x",
         "y": [
          25000000
         ],
         "yaxis": "y"
        },
        {
         "alignmentgroup": "True",
         "hovertemplate": "name=Codesion<br>category_code=%{x}<br>funding=%{y}<extra></extra>",
         "legendgroup": "Codesion",
         "marker": {
          "color": "#FF6692",
          "pattern": {
           "shape": ""
          }
         },
         "name": "Codesion",
         "offsetgroup": "Codesion",
         "orientation": "v",
         "showlegend": true,
         "textposition": "auto",
         "type": "bar",
         "x": [
          "software"
         ],
         "xaxis": "x",
         "y": [
          1400000
         ],
         "yaxis": "y"
        },
        {
         "alignmentgroup": "True",
         "hovertemplate": "name=ColdSpark<br>category_code=%{x}<br>funding=%{y}<extra></extra>",
         "legendgroup": "ColdSpark",
         "marker": {
          "color": "#B6E880",
          "pattern": {
           "shape": ""
          }
         },
         "name": "ColdSpark",
         "offsetgroup": "ColdSpark",
         "orientation": "v",
         "showlegend": true,
         "textposition": "auto",
         "type": "bar",
         "x": [
          "software"
         ],
         "xaxis": "x",
         "y": [
          6500000
         ],
         "yaxis": "y"
        },
        {
         "alignmentgroup": "True",
         "hovertemplate": "name=Composite Software<br>category_code=%{x}<br>funding=%{y}<extra></extra>",
         "legendgroup": "Composite Software",
         "marker": {
          "color": "#FF97FF",
          "pattern": {
           "shape": ""
          }
         },
         "name": "Composite Software",
         "offsetgroup": "Composite Software",
         "orientation": "v",
         "showlegend": true,
         "textposition": "auto",
         "type": "bar",
         "x": [
          "software"
         ],
         "xaxis": "x",
         "y": [
          14650003
         ],
         "yaxis": "y"
        },
        {
         "alignmentgroup": "True",
         "hovertemplate": "name=Cotendo<br>category_code=%{x}<br>funding=%{y}<extra></extra>",
         "legendgroup": "Cotendo",
         "marker": {
          "color": "#FECB52",
          "pattern": {
           "shape": ""
          }
         },
         "name": "Cotendo",
         "offsetgroup": "Cotendo",
         "orientation": "v",
         "showlegend": true,
         "textposition": "auto",
         "type": "bar",
         "x": [
          "software"
         ],
         "xaxis": "x",
         "y": [
          36000000
         ],
         "yaxis": "y"
        },
        {
         "alignmentgroup": "True",
         "hovertemplate": "name=Crowdcast<br>category_code=%{x}<br>funding=%{y}<extra></extra>",
         "legendgroup": "Crowdcast",
         "marker": {
          "color": "#636efa",
          "pattern": {
           "shape": ""
          }
         },
         "name": "Crowdcast",
         "offsetgroup": "Crowdcast",
         "orientation": "v",
         "showlegend": true,
         "textposition": "auto",
         "type": "bar",
         "x": [
          "software"
         ],
         "xaxis": "x",
         "y": [
          6000000
         ],
         "yaxis": "y"
        },
        {
         "alignmentgroup": "True",
         "hovertemplate": "name=Elanti Systems<br>category_code=%{x}<br>funding=%{y}<extra></extra>",
         "legendgroup": "Elanti Systems",
         "marker": {
          "color": "#EF553B",
          "pattern": {
           "shape": ""
          }
         },
         "name": "Elanti Systems",
         "offsetgroup": "Elanti Systems",
         "orientation": "v",
         "showlegend": true,
         "textposition": "auto",
         "type": "bar",
         "x": [
          "software"
         ],
         "xaxis": "x",
         "y": [
          5500000
         ],
         "yaxis": "y"
        },
        {
         "alignmentgroup": "True",
         "hovertemplate": "name=Elastra<br>category_code=%{x}<br>funding=%{y}<extra></extra>",
         "legendgroup": "Elastra",
         "marker": {
          "color": "#00cc96",
          "pattern": {
           "shape": ""
          }
         },
         "name": "Elastra",
         "offsetgroup": "Elastra",
         "orientation": "v",
         "showlegend": true,
         "textposition": "auto",
         "type": "bar",
         "x": [
          "software"
         ],
         "xaxis": "x",
         "y": [
          14600000
         ],
         "yaxis": "y"
        },
        {
         "alignmentgroup": "True",
         "hovertemplate": "name=Encentuate<br>category_code=%{x}<br>funding=%{y}<extra></extra>",
         "legendgroup": "Encentuate",
         "marker": {
          "color": "#ab63fa",
          "pattern": {
           "shape": ""
          }
         },
         "name": "Encentuate",
         "offsetgroup": "Encentuate",
         "orientation": "v",
         "showlegend": true,
         "textposition": "auto",
         "type": "bar",
         "x": [
          "software"
         ],
         "xaxis": "x",
         "y": [
          16000000
         ],
         "yaxis": "y"
        },
        {
         "alignmentgroup": "True",
         "hovertemplate": "name=Entertainment Media Works<br>category_code=%{x}<br>funding=%{y}<extra></extra>",
         "legendgroup": "Entertainment Media Works",
         "marker": {
          "color": "#FFA15A",
          "pattern": {
           "shape": ""
          }
         },
         "name": "Entertainment Media Works",
         "offsetgroup": "Entertainment Media Works",
         "orientation": "v",
         "showlegend": true,
         "textposition": "auto",
         "type": "bar",
         "x": [
          "software"
         ],
         "xaxis": "x",
         "y": [
          4000000
         ],
         "yaxis": "y"
        },
        {
         "alignmentgroup": "True",
         "hovertemplate": "name=ExactTarget<br>category_code=%{x}<br>funding=%{y}<extra></extra>",
         "legendgroup": "ExactTarget",
         "marker": {
          "color": "#19d3f3",
          "pattern": {
           "shape": ""
          }
         },
         "name": "ExactTarget",
         "offsetgroup": "ExactTarget",
         "orientation": "v",
         "showlegend": true,
         "textposition": "auto",
         "type": "bar",
         "x": [
          "software"
         ],
         "xaxis": "x",
         "y": [
          238209999
         ],
         "yaxis": "y"
        },
        {
         "alignmentgroup": "True",
         "hovertemplate": "name=Exit41<br>category_code=%{x}<br>funding=%{y}<extra></extra>",
         "legendgroup": "Exit41",
         "marker": {
          "color": "#FF6692",
          "pattern": {
           "shape": ""
          }
         },
         "name": "Exit41",
         "offsetgroup": "Exit41",
         "orientation": "v",
         "showlegend": true,
         "textposition": "auto",
         "type": "bar",
         "x": [
          "software"
         ],
         "xaxis": "x",
         "y": [
          24200000
         ],
         "yaxis": "y"
        },
        {
         "alignmentgroup": "True",
         "hovertemplate": "name=FastSoft<br>category_code=%{x}<br>funding=%{y}<extra></extra>",
         "legendgroup": "FastSoft",
         "marker": {
          "color": "#B6E880",
          "pattern": {
           "shape": ""
          }
         },
         "name": "FastSoft",
         "offsetgroup": "FastSoft",
         "orientation": "v",
         "showlegend": true,
         "textposition": "auto",
         "type": "bar",
         "x": [
          "software"
         ],
         "xaxis": "x",
         "y": [
          5965000
         ],
         "yaxis": "y"
        },
        {
         "alignmentgroup": "True",
         "hovertemplate": "name=FireStar Software<br>category_code=%{x}<br>funding=%{y}<extra></extra>",
         "legendgroup": "FireStar Software",
         "marker": {
          "color": "#FF97FF",
          "pattern": {
           "shape": ""
          }
         },
         "name": "FireStar Software",
         "offsetgroup": "FireStar Software",
         "orientation": "v",
         "showlegend": true,
         "textposition": "auto",
         "type": "bar",
         "x": [
          "software"
         ],
         "xaxis": "x",
         "y": [
          980000
         ],
         "yaxis": "y"
        },
        {
         "alignmentgroup": "True",
         "hovertemplate": "name=FlashSoft<br>category_code=%{x}<br>funding=%{y}<extra></extra>",
         "legendgroup": "FlashSoft",
         "marker": {
          "color": "#FECB52",
          "pattern": {
           "shape": ""
          }
         },
         "name": "FlashSoft",
         "offsetgroup": "FlashSoft",
         "orientation": "v",
         "showlegend": true,
         "textposition": "auto",
         "type": "bar",
         "x": [
          "software"
         ],
         "xaxis": "x",
         "y": [
          3000000
         ],
         "yaxis": "y"
        },
        {
         "alignmentgroup": "True",
         "hovertemplate": "name=Fortify Software<br>category_code=%{x}<br>funding=%{y}<extra></extra>",
         "legendgroup": "Fortify Software",
         "marker": {
          "color": "#636efa",
          "pattern": {
           "shape": ""
          }
         },
         "name": "Fortify Software",
         "offsetgroup": "Fortify Software",
         "orientation": "v",
         "showlegend": true,
         "textposition": "auto",
         "type": "bar",
         "x": [
          "software"
         ],
         "xaxis": "x",
         "y": [
          10000000
         ],
         "yaxis": "y"
        },
        {
         "alignmentgroup": "True",
         "hovertemplate": "name=Fortisphere<br>category_code=%{x}<br>funding=%{y}<extra></extra>",
         "legendgroup": "Fortisphere",
         "marker": {
          "color": "#EF553B",
          "pattern": {
           "shape": ""
          }
         },
         "name": "Fortisphere",
         "offsetgroup": "Fortisphere",
         "orientation": "v",
         "showlegend": true,
         "textposition": "auto",
         "type": "bar",
         "x": [
          "software"
         ],
         "xaxis": "x",
         "y": [
          10000000
         ],
         "yaxis": "y"
        },
        {
         "alignmentgroup": "True",
         "hovertemplate": "name=Game Trust<br>category_code=%{x}<br>funding=%{y}<extra></extra>",
         "legendgroup": "Game Trust",
         "marker": {
          "color": "#00cc96",
          "pattern": {
           "shape": ""
          }
         },
         "name": "Game Trust",
         "offsetgroup": "Game Trust",
         "orientation": "v",
         "showlegend": true,
         "textposition": "auto",
         "type": "bar",
         "x": [
          "software"
         ],
         "xaxis": "x",
         "y": [
          9000000
         ],
         "yaxis": "y"
        },
        {
         "alignmentgroup": "True",
         "hovertemplate": "name=Generic Media<br>category_code=%{x}<br>funding=%{y}<extra></extra>",
         "legendgroup": "Generic Media",
         "marker": {
          "color": "#ab63fa",
          "pattern": {
           "shape": ""
          }
         },
         "name": "Generic Media",
         "offsetgroup": "Generic Media",
         "orientation": "v",
         "showlegend": true,
         "textposition": "auto",
         "type": "bar",
         "x": [
          "software"
         ],
         "xaxis": "x",
         "y": [
          2500000
         ],
         "yaxis": "y"
        },
        {
         "alignmentgroup": "True",
         "hovertemplate": "name=GlobalCrypto<br>category_code=%{x}<br>funding=%{y}<extra></extra>",
         "legendgroup": "GlobalCrypto",
         "marker": {
          "color": "#FFA15A",
          "pattern": {
           "shape": ""
          }
         },
         "name": "GlobalCrypto",
         "offsetgroup": "GlobalCrypto",
         "orientation": "v",
         "showlegend": true,
         "textposition": "auto",
         "type": "bar",
         "x": [
          "software"
         ],
         "xaxis": "x",
         "y": [
          1000000
         ],
         "yaxis": "y"
        },
        {
         "alignmentgroup": "True",
         "hovertemplate": "name=Greenplum Software<br>category_code=%{x}<br>funding=%{y}<extra></extra>",
         "legendgroup": "Greenplum Software",
         "marker": {
          "color": "#19d3f3",
          "pattern": {
           "shape": ""
          }
         },
         "name": "Greenplum Software",
         "offsetgroup": "Greenplum Software",
         "orientation": "v",
         "showlegend": true,
         "textposition": "auto",
         "type": "bar",
         "x": [
          "software"
         ],
         "xaxis": "x",
         "y": [
          61000000
         ],
         "yaxis": "y"
        },
        {
         "alignmentgroup": "True",
         "hovertemplate": "name=GuardianEdge Technologies<br>category_code=%{x}<br>funding=%{y}<extra></extra>",
         "legendgroup": "GuardianEdge Technologies",
         "marker": {
          "color": "#FF6692",
          "pattern": {
           "shape": ""
          }
         },
         "name": "GuardianEdge Technologies",
         "offsetgroup": "GuardianEdge Technologies",
         "orientation": "v",
         "showlegend": true,
         "textposition": "auto",
         "type": "bar",
         "x": [
          "software"
         ],
         "xaxis": "x",
         "y": [
          19500000
         ],
         "yaxis": "y"
        },
        {
         "alignmentgroup": "True",
         "hovertemplate": "name=Hatteras Networks<br>category_code=%{x}<br>funding=%{y}<extra></extra>",
         "legendgroup": "Hatteras Networks",
         "marker": {
          "color": "#B6E880",
          "pattern": {
           "shape": ""
          }
         },
         "name": "Hatteras Networks",
         "offsetgroup": "Hatteras Networks",
         "orientation": "v",
         "showlegend": true,
         "textposition": "auto",
         "type": "bar",
         "x": [
          "software"
         ],
         "xaxis": "x",
         "y": [
          36000000
         ],
         "yaxis": "y"
        },
        {
         "alignmentgroup": "True",
         "hovertemplate": "name=HeadCase Humanufacturing<br>category_code=%{x}<br>funding=%{y}<extra></extra>",
         "legendgroup": "HeadCase Humanufacturing",
         "marker": {
          "color": "#FF97FF",
          "pattern": {
           "shape": ""
          }
         },
         "name": "HeadCase Humanufacturing",
         "offsetgroup": "HeadCase Humanufacturing",
         "orientation": "v",
         "showlegend": true,
         "textposition": "auto",
         "type": "bar",
         "x": [
          "software"
         ],
         "xaxis": "x",
         "y": [
          900000
         ],
         "yaxis": "y"
        },
        {
         "alignmentgroup": "True",
         "hovertemplate": "name=HiWired<br>category_code=%{x}<br>funding=%{y}<extra></extra>",
         "legendgroup": "HiWired",
         "marker": {
          "color": "#FECB52",
          "pattern": {
           "shape": ""
          }
         },
         "name": "HiWired",
         "offsetgroup": "HiWired",
         "orientation": "v",
         "showlegend": true,
         "textposition": "auto",
         "type": "bar",
         "x": [
          "software"
         ],
         "xaxis": "x",
         "y": [
          14000000
         ],
         "yaxis": "y"
        },
        {
         "alignmentgroup": "True",
         "hovertemplate": "name=Hubspan<br>category_code=%{x}<br>funding=%{y}<extra></extra>",
         "legendgroup": "Hubspan",
         "marker": {
          "color": "#636efa",
          "pattern": {
           "shape": ""
          }
         },
         "name": "Hubspan",
         "offsetgroup": "Hubspan",
         "orientation": "v",
         "showlegend": true,
         "textposition": "auto",
         "type": "bar",
         "x": [
          "software"
         ],
         "xaxis": "x",
         "y": [
          13000000
         ],
         "yaxis": "y"
        },
        {
         "alignmentgroup": "True",
         "hovertemplate": "name=Hyperic<br>category_code=%{x}<br>funding=%{y}<extra></extra>",
         "legendgroup": "Hyperic",
         "marker": {
          "color": "#EF553B",
          "pattern": {
           "shape": ""
          }
         },
         "name": "Hyperic",
         "offsetgroup": "Hyperic",
         "orientation": "v",
         "showlegend": true,
         "textposition": "auto",
         "type": "bar",
         "x": [
          "software"
         ],
         "xaxis": "x",
         "y": [
          9900000
         ],
         "yaxis": "y"
        },
        {
         "alignmentgroup": "True",
         "hovertemplate": "name=Imagine Communications<br>category_code=%{x}<br>funding=%{y}<extra></extra>",
         "legendgroup": "Imagine Communications",
         "marker": {
          "color": "#00cc96",
          "pattern": {
           "shape": ""
          }
         },
         "name": "Imagine Communications",
         "offsetgroup": "Imagine Communications",
         "orientation": "v",
         "showlegend": true,
         "textposition": "auto",
         "type": "bar",
         "x": [
          "software"
         ],
         "xaxis": "x",
         "y": [
          34700000
         ],
         "yaxis": "y"
        },
        {
         "alignmentgroup": "True",
         "hovertemplate": "name=Immunet Corporation<br>category_code=%{x}<br>funding=%{y}<extra></extra>",
         "legendgroup": "Immunet Corporation",
         "marker": {
          "color": "#ab63fa",
          "pattern": {
           "shape": ""
          }
         },
         "name": "Immunet Corporation",
         "offsetgroup": "Immunet Corporation",
         "orientation": "v",
         "showlegend": true,
         "textposition": "auto",
         "type": "bar",
         "x": [
          "software"
         ],
         "xaxis": "x",
         "y": [
          2000000
         ],
         "yaxis": "y"
        },
        {
         "alignmentgroup": "True",
         "hovertemplate": "name=Impeva<br>category_code=%{x}<br>funding=%{y}<extra></extra>",
         "legendgroup": "Impeva",
         "marker": {
          "color": "#FFA15A",
          "pattern": {
           "shape": ""
          }
         },
         "name": "Impeva",
         "offsetgroup": "Impeva",
         "orientation": "v",
         "showlegend": true,
         "textposition": "auto",
         "type": "bar",
         "x": [
          "software"
         ],
         "xaxis": "x",
         "y": [
          10000000
         ],
         "yaxis": "y"
        },
        {
         "alignmentgroup": "True",
         "hovertemplate": "name=Inertia Beverage Group<br>category_code=%{x}<br>funding=%{y}<extra></extra>",
         "legendgroup": "Inertia Beverage Group",
         "marker": {
          "color": "#19d3f3",
          "pattern": {
           "shape": ""
          }
         },
         "name": "Inertia Beverage Group",
         "offsetgroup": "Inertia Beverage Group",
         "orientation": "v",
         "showlegend": true,
         "textposition": "auto",
         "type": "bar",
         "x": [
          "software"
         ],
         "xaxis": "x",
         "y": [
          25500100
         ],
         "yaxis": "y"
        },
        {
         "alignmentgroup": "True",
         "hovertemplate": "name=Infineta Systems<br>category_code=%{x}<br>funding=%{y}<extra></extra>",
         "legendgroup": "Infineta Systems",
         "marker": {
          "color": "#FF6692",
          "pattern": {
           "shape": ""
          }
         },
         "name": "Infineta Systems",
         "offsetgroup": "Infineta Systems",
         "orientation": "v",
         "showlegend": true,
         "textposition": "auto",
         "type": "bar",
         "x": [
          "software"
         ],
         "xaxis": "x",
         "y": [
          30000000
         ],
         "yaxis": "y"
        },
        {
         "alignmentgroup": "True",
         "hovertemplate": "name=Intelliden<br>category_code=%{x}<br>funding=%{y}<extra></extra>",
         "legendgroup": "Intelliden",
         "marker": {
          "color": "#B6E880",
          "pattern": {
           "shape": ""
          }
         },
         "name": "Intelliden",
         "offsetgroup": "Intelliden",
         "orientation": "v",
         "showlegend": true,
         "textposition": "auto",
         "type": "bar",
         "x": [
          "software"
         ],
         "xaxis": "x",
         "y": [
          80000000
         ],
         "yaxis": "y"
        },
        {
         "alignmentgroup": "True",
         "hovertemplate": "name=Intrusic<br>category_code=%{x}<br>funding=%{y}<extra></extra>",
         "legendgroup": "Intrusic",
         "marker": {
          "color": "#FF97FF",
          "pattern": {
           "shape": ""
          }
         },
         "name": "Intrusic",
         "offsetgroup": "Intrusic",
         "orientation": "v",
         "showlegend": true,
         "textposition": "auto",
         "type": "bar",
         "x": [
          "software"
         ],
         "xaxis": "x",
         "y": [
          16000000
         ],
         "yaxis": "y"
        },
        {
         "alignmentgroup": "True",
         "hovertemplate": "name=Involver<br>category_code=%{x}<br>funding=%{y}<extra></extra>",
         "legendgroup": "Involver",
         "marker": {
          "color": "#FECB52",
          "pattern": {
           "shape": ""
          }
         },
         "name": "Involver",
         "offsetgroup": "Involver",
         "orientation": "v",
         "showlegend": true,
         "textposition": "auto",
         "type": "bar",
         "x": [
          "software"
         ],
         "xaxis": "x",
         "y": [
          11040000
         ],
         "yaxis": "y"
        },
        {
         "alignmentgroup": "True",
         "hovertemplate": "name=IonLogix Systems<br>category_code=%{x}<br>funding=%{y}<extra></extra>",
         "legendgroup": "IonLogix Systems",
         "marker": {
          "color": "#636efa",
          "pattern": {
           "shape": ""
          }
         },
         "name": "IonLogix Systems",
         "offsetgroup": "IonLogix Systems",
         "orientation": "v",
         "showlegend": true,
         "textposition": "auto",
         "type": "bar",
         "x": [
          "software"
         ],
         "xaxis": "x",
         "y": [
          30000
         ],
         "yaxis": "y"
        },
        {
         "alignmentgroup": "True",
         "hovertemplate": "name=JackBe<br>category_code=%{x}<br>funding=%{y}<extra></extra>",
         "legendgroup": "JackBe",
         "marker": {
          "color": "#EF553B",
          "pattern": {
           "shape": ""
          }
         },
         "name": "JackBe",
         "offsetgroup": "JackBe",
         "orientation": "v",
         "showlegend": true,
         "textposition": "auto",
         "type": "bar",
         "x": [
          "software"
         ],
         "xaxis": "x",
         "y": [
          24500000
         ],
         "yaxis": "y"
        },
        {
         "alignmentgroup": "True",
         "hovertemplate": "name=JavaJobs<br>category_code=%{x}<br>funding=%{y}<extra></extra>",
         "legendgroup": "JavaJobs",
         "marker": {
          "color": "#00cc96",
          "pattern": {
           "shape": ""
          }
         },
         "name": "JavaJobs",
         "offsetgroup": "JavaJobs",
         "orientation": "v",
         "showlegend": true,
         "textposition": "auto",
         "type": "bar",
         "x": [
          "software"
         ],
         "xaxis": "x",
         "y": [
          50000
         ],
         "yaxis": "y"
        },
        {
         "alignmentgroup": "True",
         "hovertemplate": "name=Kace networks<br>category_code=%{x}<br>funding=%{y}<extra></extra>",
         "legendgroup": "Kace networks",
         "marker": {
          "color": "#ab63fa",
          "pattern": {
           "shape": ""
          }
         },
         "name": "Kace networks",
         "offsetgroup": "Kace networks",
         "orientation": "v",
         "showlegend": true,
         "textposition": "auto",
         "type": "bar",
         "x": [
          "software"
         ],
         "xaxis": "x",
         "y": [
          11000000
         ],
         "yaxis": "y"
        },
        {
         "alignmentgroup": "True",
         "hovertemplate": "name=Kapow Software<br>category_code=%{x}<br>funding=%{y}<extra></extra>",
         "legendgroup": "Kapow Software",
         "marker": {
          "color": "#FFA15A",
          "pattern": {
           "shape": ""
          }
         },
         "name": "Kapow Software",
         "offsetgroup": "Kapow Software",
         "orientation": "v",
         "showlegend": true,
         "textposition": "auto",
         "type": "bar",
         "x": [
          "software"
         ],
         "xaxis": "x",
         "y": [
          19743770
         ],
         "yaxis": "y"
        },
        {
         "alignmentgroup": "True",
         "hovertemplate": "name=Kickfire<br>category_code=%{x}<br>funding=%{y}<extra></extra>",
         "legendgroup": "Kickfire",
         "marker": {
          "color": "#19d3f3",
          "pattern": {
           "shape": ""
          }
         },
         "name": "Kickfire",
         "offsetgroup": "Kickfire",
         "orientation": "v",
         "showlegend": true,
         "textposition": "auto",
         "type": "bar",
         "x": [
          "software"
         ],
         "xaxis": "x",
         "y": [
          20000000
         ],
         "yaxis": "y"
        },
        {
         "alignmentgroup": "True",
         "hovertemplate": "name=Kiha Software<br>category_code=%{x}<br>funding=%{y}<extra></extra>",
         "legendgroup": "Kiha Software",
         "marker": {
          "color": "#FF6692",
          "pattern": {
           "shape": ""
          }
         },
         "name": "Kiha Software",
         "offsetgroup": "Kiha Software",
         "orientation": "v",
         "showlegend": true,
         "textposition": "auto",
         "type": "bar",
         "x": [
          "software"
         ],
         "xaxis": "x",
         "y": [
          20000000
         ],
         "yaxis": "y"
        },
        {
         "alignmentgroup": "True",
         "hovertemplate": "name=Kurani Interactive<br>category_code=%{x}<br>funding=%{y}<extra></extra>",
         "legendgroup": "Kurani Interactive",
         "marker": {
          "color": "#B6E880",
          "pattern": {
           "shape": ""
          }
         },
         "name": "Kurani Interactive",
         "offsetgroup": "Kurani Interactive",
         "orientation": "v",
         "showlegend": true,
         "textposition": "auto",
         "type": "bar",
         "x": [
          "software"
         ],
         "xaxis": "x",
         "y": [
          275000
         ],
         "yaxis": "y"
        },
        {
         "alignmentgroup": "True",
         "hovertemplate": "name=Layer 7 Technologies<br>category_code=%{x}<br>funding=%{y}<extra></extra>",
         "legendgroup": "Layer 7 Technologies",
         "marker": {
          "color": "#FF97FF",
          "pattern": {
           "shape": ""
          }
         },
         "name": "Layer 7 Technologies",
         "offsetgroup": "Layer 7 Technologies",
         "orientation": "v",
         "showlegend": true,
         "textposition": "auto",
         "type": "bar",
         "x": [
          "software"
         ],
         "xaxis": "x",
         "y": [
          19900000
         ],
         "yaxis": "y"
        },
        {
         "alignmentgroup": "True",
         "hovertemplate": "name=LeisureLogix<br>category_code=%{x}<br>funding=%{y}<extra></extra>",
         "legendgroup": "LeisureLogix",
         "marker": {
          "color": "#FECB52",
          "pattern": {
           "shape": ""
          }
         },
         "name": "LeisureLogix",
         "offsetgroup": "LeisureLogix",
         "orientation": "v",
         "showlegend": true,
         "textposition": "auto",
         "type": "bar",
         "x": [
          "software"
         ],
         "xaxis": "x",
         "y": [
          5900000
         ],
         "yaxis": "y"
        },
        {
         "alignmentgroup": "True",
         "hovertemplate": "name=Levanta<br>category_code=%{x}<br>funding=%{y}<extra></extra>",
         "legendgroup": "Levanta",
         "marker": {
          "color": "#636efa",
          "pattern": {
           "shape": ""
          }
         },
         "name": "Levanta",
         "offsetgroup": "Levanta",
         "orientation": "v",
         "showlegend": true,
         "textposition": "auto",
         "type": "bar",
         "x": [
          "software"
         ],
         "xaxis": "x",
         "y": [
          8000000
         ],
         "yaxis": "y"
        },
        {
         "alignmentgroup": "True",
         "hovertemplate": "name=Likewise Software<br>category_code=%{x}<br>funding=%{y}<extra></extra>",
         "legendgroup": "Likewise Software",
         "marker": {
          "color": "#EF553B",
          "pattern": {
           "shape": ""
          }
         },
         "name": "Likewise Software",
         "offsetgroup": "Likewise Software",
         "orientation": "v",
         "showlegend": true,
         "textposition": "auto",
         "type": "bar",
         "x": [
          "software"
         ],
         "xaxis": "x",
         "y": [
          10000000
         ],
         "yaxis": "y"
        },
        {
         "alignmentgroup": "True",
         "hovertemplate": "name=Locately<br>category_code=%{x}<br>funding=%{y}<extra></extra>",
         "legendgroup": "Locately",
         "marker": {
          "color": "#00cc96",
          "pattern": {
           "shape": ""
          }
         },
         "name": "Locately",
         "offsetgroup": "Locately",
         "orientation": "v",
         "showlegend": true,
         "textposition": "auto",
         "type": "bar",
         "x": [
          "software"
         ],
         "xaxis": "x",
         "y": [
          1178000
         ],
         "yaxis": "y"
        },
        {
         "alignmentgroup": "True",
         "hovertemplate": "name=Loyalty Lab<br>category_code=%{x}<br>funding=%{y}<extra></extra>",
         "legendgroup": "Loyalty Lab",
         "marker": {
          "color": "#ab63fa",
          "pattern": {
           "shape": ""
          }
         },
         "name": "Loyalty Lab",
         "offsetgroup": "Loyalty Lab",
         "orientation": "v",
         "showlegend": true,
         "textposition": "auto",
         "type": "bar",
         "x": [
          "software"
         ],
         "xaxis": "x",
         "y": [
          11000000
         ],
         "yaxis": "y"
        },
        {
         "alignmentgroup": "True",
         "hovertemplate": "name=M-Factor<br>category_code=%{x}<br>funding=%{y}<extra></extra>",
         "legendgroup": "M-Factor",
         "marker": {
          "color": "#FFA15A",
          "pattern": {
           "shape": ""
          }
         },
         "name": "M-Factor",
         "offsetgroup": "M-Factor",
         "orientation": "v",
         "showlegend": true,
         "textposition": "auto",
         "type": "bar",
         "x": [
          "software"
         ],
         "xaxis": "x",
         "y": [
          10100000
         ],
         "yaxis": "y"
        },
        {
         "alignmentgroup": "True",
         "hovertemplate": "name=Mendocino Software<br>category_code=%{x}<br>funding=%{y}<extra></extra>",
         "legendgroup": "Mendocino Software",
         "marker": {
          "color": "#19d3f3",
          "pattern": {
           "shape": ""
          }
         },
         "name": "Mendocino Software",
         "offsetgroup": "Mendocino Software",
         "orientation": "v",
         "showlegend": true,
         "textposition": "auto",
         "type": "bar",
         "x": [
          "software"
         ],
         "xaxis": "x",
         "y": [
          19700000
         ],
         "yaxis": "y"
        },
        {
         "alignmentgroup": "True",
         "hovertemplate": "name=MessageGate<br>category_code=%{x}<br>funding=%{y}<extra></extra>",
         "legendgroup": "MessageGate",
         "marker": {
          "color": "#FF6692",
          "pattern": {
           "shape": ""
          }
         },
         "name": "MessageGate",
         "offsetgroup": "MessageGate",
         "orientation": "v",
         "showlegend": true,
         "textposition": "auto",
         "type": "bar",
         "x": [
          "software"
         ],
         "xaxis": "x",
         "y": [
          5000000
         ],
         "yaxis": "y"
        },
        {
         "alignmentgroup": "True",
         "hovertemplate": "name=Metreos Corporation<br>category_code=%{x}<br>funding=%{y}<extra></extra>",
         "legendgroup": "Metreos Corporation",
         "marker": {
          "color": "#B6E880",
          "pattern": {
           "shape": ""
          }
         },
         "name": "Metreos Corporation",
         "offsetgroup": "Metreos Corporation",
         "orientation": "v",
         "showlegend": true,
         "textposition": "auto",
         "type": "bar",
         "x": [
          "software"
         ],
         "xaxis": "x",
         "y": [
          4355000
         ],
         "yaxis": "y"
        },
        {
         "alignmentgroup": "True",
         "hovertemplate": "name=Mimosa Systems<br>category_code=%{x}<br>funding=%{y}<extra></extra>",
         "legendgroup": "Mimosa Systems",
         "marker": {
          "color": "#FF97FF",
          "pattern": {
           "shape": ""
          }
         },
         "name": "Mimosa Systems",
         "offsetgroup": "Mimosa Systems",
         "orientation": "v",
         "showlegend": true,
         "textposition": "auto",
         "type": "bar",
         "x": [
          "software"
         ],
         "xaxis": "x",
         "y": [
          53816776
         ],
         "yaxis": "y"
        },
        {
         "alignmentgroup": "True",
         "hovertemplate": "name=MobileReactor<br>category_code=%{x}<br>funding=%{y}<extra></extra>",
         "legendgroup": "MobileReactor",
         "marker": {
          "color": "#FECB52",
          "pattern": {
           "shape": ""
          }
         },
         "name": "MobileReactor",
         "offsetgroup": "MobileReactor",
         "orientation": "v",
         "showlegend": true,
         "textposition": "auto",
         "type": "bar",
         "x": [
          "software"
         ],
         "xaxis": "x",
         "y": [
          1175000
         ],
         "yaxis": "y"
        },
        {
         "alignmentgroup": "True",
         "hovertemplate": "name=Myrio<br>category_code=%{x}<br>funding=%{y}<extra></extra>",
         "legendgroup": "Myrio",
         "marker": {
          "color": "#636efa",
          "pattern": {
           "shape": ""
          }
         },
         "name": "Myrio",
         "offsetgroup": "Myrio",
         "orientation": "v",
         "showlegend": true,
         "textposition": "auto",
         "type": "bar",
         "x": [
          "software"
         ],
         "xaxis": "x",
         "y": [
          20500000
         ],
         "yaxis": "y"
        },
        {
         "alignmentgroup": "True",
         "hovertemplate": "name=NetDevices<br>category_code=%{x}<br>funding=%{y}<extra></extra>",
         "legendgroup": "NetDevices",
         "marker": {
          "color": "#EF553B",
          "pattern": {
           "shape": ""
          }
         },
         "name": "NetDevices",
         "offsetgroup": "NetDevices",
         "orientation": "v",
         "showlegend": true,
         "textposition": "auto",
         "type": "bar",
         "x": [
          "software"
         ],
         "xaxis": "x",
         "y": [
          25000000
         ],
         "yaxis": "y"
        },
        {
         "alignmentgroup": "True",
         "hovertemplate": "name=NexGen Storage<br>category_code=%{x}<br>funding=%{y}<extra></extra>",
         "legendgroup": "NexGen Storage",
         "marker": {
          "color": "#00cc96",
          "pattern": {
           "shape": ""
          }
         },
         "name": "NexGen Storage",
         "offsetgroup": "NexGen Storage",
         "orientation": "v",
         "showlegend": true,
         "textposition": "auto",
         "type": "bar",
         "x": [
          "software"
         ],
         "xaxis": "x",
         "y": [
          12010000
         ],
         "yaxis": "y"
        },
        {
         "alignmentgroup": "True",
         "hovertemplate": "name=NextMedium<br>category_code=%{x}<br>funding=%{y}<extra></extra>",
         "legendgroup": "NextMedium",
         "marker": {
          "color": "#ab63fa",
          "pattern": {
           "shape": ""
          }
         },
         "name": "NextMedium",
         "offsetgroup": "NextMedium",
         "orientation": "v",
         "showlegend": true,
         "textposition": "auto",
         "type": "bar",
         "x": [
          "software"
         ],
         "xaxis": "x",
         "y": [
          9500000
         ],
         "yaxis": "y"
        },
        {
         "alignmentgroup": "True",
         "hovertemplate": "name=Oasys Mobile<br>category_code=%{x}<br>funding=%{y}<extra></extra>",
         "legendgroup": "Oasys Mobile",
         "marker": {
          "color": "#FFA15A",
          "pattern": {
           "shape": ""
          }
         },
         "name": "Oasys Mobile",
         "offsetgroup": "Oasys Mobile",
         "orientation": "v",
         "showlegend": true,
         "textposition": "auto",
         "type": "bar",
         "x": [
          "software"
         ],
         "xaxis": "x",
         "y": [
          8000000
         ],
         "yaxis": "y"
        },
        {
         "alignmentgroup": "True",
         "hovertemplate": "name=Octavian<br>category_code=%{x}<br>funding=%{y}<extra></extra>",
         "legendgroup": "Octavian",
         "marker": {
          "color": "#19d3f3",
          "pattern": {
           "shape": ""
          }
         },
         "name": "Octavian",
         "offsetgroup": "Octavian",
         "orientation": "v",
         "showlegend": true,
         "textposition": "auto",
         "type": "bar",
         "x": [
          "software"
         ],
         "xaxis": "x",
         "y": [
          15000000
         ],
         "yaxis": "y"
        },
        {
         "alignmentgroup": "True",
         "hovertemplate": "name=OpVista<br>category_code=%{x}<br>funding=%{y}<extra></extra>",
         "legendgroup": "OpVista",
         "marker": {
          "color": "#FF6692",
          "pattern": {
           "shape": ""
          }
         },
         "name": "OpVista",
         "offsetgroup": "OpVista",
         "orientation": "v",
         "showlegend": true,
         "textposition": "auto",
         "type": "bar",
         "x": [
          "software"
         ],
         "xaxis": "x",
         "y": [
          43000000
         ],
         "yaxis": "y"
        },
        {
         "alignmentgroup": "True",
         "hovertemplate": "name=Open Kernel Labs<br>category_code=%{x}<br>funding=%{y}<extra></extra>",
         "legendgroup": "Open Kernel Labs",
         "marker": {
          "color": "#B6E880",
          "pattern": {
           "shape": ""
          }
         },
         "name": "Open Kernel Labs",
         "offsetgroup": "Open Kernel Labs",
         "orientation": "v",
         "showlegend": true,
         "textposition": "auto",
         "type": "bar",
         "x": [
          "software"
         ],
         "xaxis": "x",
         "y": [
          10764323
         ],
         "yaxis": "y"
        },
        {
         "alignmentgroup": "True",
         "hovertemplate": "name=Ounce Labs<br>category_code=%{x}<br>funding=%{y}<extra></extra>",
         "legendgroup": "Ounce Labs",
         "marker": {
          "color": "#FF97FF",
          "pattern": {
           "shape": ""
          }
         },
         "name": "Ounce Labs",
         "offsetgroup": "Ounce Labs",
         "orientation": "v",
         "showlegend": true,
         "textposition": "auto",
         "type": "bar",
         "x": [
          "software"
         ],
         "xaxis": "x",
         "y": [
          13500000
         ],
         "yaxis": "y"
        },
        {
         "alignmentgroup": "True",
         "hovertemplate": "name=PANTA Systems<br>category_code=%{x}<br>funding=%{y}<extra></extra>",
         "legendgroup": "PANTA Systems",
         "marker": {
          "color": "#FECB52",
          "pattern": {
           "shape": ""
          }
         },
         "name": "PANTA Systems",
         "offsetgroup": "PANTA Systems",
         "orientation": "v",
         "showlegend": true,
         "textposition": "auto",
         "type": "bar",
         "x": [
          "software"
         ],
         "xaxis": "x",
         "y": [
          9500000
         ],
         "yaxis": "y"
        },
        {
         "alignmentgroup": "True",
         "hovertemplate": "name=Particle Code<br>category_code=%{x}<br>funding=%{y}<extra></extra>",
         "legendgroup": "Particle Code",
         "marker": {
          "color": "#636efa",
          "pattern": {
           "shape": ""
          }
         },
         "name": "Particle Code",
         "offsetgroup": "Particle Code",
         "orientation": "v",
         "showlegend": true,
         "textposition": "auto",
         "type": "bar",
         "x": [
          "software"
         ],
         "xaxis": "x",
         "y": [
          3000000
         ],
         "yaxis": "y"
        },
        {
         "alignmentgroup": "True",
         "hovertemplate": "name=PasswordBank<br>category_code=%{x}<br>funding=%{y}<extra></extra>",
         "legendgroup": "PasswordBank",
         "marker": {
          "color": "#EF553B",
          "pattern": {
           "shape": ""
          }
         },
         "name": "PasswordBank",
         "offsetgroup": "PasswordBank",
         "orientation": "v",
         "showlegend": true,
         "textposition": "auto",
         "type": "bar",
         "x": [
          "software"
         ],
         "xaxis": "x",
         "y": [
          3500000
         ],
         "yaxis": "y"
        },
        {
         "alignmentgroup": "True",
         "hovertemplate": "name=Performable<br>category_code=%{x}<br>funding=%{y}<extra></extra>",
         "legendgroup": "Performable",
         "marker": {
          "color": "#00cc96",
          "pattern": {
           "shape": ""
          }
         },
         "name": "Performable",
         "offsetgroup": "Performable",
         "orientation": "v",
         "showlegend": true,
         "textposition": "auto",
         "type": "bar",
         "x": [
          "software"
         ],
         "xaxis": "x",
         "y": [
          3000000
         ],
         "yaxis": "y"
        },
        {
         "alignmentgroup": "True",
         "hovertemplate": "name=Persystent Technologies<br>category_code=%{x}<br>funding=%{y}<extra></extra>",
         "legendgroup": "Persystent Technologies",
         "marker": {
          "color": "#ab63fa",
          "pattern": {
           "shape": ""
          }
         },
         "name": "Persystent Technologies",
         "offsetgroup": "Persystent Technologies",
         "orientation": "v",
         "showlegend": true,
         "textposition": "auto",
         "type": "bar",
         "x": [
          "software"
         ],
         "xaxis": "x",
         "y": [
          21460663
         ],
         "yaxis": "y"
        },
        {
         "alignmentgroup": "True",
         "hovertemplate": "name=Phurnace Software<br>category_code=%{x}<br>funding=%{y}<extra></extra>",
         "legendgroup": "Phurnace Software",
         "marker": {
          "color": "#FFA15A",
          "pattern": {
           "shape": ""
          }
         },
         "name": "Phurnace Software",
         "offsetgroup": "Phurnace Software",
         "orientation": "v",
         "showlegend": true,
         "textposition": "auto",
         "type": "bar",
         "x": [
          "software"
         ],
         "xaxis": "x",
         "y": [
          10000000
         ],
         "yaxis": "y"
        },
        {
         "alignmentgroup": "True",
         "hovertemplate": "name=Pinch Media<br>category_code=%{x}<br>funding=%{y}<extra></extra>",
         "legendgroup": "Pinch Media",
         "marker": {
          "color": "#19d3f3",
          "pattern": {
           "shape": ""
          }
         },
         "name": "Pinch Media",
         "offsetgroup": "Pinch Media",
         "orientation": "v",
         "showlegend": true,
         "textposition": "auto",
         "type": "bar",
         "x": [
          "software"
         ],
         "xaxis": "x",
         "y": [
          560001
         ],
         "yaxis": "y"
        },
        {
         "alignmentgroup": "True",
         "hovertemplate": "name=Plethora Technology<br>category_code=%{x}<br>funding=%{y}<extra></extra>",
         "legendgroup": "Plethora Technology",
         "marker": {
          "color": "#FF6692",
          "pattern": {
           "shape": ""
          }
         },
         "name": "Plethora Technology",
         "offsetgroup": "Plethora Technology",
         "orientation": "v",
         "showlegend": true,
         "textposition": "auto",
         "type": "bar",
         "x": [
          "software"
         ],
         "xaxis": "x",
         "y": [
          1000000
         ],
         "yaxis": "y"
        },
        {
         "alignmentgroup": "True",
         "hovertemplate": "name=Producteev<br>category_code=%{x}<br>funding=%{y}<extra></extra>",
         "legendgroup": "Producteev",
         "marker": {
          "color": "#B6E880",
          "pattern": {
           "shape": ""
          }
         },
         "name": "Producteev",
         "offsetgroup": "Producteev",
         "orientation": "v",
         "showlegend": true,
         "textposition": "auto",
         "type": "bar",
         "x": [
          "software"
         ],
         "xaxis": "x",
         "y": [
          1310000
         ],
         "yaxis": "y"
        },
        {
         "alignmentgroup": "True",
         "hovertemplate": "name=Punch Entertainment<br>category_code=%{x}<br>funding=%{y}<extra></extra>",
         "legendgroup": "Punch Entertainment",
         "marker": {
          "color": "#FF97FF",
          "pattern": {
           "shape": ""
          }
         },
         "name": "Punch Entertainment",
         "offsetgroup": "Punch Entertainment",
         "orientation": "v",
         "showlegend": true,
         "textposition": "auto",
         "type": "bar",
         "x": [
          "software"
         ],
         "xaxis": "x",
         "y": [
          1200000
         ],
         "yaxis": "y"
        },
        {
         "alignmentgroup": "True",
         "hovertemplate": "name=Pyxis Mobile<br>category_code=%{x}<br>funding=%{y}<extra></extra>",
         "legendgroup": "Pyxis Mobile",
         "marker": {
          "color": "#FECB52",
          "pattern": {
           "shape": ""
          }
         },
         "name": "Pyxis Mobile",
         "offsetgroup": "Pyxis Mobile",
         "orientation": "v",
         "showlegend": true,
         "textposition": "auto",
         "type": "bar",
         "x": [
          "software"
         ],
         "xaxis": "x",
         "y": [
          24150000
         ],
         "yaxis": "y"
        },
        {
         "alignmentgroup": "True",
         "hovertemplate": "name=QuikCycle<br>category_code=%{x}<br>funding=%{y}<extra></extra>",
         "legendgroup": "QuikCycle",
         "marker": {
          "color": "#636efa",
          "pattern": {
           "shape": ""
          }
         },
         "name": "QuikCycle",
         "offsetgroup": "QuikCycle",
         "orientation": "v",
         "showlegend": true,
         "textposition": "auto",
         "type": "bar",
         "x": [
          "software"
         ],
         "xaxis": "x",
         "y": [
          17800000
         ],
         "yaxis": "y"
        },
        {
         "alignmentgroup": "True",
         "hovertemplate": "name=RatePoint<br>category_code=%{x}<br>funding=%{y}<extra></extra>",
         "legendgroup": "RatePoint",
         "marker": {
          "color": "#EF553B",
          "pattern": {
           "shape": ""
          }
         },
         "name": "RatePoint",
         "offsetgroup": "RatePoint",
         "orientation": "v",
         "showlegend": true,
         "textposition": "auto",
         "type": "bar",
         "x": [
          "software"
         ],
         "xaxis": "x",
         "y": [
          24500000
         ],
         "yaxis": "y"
        },
        {
         "alignmentgroup": "True",
         "hovertemplate": "name=Recurve<br>category_code=%{x}<br>funding=%{y}<extra></extra>",
         "legendgroup": "Recurve",
         "marker": {
          "color": "#00cc96",
          "pattern": {
           "shape": ""
          }
         },
         "name": "Recurve",
         "offsetgroup": "Recurve",
         "orientation": "v",
         "showlegend": true,
         "textposition": "auto",
         "type": "bar",
         "x": [
          "software"
         ],
         "xaxis": "x",
         "y": [
          14000000
         ],
         "yaxis": "y"
        },
        {
         "alignmentgroup": "True",
         "hovertemplate": "name=Replay Solutions<br>category_code=%{x}<br>funding=%{y}<extra></extra>",
         "legendgroup": "Replay Solutions",
         "marker": {
          "color": "#ab63fa",
          "pattern": {
           "shape": ""
          }
         },
         "name": "Replay Solutions",
         "offsetgroup": "Replay Solutions",
         "orientation": "v",
         "showlegend": true,
         "textposition": "auto",
         "type": "bar",
         "x": [
          "software"
         ],
         "xaxis": "x",
         "y": [
          15200000
         ],
         "yaxis": "y"
        },
        {
         "alignmentgroup": "True",
         "hovertemplate": "name=Right90<br>category_code=%{x}<br>funding=%{y}<extra></extra>",
         "legendgroup": "Right90",
         "marker": {
          "color": "#FFA15A",
          "pattern": {
           "shape": ""
          }
         },
         "name": "Right90",
         "offsetgroup": "Right90",
         "orientation": "v",
         "showlegend": true,
         "textposition": "auto",
         "type": "bar",
         "x": [
          "software"
         ],
         "xaxis": "x",
         "y": [
          22000000
         ],
         "yaxis": "y"
        },
        {
         "alignmentgroup": "True",
         "hovertemplate": "name=RingCube Technologies<br>category_code=%{x}<br>funding=%{y}<extra></extra>",
         "legendgroup": "RingCube Technologies",
         "marker": {
          "color": "#19d3f3",
          "pattern": {
           "shape": ""
          }
         },
         "name": "RingCube Technologies",
         "offsetgroup": "RingCube Technologies",
         "orientation": "v",
         "showlegend": true,
         "textposition": "auto",
         "type": "bar",
         "x": [
          "software"
         ],
         "xaxis": "x",
         "y": [
          26000000
         ],
         "yaxis": "y"
        },
        {
         "alignmentgroup": "True",
         "hovertemplate": "name=RipCode<br>category_code=%{x}<br>funding=%{y}<extra></extra>",
         "legendgroup": "RipCode",
         "marker": {
          "color": "#FF6692",
          "pattern": {
           "shape": ""
          }
         },
         "name": "RipCode",
         "offsetgroup": "RipCode",
         "orientation": "v",
         "showlegend": true,
         "textposition": "auto",
         "type": "bar",
         "x": [
          "software"
         ],
         "xaxis": "x",
         "y": [
          33000000
         ],
         "yaxis": "y"
        },
        {
         "alignmentgroup": "True",
         "hovertemplate": "name=Rollstream<br>category_code=%{x}<br>funding=%{y}<extra></extra>",
         "legendgroup": "Rollstream",
         "marker": {
          "color": "#B6E880",
          "pattern": {
           "shape": ""
          }
         },
         "name": "Rollstream",
         "offsetgroup": "Rollstream",
         "orientation": "v",
         "showlegend": true,
         "textposition": "auto",
         "type": "bar",
         "x": [
          "software"
         ],
         "xaxis": "x",
         "y": [
          7500000
         ],
         "yaxis": "y"
        },
        {
         "alignmentgroup": "True",
         "hovertemplate": "name=SNAPin Software<br>category_code=%{x}<br>funding=%{y}<extra></extra>",
         "legendgroup": "SNAPin Software",
         "marker": {
          "color": "#FF97FF",
          "pattern": {
           "shape": ""
          }
         },
         "name": "SNAPin Software",
         "offsetgroup": "SNAPin Software",
         "orientation": "v",
         "showlegend": true,
         "textposition": "auto",
         "type": "bar",
         "x": [
          "software"
         ],
         "xaxis": "x",
         "y": [
          22300000
         ],
         "yaxis": "y"
        },
        {
         "alignmentgroup": "True",
         "hovertemplate": "name=Sabrix<br>category_code=%{x}<br>funding=%{y}<extra></extra>",
         "legendgroup": "Sabrix",
         "marker": {
          "color": "#FECB52",
          "pattern": {
           "shape": ""
          }
         },
         "name": "Sabrix",
         "offsetgroup": "Sabrix",
         "orientation": "v",
         "showlegend": true,
         "textposition": "auto",
         "type": "bar",
         "x": [
          "software"
         ],
         "xaxis": "x",
         "y": [
          13000000
         ],
         "yaxis": "y"
        },
        {
         "alignmentgroup": "True",
         "hovertemplate": "name=ScaleIO<br>category_code=%{x}<br>funding=%{y}<extra></extra>",
         "legendgroup": "ScaleIO",
         "marker": {
          "color": "#636efa",
          "pattern": {
           "shape": ""
          }
         },
         "name": "ScaleIO",
         "offsetgroup": "ScaleIO",
         "orientation": "v",
         "showlegend": true,
         "textposition": "auto",
         "type": "bar",
         "x": [
          "software"
         ],
         "xaxis": "x",
         "y": [
          12000000
         ],
         "yaxis": "y"
        },
        {
         "alignmentgroup": "True",
         "hovertemplate": "name=Semantra<br>category_code=%{x}<br>funding=%{y}<extra></extra>",
         "legendgroup": "Semantra",
         "marker": {
          "color": "#EF553B",
          "pattern": {
           "shape": ""
          }
         },
         "name": "Semantra",
         "offsetgroup": "Semantra",
         "orientation": "v",
         "showlegend": true,
         "textposition": "auto",
         "type": "bar",
         "x": [
          "software"
         ],
         "xaxis": "x",
         "y": [
          9100000
         ],
         "yaxis": "y"
        },
        {
         "alignmentgroup": "True",
         "hovertemplate": "name=Sentrigo<br>category_code=%{x}<br>funding=%{y}<extra></extra>",
         "legendgroup": "Sentrigo",
         "marker": {
          "color": "#00cc96",
          "pattern": {
           "shape": ""
          }
         },
         "name": "Sentrigo",
         "offsetgroup": "Sentrigo",
         "orientation": "v",
         "showlegend": true,
         "textposition": "auto",
         "type": "bar",
         "x": [
          "software"
         ],
         "xaxis": "x",
         "y": [
          9500000
         ],
         "yaxis": "y"
        },
        {
         "alignmentgroup": "True",
         "hovertemplate": "name=Servo Software<br>category_code=%{x}<br>funding=%{y}<extra></extra>",
         "legendgroup": "Servo Software",
         "marker": {
          "color": "#ab63fa",
          "pattern": {
           "shape": ""
          }
         },
         "name": "Servo Software",
         "offsetgroup": "Servo Software",
         "orientation": "v",
         "showlegend": true,
         "textposition": "auto",
         "type": "bar",
         "x": [
          "software"
         ],
         "xaxis": "x",
         "y": [
          3011408
         ],
         "yaxis": "y"
        },
        {
         "alignmentgroup": "True",
         "hovertemplate": "name=Skyrider<br>category_code=%{x}<br>funding=%{y}<extra></extra>",
         "legendgroup": "Skyrider",
         "marker": {
          "color": "#FFA15A",
          "pattern": {
           "shape": ""
          }
         },
         "name": "Skyrider",
         "offsetgroup": "Skyrider",
         "orientation": "v",
         "showlegend": true,
         "textposition": "auto",
         "type": "bar",
         "x": [
          "software"
         ],
         "xaxis": "x",
         "y": [
          17000000
         ],
         "yaxis": "y"
        },
        {
         "alignmentgroup": "True",
         "hovertemplate": "name=Skyway Software<br>category_code=%{x}<br>funding=%{y}<extra></extra>",
         "legendgroup": "Skyway Software",
         "marker": {
          "color": "#19d3f3",
          "pattern": {
           "shape": ""
          }
         },
         "name": "Skyway Software",
         "offsetgroup": "Skyway Software",
         "orientation": "v",
         "showlegend": true,
         "textposition": "auto",
         "type": "bar",
         "x": [
          "software"
         ],
         "xaxis": "x",
         "y": [
          4000000
         ],
         "yaxis": "y"
        },
        {
         "alignmentgroup": "True",
         "hovertemplate": "name=SnapTell<br>category_code=%{x}<br>funding=%{y}<extra></extra>",
         "legendgroup": "SnapTell",
         "marker": {
          "color": "#FF6692",
          "pattern": {
           "shape": ""
          }
         },
         "name": "SnapTell",
         "offsetgroup": "SnapTell",
         "orientation": "v",
         "showlegend": true,
         "textposition": "auto",
         "type": "bar",
         "x": [
          "software"
         ],
         "xaxis": "x",
         "y": [
          4000000
         ],
         "yaxis": "y"
        },
        {
         "alignmentgroup": "True",
         "hovertemplate": "name=SocialShield<br>category_code=%{x}<br>funding=%{y}<extra></extra>",
         "legendgroup": "SocialShield",
         "marker": {
          "color": "#B6E880",
          "pattern": {
           "shape": ""
          }
         },
         "name": "SocialShield",
         "offsetgroup": "SocialShield",
         "orientation": "v",
         "showlegend": true,
         "textposition": "auto",
         "type": "bar",
         "x": [
          "software"
         ],
         "xaxis": "x",
         "y": [
          10000000
         ],
         "yaxis": "y"
        },
        {
         "alignmentgroup": "True",
         "hovertemplate": "name=Solidcore Systems<br>category_code=%{x}<br>funding=%{y}<extra></extra>",
         "legendgroup": "Solidcore Systems",
         "marker": {
          "color": "#FF97FF",
          "pattern": {
           "shape": ""
          }
         },
         "name": "Solidcore Systems",
         "offsetgroup": "Solidcore Systems",
         "orientation": "v",
         "showlegend": true,
         "textposition": "auto",
         "type": "bar",
         "x": [
          "software"
         ],
         "xaxis": "x",
         "y": [
          40000000
         ],
         "yaxis": "y"
        },
        {
         "alignmentgroup": "True",
         "hovertemplate": "name=SpaBooker<br>category_code=%{x}<br>funding=%{y}<extra></extra>",
         "legendgroup": "SpaBooker",
         "marker": {
          "color": "#FECB52",
          "pattern": {
           "shape": ""
          }
         },
         "name": "SpaBooker",
         "offsetgroup": "SpaBooker",
         "orientation": "v",
         "showlegend": true,
         "textposition": "auto",
         "type": "bar",
         "x": [
          "software"
         ],
         "xaxis": "x",
         "y": [
          14700000
         ],
         "yaxis": "y"
        },
        {
         "alignmentgroup": "True",
         "hovertemplate": "name=Storspeed<br>category_code=%{x}<br>funding=%{y}<extra></extra>",
         "legendgroup": "Storspeed",
         "marker": {
          "color": "#636efa",
          "pattern": {
           "shape": ""
          }
         },
         "name": "Storspeed",
         "offsetgroup": "Storspeed",
         "orientation": "v",
         "showlegend": true,
         "textposition": "auto",
         "type": "bar",
         "x": [
          "software"
         ],
         "xaxis": "x",
         "y": [
          13000000
         ],
         "yaxis": "y"
        },
        {
         "alignmentgroup": "True",
         "hovertemplate": "name=Stratavia<br>category_code=%{x}<br>funding=%{y}<extra></extra>",
         "legendgroup": "Stratavia",
         "marker": {
          "color": "#EF553B",
          "pattern": {
           "shape": ""
          }
         },
         "name": "Stratavia",
         "offsetgroup": "Stratavia",
         "orientation": "v",
         "showlegend": true,
         "textposition": "auto",
         "type": "bar",
         "x": [
          "software"
         ],
         "xaxis": "x",
         "y": [
          10700000
         ],
         "yaxis": "y"
        },
        {
         "alignmentgroup": "True",
         "hovertemplate": "name=StreamBase Systems<br>category_code=%{x}<br>funding=%{y}<extra></extra>",
         "legendgroup": "StreamBase Systems",
         "marker": {
          "color": "#00cc96",
          "pattern": {
           "shape": ""
          }
         },
         "name": "StreamBase Systems",
         "offsetgroup": "StreamBase Systems",
         "orientation": "v",
         "showlegend": true,
         "textposition": "auto",
         "type": "bar",
         "x": [
          "software"
         ],
         "xaxis": "x",
         "y": [
          39000000
         ],
         "yaxis": "y"
        },
        {
         "alignmentgroup": "True",
         "hovertemplate": "name=Sweepery<br>category_code=%{x}<br>funding=%{y}<extra></extra>",
         "legendgroup": "Sweepery",
         "marker": {
          "color": "#ab63fa",
          "pattern": {
           "shape": ""
          }
         },
         "name": "Sweepery",
         "offsetgroup": "Sweepery",
         "orientation": "v",
         "showlegend": true,
         "textposition": "auto",
         "type": "bar",
         "x": [
          "software"
         ],
         "xaxis": "x",
         "y": [
          500000
         ],
         "yaxis": "y"
        },
        {
         "alignmentgroup": "True",
         "hovertemplate": "name=Terracotta<br>category_code=%{x}<br>funding=%{y}<extra></extra>",
         "legendgroup": "Terracotta",
         "marker": {
          "color": "#FFA15A",
          "pattern": {
           "shape": ""
          }
         },
         "name": "Terracotta",
         "offsetgroup": "Terracotta",
         "orientation": "v",
         "showlegend": true,
         "textposition": "auto",
         "type": "bar",
         "x": [
          "software"
         ],
         "xaxis": "x",
         "y": [
          23500000
         ],
         "yaxis": "y"
        },
        {
         "alignmentgroup": "True",
         "hovertemplate": "name=Texert<br>category_code=%{x}<br>funding=%{y}<extra></extra>",
         "legendgroup": "Texert",
         "marker": {
          "color": "#19d3f3",
          "pattern": {
           "shape": ""
          }
         },
         "name": "Texert",
         "offsetgroup": "Texert",
         "orientation": "v",
         "showlegend": true,
         "textposition": "auto",
         "type": "bar",
         "x": [
          "software"
         ],
         "xaxis": "x",
         "y": [
          3000000
         ],
         "yaxis": "y"
        },
        {
         "alignmentgroup": "True",
         "hovertemplate": "name=Transparency Software<br>category_code=%{x}<br>funding=%{y}<extra></extra>",
         "legendgroup": "Transparency Software",
         "marker": {
          "color": "#FF6692",
          "pattern": {
           "shape": ""
          }
         },
         "name": "Transparency Software",
         "offsetgroup": "Transparency Software",
         "orientation": "v",
         "showlegend": true,
         "textposition": "auto",
         "type": "bar",
         "x": [
          "software"
         ],
         "xaxis": "x",
         "y": [
          12050000
         ],
         "yaxis": "y"
        },
        {
         "alignmentgroup": "True",
         "hovertemplate": "name=TrenStar<br>category_code=%{x}<br>funding=%{y}<extra></extra>",
         "legendgroup": "TrenStar",
         "marker": {
          "color": "#B6E880",
          "pattern": {
           "shape": ""
          }
         },
         "name": "TrenStar",
         "offsetgroup": "TrenStar",
         "orientation": "v",
         "showlegend": true,
         "textposition": "auto",
         "type": "bar",
         "x": [
          "software"
         ],
         "xaxis": "x",
         "y": [
          10000000
         ],
         "yaxis": "y"
        },
        {
         "alignmentgroup": "True",
         "hovertemplate": "name=Univa UD<br>category_code=%{x}<br>funding=%{y}<extra></extra>",
         "legendgroup": "Univa UD",
         "marker": {
          "color": "#FF97FF",
          "pattern": {
           "shape": ""
          }
         },
         "name": "Univa UD",
         "offsetgroup": "Univa UD",
         "orientation": "v",
         "showlegend": true,
         "textposition": "auto",
         "type": "bar",
         "x": [
          "software"
         ],
         "xaxis": "x",
         "y": [
          33000000
         ],
         "yaxis": "y"
        },
        {
         "alignmentgroup": "True",
         "hovertemplate": "name=Vela Systems<br>category_code=%{x}<br>funding=%{y}<extra></extra>",
         "legendgroup": "Vela Systems",
         "marker": {
          "color": "#FECB52",
          "pattern": {
           "shape": ""
          }
         },
         "name": "Vela Systems",
         "offsetgroup": "Vela Systems",
         "orientation": "v",
         "showlegend": true,
         "textposition": "auto",
         "type": "bar",
         "x": [
          "software"
         ],
         "xaxis": "x",
         "y": [
          12000000
         ],
         "yaxis": "y"
        },
        {
         "alignmentgroup": "True",
         "hovertemplate": "name=Viridity Software<br>category_code=%{x}<br>funding=%{y}<extra></extra>",
         "legendgroup": "Viridity Software",
         "marker": {
          "color": "#636efa",
          "pattern": {
           "shape": ""
          }
         },
         "name": "Viridity Software",
         "offsetgroup": "Viridity Software",
         "orientation": "v",
         "showlegend": true,
         "textposition": "auto",
         "type": "bar",
         "x": [
          "software"
         ],
         "xaxis": "x",
         "y": [
          15000000
         ],
         "yaxis": "y"
        },
        {
         "alignmentgroup": "True",
         "hovertemplate": "name=Virsto Software<br>category_code=%{x}<br>funding=%{y}<extra></extra>",
         "legendgroup": "Virsto Software",
         "marker": {
          "color": "#EF553B",
          "pattern": {
           "shape": ""
          }
         },
         "name": "Virsto Software",
         "offsetgroup": "Virsto Software",
         "orientation": "v",
         "showlegend": true,
         "textposition": "auto",
         "type": "bar",
         "x": [
          "software"
         ],
         "xaxis": "x",
         "y": [
          24000000
         ],
         "yaxis": "y"
        },
        {
         "alignmentgroup": "True",
         "hovertemplate": "name=Virtual Computer<br>category_code=%{x}<br>funding=%{y}<extra></extra>",
         "legendgroup": "Virtual Computer",
         "marker": {
          "color": "#00cc96",
          "pattern": {
           "shape": ""
          }
         },
         "name": "Virtual Computer",
         "offsetgroup": "Virtual Computer",
         "orientation": "v",
         "showlegend": true,
         "textposition": "auto",
         "type": "bar",
         "x": [
          "software"
         ],
         "xaxis": "x",
         "y": [
          21000000
         ],
         "yaxis": "y"
        },
        {
         "alignmentgroup": "True",
         "hovertemplate": "name=VirtualLogix<br>category_code=%{x}<br>funding=%{y}<extra></extra>",
         "legendgroup": "VirtualLogix",
         "marker": {
          "color": "#ab63fa",
          "pattern": {
           "shape": ""
          }
         },
         "name": "VirtualLogix",
         "offsetgroup": "VirtualLogix",
         "orientation": "v",
         "showlegend": true,
         "textposition": "auto",
         "type": "bar",
         "x": [
          "software"
         ],
         "xaxis": "x",
         "y": [
          29288979
         ],
         "yaxis": "y"
        },
        {
         "alignmentgroup": "True",
         "hovertemplate": "name=Visiprise<br>category_code=%{x}<br>funding=%{y}<extra></extra>",
         "legendgroup": "Visiprise",
         "marker": {
          "color": "#FFA15A",
          "pattern": {
           "shape": ""
          }
         },
         "name": "Visiprise",
         "offsetgroup": "Visiprise",
         "orientation": "v",
         "showlegend": true,
         "textposition": "auto",
         "type": "bar",
         "x": [
          "software"
         ],
         "xaxis": "x",
         "y": [
          32000000
         ],
         "yaxis": "y"
        },
        {
         "alignmentgroup": "True",
         "hovertemplate": "name=Vocalocity<br>category_code=%{x}<br>funding=%{y}<extra></extra>",
         "legendgroup": "Vocalocity",
         "marker": {
          "color": "#19d3f3",
          "pattern": {
           "shape": ""
          }
         },
         "name": "Vocalocity",
         "offsetgroup": "Vocalocity",
         "orientation": "v",
         "showlegend": true,
         "textposition": "auto",
         "type": "bar",
         "x": [
          "software"
         ],
         "xaxis": "x",
         "y": [
          13600000
         ],
         "yaxis": "y"
        },
        {
         "alignmentgroup": "True",
         "hovertemplate": "name=Vontu<br>category_code=%{x}<br>funding=%{y}<extra></extra>",
         "legendgroup": "Vontu",
         "marker": {
          "color": "#FF6692",
          "pattern": {
           "shape": ""
          }
         },
         "name": "Vontu",
         "offsetgroup": "Vontu",
         "orientation": "v",
         "showlegend": true,
         "textposition": "auto",
         "type": "bar",
         "x": [
          "software"
         ],
         "xaxis": "x",
         "y": [
          20000000
         ],
         "yaxis": "y"
        },
        {
         "alignmentgroup": "True",
         "hovertemplate": "name=WebVisible<br>category_code=%{x}<br>funding=%{y}<extra></extra>",
         "legendgroup": "WebVisible",
         "marker": {
          "color": "#B6E880",
          "pattern": {
           "shape": ""
          }
         },
         "name": "WebVisible",
         "offsetgroup": "WebVisible",
         "orientation": "v",
         "showlegend": true,
         "textposition": "auto",
         "type": "bar",
         "x": [
          "software"
         ],
         "xaxis": "x",
         "y": [
          37000000
         ],
         "yaxis": "y"
        },
        {
         "alignmentgroup": "True",
         "hovertemplate": "name=ZManda<br>category_code=%{x}<br>funding=%{y}<extra></extra>",
         "legendgroup": "ZManda",
         "marker": {
          "color": "#FF97FF",
          "pattern": {
           "shape": ""
          }
         },
         "name": "ZManda",
         "offsetgroup": "ZManda",
         "orientation": "v",
         "showlegend": true,
         "textposition": "auto",
         "type": "bar",
         "x": [
          "software"
         ],
         "xaxis": "x",
         "y": [
          13000000
         ],
         "yaxis": "y"
        },
        {
         "alignmentgroup": "True",
         "hovertemplate": "name=Zencoder<br>category_code=%{x}<br>funding=%{y}<extra></extra>",
         "legendgroup": "Zencoder",
         "marker": {
          "color": "#FECB52",
          "pattern": {
           "shape": ""
          }
         },
         "name": "Zencoder",
         "offsetgroup": "Zencoder",
         "orientation": "v",
         "showlegend": true,
         "textposition": "auto",
         "type": "bar",
         "x": [
          "software"
         ],
         "xaxis": "x",
         "y": [
          2000000
         ],
         "yaxis": "y"
        },
        {
         "alignmentgroup": "True",
         "hovertemplate": "name=dynaTrace software<br>category_code=%{x}<br>funding=%{y}<extra></extra>",
         "legendgroup": "dynaTrace software",
         "marker": {
          "color": "#636efa",
          "pattern": {
           "shape": ""
          }
         },
         "name": "dynaTrace software",
         "offsetgroup": "dynaTrace software",
         "orientation": "v",
         "showlegend": true,
         "textposition": "auto",
         "type": "bar",
         "x": [
          "software"
         ],
         "xaxis": "x",
         "y": [
          21900000
         ],
         "yaxis": "y"
        },
        {
         "alignmentgroup": "True",
         "hovertemplate": "name=eMinor<br>category_code=%{x}<br>funding=%{y}<extra></extra>",
         "legendgroup": "eMinor",
         "marker": {
          "color": "#EF553B",
          "pattern": {
           "shape": ""
          }
         },
         "name": "eMinor",
         "offsetgroup": "eMinor",
         "orientation": "v",
         "showlegend": true,
         "textposition": "auto",
         "type": "bar",
         "x": [
          "software"
         ],
         "xaxis": "x",
         "y": [
          5000000
         ],
         "yaxis": "y"
        },
        {
         "alignmentgroup": "True",
         "hovertemplate": "name=easy2comply (Dynasec)<br>category_code=%{x}<br>funding=%{y}<extra></extra>",
         "legendgroup": "easy2comply (Dynasec)",
         "marker": {
          "color": "#00cc96",
          "pattern": {
           "shape": ""
          }
         },
         "name": "easy2comply (Dynasec)",
         "offsetgroup": "easy2comply (Dynasec)",
         "orientation": "v",
         "showlegend": true,
         "textposition": "auto",
         "type": "bar",
         "x": [
          "software"
         ],
         "xaxis": "x",
         "y": [
          1000000
         ],
         "yaxis": "y"
        },
        {
         "alignmentgroup": "True",
         "hovertemplate": "name=expressor software<br>category_code=%{x}<br>funding=%{y}<extra></extra>",
         "legendgroup": "expressor software",
         "marker": {
          "color": "#ab63fa",
          "pattern": {
           "shape": ""
          }
         },
         "name": "expressor software",
         "offsetgroup": "expressor software",
         "orientation": "v",
         "showlegend": true,
         "textposition": "auto",
         "type": "bar",
         "x": [
          "software"
         ],
         "xaxis": "x",
         "y": [
          29050000
         ],
         "yaxis": "y"
        },
        {
         "alignmentgroup": "True",
         "hovertemplate": "name=iConclude<br>category_code=%{x}<br>funding=%{y}<extra></extra>",
         "legendgroup": "iConclude",
         "marker": {
          "color": "#FFA15A",
          "pattern": {
           "shape": ""
          }
         },
         "name": "iConclude",
         "offsetgroup": "iConclude",
         "orientation": "v",
         "showlegend": true,
         "textposition": "auto",
         "type": "bar",
         "x": [
          "software"
         ],
         "xaxis": "x",
         "y": [
          12500000
         ],
         "yaxis": "y"
        },
        {
         "alignmentgroup": "True",
         "hovertemplate": "name=xkoto<br>category_code=%{x}<br>funding=%{y}<extra></extra>",
         "legendgroup": "xkoto",
         "marker": {
          "color": "#19d3f3",
          "pattern": {
           "shape": ""
          }
         },
         "name": "xkoto",
         "offsetgroup": "xkoto",
         "orientation": "v",
         "showlegend": true,
         "textposition": "auto",
         "type": "bar",
         "x": [
          "software"
         ],
         "xaxis": "x",
         "y": [
          11035000
         ],
         "yaxis": "y"
        },
        {
         "alignmentgroup": "True",
         "hovertemplate": "name=1000memories<br>category_code=%{x}<br>funding=%{y}<extra></extra>",
         "legendgroup": "1000memories",
         "marker": {
          "color": "#FF6692",
          "pattern": {
           "shape": ""
          }
         },
         "name": "1000memories",
         "offsetgroup": "1000memories",
         "orientation": "v",
         "showlegend": true,
         "textposition": "auto",
         "type": "bar",
         "x": [
          "web"
         ],
         "xaxis": "x",
         "y": [
          2535000
         ],
         "yaxis": "y"
        },
        {
         "alignmentgroup": "True",
         "hovertemplate": "name=Aardvark<br>category_code=%{x}<br>funding=%{y}<extra></extra>",
         "legendgroup": "Aardvark",
         "marker": {
          "color": "#B6E880",
          "pattern": {
           "shape": ""
          }
         },
         "name": "Aardvark",
         "offsetgroup": "Aardvark",
         "orientation": "v",
         "showlegend": true,
         "textposition": "auto",
         "type": "bar",
         "x": [
          "web"
         ],
         "xaxis": "x",
         "y": [
          6000000
         ],
         "yaxis": "y"
        },
        {
         "alignmentgroup": "True",
         "hovertemplate": "name=Allurent<br>category_code=%{x}<br>funding=%{y}<extra></extra>",
         "legendgroup": "Allurent",
         "marker": {
          "color": "#FF97FF",
          "pattern": {
           "shape": ""
          }
         },
         "name": "Allurent",
         "offsetgroup": "Allurent",
         "orientation": "v",
         "showlegend": true,
         "textposition": "auto",
         "type": "bar",
         "x": [
          "web"
         ],
         "xaxis": "x",
         "y": [
          2000000
         ],
         "yaxis": "y"
        },
        {
         "alignmentgroup": "True",
         "hovertemplate": "name=Bebo<br>category_code=%{x}<br>funding=%{y}<extra></extra>",
         "legendgroup": "Bebo",
         "marker": {
          "color": "#FECB52",
          "pattern": {
           "shape": ""
          }
         },
         "name": "Bebo",
         "offsetgroup": "Bebo",
         "orientation": "v",
         "showlegend": true,
         "textposition": "auto",
         "type": "bar",
         "x": [
          "web"
         ],
         "xaxis": "x",
         "y": [
          15000000
         ],
         "yaxis": "y"
        },
        {
         "alignmentgroup": "True",
         "hovertemplate": "name=Behance<br>category_code=%{x}<br>funding=%{y}<extra></extra>",
         "legendgroup": "Behance",
         "marker": {
          "color": "#636efa",
          "pattern": {
           "shape": ""
          }
         },
         "name": "Behance",
         "offsetgroup": "Behance",
         "orientation": "v",
         "showlegend": true,
         "textposition": "auto",
         "type": "bar",
         "x": [
          "web"
         ],
         "xaxis": "x",
         "y": [
          6500000
         ],
         "yaxis": "y"
        },
        {
         "alignmentgroup": "True",
         "hovertemplate": "name=Bill Me Later<br>category_code=%{x}<br>funding=%{y}<extra></extra>",
         "legendgroup": "Bill Me Later",
         "marker": {
          "color": "#EF553B",
          "pattern": {
           "shape": ""
          }
         },
         "name": "Bill Me Later",
         "offsetgroup": "Bill Me Later",
         "orientation": "v",
         "showlegend": true,
         "textposition": "auto",
         "type": "bar",
         "x": [
          "web"
         ],
         "xaxis": "x",
         "y": [
          100000000
         ],
         "yaxis": "y"
        },
        {
         "alignmentgroup": "True",
         "hovertemplate": "name=BlockBeacon<br>category_code=%{x}<br>funding=%{y}<extra></extra>",
         "legendgroup": "BlockBeacon",
         "marker": {
          "color": "#00cc96",
          "pattern": {
           "shape": ""
          }
         },
         "name": "BlockBeacon",
         "offsetgroup": "BlockBeacon",
         "orientation": "v",
         "showlegend": true,
         "textposition": "auto",
         "type": "bar",
         "x": [
          "web"
         ],
         "xaxis": "x",
         "y": [
          500000
         ],
         "yaxis": "y"
        },
        {
         "alignmentgroup": "True",
         "hovertemplate": "name=BookFresh<br>category_code=%{x}<br>funding=%{y}<extra></extra>",
         "legendgroup": "BookFresh",
         "marker": {
          "color": "#ab63fa",
          "pattern": {
           "shape": ""
          }
         },
         "name": "BookFresh",
         "offsetgroup": "BookFresh",
         "orientation": "v",
         "showlegend": true,
         "textposition": "auto",
         "type": "bar",
         "x": [
          "web"
         ],
         "xaxis": "x",
         "y": [
          500000
         ],
         "yaxis": "y"
        },
        {
         "alignmentgroup": "True",
         "hovertemplate": "name=CafeBots<br>category_code=%{x}<br>funding=%{y}<extra></extra>",
         "legendgroup": "CafeBots",
         "marker": {
          "color": "#FFA15A",
          "pattern": {
           "shape": ""
          }
         },
         "name": "CafeBots",
         "offsetgroup": "CafeBots",
         "orientation": "v",
         "showlegend": true,
         "textposition": "auto",
         "type": "bar",
         "x": [
          "web"
         ],
         "xaxis": "x",
         "y": [
          5000000
         ],
         "yaxis": "y"
        },
        {
         "alignmentgroup": "True",
         "hovertemplate": "name=CakeStyle<br>category_code=%{x}<br>funding=%{y}<extra></extra>",
         "legendgroup": "CakeStyle",
         "marker": {
          "color": "#19d3f3",
          "pattern": {
           "shape": ""
          }
         },
         "name": "CakeStyle",
         "offsetgroup": "CakeStyle",
         "orientation": "v",
         "showlegend": true,
         "textposition": "auto",
         "type": "bar",
         "x": [
          "web"
         ],
         "xaxis": "x",
         "y": [
          1000000
         ],
         "yaxis": "y"
        },
        {
         "alignmentgroup": "True",
         "hovertemplate": "name=Center'd<br>category_code=%{x}<br>funding=%{y}<extra></extra>",
         "legendgroup": "Center'd",
         "marker": {
          "color": "#FF6692",
          "pattern": {
           "shape": ""
          }
         },
         "name": "Center'd",
         "offsetgroup": "Center'd",
         "orientation": "v",
         "showlegend": true,
         "textposition": "auto",
         "type": "bar",
         "x": [
          "web"
         ],
         "xaxis": "x",
         "y": [
          10400000
         ],
         "yaxis": "y"
        },
        {
         "alignmentgroup": "True",
         "hovertemplate": "name=Clever Sense<br>category_code=%{x}<br>funding=%{y}<extra></extra>",
         "legendgroup": "Clever Sense",
         "marker": {
          "color": "#B6E880",
          "pattern": {
           "shape": ""
          }
         },
         "name": "Clever Sense",
         "offsetgroup": "Clever Sense",
         "orientation": "v",
         "showlegend": true,
         "textposition": "auto",
         "type": "bar",
         "x": [
          "web"
         ],
         "xaxis": "x",
         "y": [
          2000000
         ],
         "yaxis": "y"
        },
        {
         "alignmentgroup": "True",
         "hovertemplate": "name=Consorte Media<br>category_code=%{x}<br>funding=%{y}<extra></extra>",
         "legendgroup": "Consorte Media",
         "marker": {
          "color": "#FF97FF",
          "pattern": {
           "shape": ""
          }
         },
         "name": "Consorte Media",
         "offsetgroup": "Consorte Media",
         "orientation": "v",
         "showlegend": true,
         "textposition": "auto",
         "type": "bar",
         "x": [
          "web"
         ],
         "xaxis": "x",
         "y": [
          7000000
         ],
         "yaxis": "y"
        },
        {
         "alignmentgroup": "True",
         "hovertemplate": "name=Cozi Group<br>category_code=%{x}<br>funding=%{y}<extra></extra>",
         "legendgroup": "Cozi Group",
         "marker": {
          "color": "#FECB52",
          "pattern": {
           "shape": ""
          }
         },
         "name": "Cozi Group",
         "offsetgroup": "Cozi Group",
         "orientation": "v",
         "showlegend": true,
         "textposition": "auto",
         "type": "bar",
         "x": [
          "web"
         ],
         "xaxis": "x",
         "y": [
          26390819
         ],
         "yaxis": "y"
        },
        {
         "alignmentgroup": "True",
         "hovertemplate": "name=Cramster<br>category_code=%{x}<br>funding=%{y}<extra></extra>",
         "legendgroup": "Cramster",
         "marker": {
          "color": "#636efa",
          "pattern": {
           "shape": ""
          }
         },
         "name": "Cramster",
         "offsetgroup": "Cramster",
         "orientation": "v",
         "showlegend": true,
         "textposition": "auto",
         "type": "bar",
         "x": [
          "web"
         ],
         "xaxis": "x",
         "y": [
          9000000
         ],
         "yaxis": "y"
        },
        {
         "alignmentgroup": "True",
         "hovertemplate": "name=DailyBurn<br>category_code=%{x}<br>funding=%{y}<extra></extra>",
         "legendgroup": "DailyBurn",
         "marker": {
          "color": "#EF553B",
          "pattern": {
           "shape": ""
          }
         },
         "name": "DailyBurn",
         "offsetgroup": "DailyBurn",
         "orientation": "v",
         "showlegend": true,
         "textposition": "auto",
         "type": "bar",
         "x": [
          "web"
         ],
         "xaxis": "x",
         "y": [
          540000
         ],
         "yaxis": "y"
        },
        {
         "alignmentgroup": "True",
         "hovertemplate": "name=DailyStrength<br>category_code=%{x}<br>funding=%{y}<extra></extra>",
         "legendgroup": "DailyStrength",
         "marker": {
          "color": "#00cc96",
          "pattern": {
           "shape": ""
          }
         },
         "name": "DailyStrength",
         "offsetgroup": "DailyStrength",
         "orientation": "v",
         "showlegend": true,
         "textposition": "auto",
         "type": "bar",
         "x": [
          "web"
         ],
         "xaxis": "x",
         "y": [
          5000000
         ],
         "yaxis": "y"
        },
        {
         "alignmentgroup": "True",
         "hovertemplate": "name=Define My Style<br>category_code=%{x}<br>funding=%{y}<extra></extra>",
         "legendgroup": "Define My Style",
         "marker": {
          "color": "#ab63fa",
          "pattern": {
           "shape": ""
          }
         },
         "name": "Define My Style",
         "offsetgroup": "Define My Style",
         "orientation": "v",
         "showlegend": true,
         "textposition": "auto",
         "type": "bar",
         "x": [
          "web"
         ],
         "xaxis": "x",
         "y": [
          690000
         ],
         "yaxis": "y"
        },
        {
         "alignmentgroup": "True",
         "hovertemplate": "name=Dimdim<br>category_code=%{x}<br>funding=%{y}<extra></extra>",
         "legendgroup": "Dimdim",
         "marker": {
          "color": "#FFA15A",
          "pattern": {
           "shape": ""
          }
         },
         "name": "Dimdim",
         "offsetgroup": "Dimdim",
         "orientation": "v",
         "showlegend": true,
         "textposition": "auto",
         "type": "bar",
         "x": [
          "web"
         ],
         "xaxis": "x",
         "y": [
          8400000
         ],
         "yaxis": "y"
        },
        {
         "alignmentgroup": "True",
         "hovertemplate": "name=DocVerse<br>category_code=%{x}<br>funding=%{y}<extra></extra>",
         "legendgroup": "DocVerse",
         "marker": {
          "color": "#19d3f3",
          "pattern": {
           "shape": ""
          }
         },
         "name": "DocVerse",
         "offsetgroup": "DocVerse",
         "orientation": "v",
         "showlegend": true,
         "textposition": "auto",
         "type": "bar",
         "x": [
          "web"
         ],
         "xaxis": "x",
         "y": [
          1300000
         ],
         "yaxis": "y"
        },
        {
         "alignmentgroup": "True",
         "hovertemplate": "name=Docstoc<br>category_code=%{x}<br>funding=%{y}<extra></extra>",
         "legendgroup": "Docstoc",
         "marker": {
          "color": "#FF6692",
          "pattern": {
           "shape": ""
          }
         },
         "name": "Docstoc",
         "offsetgroup": "Docstoc",
         "orientation": "v",
         "showlegend": true,
         "textposition": "auto",
         "type": "bar",
         "x": [
          "web"
         ],
         "xaxis": "x",
         "y": [
          4000000
         ],
         "yaxis": "y"
        },
        {
         "alignmentgroup": "True",
         "hovertemplate": "name=Doostang<br>category_code=%{x}<br>funding=%{y}<extra></extra>",
         "legendgroup": "Doostang",
         "marker": {
          "color": "#B6E880",
          "pattern": {
           "shape": ""
          }
         },
         "name": "Doostang",
         "offsetgroup": "Doostang",
         "orientation": "v",
         "showlegend": true,
         "textposition": "auto",
         "type": "bar",
         "x": [
          "web"
         ],
         "xaxis": "x",
         "y": [
          5750000
         ],
         "yaxis": "y"
        },
        {
         "alignmentgroup": "True",
         "hovertemplate": "name=EQAL<br>category_code=%{x}<br>funding=%{y}<extra></extra>",
         "legendgroup": "EQAL",
         "marker": {
          "color": "#FF97FF",
          "pattern": {
           "shape": ""
          }
         },
         "name": "EQAL",
         "offsetgroup": "EQAL",
         "orientation": "v",
         "showlegend": true,
         "textposition": "auto",
         "type": "bar",
         "x": [
          "web"
         ],
         "xaxis": "x",
         "y": [
          6875000
         ],
         "yaxis": "y"
        },
        {
         "alignmentgroup": "True",
         "hovertemplate": "name=EchoSign<br>category_code=%{x}<br>funding=%{y}<extra></extra>",
         "legendgroup": "EchoSign",
         "marker": {
          "color": "#FECB52",
          "pattern": {
           "shape": ""
          }
         },
         "name": "EchoSign",
         "offsetgroup": "EchoSign",
         "orientation": "v",
         "showlegend": true,
         "textposition": "auto",
         "type": "bar",
         "x": [
          "web"
         ],
         "xaxis": "x",
         "y": [
          8500000
         ],
         "yaxis": "y"
        },
        {
         "alignmentgroup": "True",
         "hovertemplate": "name=Etology<br>category_code=%{x}<br>funding=%{y}<extra></extra>",
         "legendgroup": "Etology",
         "marker": {
          "color": "#636efa",
          "pattern": {
           "shape": ""
          }
         },
         "name": "Etology",
         "offsetgroup": "Etology",
         "orientation": "v",
         "showlegend": true,
         "textposition": "auto",
         "type": "bar",
         "x": [
          "web"
         ],
         "xaxis": "x",
         "y": [
          4000000
         ],
         "yaxis": "y"
        },
        {
         "alignmentgroup": "True",
         "hovertemplate": "name=Eyeona<br>category_code=%{x}<br>funding=%{y}<extra></extra>",
         "legendgroup": "Eyeona",
         "marker": {
          "color": "#EF553B",
          "pattern": {
           "shape": ""
          }
         },
         "name": "Eyeona",
         "offsetgroup": "Eyeona",
         "orientation": "v",
         "showlegend": true,
         "textposition": "auto",
         "type": "bar",
         "x": [
          "web"
         ],
         "xaxis": "x",
         "y": [
          2000000
         ],
         "yaxis": "y"
        },
        {
         "alignmentgroup": "True",
         "hovertemplate": "name=Factery<br>category_code=%{x}<br>funding=%{y}<extra></extra>",
         "legendgroup": "Factery",
         "marker": {
          "color": "#00cc96",
          "pattern": {
           "shape": ""
          }
         },
         "name": "Factery",
         "offsetgroup": "Factery",
         "orientation": "v",
         "showlegend": true,
         "textposition": "auto",
         "type": "bar",
         "x": [
          "web"
         ],
         "xaxis": "x",
         "y": [
          1200000
         ],
         "yaxis": "y"
        },
        {
         "alignmentgroup": "True",
         "hovertemplate": "name=Faves<br>category_code=%{x}<br>funding=%{y}<extra></extra>",
         "legendgroup": "Faves",
         "marker": {
          "color": "#ab63fa",
          "pattern": {
           "shape": ""
          }
         },
         "name": "Faves",
         "offsetgroup": "Faves",
         "orientation": "v",
         "showlegend": true,
         "textposition": "auto",
         "type": "bar",
         "x": [
          "web"
         ],
         "xaxis": "x",
         "y": [
          1500000
         ],
         "yaxis": "y"
        },
        {
         "alignmentgroup": "True",
         "hovertemplate": "name=FeedBurner<br>category_code=%{x}<br>funding=%{y}<extra></extra>",
         "legendgroup": "FeedBurner",
         "marker": {
          "color": "#FFA15A",
          "pattern": {
           "shape": ""
          }
         },
         "name": "FeedBurner",
         "offsetgroup": "FeedBurner",
         "orientation": "v",
         "showlegend": true,
         "textposition": "auto",
         "type": "bar",
         "x": [
          "web"
         ],
         "xaxis": "x",
         "y": [
          8000000
         ],
         "yaxis": "y"
        },
        {
         "alignmentgroup": "True",
         "hovertemplate": "name=Feedtrace<br>category_code=%{x}<br>funding=%{y}<extra></extra>",
         "legendgroup": "Feedtrace",
         "marker": {
          "color": "#19d3f3",
          "pattern": {
           "shape": ""
          }
         },
         "name": "Feedtrace",
         "offsetgroup": "Feedtrace",
         "orientation": "v",
         "showlegend": true,
         "textposition": "auto",
         "type": "bar",
         "x": [
          "web"
         ],
         "xaxis": "x",
         "y": [
          130000
         ],
         "yaxis": "y"
        },
        {
         "alignmentgroup": "True",
         "hovertemplate": "name=FiveRuns<br>category_code=%{x}<br>funding=%{y}<extra></extra>",
         "legendgroup": "FiveRuns",
         "marker": {
          "color": "#FF6692",
          "pattern": {
           "shape": ""
          }
         },
         "name": "FiveRuns",
         "offsetgroup": "FiveRuns",
         "orientation": "v",
         "showlegend": true,
         "textposition": "auto",
         "type": "bar",
         "x": [
          "web"
         ],
         "xaxis": "x",
         "y": [
          9200000
         ],
         "yaxis": "y"
        },
        {
         "alignmentgroup": "True",
         "hovertemplate": "name=FlipKey<br>category_code=%{x}<br>funding=%{y}<extra></extra>",
         "legendgroup": "FlipKey",
         "marker": {
          "color": "#B6E880",
          "pattern": {
           "shape": ""
          }
         },
         "name": "FlipKey",
         "offsetgroup": "FlipKey",
         "orientation": "v",
         "showlegend": true,
         "textposition": "auto",
         "type": "bar",
         "x": [
          "web"
         ],
         "xaxis": "x",
         "y": [
          500000
         ],
         "yaxis": "y"
        },
        {
         "alignmentgroup": "True",
         "hovertemplate": "name=Flixster<br>category_code=%{x}<br>funding=%{y}<extra></extra>",
         "legendgroup": "Flixster",
         "marker": {
          "color": "#FF97FF",
          "pattern": {
           "shape": ""
          }
         },
         "name": "Flixster",
         "offsetgroup": "Flixster",
         "orientation": "v",
         "showlegend": true,
         "textposition": "auto",
         "type": "bar",
         "x": [
          "web"
         ],
         "xaxis": "x",
         "y": [
          7175000
         ],
         "yaxis": "y"
        },
        {
         "alignmentgroup": "True",
         "hovertemplate": "name=Flock<br>category_code=%{x}<br>funding=%{y}<extra></extra>",
         "legendgroup": "Flock",
         "marker": {
          "color": "#FECB52",
          "pattern": {
           "shape": ""
          }
         },
         "name": "Flock",
         "offsetgroup": "Flock",
         "orientation": "v",
         "showlegend": true,
         "textposition": "auto",
         "type": "bar",
         "x": [
          "web"
         ],
         "xaxis": "x",
         "y": [
          28300000
         ],
         "yaxis": "y"
        },
        {
         "alignmentgroup": "True",
         "hovertemplate": "name=Flowgram<br>category_code=%{x}<br>funding=%{y}<extra></extra>",
         "legendgroup": "Flowgram",
         "marker": {
          "color": "#636efa",
          "pattern": {
           "shape": ""
          }
         },
         "name": "Flowgram",
         "offsetgroup": "Flowgram",
         "orientation": "v",
         "showlegend": true,
         "textposition": "auto",
         "type": "bar",
         "x": [
          "web"
         ],
         "xaxis": "x",
         "y": [
          1300000
         ],
         "yaxis": "y"
        },
        {
         "alignmentgroup": "True",
         "hovertemplate": "name=Fluther<br>category_code=%{x}<br>funding=%{y}<extra></extra>",
         "legendgroup": "Fluther",
         "marker": {
          "color": "#EF553B",
          "pattern": {
           "shape": ""
          }
         },
         "name": "Fluther",
         "offsetgroup": "Fluther",
         "orientation": "v",
         "showlegend": true,
         "textposition": "auto",
         "type": "bar",
         "x": [
          "web"
         ],
         "xaxis": "x",
         "y": [
          600000
         ],
         "yaxis": "y"
        },
        {
         "alignmentgroup": "True",
         "hovertemplate": "name=Fondu<br>category_code=%{x}<br>funding=%{y}<extra></extra>",
         "legendgroup": "Fondu",
         "marker": {
          "color": "#00cc96",
          "pattern": {
           "shape": ""
          }
         },
         "name": "Fondu",
         "offsetgroup": "Fondu",
         "orientation": "v",
         "showlegend": true,
         "textposition": "auto",
         "type": "bar",
         "x": [
          "web"
         ],
         "xaxis": "x",
         "y": [
          575000
         ],
         "yaxis": "y"
        },
        {
         "alignmentgroup": "True",
         "hovertemplate": "name=Footnote<br>category_code=%{x}<br>funding=%{y}<extra></extra>",
         "legendgroup": "Footnote",
         "marker": {
          "color": "#ab63fa",
          "pattern": {
           "shape": ""
          }
         },
         "name": "Footnote",
         "offsetgroup": "Footnote",
         "orientation": "v",
         "showlegend": true,
         "textposition": "auto",
         "type": "bar",
         "x": [
          "web"
         ],
         "xaxis": "x",
         "y": [
          10000000
         ],
         "yaxis": "y"
        },
        {
         "alignmentgroup": "True",
         "hovertemplate": "name=Forrst<br>category_code=%{x}<br>funding=%{y}<extra></extra>",
         "legendgroup": "Forrst",
         "marker": {
          "color": "#FFA15A",
          "pattern": {
           "shape": ""
          }
         },
         "name": "Forrst",
         "offsetgroup": "Forrst",
         "orientation": "v",
         "showlegend": true,
         "textposition": "auto",
         "type": "bar",
         "x": [
          "web"
         ],
         "xaxis": "x",
         "y": [
          205000
         ],
         "yaxis": "y"
        },
        {
         "alignmentgroup": "True",
         "hovertemplate": "name=Friendsignia<br>category_code=%{x}<br>funding=%{y}<extra></extra>",
         "legendgroup": "Friendsignia",
         "marker": {
          "color": "#19d3f3",
          "pattern": {
           "shape": ""
          }
         },
         "name": "Friendsignia",
         "offsetgroup": "Friendsignia",
         "orientation": "v",
         "showlegend": true,
         "textposition": "auto",
         "type": "bar",
         "x": [
          "web"
         ],
         "xaxis": "x",
         "y": [
          15000
         ],
         "yaxis": "y"
        },
        {
         "alignmentgroup": "True",
         "hovertemplate": "name=GeekStatus<br>category_code=%{x}<br>funding=%{y}<extra></extra>",
         "legendgroup": "GeekStatus",
         "marker": {
          "color": "#FF6692",
          "pattern": {
           "shape": ""
          }
         },
         "name": "GeekStatus",
         "offsetgroup": "GeekStatus",
         "orientation": "v",
         "showlegend": true,
         "textposition": "auto",
         "type": "bar",
         "x": [
          "web"
         ],
         "xaxis": "x",
         "y": [
          435953
         ],
         "yaxis": "y"
        },
        {
         "alignmentgroup": "True",
         "hovertemplate": "name=Geni<br>category_code=%{x}<br>funding=%{y}<extra></extra>",
         "legendgroup": "Geni",
         "marker": {
          "color": "#B6E880",
          "pattern": {
           "shape": ""
          }
         },
         "name": "Geni",
         "offsetgroup": "Geni",
         "orientation": "v",
         "showlegend": true,
         "textposition": "auto",
         "type": "bar",
         "x": [
          "web"
         ],
         "xaxis": "x",
         "y": [
          16500000
         ],
         "yaxis": "y"
        },
        {
         "alignmentgroup": "True",
         "hovertemplate": "name=GetBack<br>category_code=%{x}<br>funding=%{y}<extra></extra>",
         "legendgroup": "GetBack",
         "marker": {
          "color": "#FF97FF",
          "pattern": {
           "shape": ""
          }
         },
         "name": "GetBack",
         "offsetgroup": "GetBack",
         "orientation": "v",
         "showlegend": true,
         "textposition": "auto",
         "type": "bar",
         "x": [
          "web"
         ],
         "xaxis": "x",
         "y": [
          1700000
         ],
         "yaxis": "y"
        },
        {
         "alignmentgroup": "True",
         "hovertemplate": "name=Giant Realm<br>category_code=%{x}<br>funding=%{y}<extra></extra>",
         "legendgroup": "Giant Realm",
         "marker": {
          "color": "#FECB52",
          "pattern": {
           "shape": ""
          }
         },
         "name": "Giant Realm",
         "offsetgroup": "Giant Realm",
         "orientation": "v",
         "showlegend": true,
         "textposition": "auto",
         "type": "bar",
         "x": [
          "web"
         ],
         "xaxis": "x",
         "y": [
          5500000
         ],
         "yaxis": "y"
        },
        {
         "alignmentgroup": "True",
         "hovertemplate": "name=GoPollGo<br>category_code=%{x}<br>funding=%{y}<extra></extra>",
         "legendgroup": "GoPollGo",
         "marker": {
          "color": "#636efa",
          "pattern": {
           "shape": ""
          }
         },
         "name": "GoPollGo",
         "offsetgroup": "GoPollGo",
         "orientation": "v",
         "showlegend": true,
         "textposition": "auto",
         "type": "bar",
         "x": [
          "web"
         ],
         "xaxis": "x",
         "y": [
          425000
         ],
         "yaxis": "y"
        },
        {
         "alignmentgroup": "True",
         "hovertemplate": "name=GoodGuide<br>category_code=%{x}<br>funding=%{y}<extra></extra>",
         "legendgroup": "GoodGuide",
         "marker": {
          "color": "#EF553B",
          "pattern": {
           "shape": ""
          }
         },
         "name": "GoodGuide",
         "offsetgroup": "GoodGuide",
         "orientation": "v",
         "showlegend": true,
         "textposition": "auto",
         "type": "bar",
         "x": [
          "web"
         ],
         "xaxis": "x",
         "y": [
          14229998
         ],
         "yaxis": "y"
        },
        {
         "alignmentgroup": "True",
         "hovertemplate": "name=Goodreads<br>category_code=%{x}<br>funding=%{y}<extra></extra>",
         "legendgroup": "Goodreads",
         "marker": {
          "color": "#00cc96",
          "pattern": {
           "shape": ""
          }
         },
         "name": "Goodreads",
         "offsetgroup": "Goodreads",
         "orientation": "v",
         "showlegend": true,
         "textposition": "auto",
         "type": "bar",
         "x": [
          "web"
         ],
         "xaxis": "x",
         "y": [
          2750000
         ],
         "yaxis": "y"
        },
        {
         "alignmentgroup": "True",
         "hovertemplate": "name=Gotuit<br>category_code=%{x}<br>funding=%{y}<extra></extra>",
         "legendgroup": "Gotuit",
         "marker": {
          "color": "#ab63fa",
          "pattern": {
           "shape": ""
          }
         },
         "name": "Gotuit",
         "offsetgroup": "Gotuit",
         "orientation": "v",
         "showlegend": true,
         "textposition": "auto",
         "type": "bar",
         "x": [
          "web"
         ],
         "xaxis": "x",
         "y": [
          16000000
         ],
         "yaxis": "y"
        },
        {
         "alignmentgroup": "True",
         "hovertemplate": "name=Gowalla<br>category_code=%{x}<br>funding=%{y}<extra></extra>",
         "legendgroup": "Gowalla",
         "marker": {
          "color": "#FFA15A",
          "pattern": {
           "shape": ""
          }
         },
         "name": "Gowalla",
         "offsetgroup": "Gowalla",
         "orientation": "v",
         "showlegend": true,
         "textposition": "auto",
         "type": "bar",
         "x": [
          "web"
         ],
         "xaxis": "x",
         "y": [
          10400001
         ],
         "yaxis": "y"
        },
        {
         "alignmentgroup": "True",
         "hovertemplate": "name=HotPads<br>category_code=%{x}<br>funding=%{y}<extra></extra>",
         "legendgroup": "HotPads",
         "marker": {
          "color": "#19d3f3",
          "pattern": {
           "shape": ""
          }
         },
         "name": "HotPads",
         "offsetgroup": "HotPads",
         "orientation": "v",
         "showlegend": true,
         "textposition": "auto",
         "type": "bar",
         "x": [
          "web"
         ],
         "xaxis": "x",
         "y": [
          2300000
         ],
         "yaxis": "y"
        },
        {
         "alignmentgroup": "True",
         "hovertemplate": "name=Hotelicopter<br>category_code=%{x}<br>funding=%{y}<extra></extra>",
         "legendgroup": "Hotelicopter",
         "marker": {
          "color": "#FF6692",
          "pattern": {
           "shape": ""
          }
         },
         "name": "Hotelicopter",
         "offsetgroup": "Hotelicopter",
         "orientation": "v",
         "showlegend": true,
         "textposition": "auto",
         "type": "bar",
         "x": [
          "web"
         ],
         "xaxis": "x",
         "y": [
          5000000
         ],
         "yaxis": "y"
        },
        {
         "alignmentgroup": "True",
         "hovertemplate": "name=ID Analytics<br>category_code=%{x}<br>funding=%{y}<extra></extra>",
         "legendgroup": "ID Analytics",
         "marker": {
          "color": "#B6E880",
          "pattern": {
           "shape": ""
          }
         },
         "name": "ID Analytics",
         "offsetgroup": "ID Analytics",
         "orientation": "v",
         "showlegend": true,
         "textposition": "auto",
         "type": "bar",
         "x": [
          "web"
         ],
         "xaxis": "x",
         "y": [
          35150000
         ],
         "yaxis": "y"
        },
        {
         "alignmentgroup": "True",
         "hovertemplate": "name=Idooble<br>category_code=%{x}<br>funding=%{y}<extra></extra>",
         "legendgroup": "Idooble",
         "marker": {
          "color": "#FF97FF",
          "pattern": {
           "shape": ""
          }
         },
         "name": "Idooble",
         "offsetgroup": "Idooble",
         "orientation": "v",
         "showlegend": true,
         "textposition": "auto",
         "type": "bar",
         "x": [
          "web"
         ],
         "xaxis": "x",
         "y": [
          400000
         ],
         "yaxis": "y"
        },
        {
         "alignmentgroup": "True",
         "hovertemplate": "name=Indeed<br>category_code=%{x}<br>funding=%{y}<extra></extra>",
         "legendgroup": "Indeed",
         "marker": {
          "color": "#FECB52",
          "pattern": {
           "shape": ""
          }
         },
         "name": "Indeed",
         "offsetgroup": "Indeed",
         "orientation": "v",
         "showlegend": true,
         "textposition": "auto",
         "type": "bar",
         "x": [
          "web"
         ],
         "xaxis": "x",
         "y": [
          5000000
         ],
         "yaxis": "y"
        },
        {
         "alignmentgroup": "True",
         "hovertemplate": "name=Infinity Box<br>category_code=%{x}<br>funding=%{y}<extra></extra>",
         "legendgroup": "Infinity Box",
         "marker": {
          "color": "#636efa",
          "pattern": {
           "shape": ""
          }
         },
         "name": "Infinity Box",
         "offsetgroup": "Infinity Box",
         "orientation": "v",
         "showlegend": true,
         "textposition": "auto",
         "type": "bar",
         "x": [
          "web"
         ],
         "xaxis": "x",
         "y": [
          118000
         ],
         "yaxis": "y"
        },
        {
         "alignmentgroup": "True",
         "hovertemplate": "name=JackPot Rewards<br>category_code=%{x}<br>funding=%{y}<extra></extra>",
         "legendgroup": "JackPot Rewards",
         "marker": {
          "color": "#EF553B",
          "pattern": {
           "shape": ""
          }
         },
         "name": "JackPot Rewards",
         "offsetgroup": "JackPot Rewards",
         "orientation": "v",
         "showlegend": true,
         "textposition": "auto",
         "type": "bar",
         "x": [
          "web"
         ],
         "xaxis": "x",
         "y": [
          16700000
         ],
         "yaxis": "y"
        },
        {
         "alignmentgroup": "True",
         "hovertemplate": "name=Jobfox<br>category_code=%{x}<br>funding=%{y}<extra></extra>",
         "legendgroup": "Jobfox",
         "marker": {
          "color": "#00cc96",
          "pattern": {
           "shape": ""
          }
         },
         "name": "Jobfox",
         "offsetgroup": "Jobfox",
         "orientation": "v",
         "showlegend": true,
         "textposition": "auto",
         "type": "bar",
         "x": [
          "web"
         ],
         "xaxis": "x",
         "y": [
          42000000
         ],
         "yaxis": "y"
        },
        {
         "alignmentgroup": "True",
         "hovertemplate": "name=Jobs2Web<br>category_code=%{x}<br>funding=%{y}<extra></extra>",
         "legendgroup": "Jobs2Web",
         "marker": {
          "color": "#ab63fa",
          "pattern": {
           "shape": ""
          }
         },
         "name": "Jobs2Web",
         "offsetgroup": "Jobs2Web",
         "orientation": "v",
         "showlegend": true,
         "textposition": "auto",
         "type": "bar",
         "x": [
          "web"
         ],
         "xaxis": "x",
         "y": [
          5550000
         ],
         "yaxis": "y"
        },
        {
         "alignmentgroup": "True",
         "hovertemplate": "name=Kluster<br>category_code=%{x}<br>funding=%{y}<extra></extra>",
         "legendgroup": "Kluster",
         "marker": {
          "color": "#FFA15A",
          "pattern": {
           "shape": ""
          }
         },
         "name": "Kluster",
         "offsetgroup": "Kluster",
         "orientation": "v",
         "showlegend": true,
         "textposition": "auto",
         "type": "bar",
         "x": [
          "web"
         ],
         "xaxis": "x",
         "y": [
          1000000
         ],
         "yaxis": "y"
        },
        {
         "alignmentgroup": "True",
         "hovertemplate": "name=Kosmix<br>category_code=%{x}<br>funding=%{y}<extra></extra>",
         "legendgroup": "Kosmix",
         "marker": {
          "color": "#19d3f3",
          "pattern": {
           "shape": ""
          }
         },
         "name": "Kosmix",
         "offsetgroup": "Kosmix",
         "orientation": "v",
         "showlegend": true,
         "textposition": "auto",
         "type": "bar",
         "x": [
          "web"
         ],
         "xaxis": "x",
         "y": [
          55000000
         ],
         "yaxis": "y"
        },
        {
         "alignmentgroup": "True",
         "hovertemplate": "name=Krillion<br>category_code=%{x}<br>funding=%{y}<extra></extra>",
         "legendgroup": "Krillion",
         "marker": {
          "color": "#FF6692",
          "pattern": {
           "shape": ""
          }
         },
         "name": "Krillion",
         "offsetgroup": "Krillion",
         "orientation": "v",
         "showlegend": true,
         "textposition": "auto",
         "type": "bar",
         "x": [
          "web"
         ],
         "xaxis": "x",
         "y": [
          9150000
         ],
         "yaxis": "y"
        },
        {
         "alignmentgroup": "True",
         "hovertemplate": "name=Lifestander<br>category_code=%{x}<br>funding=%{y}<extra></extra>",
         "legendgroup": "Lifestander",
         "marker": {
          "color": "#B6E880",
          "pattern": {
           "shape": ""
          }
         },
         "name": "Lifestander",
         "offsetgroup": "Lifestander",
         "orientation": "v",
         "showlegend": true,
         "textposition": "auto",
         "type": "bar",
         "x": [
          "web"
         ],
         "xaxis": "x",
         "y": [
          31000
         ],
         "yaxis": "y"
        },
        {
         "alignmentgroup": "True",
         "hovertemplate": "name=LikeList<br>category_code=%{x}<br>funding=%{y}<extra></extra>",
         "legendgroup": "LikeList",
         "marker": {
          "color": "#FF97FF",
          "pattern": {
           "shape": ""
          }
         },
         "name": "LikeList",
         "offsetgroup": "LikeList",
         "orientation": "v",
         "showlegend": true,
         "textposition": "auto",
         "type": "bar",
         "x": [
          "web"
         ],
         "xaxis": "x",
         "y": [
          5000000
         ],
         "yaxis": "y"
        },
        {
         "alignmentgroup": "True",
         "hovertemplate": "name=Local Marketers<br>category_code=%{x}<br>funding=%{y}<extra></extra>",
         "legendgroup": "Local Marketers",
         "marker": {
          "color": "#FECB52",
          "pattern": {
           "shape": ""
          }
         },
         "name": "Local Marketers",
         "offsetgroup": "Local Marketers",
         "orientation": "v",
         "showlegend": true,
         "textposition": "auto",
         "type": "bar",
         "x": [
          "web"
         ],
         "xaxis": "x",
         "y": [
          4100000
         ],
         "yaxis": "y"
        },
        {
         "alignmentgroup": "True",
         "hovertemplate": "name=Localocracy<br>category_code=%{x}<br>funding=%{y}<extra></extra>",
         "legendgroup": "Localocracy",
         "marker": {
          "color": "#636efa",
          "pattern": {
           "shape": ""
          }
         },
         "name": "Localocracy",
         "offsetgroup": "Localocracy",
         "orientation": "v",
         "showlegend": true,
         "textposition": "auto",
         "type": "bar",
         "x": [
          "web"
         ],
         "xaxis": "x",
         "y": [
          172500
         ],
         "yaxis": "y"
        },
        {
         "alignmentgroup": "True",
         "hovertemplate": "name=Lolapps<br>category_code=%{x}<br>funding=%{y}<extra></extra>",
         "legendgroup": "Lolapps",
         "marker": {
          "color": "#EF553B",
          "pattern": {
           "shape": ""
          }
         },
         "name": "Lolapps",
         "offsetgroup": "Lolapps",
         "orientation": "v",
         "showlegend": true,
         "textposition": "auto",
         "type": "bar",
         "x": [
          "web"
         ],
         "xaxis": "x",
         "y": [
          4000000
         ],
         "yaxis": "y"
        },
        {
         "alignmentgroup": "True",
         "hovertemplate": "name=Lookery<br>category_code=%{x}<br>funding=%{y}<extra></extra>",
         "legendgroup": "Lookery",
         "marker": {
          "color": "#00cc96",
          "pattern": {
           "shape": ""
          }
         },
         "name": "Lookery",
         "offsetgroup": "Lookery",
         "orientation": "v",
         "showlegend": true,
         "textposition": "auto",
         "type": "bar",
         "x": [
          "web"
         ],
         "xaxis": "x",
         "y": [
          3150000
         ],
         "yaxis": "y"
        },
        {
         "alignmentgroup": "True",
         "hovertemplate": "name=Loosecubes<br>category_code=%{x}<br>funding=%{y}<extra></extra>",
         "legendgroup": "Loosecubes",
         "marker": {
          "color": "#ab63fa",
          "pattern": {
           "shape": ""
          }
         },
         "name": "Loosecubes",
         "offsetgroup": "Loosecubes",
         "orientation": "v",
         "showlegend": true,
         "textposition": "auto",
         "type": "bar",
         "x": [
          "web"
         ],
         "xaxis": "x",
         "y": [
          9030000
         ],
         "yaxis": "y"
        },
        {
         "alignmentgroup": "True",
         "hovertemplate": "name=Loud3r<br>category_code=%{x}<br>funding=%{y}<extra></extra>",
         "legendgroup": "Loud3r",
         "marker": {
          "color": "#FFA15A",
          "pattern": {
           "shape": ""
          }
         },
         "name": "Loud3r",
         "offsetgroup": "Loud3r",
         "orientation": "v",
         "showlegend": true,
         "textposition": "auto",
         "type": "bar",
         "x": [
          "web"
         ],
         "xaxis": "x",
         "y": [
          3529175
         ],
         "yaxis": "y"
        },
        {
         "alignmentgroup": "True",
         "hovertemplate": "name=Loudcaster<br>category_code=%{x}<br>funding=%{y}<extra></extra>",
         "legendgroup": "Loudcaster",
         "marker": {
          "color": "#19d3f3",
          "pattern": {
           "shape": ""
          }
         },
         "name": "Loudcaster",
         "offsetgroup": "Loudcaster",
         "orientation": "v",
         "showlegend": true,
         "textposition": "auto",
         "type": "bar",
         "x": [
          "web"
         ],
         "xaxis": "x",
         "y": [
          53000
         ],
         "yaxis": "y"
        },
        {
         "alignmentgroup": "True",
         "hovertemplate": "name=Mail.com Media Corporation<br>category_code=%{x}<br>funding=%{y}<extra></extra>",
         "legendgroup": "Mail.com Media Corporation",
         "marker": {
          "color": "#FF6692",
          "pattern": {
           "shape": ""
          }
         },
         "name": "Mail.com Media Corporation",
         "offsetgroup": "Mail.com Media Corporation",
         "orientation": "v",
         "showlegend": true,
         "textposition": "auto",
         "type": "bar",
         "x": [
          "web"
         ],
         "xaxis": "x",
         "y": [
          35000000
         ],
         "yaxis": "y"
        },
        {
         "alignmentgroup": "True",
         "hovertemplate": "name=Media Chaperone<br>category_code=%{x}<br>funding=%{y}<extra></extra>",
         "legendgroup": "Media Chaperone",
         "marker": {
          "color": "#B6E880",
          "pattern": {
           "shape": ""
          }
         },
         "name": "Media Chaperone",
         "offsetgroup": "Media Chaperone",
         "orientation": "v",
         "showlegend": true,
         "textposition": "auto",
         "type": "bar",
         "x": [
          "web"
         ],
         "xaxis": "x",
         "y": [
          1050000
         ],
         "yaxis": "y"
        },
        {
         "alignmentgroup": "True",
         "hovertemplate": "name=Meebo<br>category_code=%{x}<br>funding=%{y}<extra></extra>",
         "legendgroup": "Meebo",
         "marker": {
          "color": "#FF97FF",
          "pattern": {
           "shape": ""
          }
         },
         "name": "Meebo",
         "offsetgroup": "Meebo",
         "orientation": "v",
         "showlegend": true,
         "textposition": "auto",
         "type": "bar",
         "x": [
          "web"
         ],
         "xaxis": "x",
         "y": [
          70000000
         ],
         "yaxis": "y"
        },
        {
         "alignmentgroup": "True",
         "hovertemplate": "name=MeetMe, Inc.<br>category_code=%{x}<br>funding=%{y}<extra></extra>",
         "legendgroup": "MeetMe, Inc.",
         "marker": {
          "color": "#FECB52",
          "pattern": {
           "shape": ""
          }
         },
         "name": "MeetMe, Inc.",
         "offsetgroup": "MeetMe, Inc.",
         "orientation": "v",
         "showlegend": true,
         "textposition": "auto",
         "type": "bar",
         "x": [
          "web"
         ],
         "xaxis": "x",
         "y": [
          17100000
         ],
         "yaxis": "y"
        },
        {
         "alignmentgroup": "True",
         "hovertemplate": "name=MerchantCircle<br>category_code=%{x}<br>funding=%{y}<extra></extra>",
         "legendgroup": "MerchantCircle",
         "marker": {
          "color": "#636efa",
          "pattern": {
           "shape": ""
          }
         },
         "name": "MerchantCircle",
         "offsetgroup": "MerchantCircle",
         "orientation": "v",
         "showlegend": true,
         "textposition": "auto",
         "type": "bar",
         "x": [
          "web"
         ],
         "xaxis": "x",
         "y": [
          14300000
         ],
         "yaxis": "y"
        },
        {
         "alignmentgroup": "True",
         "hovertemplate": "name=Metaweb Technologies<br>category_code=%{x}<br>funding=%{y}<extra></extra>",
         "legendgroup": "Metaweb Technologies",
         "marker": {
          "color": "#EF553B",
          "pattern": {
           "shape": ""
          }
         },
         "name": "Metaweb Technologies",
         "offsetgroup": "Metaweb Technologies",
         "orientation": "v",
         "showlegend": true,
         "textposition": "auto",
         "type": "bar",
         "x": [
          "web"
         ],
         "xaxis": "x",
         "y": [
          57000000
         ],
         "yaxis": "y"
        },
        {
         "alignmentgroup": "True",
         "hovertemplate": "name=Milo<br>category_code=%{x}<br>funding=%{y}<extra></extra>",
         "legendgroup": "Milo",
         "marker": {
          "color": "#00cc96",
          "pattern": {
           "shape": ""
          }
         },
         "name": "Milo",
         "offsetgroup": "Milo",
         "orientation": "v",
         "showlegend": true,
         "textposition": "auto",
         "type": "bar",
         "x": [
          "web"
         ],
         "xaxis": "x",
         "y": [
          4950000
         ],
         "yaxis": "y"
        },
        {
         "alignmentgroup": "True",
         "hovertemplate": "name=Minekey<br>category_code=%{x}<br>funding=%{y}<extra></extra>",
         "legendgroup": "Minekey",
         "marker": {
          "color": "#ab63fa",
          "pattern": {
           "shape": ""
          }
         },
         "name": "Minekey",
         "offsetgroup": "Minekey",
         "orientation": "v",
         "showlegend": true,
         "textposition": "auto",
         "type": "bar",
         "x": [
          "web"
         ],
         "xaxis": "x",
         "y": [
          3600000
         ],
         "yaxis": "y"
        },
        {
         "alignmentgroup": "True",
         "hovertemplate": "name=Moonshoot<br>category_code=%{x}<br>funding=%{y}<extra></extra>",
         "legendgroup": "Moonshoot",
         "marker": {
          "color": "#FFA15A",
          "pattern": {
           "shape": ""
          }
         },
         "name": "Moonshoot",
         "offsetgroup": "Moonshoot",
         "orientation": "v",
         "showlegend": true,
         "textposition": "auto",
         "type": "bar",
         "x": [
          "web"
         ],
         "xaxis": "x",
         "y": [
          6760000
         ],
         "yaxis": "y"
        },
        {
         "alignmentgroup": "True",
         "hovertemplate": "name=MyEnergy<br>category_code=%{x}<br>funding=%{y}<extra></extra>",
         "legendgroup": "MyEnergy",
         "marker": {
          "color": "#19d3f3",
          "pattern": {
           "shape": ""
          }
         },
         "name": "MyEnergy",
         "offsetgroup": "MyEnergy",
         "orientation": "v",
         "showlegend": true,
         "textposition": "auto",
         "type": "bar",
         "x": [
          "web"
         ],
         "xaxis": "x",
         "y": [
          4000000
         ],
         "yaxis": "y"
        },
        {
         "alignmentgroup": "True",
         "hovertemplate": "name=Neopolitan Networks<br>category_code=%{x}<br>funding=%{y}<extra></extra>",
         "legendgroup": "Neopolitan Networks",
         "marker": {
          "color": "#FF6692",
          "pattern": {
           "shape": ""
          }
         },
         "name": "Neopolitan Networks",
         "offsetgroup": "Neopolitan Networks",
         "orientation": "v",
         "showlegend": true,
         "textposition": "auto",
         "type": "bar",
         "x": [
          "web"
         ],
         "xaxis": "x",
         "y": [
          3170000
         ],
         "yaxis": "y"
        },
        {
         "alignmentgroup": "True",
         "hovertemplate": "name=Nettle<br>category_code=%{x}<br>funding=%{y}<extra></extra>",
         "legendgroup": "Nettle",
         "marker": {
          "color": "#B6E880",
          "pattern": {
           "shape": ""
          }
         },
         "name": "Nettle",
         "offsetgroup": "Nettle",
         "orientation": "v",
         "showlegend": true,
         "textposition": "auto",
         "type": "bar",
         "x": [
          "web"
         ],
         "xaxis": "x",
         "y": [
          500000
         ],
         "yaxis": "y"
        },
        {
         "alignmentgroup": "True",
         "hovertemplate": "name=Next New Networks<br>category_code=%{x}<br>funding=%{y}<extra></extra>",
         "legendgroup": "Next New Networks",
         "marker": {
          "color": "#FF97FF",
          "pattern": {
           "shape": ""
          }
         },
         "name": "Next New Networks",
         "offsetgroup": "Next New Networks",
         "orientation": "v",
         "showlegend": true,
         "textposition": "auto",
         "type": "bar",
         "x": [
          "web"
         ],
         "xaxis": "x",
         "y": [
          27063781
         ],
         "yaxis": "y"
        },
        {
         "alignmentgroup": "True",
         "hovertemplate": "name=Offermatic<br>category_code=%{x}<br>funding=%{y}<extra></extra>",
         "legendgroup": "Offermatic",
         "marker": {
          "color": "#FECB52",
          "pattern": {
           "shape": ""
          }
         },
         "name": "Offermatic",
         "offsetgroup": "Offermatic",
         "orientation": "v",
         "showlegend": true,
         "textposition": "auto",
         "type": "bar",
         "x": [
          "web"
         ],
         "xaxis": "x",
         "y": [
          4500000
         ],
         "yaxis": "y"
        },
        {
         "alignmentgroup": "True",
         "hovertemplate": "name=Outside.in<br>category_code=%{x}<br>funding=%{y}<extra></extra>",
         "legendgroup": "Outside.in",
         "marker": {
          "color": "#636efa",
          "pattern": {
           "shape": ""
          }
         },
         "name": "Outside.in",
         "offsetgroup": "Outside.in",
         "orientation": "v",
         "showlegend": true,
         "textposition": "auto",
         "type": "bar",
         "x": [
          "web"
         ],
         "xaxis": "x",
         "y": [
          14400000
         ],
         "yaxis": "y"
        },
        {
         "alignmentgroup": "True",
         "hovertemplate": "name=Photobucket<br>category_code=%{x}<br>funding=%{y}<extra></extra>",
         "legendgroup": "Photobucket",
         "marker": {
          "color": "#EF553B",
          "pattern": {
           "shape": ""
          }
         },
         "name": "Photobucket",
         "offsetgroup": "Photobucket",
         "orientation": "v",
         "showlegend": true,
         "textposition": "auto",
         "type": "bar",
         "x": [
          "web"
         ],
         "xaxis": "x",
         "y": [
          33672656
         ],
         "yaxis": "y"
        },
        {
         "alignmentgroup": "True",
         "hovertemplate": "name=PicApp<br>category_code=%{x}<br>funding=%{y}<extra></extra>",
         "legendgroup": "PicApp",
         "marker": {
          "color": "#00cc96",
          "pattern": {
           "shape": ""
          }
         },
         "name": "PicApp",
         "offsetgroup": "PicApp",
         "orientation": "v",
         "showlegend": true,
         "textposition": "auto",
         "type": "bar",
         "x": [
          "web"
         ],
         "xaxis": "x",
         "y": [
          3200000
         ],
         "yaxis": "y"
        },
        {
         "alignmentgroup": "True",
         "hovertemplate": "name=Picateers<br>category_code=%{x}<br>funding=%{y}<extra></extra>",
         "legendgroup": "Picateers",
         "marker": {
          "color": "#ab63fa",
          "pattern": {
           "shape": ""
          }
         },
         "name": "Picateers",
         "offsetgroup": "Picateers",
         "orientation": "v",
         "showlegend": true,
         "textposition": "auto",
         "type": "bar",
         "x": [
          "web"
         ],
         "xaxis": "x",
         "y": [
          12100000
         ],
         "yaxis": "y"
        },
        {
         "alignmentgroup": "True",
         "hovertemplate": "name=Plaxo<br>category_code=%{x}<br>funding=%{y}<extra></extra>",
         "legendgroup": "Plaxo",
         "marker": {
          "color": "#FFA15A",
          "pattern": {
           "shape": ""
          }
         },
         "name": "Plaxo",
         "offsetgroup": "Plaxo",
         "orientation": "v",
         "showlegend": true,
         "textposition": "auto",
         "type": "bar",
         "x": [
          "web"
         ],
         "xaxis": "x",
         "y": [
          28300000
         ],
         "yaxis": "y"
        },
        {
         "alignmentgroup": "True",
         "hovertemplate": "name=Plixi<br>category_code=%{x}<br>funding=%{y}<extra></extra>",
         "legendgroup": "Plixi",
         "marker": {
          "color": "#19d3f3",
          "pattern": {
           "shape": ""
          }
         },
         "name": "Plixi",
         "offsetgroup": "Plixi",
         "orientation": "v",
         "showlegend": true,
         "textposition": "auto",
         "type": "bar",
         "x": [
          "web"
         ],
         "xaxis": "x",
         "y": [
          2600000
         ],
         "yaxis": "y"
        },
        {
         "alignmentgroup": "True",
         "hovertemplate": "name=PostPath<br>category_code=%{x}<br>funding=%{y}<extra></extra>",
         "legendgroup": "PostPath",
         "marker": {
          "color": "#FF6692",
          "pattern": {
           "shape": ""
          }
         },
         "name": "PostPath",
         "offsetgroup": "PostPath",
         "orientation": "v",
         "showlegend": true,
         "textposition": "auto",
         "type": "bar",
         "x": [
          "web"
         ],
         "xaxis": "x",
         "y": [
          24300000
         ],
         "yaxis": "y"
        },
        {
         "alignmentgroup": "True",
         "hovertemplate": "name=Reddit<br>category_code=%{x}<br>funding=%{y}<extra></extra>",
         "legendgroup": "Reddit",
         "marker": {
          "color": "#B6E880",
          "pattern": {
           "shape": ""
          }
         },
         "name": "Reddit",
         "offsetgroup": "Reddit",
         "orientation": "v",
         "showlegend": true,
         "textposition": "auto",
         "type": "bar",
         "x": [
          "web"
         ],
         "xaxis": "x",
         "y": [
          100000
         ],
         "yaxis": "y"
        },
        {
         "alignmentgroup": "True",
         "hovertemplate": "name=RentStuff.com<br>category_code=%{x}<br>funding=%{y}<extra></extra>",
         "legendgroup": "RentStuff.com",
         "marker": {
          "color": "#FF97FF",
          "pattern": {
           "shape": ""
          }
         },
         "name": "RentStuff.com",
         "offsetgroup": "RentStuff.com",
         "orientation": "v",
         "showlegend": true,
         "textposition": "auto",
         "type": "bar",
         "x": [
          "web"
         ],
         "xaxis": "x",
         "y": [
          675000
         ],
         "yaxis": "y"
        },
        {
         "alignmentgroup": "True",
         "hovertemplate": "name=Resonant Vibes<br>category_code=%{x}<br>funding=%{y}<extra></extra>",
         "legendgroup": "Resonant Vibes",
         "marker": {
          "color": "#FECB52",
          "pattern": {
           "shape": ""
          }
         },
         "name": "Resonant Vibes",
         "offsetgroup": "Resonant Vibes",
         "orientation": "v",
         "showlegend": true,
         "textposition": "auto",
         "type": "bar",
         "x": [
          "web"
         ],
         "xaxis": "x",
         "y": [
          350000
         ],
         "yaxis": "y"
        },
        {
         "alignmentgroup": "True",
         "hovertemplate": "name=RetailMeNot, Inc.<br>category_code=%{x}<br>funding=%{y}<extra></extra>",
         "legendgroup": "RetailMeNot, Inc.",
         "marker": {
          "color": "#636efa",
          "pattern": {
           "shape": ""
          }
         },
         "name": "RetailMeNot, Inc.",
         "offsetgroup": "RetailMeNot, Inc.",
         "orientation": "v",
         "showlegend": true,
         "textposition": "auto",
         "type": "bar",
         "x": [
          "web"
         ],
         "xaxis": "x",
         "y": [
          299500000
         ],
         "yaxis": "y"
        },
        {
         "alignmentgroup": "True",
         "hovertemplate": "name=Revetto<br>category_code=%{x}<br>funding=%{y}<extra></extra>",
         "legendgroup": "Revetto",
         "marker": {
          "color": "#EF553B",
          "pattern": {
           "shape": ""
          }
         },
         "name": "Revetto",
         "offsetgroup": "Revetto",
         "orientation": "v",
         "showlegend": true,
         "textposition": "auto",
         "type": "bar",
         "x": [
          "web"
         ],
         "xaxis": "x",
         "y": [
          20000
         ],
         "yaxis": "y"
        },
        {
         "alignmentgroup": "True",
         "hovertemplate": "name=Rudder<br>category_code=%{x}<br>funding=%{y}<extra></extra>",
         "legendgroup": "Rudder",
         "marker": {
          "color": "#00cc96",
          "pattern": {
           "shape": ""
          }
         },
         "name": "Rudder",
         "offsetgroup": "Rudder",
         "orientation": "v",
         "showlegend": true,
         "textposition": "auto",
         "type": "bar",
         "x": [
          "web"
         ],
         "xaxis": "x",
         "y": [
          2000000
         ],
         "yaxis": "y"
        },
        {
         "alignmentgroup": "True",
         "hovertemplate": "name=Sampa<br>category_code=%{x}<br>funding=%{y}<extra></extra>",
         "legendgroup": "Sampa",
         "marker": {
          "color": "#ab63fa",
          "pattern": {
           "shape": ""
          }
         },
         "name": "Sampa",
         "offsetgroup": "Sampa",
         "orientation": "v",
         "showlegend": true,
         "textposition": "auto",
         "type": "bar",
         "x": [
          "web"
         ],
         "xaxis": "x",
         "y": [
          1310000
         ],
         "yaxis": "y"
        },
        {
         "alignmentgroup": "True",
         "hovertemplate": "name=Scrapblog<br>category_code=%{x}<br>funding=%{y}<extra></extra>",
         "legendgroup": "Scrapblog",
         "marker": {
          "color": "#FFA15A",
          "pattern": {
           "shape": ""
          }
         },
         "name": "Scrapblog",
         "offsetgroup": "Scrapblog",
         "orientation": "v",
         "showlegend": true,
         "textposition": "auto",
         "type": "bar",
         "x": [
          "web"
         ],
         "xaxis": "x",
         "y": [
          10000000
         ],
         "yaxis": "y"
        },
        {
         "alignmentgroup": "True",
         "hovertemplate": "name=Seesmic<br>category_code=%{x}<br>funding=%{y}<extra></extra>",
         "legendgroup": "Seesmic",
         "marker": {
          "color": "#19d3f3",
          "pattern": {
           "shape": ""
          }
         },
         "name": "Seesmic",
         "offsetgroup": "Seesmic",
         "orientation": "v",
         "showlegend": true,
         "textposition": "auto",
         "type": "bar",
         "x": [
          "web"
         ],
         "xaxis": "x",
         "y": [
          16000000
         ],
         "yaxis": "y"
        },
        {
         "alignmentgroup": "True",
         "hovertemplate": "name=Sensory Networks<br>category_code=%{x}<br>funding=%{y}<extra></extra>",
         "legendgroup": "Sensory Networks",
         "marker": {
          "color": "#FF6692",
          "pattern": {
           "shape": ""
          }
         },
         "name": "Sensory Networks",
         "offsetgroup": "Sensory Networks",
         "orientation": "v",
         "showlegend": true,
         "textposition": "auto",
         "type": "bar",
         "x": [
          "web"
         ],
         "xaxis": "x",
         "y": [
          17400000
         ],
         "yaxis": "y"
        },
        {
         "alignmentgroup": "True",
         "hovertemplate": "name=SezWho<br>category_code=%{x}<br>funding=%{y}<extra></extra>",
         "legendgroup": "SezWho",
         "marker": {
          "color": "#B6E880",
          "pattern": {
           "shape": ""
          }
         },
         "name": "SezWho",
         "offsetgroup": "SezWho",
         "orientation": "v",
         "showlegend": true,
         "textposition": "auto",
         "type": "bar",
         "x": [
          "web"
         ],
         "xaxis": "x",
         "y": [
          1000000
         ],
         "yaxis": "y"
        },
        {
         "alignmentgroup": "True",
         "hovertemplate": "name=Sharetivity<br>category_code=%{x}<br>funding=%{y}<extra></extra>",
         "legendgroup": "Sharetivity",
         "marker": {
          "color": "#FF97FF",
          "pattern": {
           "shape": ""
          }
         },
         "name": "Sharetivity",
         "offsetgroup": "Sharetivity",
         "orientation": "v",
         "showlegend": true,
         "textposition": "auto",
         "type": "bar",
         "x": [
          "web"
         ],
         "xaxis": "x",
         "y": [
          2000000
         ],
         "yaxis": "y"
        },
        {
         "alignmentgroup": "True",
         "hovertemplate": "name=ShopWell<br>category_code=%{x}<br>funding=%{y}<extra></extra>",
         "legendgroup": "ShopWell",
         "marker": {
          "color": "#FECB52",
          "pattern": {
           "shape": ""
          }
         },
         "name": "ShopWell",
         "offsetgroup": "ShopWell",
         "orientation": "v",
         "showlegend": true,
         "textposition": "auto",
         "type": "bar",
         "x": [
          "web"
         ],
         "xaxis": "x",
         "y": [
          7939553
         ],
         "yaxis": "y"
        },
        {
         "alignmentgroup": "True",
         "hovertemplate": "name=SideTour<br>category_code=%{x}<br>funding=%{y}<extra></extra>",
         "legendgroup": "SideTour",
         "marker": {
          "color": "#636efa",
          "pattern": {
           "shape": ""
          }
         },
         "name": "SideTour",
         "offsetgroup": "SideTour",
         "orientation": "v",
         "showlegend": true,
         "textposition": "auto",
         "type": "bar",
         "x": [
          "web"
         ],
         "xaxis": "x",
         "y": [
          4000000
         ],
         "yaxis": "y"
        },
        {
         "alignmentgroup": "True",
         "hovertemplate": "name=Simple Star<br>category_code=%{x}<br>funding=%{y}<extra></extra>",
         "legendgroup": "Simple Star",
         "marker": {
          "color": "#EF553B",
          "pattern": {
           "shape": ""
          }
         },
         "name": "Simple Star",
         "offsetgroup": "Simple Star",
         "orientation": "v",
         "showlegend": true,
         "textposition": "auto",
         "type": "bar",
         "x": [
          "web"
         ],
         "xaxis": "x",
         "y": [
          7100000
         ],
         "yaxis": "y"
        },
        {
         "alignmentgroup": "True",
         "hovertemplate": "name=SinglePlatform<br>category_code=%{x}<br>funding=%{y}<extra></extra>",
         "legendgroup": "SinglePlatform",
         "marker": {
          "color": "#00cc96",
          "pattern": {
           "shape": ""
          }
         },
         "name": "SinglePlatform",
         "offsetgroup": "SinglePlatform",
         "orientation": "v",
         "showlegend": true,
         "textposition": "auto",
         "type": "bar",
         "x": [
          "web"
         ],
         "xaxis": "x",
         "y": [
          4575000
         ],
         "yaxis": "y"
        },
        {
         "alignmentgroup": "True",
         "hovertemplate": "name=SkillSlate<br>category_code=%{x}<br>funding=%{y}<extra></extra>",
         "legendgroup": "SkillSlate",
         "marker": {
          "color": "#ab63fa",
          "pattern": {
           "shape": ""
          }
         },
         "name": "SkillSlate",
         "offsetgroup": "SkillSlate",
         "orientation": "v",
         "showlegend": true,
         "textposition": "auto",
         "type": "bar",
         "x": [
          "web"
         ],
         "xaxis": "x",
         "y": [
          1100000
         ],
         "yaxis": "y"
        },
        {
         "alignmentgroup": "True",
         "hovertemplate": "name=Slipstream<br>category_code=%{x}<br>funding=%{y}<extra></extra>",
         "legendgroup": "Slipstream",
         "marker": {
          "color": "#FFA15A",
          "pattern": {
           "shape": ""
          }
         },
         "name": "Slipstream",
         "offsetgroup": "Slipstream",
         "orientation": "v",
         "showlegend": true,
         "textposition": "auto",
         "type": "bar",
         "x": [
          "web"
         ],
         "xaxis": "x",
         "y": [
          20000
         ],
         "yaxis": "y"
        },
        {
         "alignmentgroup": "True",
         "hovertemplate": "name=Smalltown<br>category_code=%{x}<br>funding=%{y}<extra></extra>",
         "legendgroup": "Smalltown",
         "marker": {
          "color": "#19d3f3",
          "pattern": {
           "shape": ""
          }
         },
         "name": "Smalltown",
         "offsetgroup": "Smalltown",
         "orientation": "v",
         "showlegend": true,
         "textposition": "auto",
         "type": "bar",
         "x": [
          "web"
         ],
         "xaxis": "x",
         "y": [
          4000000
         ],
         "yaxis": "y"
        },
        {
         "alignmentgroup": "True",
         "hovertemplate": "name=Social Collective<br>category_code=%{x}<br>funding=%{y}<extra></extra>",
         "legendgroup": "Social Collective",
         "marker": {
          "color": "#FF6692",
          "pattern": {
           "shape": ""
          }
         },
         "name": "Social Collective",
         "offsetgroup": "Social Collective",
         "orientation": "v",
         "showlegend": true,
         "textposition": "auto",
         "type": "bar",
         "x": [
          "web"
         ],
         "xaxis": "x",
         "y": [
          20000
         ],
         "yaxis": "y"
        },
        {
         "alignmentgroup": "True",
         "hovertemplate": "name=Sponge<br>category_code=%{x}<br>funding=%{y}<extra></extra>",
         "legendgroup": "Sponge",
         "marker": {
          "color": "#B6E880",
          "pattern": {
           "shape": ""
          }
         },
         "name": "Sponge",
         "offsetgroup": "Sponge",
         "orientation": "v",
         "showlegend": true,
         "textposition": "auto",
         "type": "bar",
         "x": [
          "web"
         ],
         "xaxis": "x",
         "y": [
          400000
         ],
         "yaxis": "y"
        },
        {
         "alignmentgroup": "True",
         "hovertemplate": "name=Stickybits<br>category_code=%{x}<br>funding=%{y}<extra></extra>",
         "legendgroup": "Stickybits",
         "marker": {
          "color": "#FF97FF",
          "pattern": {
           "shape": ""
          }
         },
         "name": "Stickybits",
         "offsetgroup": "Stickybits",
         "orientation": "v",
         "showlegend": true,
         "textposition": "auto",
         "type": "bar",
         "x": [
          "web"
         ],
         "xaxis": "x",
         "y": [
          1900000
         ],
         "yaxis": "y"
        },
        {
         "alignmentgroup": "True",
         "hovertemplate": "name=Storify<br>category_code=%{x}<br>funding=%{y}<extra></extra>",
         "legendgroup": "Storify",
         "marker": {
          "color": "#FECB52",
          "pattern": {
           "shape": ""
          }
         },
         "name": "Storify",
         "offsetgroup": "Storify",
         "orientation": "v",
         "showlegend": true,
         "textposition": "auto",
         "type": "bar",
         "x": [
          "web"
         ],
         "xaxis": "x",
         "y": [
          2023000
         ],
         "yaxis": "y"
        },
        {
         "alignmentgroup": "True",
         "hovertemplate": "name=Surphace<br>category_code=%{x}<br>funding=%{y}<extra></extra>",
         "legendgroup": "Surphace",
         "marker": {
          "color": "#636efa",
          "pattern": {
           "shape": ""
          }
         },
         "name": "Surphace",
         "offsetgroup": "Surphace",
         "orientation": "v",
         "showlegend": true,
         "textposition": "auto",
         "type": "bar",
         "x": [
          "web"
         ],
         "xaxis": "x",
         "y": [
          3500000
         ],
         "yaxis": "y"
        },
        {
         "alignmentgroup": "True",
         "hovertemplate": "name=Swaptree Inc.<br>category_code=%{x}<br>funding=%{y}<extra></extra>",
         "legendgroup": "Swaptree Inc.",
         "marker": {
          "color": "#EF553B",
          "pattern": {
           "shape": ""
          }
         },
         "name": "Swaptree Inc.",
         "offsetgroup": "Swaptree Inc.",
         "orientation": "v",
         "showlegend": true,
         "textposition": "auto",
         "type": "bar",
         "x": [
          "web"
         ],
         "xaxis": "x",
         "y": [
          11300000
         ],
         "yaxis": "y"
        },
        {
         "alignmentgroup": "True",
         "hovertemplate": "name=TalkPlus<br>category_code=%{x}<br>funding=%{y}<extra></extra>",
         "legendgroup": "TalkPlus",
         "marker": {
          "color": "#00cc96",
          "pattern": {
           "shape": ""
          }
         },
         "name": "TalkPlus",
         "offsetgroup": "TalkPlus",
         "orientation": "v",
         "showlegend": true,
         "textposition": "auto",
         "type": "bar",
         "x": [
          "web"
         ],
         "xaxis": "x",
         "y": [
          5500000
         ],
         "yaxis": "y"
        },
        {
         "alignmentgroup": "True",
         "hovertemplate": "name=TheMarkets<br>category_code=%{x}<br>funding=%{y}<extra></extra>",
         "legendgroup": "TheMarkets",
         "marker": {
          "color": "#ab63fa",
          "pattern": {
           "shape": ""
          }
         },
         "name": "TheMarkets",
         "offsetgroup": "TheMarkets",
         "orientation": "v",
         "showlegend": true,
         "textposition": "auto",
         "type": "bar",
         "x": [
          "web"
         ],
         "xaxis": "x",
         "y": [
          30000000
         ],
         "yaxis": "y"
        },
        {
         "alignmentgroup": "True",
         "hovertemplate": "name=TimeBridge<br>category_code=%{x}<br>funding=%{y}<extra></extra>",
         "legendgroup": "TimeBridge",
         "marker": {
          "color": "#FFA15A",
          "pattern": {
           "shape": ""
          }
         },
         "name": "TimeBridge",
         "offsetgroup": "TimeBridge",
         "orientation": "v",
         "showlegend": true,
         "textposition": "auto",
         "type": "bar",
         "x": [
          "web"
         ],
         "xaxis": "x",
         "y": [
          12400000
         ],
         "yaxis": "y"
        },
        {
         "alignmentgroup": "True",
         "hovertemplate": "name=TravelMuse<br>category_code=%{x}<br>funding=%{y}<extra></extra>",
         "legendgroup": "TravelMuse",
         "marker": {
          "color": "#19d3f3",
          "pattern": {
           "shape": ""
          }
         },
         "name": "TravelMuse",
         "offsetgroup": "TravelMuse",
         "orientation": "v",
         "showlegend": true,
         "textposition": "auto",
         "type": "bar",
         "x": [
          "web"
         ],
         "xaxis": "x",
         "y": [
          5600000
         ],
         "yaxis": "y"
        },
        {
         "alignmentgroup": "True",
         "hovertemplate": "name=TrustDegrees<br>category_code=%{x}<br>funding=%{y}<extra></extra>",
         "legendgroup": "TrustDegrees",
         "marker": {
          "color": "#FF6692",
          "pattern": {
           "shape": ""
          }
         },
         "name": "TrustDegrees",
         "offsetgroup": "TrustDegrees",
         "orientation": "v",
         "showlegend": true,
         "textposition": "auto",
         "type": "bar",
         "x": [
          "web"
         ],
         "xaxis": "x",
         "y": [
          11000
         ],
         "yaxis": "y"
        },
        {
         "alignmentgroup": "True",
         "hovertemplate": "name=Tumblr<br>category_code=%{x}<br>funding=%{y}<extra></extra>",
         "legendgroup": "Tumblr",
         "marker": {
          "color": "#B6E880",
          "pattern": {
           "shape": ""
          }
         },
         "name": "Tumblr",
         "offsetgroup": "Tumblr",
         "orientation": "v",
         "showlegend": true,
         "textposition": "auto",
         "type": "bar",
         "x": [
          "web"
         ],
         "xaxis": "x",
         "y": [
          125250000
         ],
         "yaxis": "y"
        },
        {
         "alignmentgroup": "True",
         "hovertemplate": "name=TwtBks<br>category_code=%{x}<br>funding=%{y}<extra></extra>",
         "legendgroup": "TwtBks",
         "marker": {
          "color": "#FF97FF",
          "pattern": {
           "shape": ""
          }
         },
         "name": "TwtBks",
         "offsetgroup": "TwtBks",
         "orientation": "v",
         "showlegend": true,
         "textposition": "auto",
         "type": "bar",
         "x": [
          "web"
         ],
         "xaxis": "x",
         "y": [
          25000
         ],
         "yaxis": "y"
        },
        {
         "alignmentgroup": "True",
         "hovertemplate": "name=Visible Path<br>category_code=%{x}<br>funding=%{y}<extra></extra>",
         "legendgroup": "Visible Path",
         "marker": {
          "color": "#FECB52",
          "pattern": {
           "shape": ""
          }
         },
         "name": "Visible Path",
         "offsetgroup": "Visible Path",
         "orientation": "v",
         "showlegend": true,
         "textposition": "auto",
         "type": "bar",
         "x": [
          "web"
         ],
         "xaxis": "x",
         "y": [
          24700000
         ],
         "yaxis": "y"
        },
        {
         "alignmentgroup": "True",
         "hovertemplate": "name=Votizen<br>category_code=%{x}<br>funding=%{y}<extra></extra>",
         "legendgroup": "Votizen",
         "marker": {
          "color": "#636efa",
          "pattern": {
           "shape": ""
          }
         },
         "name": "Votizen",
         "offsetgroup": "Votizen",
         "orientation": "v",
         "showlegend": true,
         "textposition": "auto",
         "type": "bar",
         "x": [
          "web"
         ],
         "xaxis": "x",
         "y": [
          2250000
         ],
         "yaxis": "y"
        },
        {
         "alignmentgroup": "True",
         "hovertemplate": "name=Wavii<br>category_code=%{x}<br>funding=%{y}<extra></extra>",
         "legendgroup": "Wavii",
         "marker": {
          "color": "#EF553B",
          "pattern": {
           "shape": ""
          }
         },
         "name": "Wavii",
         "offsetgroup": "Wavii",
         "orientation": "v",
         "showlegend": true,
         "textposition": "auto",
         "type": "bar",
         "x": [
          "web"
         ],
         "xaxis": "x",
         "y": [
          2000000
         ],
         "yaxis": "y"
        },
        {
         "alignmentgroup": "True",
         "hovertemplate": "name=Weatherista<br>category_code=%{x}<br>funding=%{y}<extra></extra>",
         "legendgroup": "Weatherista",
         "marker": {
          "color": "#00cc96",
          "pattern": {
           "shape": ""
          }
         },
         "name": "Weatherista",
         "offsetgroup": "Weatherista",
         "orientation": "v",
         "showlegend": true,
         "textposition": "auto",
         "type": "bar",
         "x": [
          "web"
         ],
         "xaxis": "x",
         "y": [
          500000
         ],
         "yaxis": "y"
        },
        {
         "alignmentgroup": "True",
         "hovertemplate": "name=Wesabe<br>category_code=%{x}<br>funding=%{y}<extra></extra>",
         "legendgroup": "Wesabe",
         "marker": {
          "color": "#ab63fa",
          "pattern": {
           "shape": ""
          }
         },
         "name": "Wesabe",
         "offsetgroup": "Wesabe",
         "orientation": "v",
         "showlegend": true,
         "textposition": "auto",
         "type": "bar",
         "x": [
          "web"
         ],
         "xaxis": "x",
         "y": [
          4700000
         ],
         "yaxis": "y"
        },
        {
         "alignmentgroup": "True",
         "hovertemplate": "name=What They Like<br>category_code=%{x}<br>funding=%{y}<extra></extra>",
         "legendgroup": "What They Like",
         "marker": {
          "color": "#FFA15A",
          "pattern": {
           "shape": ""
          }
         },
         "name": "What They Like",
         "offsetgroup": "What They Like",
         "orientation": "v",
         "showlegend": true,
         "textposition": "auto",
         "type": "bar",
         "x": [
          "web"
         ],
         "xaxis": "x",
         "y": [
          990000
         ],
         "yaxis": "y"
        },
        {
         "alignmentgroup": "True",
         "hovertemplate": "name=Whiskey Media<br>category_code=%{x}<br>funding=%{y}<extra></extra>",
         "legendgroup": "Whiskey Media",
         "marker": {
          "color": "#19d3f3",
          "pattern": {
           "shape": ""
          }
         },
         "name": "Whiskey Media",
         "offsetgroup": "Whiskey Media",
         "orientation": "v",
         "showlegend": true,
         "textposition": "auto",
         "type": "bar",
         "x": [
          "web"
         ],
         "xaxis": "x",
         "y": [
          4000000
         ],
         "yaxis": "y"
        },
        {
         "alignmentgroup": "True",
         "hovertemplate": "name=WildBlue<br>category_code=%{x}<br>funding=%{y}<extra></extra>",
         "legendgroup": "WildBlue",
         "marker": {
          "color": "#FF6692",
          "pattern": {
           "shape": ""
          }
         },
         "name": "WildBlue",
         "offsetgroup": "WildBlue",
         "orientation": "v",
         "showlegend": true,
         "textposition": "auto",
         "type": "bar",
         "x": [
          "web"
         ],
         "xaxis": "x",
         "y": [
          50000000
         ],
         "yaxis": "y"
        },
        {
         "alignmentgroup": "True",
         "hovertemplate": "name=WooMe<br>category_code=%{x}<br>funding=%{y}<extra></extra>",
         "legendgroup": "WooMe",
         "marker": {
          "color": "#B6E880",
          "pattern": {
           "shape": ""
          }
         },
         "name": "WooMe",
         "offsetgroup": "WooMe",
         "orientation": "v",
         "showlegend": true,
         "textposition": "auto",
         "type": "bar",
         "x": [
          "web"
         ],
         "xaxis": "x",
         "y": [
          17400000
         ],
         "yaxis": "y"
        },
        {
         "alignmentgroup": "True",
         "hovertemplate": "name=Xoopit<br>category_code=%{x}<br>funding=%{y}<extra></extra>",
         "legendgroup": "Xoopit",
         "marker": {
          "color": "#FF97FF",
          "pattern": {
           "shape": ""
          }
         },
         "name": "Xoopit",
         "offsetgroup": "Xoopit",
         "orientation": "v",
         "showlegend": true,
         "textposition": "auto",
         "type": "bar",
         "x": [
          "web"
         ],
         "xaxis": "x",
         "y": [
          6500000
         ],
         "yaxis": "y"
        },
        {
         "alignmentgroup": "True",
         "hovertemplate": "name=Yamisee<br>category_code=%{x}<br>funding=%{y}<extra></extra>",
         "legendgroup": "Yamisee",
         "marker": {
          "color": "#FECB52",
          "pattern": {
           "shape": ""
          }
         },
         "name": "Yamisee",
         "offsetgroup": "Yamisee",
         "orientation": "v",
         "showlegend": true,
         "textposition": "auto",
         "type": "bar",
         "x": [
          "web"
         ],
         "xaxis": "x",
         "y": [
          700000
         ],
         "yaxis": "y"
        },
        {
         "alignmentgroup": "True",
         "hovertemplate": "name=Yobongo<br>category_code=%{x}<br>funding=%{y}<extra></extra>",
         "legendgroup": "Yobongo",
         "marker": {
          "color": "#636efa",
          "pattern": {
           "shape": ""
          }
         },
         "name": "Yobongo",
         "offsetgroup": "Yobongo",
         "orientation": "v",
         "showlegend": true,
         "textposition": "auto",
         "type": "bar",
         "x": [
          "web"
         ],
         "xaxis": "x",
         "y": [
          1350000
         ],
         "yaxis": "y"
        },
        {
         "alignmentgroup": "True",
         "hovertemplate": "name=Zinch<br>category_code=%{x}<br>funding=%{y}<extra></extra>",
         "legendgroup": "Zinch",
         "marker": {
          "color": "#EF553B",
          "pattern": {
           "shape": ""
          }
         },
         "name": "Zinch",
         "offsetgroup": "Zinch",
         "orientation": "v",
         "showlegend": true,
         "textposition": "auto",
         "type": "bar",
         "x": [
          "web"
         ],
         "xaxis": "x",
         "y": [
          5000000
         ],
         "yaxis": "y"
        },
        {
         "alignmentgroup": "True",
         "hovertemplate": "name=ZipList<br>category_code=%{x}<br>funding=%{y}<extra></extra>",
         "legendgroup": "ZipList",
         "marker": {
          "color": "#00cc96",
          "pattern": {
           "shape": ""
          }
         },
         "name": "ZipList",
         "offsetgroup": "ZipList",
         "orientation": "v",
         "showlegend": true,
         "textposition": "auto",
         "type": "bar",
         "x": [
          "web"
         ],
         "xaxis": "x",
         "y": [
          4500000
         ],
         "yaxis": "y"
        },
        {
         "alignmentgroup": "True",
         "hovertemplate": "name=about.me<br>category_code=%{x}<br>funding=%{y}<extra></extra>",
         "legendgroup": "about.me",
         "marker": {
          "color": "#ab63fa",
          "pattern": {
           "shape": ""
          }
         },
         "name": "about.me",
         "offsetgroup": "about.me",
         "orientation": "v",
         "showlegend": true,
         "textposition": "auto",
         "type": "bar",
         "x": [
          "web"
         ],
         "xaxis": "x",
         "y": [
          5675000
         ],
         "yaxis": "y"
        },
        {
         "alignmentgroup": "True",
         "hovertemplate": "name=ezzai - how to arabia<br>category_code=%{x}<br>funding=%{y}<extra></extra>",
         "legendgroup": "ezzai - how to arabia",
         "marker": {
          "color": "#FFA15A",
          "pattern": {
           "shape": ""
          }
         },
         "name": "ezzai - how to arabia",
         "offsetgroup": "ezzai - how to arabia",
         "orientation": "v",
         "showlegend": true,
         "textposition": "auto",
         "type": "bar",
         "x": [
          "web"
         ],
         "xaxis": "x",
         "y": [
          45000000
         ],
         "yaxis": "y"
        },
        {
         "alignmentgroup": "True",
         "hovertemplate": "name=iCurrent<br>category_code=%{x}<br>funding=%{y}<extra></extra>",
         "legendgroup": "iCurrent",
         "marker": {
          "color": "#19d3f3",
          "pattern": {
           "shape": ""
          }
         },
         "name": "iCurrent",
         "offsetgroup": "iCurrent",
         "orientation": "v",
         "showlegend": true,
         "textposition": "auto",
         "type": "bar",
         "x": [
          "web"
         ],
         "xaxis": "x",
         "y": [
          3000000
         ],
         "yaxis": "y"
        },
        {
         "alignmentgroup": "True",
         "hovertemplate": "name=lifeIO<br>category_code=%{x}<br>funding=%{y}<extra></extra>",
         "legendgroup": "lifeIO",
         "marker": {
          "color": "#FF6692",
          "pattern": {
           "shape": ""
          }
         },
         "name": "lifeIO",
         "offsetgroup": "lifeIO",
         "orientation": "v",
         "showlegend": true,
         "textposition": "auto",
         "type": "bar",
         "x": [
          "web"
         ],
         "xaxis": "x",
         "y": [
          500000
         ],
         "yaxis": "y"
        },
        {
         "alignmentgroup": "True",
         "hovertemplate": "name=neoSaej<br>category_code=%{x}<br>funding=%{y}<extra></extra>",
         "legendgroup": "neoSaej",
         "marker": {
          "color": "#B6E880",
          "pattern": {
           "shape": ""
          }
         },
         "name": "neoSaej",
         "offsetgroup": "neoSaej",
         "orientation": "v",
         "showlegend": true,
         "textposition": "auto",
         "type": "bar",
         "x": [
          "web"
         ],
         "xaxis": "x",
         "y": [
          13130000
         ],
         "yaxis": "y"
        },
        {
         "alignmentgroup": "True",
         "hovertemplate": "name=spotdock<br>category_code=%{x}<br>funding=%{y}<extra></extra>",
         "legendgroup": "spotdock",
         "marker": {
          "color": "#FF97FF",
          "pattern": {
           "shape": ""
          }
         },
         "name": "spotdock",
         "offsetgroup": "spotdock",
         "orientation": "v",
         "showlegend": true,
         "textposition": "auto",
         "type": "bar",
         "x": [
          "web"
         ],
         "xaxis": "x",
         "y": [
          600000
         ],
         "yaxis": "y"
        },
        {
         "alignmentgroup": "True",
         "hovertemplate": "name=thePlatform<br>category_code=%{x}<br>funding=%{y}<extra></extra>",
         "legendgroup": "thePlatform",
         "marker": {
          "color": "#FECB52",
          "pattern": {
           "shape": ""
          }
         },
         "name": "thePlatform",
         "offsetgroup": "thePlatform",
         "orientation": "v",
         "showlegend": true,
         "textposition": "auto",
         "type": "bar",
         "x": [
          "web"
         ],
         "xaxis": "x",
         "y": [
          8000000
         ],
         "yaxis": "y"
        }
       ],
       "layout": {
        "autosize": true,
        "barmode": "relative",
        "legend": {
         "title": {
          "text": "name"
         },
         "tracegroupgap": 0
        },
        "paper_bgcolor": "white",
        "plot_bgcolor": "rgb(254, 246, 224)",
        "template": {
         "data": {
          "bar": [
           {
            "error_x": {
             "color": "#2a3f5f"
            },
            "error_y": {
             "color": "#2a3f5f"
            },
            "marker": {
             "line": {
              "color": "#E5ECF6",
              "width": 0.5
             },
             "pattern": {
              "fillmode": "overlay",
              "size": 10,
              "solidity": 0.2
             }
            },
            "type": "bar"
           }
          ],
          "barpolar": [
           {
            "marker": {
             "line": {
              "color": "#E5ECF6",
              "width": 0.5
             },
             "pattern": {
              "fillmode": "overlay",
              "size": 10,
              "solidity": 0.2
             }
            },
            "type": "barpolar"
           }
          ],
          "carpet": [
           {
            "aaxis": {
             "endlinecolor": "#2a3f5f",
             "gridcolor": "white",
             "linecolor": "white",
             "minorgridcolor": "white",
             "startlinecolor": "#2a3f5f"
            },
            "baxis": {
             "endlinecolor": "#2a3f5f",
             "gridcolor": "white",
             "linecolor": "white",
             "minorgridcolor": "white",
             "startlinecolor": "#2a3f5f"
            },
            "type": "carpet"
           }
          ],
          "choropleth": [
           {
            "colorbar": {
             "outlinewidth": 0,
             "ticks": ""
            },
            "type": "choropleth"
           }
          ],
          "contour": [
           {
            "colorbar": {
             "outlinewidth": 0,
             "ticks": ""
            },
            "colorscale": [
             [
              0,
              "#0d0887"
             ],
             [
              0.1111111111111111,
              "#46039f"
             ],
             [
              0.2222222222222222,
              "#7201a8"
             ],
             [
              0.3333333333333333,
              "#9c179e"
             ],
             [
              0.4444444444444444,
              "#bd3786"
             ],
             [
              0.5555555555555556,
              "#d8576b"
             ],
             [
              0.6666666666666666,
              "#ed7953"
             ],
             [
              0.7777777777777778,
              "#fb9f3a"
             ],
             [
              0.8888888888888888,
              "#fdca26"
             ],
             [
              1,
              "#f0f921"
             ]
            ],
            "type": "contour"
           }
          ],
          "contourcarpet": [
           {
            "colorbar": {
             "outlinewidth": 0,
             "ticks": ""
            },
            "type": "contourcarpet"
           }
          ],
          "heatmap": [
           {
            "colorbar": {
             "outlinewidth": 0,
             "ticks": ""
            },
            "colorscale": [
             [
              0,
              "#0d0887"
             ],
             [
              0.1111111111111111,
              "#46039f"
             ],
             [
              0.2222222222222222,
              "#7201a8"
             ],
             [
              0.3333333333333333,
              "#9c179e"
             ],
             [
              0.4444444444444444,
              "#bd3786"
             ],
             [
              0.5555555555555556,
              "#d8576b"
             ],
             [
              0.6666666666666666,
              "#ed7953"
             ],
             [
              0.7777777777777778,
              "#fb9f3a"
             ],
             [
              0.8888888888888888,
              "#fdca26"
             ],
             [
              1,
              "#f0f921"
             ]
            ],
            "type": "heatmap"
           }
          ],
          "heatmapgl": [
           {
            "colorbar": {
             "outlinewidth": 0,
             "ticks": ""
            },
            "colorscale": [
             [
              0,
              "#0d0887"
             ],
             [
              0.1111111111111111,
              "#46039f"
             ],
             [
              0.2222222222222222,
              "#7201a8"
             ],
             [
              0.3333333333333333,
              "#9c179e"
             ],
             [
              0.4444444444444444,
              "#bd3786"
             ],
             [
              0.5555555555555556,
              "#d8576b"
             ],
             [
              0.6666666666666666,
              "#ed7953"
             ],
             [
              0.7777777777777778,
              "#fb9f3a"
             ],
             [
              0.8888888888888888,
              "#fdca26"
             ],
             [
              1,
              "#f0f921"
             ]
            ],
            "type": "heatmapgl"
           }
          ],
          "histogram": [
           {
            "marker": {
             "pattern": {
              "fillmode": "overlay",
              "size": 10,
              "solidity": 0.2
             }
            },
            "type": "histogram"
           }
          ],
          "histogram2d": [
           {
            "colorbar": {
             "outlinewidth": 0,
             "ticks": ""
            },
            "colorscale": [
             [
              0,
              "#0d0887"
             ],
             [
              0.1111111111111111,
              "#46039f"
             ],
             [
              0.2222222222222222,
              "#7201a8"
             ],
             [
              0.3333333333333333,
              "#9c179e"
             ],
             [
              0.4444444444444444,
              "#bd3786"
             ],
             [
              0.5555555555555556,
              "#d8576b"
             ],
             [
              0.6666666666666666,
              "#ed7953"
             ],
             [
              0.7777777777777778,
              "#fb9f3a"
             ],
             [
              0.8888888888888888,
              "#fdca26"
             ],
             [
              1,
              "#f0f921"
             ]
            ],
            "type": "histogram2d"
           }
          ],
          "histogram2dcontour": [
           {
            "colorbar": {
             "outlinewidth": 0,
             "ticks": ""
            },
            "colorscale": [
             [
              0,
              "#0d0887"
             ],
             [
              0.1111111111111111,
              "#46039f"
             ],
             [
              0.2222222222222222,
              "#7201a8"
             ],
             [
              0.3333333333333333,
              "#9c179e"
             ],
             [
              0.4444444444444444,
              "#bd3786"
             ],
             [
              0.5555555555555556,
              "#d8576b"
             ],
             [
              0.6666666666666666,
              "#ed7953"
             ],
             [
              0.7777777777777778,
              "#fb9f3a"
             ],
             [
              0.8888888888888888,
              "#fdca26"
             ],
             [
              1,
              "#f0f921"
             ]
            ],
            "type": "histogram2dcontour"
           }
          ],
          "mesh3d": [
           {
            "colorbar": {
             "outlinewidth": 0,
             "ticks": ""
            },
            "type": "mesh3d"
           }
          ],
          "parcoords": [
           {
            "line": {
             "colorbar": {
              "outlinewidth": 0,
              "ticks": ""
             }
            },
            "type": "parcoords"
           }
          ],
          "pie": [
           {
            "automargin": true,
            "type": "pie"
           }
          ],
          "scatter": [
           {
            "marker": {
             "colorbar": {
              "outlinewidth": 0,
              "ticks": ""
             }
            },
            "type": "scatter"
           }
          ],
          "scatter3d": [
           {
            "line": {
             "colorbar": {
              "outlinewidth": 0,
              "ticks": ""
             }
            },
            "marker": {
             "colorbar": {
              "outlinewidth": 0,
              "ticks": ""
             }
            },
            "type": "scatter3d"
           }
          ],
          "scattercarpet": [
           {
            "marker": {
             "colorbar": {
              "outlinewidth": 0,
              "ticks": ""
             }
            },
            "type": "scattercarpet"
           }
          ],
          "scattergeo": [
           {
            "marker": {
             "colorbar": {
              "outlinewidth": 0,
              "ticks": ""
             }
            },
            "type": "scattergeo"
           }
          ],
          "scattergl": [
           {
            "marker": {
             "colorbar": {
              "outlinewidth": 0,
              "ticks": ""
             }
            },
            "type": "scattergl"
           }
          ],
          "scattermapbox": [
           {
            "marker": {
             "colorbar": {
              "outlinewidth": 0,
              "ticks": ""
             }
            },
            "type": "scattermapbox"
           }
          ],
          "scatterpolar": [
           {
            "marker": {
             "colorbar": {
              "outlinewidth": 0,
              "ticks": ""
             }
            },
            "type": "scatterpolar"
           }
          ],
          "scatterpolargl": [
           {
            "marker": {
             "colorbar": {
              "outlinewidth": 0,
              "ticks": ""
             }
            },
            "type": "scatterpolargl"
           }
          ],
          "scatterternary": [
           {
            "marker": {
             "colorbar": {
              "outlinewidth": 0,
              "ticks": ""
             }
            },
            "type": "scatterternary"
           }
          ],
          "surface": [
           {
            "colorbar": {
             "outlinewidth": 0,
             "ticks": ""
            },
            "colorscale": [
             [
              0,
              "#0d0887"
             ],
             [
              0.1111111111111111,
              "#46039f"
             ],
             [
              0.2222222222222222,
              "#7201a8"
             ],
             [
              0.3333333333333333,
              "#9c179e"
             ],
             [
              0.4444444444444444,
              "#bd3786"
             ],
             [
              0.5555555555555556,
              "#d8576b"
             ],
             [
              0.6666666666666666,
              "#ed7953"
             ],
             [
              0.7777777777777778,
              "#fb9f3a"
             ],
             [
              0.8888888888888888,
              "#fdca26"
             ],
             [
              1,
              "#f0f921"
             ]
            ],
            "type": "surface"
           }
          ],
          "table": [
           {
            "cells": {
             "fill": {
              "color": "#EBF0F8"
             },
             "line": {
              "color": "white"
             }
            },
            "header": {
             "fill": {
              "color": "#C8D4E3"
             },
             "line": {
              "color": "white"
             }
            },
            "type": "table"
           }
          ]
         },
         "layout": {
          "annotationdefaults": {
           "arrowcolor": "#2a3f5f",
           "arrowhead": 0,
           "arrowwidth": 1
          },
          "autotypenumbers": "strict",
          "coloraxis": {
           "colorbar": {
            "outlinewidth": 0,
            "ticks": ""
           }
          },
          "colorscale": {
           "diverging": [
            [
             0,
             "#8e0152"
            ],
            [
             0.1,
             "#c51b7d"
            ],
            [
             0.2,
             "#de77ae"
            ],
            [
             0.3,
             "#f1b6da"
            ],
            [
             0.4,
             "#fde0ef"
            ],
            [
             0.5,
             "#f7f7f7"
            ],
            [
             0.6,
             "#e6f5d0"
            ],
            [
             0.7,
             "#b8e186"
            ],
            [
             0.8,
             "#7fbc41"
            ],
            [
             0.9,
             "#4d9221"
            ],
            [
             1,
             "#276419"
            ]
           ],
           "sequential": [
            [
             0,
             "#0d0887"
            ],
            [
             0.1111111111111111,
             "#46039f"
            ],
            [
             0.2222222222222222,
             "#7201a8"
            ],
            [
             0.3333333333333333,
             "#9c179e"
            ],
            [
             0.4444444444444444,
             "#bd3786"
            ],
            [
             0.5555555555555556,
             "#d8576b"
            ],
            [
             0.6666666666666666,
             "#ed7953"
            ],
            [
             0.7777777777777778,
             "#fb9f3a"
            ],
            [
             0.8888888888888888,
             "#fdca26"
            ],
            [
             1,
             "#f0f921"
            ]
           ],
           "sequentialminus": [
            [
             0,
             "#0d0887"
            ],
            [
             0.1111111111111111,
             "#46039f"
            ],
            [
             0.2222222222222222,
             "#7201a8"
            ],
            [
             0.3333333333333333,
             "#9c179e"
            ],
            [
             0.4444444444444444,
             "#bd3786"
            ],
            [
             0.5555555555555556,
             "#d8576b"
            ],
            [
             0.6666666666666666,
             "#ed7953"
            ],
            [
             0.7777777777777778,
             "#fb9f3a"
            ],
            [
             0.8888888888888888,
             "#fdca26"
            ],
            [
             1,
             "#f0f921"
            ]
           ]
          },
          "colorway": [
           "#636efa",
           "#EF553B",
           "#00cc96",
           "#ab63fa",
           "#FFA15A",
           "#19d3f3",
           "#FF6692",
           "#B6E880",
           "#FF97FF",
           "#FECB52"
          ],
          "font": {
           "color": "#2a3f5f"
          },
          "geo": {
           "bgcolor": "white",
           "lakecolor": "white",
           "landcolor": "#E5ECF6",
           "showlakes": true,
           "showland": true,
           "subunitcolor": "white"
          },
          "hoverlabel": {
           "align": "left"
          },
          "hovermode": "closest",
          "mapbox": {
           "style": "light"
          },
          "paper_bgcolor": "white",
          "plot_bgcolor": "#E5ECF6",
          "polar": {
           "angularaxis": {
            "gridcolor": "white",
            "linecolor": "white",
            "ticks": ""
           },
           "bgcolor": "#E5ECF6",
           "radialaxis": {
            "gridcolor": "white",
            "linecolor": "white",
            "ticks": ""
           }
          },
          "scene": {
           "xaxis": {
            "backgroundcolor": "#E5ECF6",
            "gridcolor": "white",
            "gridwidth": 2,
            "linecolor": "white",
            "showbackground": true,
            "ticks": "",
            "zerolinecolor": "white"
           },
           "yaxis": {
            "backgroundcolor": "#E5ECF6",
            "gridcolor": "white",
            "gridwidth": 2,
            "linecolor": "white",
            "showbackground": true,
            "ticks": "",
            "zerolinecolor": "white"
           },
           "zaxis": {
            "backgroundcolor": "#E5ECF6",
            "gridcolor": "white",
            "gridwidth": 2,
            "linecolor": "white",
            "showbackground": true,
            "ticks": "",
            "zerolinecolor": "white"
           }
          },
          "shapedefaults": {
           "line": {
            "color": "#2a3f5f"
           }
          },
          "ternary": {
           "aaxis": {
            "gridcolor": "white",
            "linecolor": "white",
            "ticks": ""
           },
           "baxis": {
            "gridcolor": "white",
            "linecolor": "white",
            "ticks": ""
           },
           "bgcolor": "#E5ECF6",
           "caxis": {
            "gridcolor": "white",
            "linecolor": "white",
            "ticks": ""
           }
          },
          "title": {
           "x": 0.05
          },
          "xaxis": {
           "automargin": true,
           "gridcolor": "white",
           "linecolor": "white",
           "ticks": "",
           "title": {
            "standoff": 15
           },
           "zerolinecolor": "white",
           "zerolinewidth": 2
          },
          "yaxis": {
           "automargin": true,
           "gridcolor": "white",
           "linecolor": "white",
           "ticks": "",
           "title": {
            "standoff": 15
           },
           "zerolinecolor": "white",
           "zerolinewidth": 2
          }
         }
        },
        "title": {
         "font": {
          "size": 18
         },
         "text": "American startups: Funding us Industry category"
        },
        "xaxis": {
         "anchor": "y",
         "autorange": true,
         "domain": [
          0,
          1
         ],
         "range": [
          -0.5,
          3.5
         ],
         "title": {
          "font": {
           "size": 18
          },
          "text": " Industry category"
         },
         "type": "category"
        },
        "yaxis": {
         "anchor": "x",
         "autorange": true,
         "domain": [
          0,
          1
         ],
         "range": [
          0,
          7646053558.947369
         ],
         "title": {
          "font": {
           "size": 18
          },
          "text": " Funding in per billion Dollars"
         },
         "type": "linear"
        }
       }
      },
      "image/png": "[encoded data removed]",
      "text/html": [
       "<div>                            <div id=\"d222ccdf-0b9a-4108-939c-abddae109b36\" class=\"plotly-graph-div\" style=\"height:600px; width:100%;\"></div>            <script type=\"text/javascript\">                require([\"plotly\"], function(Plotly) {                    window.PLOTLYENV=window.PLOTLYENV || {};                                    if (document.getElementById(\"d222ccdf-0b9a-4108-939c-abddae109b36\")) {                    Plotly.newPlot(                        \"d222ccdf-0b9a-4108-939c-abddae109b36\",                        [{\"alignmentgroup\":\"True\",\"hovertemplate\":\"name=AkaRx<br>category_code=%{x}<br>funding=%{y}<extra></extra>\",\"legendgroup\":\"AkaRx\",\"marker\":{\"color\":\"#636efa\",\"pattern\":{\"shape\":\"\"}},\"name\":\"AkaRx\",\"offsetgroup\":\"AkaRx\",\"orientation\":\"v\",\"showlegend\":true,\"textposition\":\"auto\",\"x\":[\"biotech\"],\"xaxis\":\"x\",\"y\":[26100000],\"yaxis\":\"y\",\"type\":\"bar\"},{\"alignmentgroup\":\"True\",\"hovertemplate\":\"name=Alnara Pharmaceuticals<br>category_code=%{x}<br>funding=%{y}<extra></extra>\",\"legendgroup\":\"Alnara Pharmaceuticals\",\"marker\":{\"color\":\"#EF553B\",\"pattern\":{\"shape\":\"\"}},\"name\":\"Alnara Pharmaceuticals\",\"offsetgroup\":\"Alnara Pharmaceuticals\",\"orientation\":\"v\",\"showlegend\":true,\"textposition\":\"auto\",\"x\":[\"biotech\"],\"xaxis\":\"x\",\"y\":[55000000],\"yaxis\":\"y\",\"type\":\"bar\"},{\"alignmentgroup\":\"True\",\"hovertemplate\":\"name=Aragon Pharmaceuticals<br>category_code=%{x}<br>funding=%{y}<extra></extra>\",\"legendgroup\":\"Aragon Pharmaceuticals\",\"marker\":{\"color\":\"#00cc96\",\"pattern\":{\"shape\":\"\"}},\"name\":\"Aragon Pharmaceuticals\",\"offsetgroup\":\"Aragon Pharmaceuticals\",\"orientation\":\"v\",\"showlegend\":true,\"textposition\":\"auto\",\"x\":[\"biotech\"],\"xaxis\":\"x\",\"y\":[122000000],\"yaxis\":\"y\",\"type\":\"bar\"},{\"alignmentgroup\":\"True\",\"hovertemplate\":\"name=Ardian<br>category_code=%{x}<br>funding=%{y}<extra></extra>\",\"legendgroup\":\"Ardian\",\"marker\":{\"color\":\"#ab63fa\",\"pattern\":{\"shape\":\"\"}},\"name\":\"Ardian\",\"offsetgroup\":\"Ardian\",\"orientation\":\"v\",\"showlegend\":true,\"textposition\":\"auto\",\"x\":[\"biotech\"],\"xaxis\":\"x\",\"y\":[64080000],\"yaxis\":\"y\",\"type\":\"bar\"},{\"alignmentgroup\":\"True\",\"hovertemplate\":\"name=Artisan Pharma<br>category_code=%{x}<br>funding=%{y}<extra></extra>\",\"legendgroup\":\"Artisan Pharma\",\"marker\":{\"color\":\"#FFA15A\",\"pattern\":{\"shape\":\"\"}},\"name\":\"Artisan Pharma\",\"offsetgroup\":\"Artisan Pharma\",\"orientation\":\"v\",\"showlegend\":true,\"textposition\":\"auto\",\"x\":[\"biotech\"],\"xaxis\":\"x\",\"y\":[85381111],\"yaxis\":\"y\",\"type\":\"bar\"},{\"alignmentgroup\":\"True\",\"hovertemplate\":\"name=Avid Radiopharmaceuticals<br>category_code=%{x}<br>funding=%{y}<extra></extra>\",\"legendgroup\":\"Avid Radiopharmaceuticals\",\"marker\":{\"color\":\"#19d3f3\",\"pattern\":{\"shape\":\"\"}},\"name\":\"Avid Radiopharmaceuticals\",\"offsetgroup\":\"Avid Radiopharmaceuticals\",\"orientation\":\"v\",\"showlegend\":true,\"textposition\":\"auto\",\"x\":[\"biotech\"],\"xaxis\":\"x\",\"y\":[69900000],\"yaxis\":\"y\",\"type\":\"bar\"},{\"alignmentgroup\":\"True\",\"hovertemplate\":\"name=BioSeek<br>category_code=%{x}<br>funding=%{y}<extra></extra>\",\"legendgroup\":\"BioSeek\",\"marker\":{\"color\":\"#FF6692\",\"pattern\":{\"shape\":\"\"}},\"name\":\"BioSeek\",\"offsetgroup\":\"BioSeek\",\"orientation\":\"v\",\"showlegend\":true,\"textposition\":\"auto\",\"x\":[\"biotech\"],\"xaxis\":\"x\",\"y\":[10000000],\"yaxis\":\"y\",\"type\":\"bar\"},{\"alignmentgroup\":\"True\",\"hovertemplate\":\"name=Bioenvision<br>category_code=%{x}<br>funding=%{y}<extra></extra>\",\"legendgroup\":\"Bioenvision\",\"marker\":{\"color\":\"#B6E880\",\"pattern\":{\"shape\":\"\"}},\"name\":\"Bioenvision\",\"offsetgroup\":\"Bioenvision\",\"orientation\":\"v\",\"showlegend\":true,\"textposition\":\"auto\",\"x\":[\"biotech\"],\"xaxis\":\"x\",\"y\":[7410000],\"yaxis\":\"y\",\"type\":\"bar\"},{\"alignmentgroup\":\"True\",\"hovertemplate\":\"name=Biofisica<br>category_code=%{x}<br>funding=%{y}<extra></extra>\",\"legendgroup\":\"Biofisica\",\"marker\":{\"color\":\"#FF97FF\",\"pattern\":{\"shape\":\"\"}},\"name\":\"Biofisica\",\"offsetgroup\":\"Biofisica\",\"orientation\":\"v\",\"showlegend\":true,\"textposition\":\"auto\",\"x\":[\"biotech\"],\"xaxis\":\"x\",\"y\":[7300000],\"yaxis\":\"y\",\"type\":\"bar\"},{\"alignmentgroup\":\"True\",\"hovertemplate\":\"name=Biolex Therapeutics<br>category_code=%{x}<br>funding=%{y}<extra></extra>\",\"legendgroup\":\"Biolex Therapeutics\",\"marker\":{\"color\":\"#FECB52\",\"pattern\":{\"shape\":\"\"}},\"name\":\"Biolex Therapeutics\",\"offsetgroup\":\"Biolex Therapeutics\",\"orientation\":\"v\",\"showlegend\":true,\"textposition\":\"auto\",\"x\":[\"biotech\"],\"xaxis\":\"x\",\"y\":[162264126],\"yaxis\":\"y\",\"type\":\"bar\"},{\"alignmentgroup\":\"True\",\"hovertemplate\":\"name=Calibra Medical<br>category_code=%{x}<br>funding=%{y}<extra></extra>\",\"legendgroup\":\"Calibra Medical\",\"marker\":{\"color\":\"#636efa\",\"pattern\":{\"shape\":\"\"}},\"name\":\"Calibra Medical\",\"offsetgroup\":\"Calibra Medical\",\"orientation\":\"v\",\"showlegend\":true,\"textposition\":\"auto\",\"x\":[\"biotech\"],\"xaxis\":\"x\",\"y\":[19800000],\"yaxis\":\"y\",\"type\":\"bar\"},{\"alignmentgroup\":\"True\",\"hovertemplate\":\"name=Elevation Pharmaceuticals<br>category_code=%{x}<br>funding=%{y}<extra></extra>\",\"legendgroup\":\"Elevation Pharmaceuticals\",\"marker\":{\"color\":\"#EF553B\",\"pattern\":{\"shape\":\"\"}},\"name\":\"Elevation Pharmaceuticals\",\"offsetgroup\":\"Elevation Pharmaceuticals\",\"orientation\":\"v\",\"showlegend\":true,\"textposition\":\"auto\",\"x\":[\"biotech\"],\"xaxis\":\"x\",\"y\":[89400001],\"yaxis\":\"y\",\"type\":\"bar\"},{\"alignmentgroup\":\"True\",\"hovertemplate\":\"name=FlowCardia<br>category_code=%{x}<br>funding=%{y}<extra></extra>\",\"legendgroup\":\"FlowCardia\",\"marker\":{\"color\":\"#00cc96\",\"pattern\":{\"shape\":\"\"}},\"name\":\"FlowCardia\",\"offsetgroup\":\"FlowCardia\",\"orientation\":\"v\",\"showlegend\":true,\"textposition\":\"auto\",\"x\":[\"biotech\"],\"xaxis\":\"x\",\"y\":[30000000],\"yaxis\":\"y\",\"type\":\"bar\"},{\"alignmentgroup\":\"True\",\"hovertemplate\":\"name=Foldrx Pharmaceuticals<br>category_code=%{x}<br>funding=%{y}<extra></extra>\",\"legendgroup\":\"Foldrx Pharmaceuticals\",\"marker\":{\"color\":\"#ab63fa\",\"pattern\":{\"shape\":\"\"}},\"name\":\"Foldrx Pharmaceuticals\",\"offsetgroup\":\"Foldrx Pharmaceuticals\",\"orientation\":\"v\",\"showlegend\":true,\"textposition\":\"auto\",\"x\":[\"biotech\"],\"xaxis\":\"x\",\"y\":[29000000],\"yaxis\":\"y\",\"type\":\"bar\"},{\"alignmentgroup\":\"True\",\"hovertemplate\":\"name=Heartscape<br>category_code=%{x}<br>funding=%{y}<extra></extra>\",\"legendgroup\":\"Heartscape\",\"marker\":{\"color\":\"#FFA15A\",\"pattern\":{\"shape\":\"\"}},\"name\":\"Heartscape\",\"offsetgroup\":\"Heartscape\",\"orientation\":\"v\",\"showlegend\":true,\"textposition\":\"auto\",\"x\":[\"biotech\"],\"xaxis\":\"x\",\"y\":[16980999],\"yaxis\":\"y\",\"type\":\"bar\"},{\"alignmentgroup\":\"True\",\"hovertemplate\":\"name=Lazarus Therapeutics<br>category_code=%{x}<br>funding=%{y}<extra></extra>\",\"legendgroup\":\"Lazarus Therapeutics\",\"marker\":{\"color\":\"#19d3f3\",\"pattern\":{\"shape\":\"\"}},\"name\":\"Lazarus Therapeutics\",\"offsetgroup\":\"Lazarus Therapeutics\",\"orientation\":\"v\",\"showlegend\":true,\"textposition\":\"auto\",\"x\":[\"biotech\"],\"xaxis\":\"x\",\"y\":[100000],\"yaxis\":\"y\",\"type\":\"bar\"},{\"alignmentgroup\":\"True\",\"hovertemplate\":\"name=Limerick BioPharma<br>category_code=%{x}<br>funding=%{y}<extra></extra>\",\"legendgroup\":\"Limerick BioPharma\",\"marker\":{\"color\":\"#FF6692\",\"pattern\":{\"shape\":\"\"}},\"name\":\"Limerick BioPharma\",\"offsetgroup\":\"Limerick BioPharma\",\"orientation\":\"v\",\"showlegend\":true,\"textposition\":\"auto\",\"x\":[\"biotech\"],\"xaxis\":\"x\",\"y\":[49008830],\"yaxis\":\"y\",\"type\":\"bar\"},{\"alignmentgroup\":\"True\",\"hovertemplate\":\"name=MAP Pharmaceuticals<br>category_code=%{x}<br>funding=%{y}<extra></extra>\",\"legendgroup\":\"MAP Pharmaceuticals\",\"marker\":{\"color\":\"#B6E880\",\"pattern\":{\"shape\":\"\"}},\"name\":\"MAP Pharmaceuticals\",\"offsetgroup\":\"MAP Pharmaceuticals\",\"orientation\":\"v\",\"showlegend\":true,\"textposition\":\"auto\",\"x\":[\"biotech\"],\"xaxis\":\"x\",\"y\":[50000000],\"yaxis\":\"y\",\"type\":\"bar\"},{\"alignmentgroup\":\"True\",\"hovertemplate\":\"name=NeoGuide Systems<br>category_code=%{x}<br>funding=%{y}<extra></extra>\",\"legendgroup\":\"NeoGuide Systems\",\"marker\":{\"color\":\"#FF97FF\",\"pattern\":{\"shape\":\"\"}},\"name\":\"NeoGuide Systems\",\"offsetgroup\":\"NeoGuide Systems\",\"orientation\":\"v\",\"showlegend\":true,\"textposition\":\"auto\",\"x\":[\"biotech\"],\"xaxis\":\"x\",\"y\":[25000000],\"yaxis\":\"y\",\"type\":\"bar\"},{\"alignmentgroup\":\"True\",\"hovertemplate\":\"name=NeuroTherapeutics Pharma<br>category_code=%{x}<br>funding=%{y}<extra></extra>\",\"legendgroup\":\"NeuroTherapeutics Pharma\",\"marker\":{\"color\":\"#FECB52\",\"pattern\":{\"shape\":\"\"}},\"name\":\"NeuroTherapeutics Pharma\",\"offsetgroup\":\"NeuroTherapeutics Pharma\",\"orientation\":\"v\",\"showlegend\":true,\"textposition\":\"auto\",\"x\":[\"biotech\"],\"xaxis\":\"x\",\"y\":[55000000],\"yaxis\":\"y\",\"type\":\"bar\"},{\"alignmentgroup\":\"True\",\"hovertemplate\":\"name=OptiMedica<br>category_code=%{x}<br>funding=%{y}<extra></extra>\",\"legendgroup\":\"OptiMedica\",\"marker\":{\"color\":\"#636efa\",\"pattern\":{\"shape\":\"\"}},\"name\":\"OptiMedica\",\"offsetgroup\":\"OptiMedica\",\"orientation\":\"v\",\"showlegend\":true,\"textposition\":\"auto\",\"x\":[\"biotech\"],\"xaxis\":\"x\",\"y\":[51000000],\"yaxis\":\"y\",\"type\":\"bar\"},{\"alignmentgroup\":\"True\",\"hovertemplate\":\"name=Origen Therapeutics<br>category_code=%{x}<br>funding=%{y}<extra></extra>\",\"legendgroup\":\"Origen Therapeutics\",\"marker\":{\"color\":\"#EF553B\",\"pattern\":{\"shape\":\"\"}},\"name\":\"Origen Therapeutics\",\"offsetgroup\":\"Origen Therapeutics\",\"orientation\":\"v\",\"showlegend\":true,\"textposition\":\"auto\",\"x\":[\"biotech\"],\"xaxis\":\"x\",\"y\":[2000000],\"yaxis\":\"y\",\"type\":\"bar\"},{\"alignmentgroup\":\"True\",\"hovertemplate\":\"name=Paracor Medical<br>category_code=%{x}<br>funding=%{y}<extra></extra>\",\"legendgroup\":\"Paracor Medical\",\"marker\":{\"color\":\"#00cc96\",\"pattern\":{\"shape\":\"\"}},\"name\":\"Paracor Medical\",\"offsetgroup\":\"Paracor Medical\",\"orientation\":\"v\",\"showlegend\":true,\"textposition\":\"auto\",\"x\":[\"biotech\"],\"xaxis\":\"x\",\"y\":[44000000],\"yaxis\":\"y\",\"type\":\"bar\"},{\"alignmentgroup\":\"True\",\"hovertemplate\":\"name=Pearl Therapeutics<br>category_code=%{x}<br>funding=%{y}<extra></extra>\",\"legendgroup\":\"Pearl Therapeutics\",\"marker\":{\"color\":\"#ab63fa\",\"pattern\":{\"shape\":\"\"}},\"name\":\"Pearl Therapeutics\",\"offsetgroup\":\"Pearl Therapeutics\",\"orientation\":\"v\",\"showlegend\":true,\"textposition\":\"auto\",\"x\":[\"biotech\"],\"xaxis\":\"x\",\"y\":[232000100],\"yaxis\":\"y\",\"type\":\"bar\"},{\"alignmentgroup\":\"True\",\"hovertemplate\":\"name=QuantaLife<br>category_code=%{x}<br>funding=%{y}<extra></extra>\",\"legendgroup\":\"QuantaLife\",\"marker\":{\"color\":\"#FFA15A\",\"pattern\":{\"shape\":\"\"}},\"name\":\"QuantaLife\",\"offsetgroup\":\"QuantaLife\",\"orientation\":\"v\",\"showlegend\":true,\"textposition\":\"auto\",\"x\":[\"biotech\"],\"xaxis\":\"x\",\"y\":[20757182],\"yaxis\":\"y\",\"type\":\"bar\"},{\"alignmentgroup\":\"True\",\"hovertemplate\":\"name=Reliant Technologies<br>category_code=%{x}<br>funding=%{y}<extra></extra>\",\"legendgroup\":\"Reliant Technologies\",\"marker\":{\"color\":\"#19d3f3\",\"pattern\":{\"shape\":\"\"}},\"name\":\"Reliant Technologies\",\"offsetgroup\":\"Reliant Technologies\",\"orientation\":\"v\",\"showlegend\":true,\"textposition\":\"auto\",\"x\":[\"biotech\"],\"xaxis\":\"x\",\"y\":[15000000],\"yaxis\":\"y\",\"type\":\"bar\"},{\"alignmentgroup\":\"True\",\"hovertemplate\":\"name=Roxro Pharma<br>category_code=%{x}<br>funding=%{y}<extra></extra>\",\"legendgroup\":\"Roxro Pharma\",\"marker\":{\"color\":\"#FF6692\",\"pattern\":{\"shape\":\"\"}},\"name\":\"Roxro Pharma\",\"offsetgroup\":\"Roxro Pharma\",\"orientation\":\"v\",\"showlegend\":true,\"textposition\":\"auto\",\"x\":[\"biotech\"],\"xaxis\":\"x\",\"y\":[42700000],\"yaxis\":\"y\",\"type\":\"bar\"},{\"alignmentgroup\":\"True\",\"hovertemplate\":\"name=SARcode Bioscience<br>category_code=%{x}<br>funding=%{y}<extra></extra>\",\"legendgroup\":\"SARcode Bioscience\",\"marker\":{\"color\":\"#B6E880\",\"pattern\":{\"shape\":\"\"}},\"name\":\"SARcode Bioscience\",\"offsetgroup\":\"SARcode Bioscience\",\"orientation\":\"v\",\"showlegend\":true,\"textposition\":\"auto\",\"x\":[\"biotech\"],\"xaxis\":\"x\",\"y\":[73000000],\"yaxis\":\"y\",\"type\":\"bar\"},{\"alignmentgroup\":\"True\",\"hovertemplate\":\"name=Sadra Medical<br>category_code=%{x}<br>funding=%{y}<extra></extra>\",\"legendgroup\":\"Sadra Medical\",\"marker\":{\"color\":\"#FF97FF\",\"pattern\":{\"shape\":\"\"}},\"name\":\"Sadra Medical\",\"offsetgroup\":\"Sadra Medical\",\"orientation\":\"v\",\"showlegend\":true,\"textposition\":\"auto\",\"x\":[\"biotech\"],\"xaxis\":\"x\",\"y\":[58000000],\"yaxis\":\"y\",\"type\":\"bar\"},{\"alignmentgroup\":\"True\",\"hovertemplate\":\"name=Taligen Therapeutics<br>category_code=%{x}<br>funding=%{y}<extra></extra>\",\"legendgroup\":\"Taligen Therapeutics\",\"marker\":{\"color\":\"#FECB52\",\"pattern\":{\"shape\":\"\"}},\"name\":\"Taligen Therapeutics\",\"offsetgroup\":\"Taligen Therapeutics\",\"orientation\":\"v\",\"showlegend\":true,\"textposition\":\"auto\",\"x\":[\"biotech\"],\"xaxis\":\"x\",\"y\":[78750000],\"yaxis\":\"y\",\"type\":\"bar\"},{\"alignmentgroup\":\"True\",\"hovertemplate\":\"name=Tercica<br>category_code=%{x}<br>funding=%{y}<extra></extra>\",\"legendgroup\":\"Tercica\",\"marker\":{\"color\":\"#636efa\",\"pattern\":{\"shape\":\"\"}},\"name\":\"Tercica\",\"offsetgroup\":\"Tercica\",\"orientation\":\"v\",\"showlegend\":true,\"textposition\":\"auto\",\"x\":[\"biotech\"],\"xaxis\":\"x\",\"y\":[83000000],\"yaxis\":\"y\",\"type\":\"bar\"},{\"alignmentgroup\":\"True\",\"hovertemplate\":\"name=Trinity Biosystems<br>category_code=%{x}<br>funding=%{y}<extra></extra>\",\"legendgroup\":\"Trinity Biosystems\",\"marker\":{\"color\":\"#EF553B\",\"pattern\":{\"shape\":\"\"}},\"name\":\"Trinity Biosystems\",\"offsetgroup\":\"Trinity Biosystems\",\"orientation\":\"v\",\"showlegend\":true,\"textposition\":\"auto\",\"x\":[\"biotech\"],\"xaxis\":\"x\",\"y\":[28500000],\"yaxis\":\"y\",\"type\":\"bar\"},{\"alignmentgroup\":\"True\",\"hovertemplate\":\"name=Viacor<br>category_code=%{x}<br>funding=%{y}<extra></extra>\",\"legendgroup\":\"Viacor\",\"marker\":{\"color\":\"#00cc96\",\"pattern\":{\"shape\":\"\"}},\"name\":\"Viacor\",\"offsetgroup\":\"Viacor\",\"orientation\":\"v\",\"showlegend\":true,\"textposition\":\"auto\",\"x\":[\"biotech\"],\"xaxis\":\"x\",\"y\":[19009671],\"yaxis\":\"y\",\"type\":\"bar\"},{\"alignmentgroup\":\"True\",\"hovertemplate\":\"name=Zymetis<br>category_code=%{x}<br>funding=%{y}<extra></extra>\",\"legendgroup\":\"Zymetis\",\"marker\":{\"color\":\"#ab63fa\",\"pattern\":{\"shape\":\"\"}},\"name\":\"Zymetis\",\"offsetgroup\":\"Zymetis\",\"orientation\":\"v\",\"showlegend\":true,\"textposition\":\"auto\",\"x\":[\"biotech\"],\"xaxis\":\"x\",\"y\":[2257464],\"yaxis\":\"y\",\"type\":\"bar\"},{\"alignmentgroup\":\"True\",\"hovertemplate\":\"name=AccelGolf<br>category_code=%{x}<br>funding=%{y}<extra></extra>\",\"legendgroup\":\"AccelGolf\",\"marker\":{\"color\":\"#FFA15A\",\"pattern\":{\"shape\":\"\"}},\"name\":\"AccelGolf\",\"offsetgroup\":\"AccelGolf\",\"orientation\":\"v\",\"showlegend\":true,\"textposition\":\"auto\",\"x\":[\"mobile\"],\"xaxis\":\"x\",\"y\":[457282],\"yaxis\":\"y\",\"type\":\"bar\"},{\"alignmentgroup\":\"True\",\"hovertemplate\":\"name=Action Engine<br>category_code=%{x}<br>funding=%{y}<extra></extra>\",\"legendgroup\":\"Action Engine\",\"marker\":{\"color\":\"#19d3f3\",\"pattern\":{\"shape\":\"\"}},\"name\":\"Action Engine\",\"offsetgroup\":\"Action Engine\",\"orientation\":\"v\",\"showlegend\":true,\"textposition\":\"auto\",\"x\":[\"mobile\"],\"xaxis\":\"x\",\"y\":[58200000],\"yaxis\":\"y\",\"type\":\"bar\"},{\"alignmentgroup\":\"True\",\"hovertemplate\":\"name=AisleBuyer<br>category_code=%{x}<br>funding=%{y}<extra></extra>\",\"legendgroup\":\"AisleBuyer\",\"marker\":{\"color\":\"#FF6692\",\"pattern\":{\"shape\":\"\"}},\"name\":\"AisleBuyer\",\"offsetgroup\":\"AisleBuyer\",\"orientation\":\"v\",\"showlegend\":true,\"textposition\":\"auto\",\"x\":[\"mobile\"],\"xaxis\":\"x\",\"y\":[11500000],\"yaxis\":\"y\",\"type\":\"bar\"},{\"alignmentgroup\":\"True\",\"hovertemplate\":\"name=Atrua Technologies<br>category_code=%{x}<br>funding=%{y}<extra></extra>\",\"legendgroup\":\"Atrua Technologies\",\"marker\":{\"color\":\"#B6E880\",\"pattern\":{\"shape\":\"\"}},\"name\":\"Atrua Technologies\",\"offsetgroup\":\"Atrua Technologies\",\"orientation\":\"v\",\"showlegend\":true,\"textposition\":\"auto\",\"x\":[\"mobile\"],\"xaxis\":\"x\",\"y\":[13000000],\"yaxis\":\"y\",\"type\":\"bar\"},{\"alignmentgroup\":\"True\",\"hovertemplate\":\"name=Avaak<br>category_code=%{x}<br>funding=%{y}<extra></extra>\",\"legendgroup\":\"Avaak\",\"marker\":{\"color\":\"#FF97FF\",\"pattern\":{\"shape\":\"\"}},\"name\":\"Avaak\",\"offsetgroup\":\"Avaak\",\"orientation\":\"v\",\"showlegend\":true,\"textposition\":\"auto\",\"x\":[\"mobile\"],\"xaxis\":\"x\",\"y\":[17000000],\"yaxis\":\"y\",\"type\":\"bar\"},{\"alignmentgroup\":\"True\",\"hovertemplate\":\"name=Azingo<br>category_code=%{x}<br>funding=%{y}<extra></extra>\",\"legendgroup\":\"Azingo\",\"marker\":{\"color\":\"#FECB52\",\"pattern\":{\"shape\":\"\"}},\"name\":\"Azingo\",\"offsetgroup\":\"Azingo\",\"orientation\":\"v\",\"showlegend\":true,\"textposition\":\"auto\",\"x\":[\"mobile\"],\"xaxis\":\"x\",\"y\":[80000000],\"yaxis\":\"y\",\"type\":\"bar\"},{\"alignmentgroup\":\"True\",\"hovertemplate\":\"name=Casabi<br>category_code=%{x}<br>funding=%{y}<extra></extra>\",\"legendgroup\":\"Casabi\",\"marker\":{\"color\":\"#636efa\",\"pattern\":{\"shape\":\"\"}},\"name\":\"Casabi\",\"offsetgroup\":\"Casabi\",\"orientation\":\"v\",\"showlegend\":true,\"textposition\":\"auto\",\"x\":[\"mobile\"],\"xaxis\":\"x\",\"y\":[12800000],\"yaxis\":\"y\",\"type\":\"bar\"},{\"alignmentgroup\":\"True\",\"hovertemplate\":\"name=Chomp<br>category_code=%{x}<br>funding=%{y}<extra></extra>\",\"legendgroup\":\"Chomp\",\"marker\":{\"color\":\"#EF553B\",\"pattern\":{\"shape\":\"\"}},\"name\":\"Chomp\",\"offsetgroup\":\"Chomp\",\"orientation\":\"v\",\"showlegend\":true,\"textposition\":\"auto\",\"x\":[\"mobile\"],\"xaxis\":\"x\",\"y\":[2565000],\"yaxis\":\"y\",\"type\":\"bar\"},{\"alignmentgroup\":\"True\",\"hovertemplate\":\"name=Clearwire<br>category_code=%{x}<br>funding=%{y}<extra></extra>\",\"legendgroup\":\"Clearwire\",\"marker\":{\"color\":\"#00cc96\",\"pattern\":{\"shape\":\"\"}},\"name\":\"Clearwire\",\"offsetgroup\":\"Clearwire\",\"orientation\":\"v\",\"showlegend\":true,\"textposition\":\"auto\",\"x\":[\"mobile\"],\"xaxis\":\"x\",\"y\":[5700000000],\"yaxis\":\"y\",\"type\":\"bar\"},{\"alignmentgroup\":\"True\",\"hovertemplate\":\"name=Crashlytics<br>category_code=%{x}<br>funding=%{y}<extra></extra>\",\"legendgroup\":\"Crashlytics\",\"marker\":{\"color\":\"#ab63fa\",\"pattern\":{\"shape\":\"\"}},\"name\":\"Crashlytics\",\"offsetgroup\":\"Crashlytics\",\"orientation\":\"v\",\"showlegend\":true,\"textposition\":\"auto\",\"x\":[\"mobile\"],\"xaxis\":\"x\",\"y\":[6000000],\"yaxis\":\"y\",\"type\":\"bar\"},{\"alignmentgroup\":\"True\",\"hovertemplate\":\"name=CrowdCompass<br>category_code=%{x}<br>funding=%{y}<extra></extra>\",\"legendgroup\":\"CrowdCompass\",\"marker\":{\"color\":\"#FFA15A\",\"pattern\":{\"shape\":\"\"}},\"name\":\"CrowdCompass\",\"offsetgroup\":\"CrowdCompass\",\"orientation\":\"v\",\"showlegend\":true,\"textposition\":\"auto\",\"x\":[\"mobile\"],\"xaxis\":\"x\",\"y\":[1300000],\"yaxis\":\"y\",\"type\":\"bar\"},{\"alignmentgroup\":\"True\",\"hovertemplate\":\"name=Dashwire<br>category_code=%{x}<br>funding=%{y}<extra></extra>\",\"legendgroup\":\"Dashwire\",\"marker\":{\"color\":\"#19d3f3\",\"pattern\":{\"shape\":\"\"}},\"name\":\"Dashwire\",\"offsetgroup\":\"Dashwire\",\"orientation\":\"v\",\"showlegend\":true,\"textposition\":\"auto\",\"x\":[\"mobile\"],\"xaxis\":\"x\",\"y\":[5056559],\"yaxis\":\"y\",\"type\":\"bar\"},{\"alignmentgroup\":\"True\",\"hovertemplate\":\"name=Defywire<br>category_code=%{x}<br>funding=%{y}<extra></extra>\",\"legendgroup\":\"Defywire\",\"marker\":{\"color\":\"#FF6692\",\"pattern\":{\"shape\":\"\"}},\"name\":\"Defywire\",\"offsetgroup\":\"Defywire\",\"orientation\":\"v\",\"showlegend\":true,\"textposition\":\"auto\",\"x\":[\"mobile\"],\"xaxis\":\"x\",\"y\":[10600000],\"yaxis\":\"y\",\"type\":\"bar\"},{\"alignmentgroup\":\"True\",\"hovertemplate\":\"name=Dexterra<br>category_code=%{x}<br>funding=%{y}<extra></extra>\",\"legendgroup\":\"Dexterra\",\"marker\":{\"color\":\"#B6E880\",\"pattern\":{\"shape\":\"\"}},\"name\":\"Dexterra\",\"offsetgroup\":\"Dexterra\",\"orientation\":\"v\",\"showlegend\":true,\"textposition\":\"auto\",\"x\":[\"mobile\"],\"xaxis\":\"x\",\"y\":[122500000],\"yaxis\":\"y\",\"type\":\"bar\"},{\"alignmentgroup\":\"True\",\"hovertemplate\":\"name=Dilithium Networks<br>category_code=%{x}<br>funding=%{y}<extra></extra>\",\"legendgroup\":\"Dilithium Networks\",\"marker\":{\"color\":\"#FF97FF\",\"pattern\":{\"shape\":\"\"}},\"name\":\"Dilithium Networks\",\"offsetgroup\":\"Dilithium Networks\",\"orientation\":\"v\",\"showlegend\":true,\"textposition\":\"auto\",\"x\":[\"mobile\"],\"xaxis\":\"x\",\"y\":[98170000],\"yaxis\":\"y\",\"type\":\"bar\"},{\"alignmentgroup\":\"True\",\"hovertemplate\":\"name=DubMeNow<br>category_code=%{x}<br>funding=%{y}<extra></extra>\",\"legendgroup\":\"DubMeNow\",\"marker\":{\"color\":\"#FECB52\",\"pattern\":{\"shape\":\"\"}},\"name\":\"DubMeNow\",\"offsetgroup\":\"DubMeNow\",\"orientation\":\"v\",\"showlegend\":true,\"textposition\":\"auto\",\"x\":[\"mobile\"],\"xaxis\":\"x\",\"y\":[7516703],\"yaxis\":\"y\",\"type\":\"bar\"},{\"alignmentgroup\":\"True\",\"hovertemplate\":\"name=Firethorn<br>category_code=%{x}<br>funding=%{y}<extra></extra>\",\"legendgroup\":\"Firethorn\",\"marker\":{\"color\":\"#636efa\",\"pattern\":{\"shape\":\"\"}},\"name\":\"Firethorn\",\"offsetgroup\":\"Firethorn\",\"orientation\":\"v\",\"showlegend\":true,\"textposition\":\"auto\",\"x\":[\"mobile\"],\"xaxis\":\"x\",\"y\":[25131611],\"yaxis\":\"y\",\"type\":\"bar\"},{\"alignmentgroup\":\"True\",\"hovertemplate\":\"name=FlyCast<br>category_code=%{x}<br>funding=%{y}<extra></extra>\",\"legendgroup\":\"FlyCast\",\"marker\":{\"color\":\"#EF553B\",\"pattern\":{\"shape\":\"\"}},\"name\":\"FlyCast\",\"offsetgroup\":\"FlyCast\",\"orientation\":\"v\",\"showlegend\":true,\"textposition\":\"auto\",\"x\":[\"mobile\"],\"xaxis\":\"x\",\"y\":[2100000],\"yaxis\":\"y\",\"type\":\"bar\"},{\"alignmentgroup\":\"True\",\"hovertemplate\":\"name=Geodelic Systems<br>category_code=%{x}<br>funding=%{y}<extra></extra>\",\"legendgroup\":\"Geodelic Systems\",\"marker\":{\"color\":\"#00cc96\",\"pattern\":{\"shape\":\"\"}},\"name\":\"Geodelic Systems\",\"offsetgroup\":\"Geodelic Systems\",\"orientation\":\"v\",\"showlegend\":true,\"textposition\":\"auto\",\"x\":[\"mobile\"],\"xaxis\":\"x\",\"y\":[10500000],\"yaxis\":\"y\",\"type\":\"bar\"},{\"alignmentgroup\":\"True\",\"hovertemplate\":\"name=Gradient X<br>category_code=%{x}<br>funding=%{y}<extra></extra>\",\"legendgroup\":\"Gradient X\",\"marker\":{\"color\":\"#ab63fa\",\"pattern\":{\"shape\":\"\"}},\"name\":\"Gradient X\",\"offsetgroup\":\"Gradient X\",\"orientation\":\"v\",\"showlegend\":true,\"textposition\":\"auto\",\"x\":[\"mobile\"],\"xaxis\":\"x\",\"y\":[3750000],\"yaxis\":\"y\",\"type\":\"bar\"},{\"alignmentgroup\":\"True\",\"hovertemplate\":\"name=GrandCentral<br>category_code=%{x}<br>funding=%{y}<extra></extra>\",\"legendgroup\":\"GrandCentral\",\"marker\":{\"color\":\"#FFA15A\",\"pattern\":{\"shape\":\"\"}},\"name\":\"GrandCentral\",\"offsetgroup\":\"GrandCentral\",\"orientation\":\"v\",\"showlegend\":true,\"textposition\":\"auto\",\"x\":[\"mobile\"],\"xaxis\":\"x\",\"y\":[4000000],\"yaxis\":\"y\",\"type\":\"bar\"},{\"alignmentgroup\":\"True\",\"hovertemplate\":\"name=Handmark<br>category_code=%{x}<br>funding=%{y}<extra></extra>\",\"legendgroup\":\"Handmark\",\"marker\":{\"color\":\"#19d3f3\",\"pattern\":{\"shape\":\"\"}},\"name\":\"Handmark\",\"offsetgroup\":\"Handmark\",\"orientation\":\"v\",\"showlegend\":true,\"textposition\":\"auto\",\"x\":[\"mobile\"],\"xaxis\":\"x\",\"y\":[10000000],\"yaxis\":\"y\",\"type\":\"bar\"},{\"alignmentgroup\":\"True\",\"hovertemplate\":\"name=Hashable<br>category_code=%{x}<br>funding=%{y}<extra></extra>\",\"legendgroup\":\"Hashable\",\"marker\":{\"color\":\"#FF6692\",\"pattern\":{\"shape\":\"\"}},\"name\":\"Hashable\",\"offsetgroup\":\"Hashable\",\"orientation\":\"v\",\"showlegend\":true,\"textposition\":\"auto\",\"x\":[\"mobile\"],\"xaxis\":\"x\",\"y\":[4000000],\"yaxis\":\"y\",\"type\":\"bar\"},{\"alignmentgroup\":\"True\",\"hovertemplate\":\"name=Hello Chair<br>category_code=%{x}<br>funding=%{y}<extra></extra>\",\"legendgroup\":\"Hello Chair\",\"marker\":{\"color\":\"#B6E880\",\"pattern\":{\"shape\":\"\"}},\"name\":\"Hello Chair\",\"offsetgroup\":\"Hello Chair\",\"orientation\":\"v\",\"showlegend\":true,\"textposition\":\"auto\",\"x\":[\"mobile\"],\"xaxis\":\"x\",\"y\":[889999],\"yaxis\":\"y\",\"type\":\"bar\"},{\"alignmentgroup\":\"True\",\"hovertemplate\":\"name=HighlightCam<br>category_code=%{x}<br>funding=%{y}<extra></extra>\",\"legendgroup\":\"HighlightCam\",\"marker\":{\"color\":\"#FF97FF\",\"pattern\":{\"shape\":\"\"}},\"name\":\"HighlightCam\",\"offsetgroup\":\"HighlightCam\",\"orientation\":\"v\",\"showlegend\":true,\"textposition\":\"auto\",\"x\":[\"mobile\"],\"xaxis\":\"x\",\"y\":[3000000],\"yaxis\":\"y\",\"type\":\"bar\"},{\"alignmentgroup\":\"True\",\"hovertemplate\":\"name=HipLogic<br>category_code=%{x}<br>funding=%{y}<extra></extra>\",\"legendgroup\":\"HipLogic\",\"marker\":{\"color\":\"#FECB52\",\"pattern\":{\"shape\":\"\"}},\"name\":\"HipLogic\",\"offsetgroup\":\"HipLogic\",\"orientation\":\"v\",\"showlegend\":true,\"textposition\":\"auto\",\"x\":[\"mobile\"],\"xaxis\":\"x\",\"y\":[11500000],\"yaxis\":\"y\",\"type\":\"bar\"},{\"alignmentgroup\":\"True\",\"hovertemplate\":\"name=Hurricane Party<br>category_code=%{x}<br>funding=%{y}<extra></extra>\",\"legendgroup\":\"Hurricane Party\",\"marker\":{\"color\":\"#636efa\",\"pattern\":{\"shape\":\"\"}},\"name\":\"Hurricane Party\",\"offsetgroup\":\"Hurricane Party\",\"orientation\":\"v\",\"showlegend\":true,\"textposition\":\"auto\",\"x\":[\"mobile\"],\"xaxis\":\"x\",\"y\":[20000],\"yaxis\":\"y\",\"type\":\"bar\"},{\"alignmentgroup\":\"True\",\"hovertemplate\":\"name=Instinctiv<br>category_code=%{x}<br>funding=%{y}<extra></extra>\",\"legendgroup\":\"Instinctiv\",\"marker\":{\"color\":\"#EF553B\",\"pattern\":{\"shape\":\"\"}},\"name\":\"Instinctiv\",\"offsetgroup\":\"Instinctiv\",\"orientation\":\"v\",\"showlegend\":true,\"textposition\":\"auto\",\"x\":[\"mobile\"],\"xaxis\":\"x\",\"y\":[1420698],\"yaxis\":\"y\",\"type\":\"bar\"},{\"alignmentgroup\":\"True\",\"hovertemplate\":\"name=Jajah<br>category_code=%{x}<br>funding=%{y}<extra></extra>\",\"legendgroup\":\"Jajah\",\"marker\":{\"color\":\"#00cc96\",\"pattern\":{\"shape\":\"\"}},\"name\":\"Jajah\",\"offsetgroup\":\"Jajah\",\"orientation\":\"v\",\"showlegend\":true,\"textposition\":\"auto\",\"x\":[\"mobile\"],\"xaxis\":\"x\",\"y\":[33000000],\"yaxis\":\"y\",\"type\":\"bar\"},{\"alignmentgroup\":\"True\",\"hovertemplate\":\"name=Jaxtr<br>category_code=%{x}<br>funding=%{y}<extra></extra>\",\"legendgroup\":\"Jaxtr\",\"marker\":{\"color\":\"#ab63fa\",\"pattern\":{\"shape\":\"\"}},\"name\":\"Jaxtr\",\"offsetgroup\":\"Jaxtr\",\"orientation\":\"v\",\"showlegend\":true,\"textposition\":\"auto\",\"x\":[\"mobile\"],\"xaxis\":\"x\",\"y\":[21500000],\"yaxis\":\"y\",\"type\":\"bar\"},{\"alignmentgroup\":\"True\",\"hovertemplate\":\"name=Jingle Networks<br>category_code=%{x}<br>funding=%{y}<extra></extra>\",\"legendgroup\":\"Jingle Networks\",\"marker\":{\"color\":\"#FFA15A\",\"pattern\":{\"shape\":\"\"}},\"name\":\"Jingle Networks\",\"offsetgroup\":\"Jingle Networks\",\"orientation\":\"v\",\"showlegend\":true,\"textposition\":\"auto\",\"x\":[\"mobile\"],\"xaxis\":\"x\",\"y\":[88651133],\"yaxis\":\"y\",\"type\":\"bar\"},{\"alignmentgroup\":\"True\",\"hovertemplate\":\"name=Jumptap<br>category_code=%{x}<br>funding=%{y}<extra></extra>\",\"legendgroup\":\"Jumptap\",\"marker\":{\"color\":\"#19d3f3\",\"pattern\":{\"shape\":\"\"}},\"name\":\"Jumptap\",\"offsetgroup\":\"Jumptap\",\"orientation\":\"v\",\"showlegend\":true,\"textposition\":\"auto\",\"x\":[\"mobile\"],\"xaxis\":\"x\",\"y\":[121500000],\"yaxis\":\"y\",\"type\":\"bar\"},{\"alignmentgroup\":\"True\",\"hovertemplate\":\"name=Karma<br>category_code=%{x}<br>funding=%{y}<extra></extra>\",\"legendgroup\":\"Karma\",\"marker\":{\"color\":\"#FF6692\",\"pattern\":{\"shape\":\"\"}},\"name\":\"Karma\",\"offsetgroup\":\"Karma\",\"orientation\":\"v\",\"showlegend\":true,\"textposition\":\"auto\",\"x\":[\"mobile\"],\"xaxis\":\"x\",\"y\":[2304999],\"yaxis\":\"y\",\"type\":\"bar\"},{\"alignmentgroup\":\"True\",\"hovertemplate\":\"name=Kima Labs<br>category_code=%{x}<br>funding=%{y}<extra></extra>\",\"legendgroup\":\"Kima Labs\",\"marker\":{\"color\":\"#B6E880\",\"pattern\":{\"shape\":\"\"}},\"name\":\"Kima Labs\",\"offsetgroup\":\"Kima Labs\",\"orientation\":\"v\",\"showlegend\":true,\"textposition\":\"auto\",\"x\":[\"mobile\"],\"xaxis\":\"x\",\"y\":[770000],\"yaxis\":\"y\",\"type\":\"bar\"},{\"alignmentgroup\":\"True\",\"hovertemplate\":\"name=Loopt<br>category_code=%{x}<br>funding=%{y}<extra></extra>\",\"legendgroup\":\"Loopt\",\"marker\":{\"color\":\"#FF97FF\",\"pattern\":{\"shape\":\"\"}},\"name\":\"Loopt\",\"offsetgroup\":\"Loopt\",\"orientation\":\"v\",\"showlegend\":true,\"textposition\":\"auto\",\"x\":[\"mobile\"],\"xaxis\":\"x\",\"y\":[32006000],\"yaxis\":\"y\",\"type\":\"bar\"},{\"alignmentgroup\":\"True\",\"hovertemplate\":\"name=MPOWER Mobile<br>category_code=%{x}<br>funding=%{y}<extra></extra>\",\"legendgroup\":\"MPOWER Mobile\",\"marker\":{\"color\":\"#FECB52\",\"pattern\":{\"shape\":\"\"}},\"name\":\"MPOWER Mobile\",\"offsetgroup\":\"MPOWER Mobile\",\"orientation\":\"v\",\"showlegend\":true,\"textposition\":\"auto\",\"x\":[\"mobile\"],\"xaxis\":\"x\",\"y\":[5000000],\"yaxis\":\"y\",\"type\":\"bar\"},{\"alignmentgroup\":\"True\",\"hovertemplate\":\"name=MetaCarta<br>category_code=%{x}<br>funding=%{y}<extra></extra>\",\"legendgroup\":\"MetaCarta\",\"marker\":{\"color\":\"#636efa\",\"pattern\":{\"shape\":\"\"}},\"name\":\"MetaCarta\",\"offsetgroup\":\"MetaCarta\",\"orientation\":\"v\",\"showlegend\":true,\"textposition\":\"auto\",\"x\":[\"mobile\"],\"xaxis\":\"x\",\"y\":[10000000],\"yaxis\":\"y\",\"type\":\"bar\"},{\"alignmentgroup\":\"True\",\"hovertemplate\":\"name=Miyowa<br>category_code=%{x}<br>funding=%{y}<extra></extra>\",\"legendgroup\":\"Miyowa\",\"marker\":{\"color\":\"#EF553B\",\"pattern\":{\"shape\":\"\"}},\"name\":\"Miyowa\",\"offsetgroup\":\"Miyowa\",\"orientation\":\"v\",\"showlegend\":true,\"textposition\":\"auto\",\"x\":[\"mobile\"],\"xaxis\":\"x\",\"y\":[11725600],\"yaxis\":\"y\",\"type\":\"bar\"},{\"alignmentgroup\":\"True\",\"hovertemplate\":\"name=MoPub<br>category_code=%{x}<br>funding=%{y}<extra></extra>\",\"legendgroup\":\"MoPub\",\"marker\":{\"color\":\"#00cc96\",\"pattern\":{\"shape\":\"\"}},\"name\":\"MoPub\",\"offsetgroup\":\"MoPub\",\"orientation\":\"v\",\"showlegend\":true,\"textposition\":\"auto\",\"x\":[\"mobile\"],\"xaxis\":\"x\",\"y\":[18500000],\"yaxis\":\"y\",\"type\":\"bar\"},{\"alignmentgroup\":\"True\",\"hovertemplate\":\"name=MoveableCode, Inc.<br>category_code=%{x}<br>funding=%{y}<extra></extra>\",\"legendgroup\":\"MoveableCode, Inc.\",\"marker\":{\"color\":\"#ab63fa\",\"pattern\":{\"shape\":\"\"}},\"name\":\"MoveableCode, Inc.\",\"offsetgroup\":\"MoveableCode, Inc.\",\"orientation\":\"v\",\"showlegend\":true,\"textposition\":\"auto\",\"x\":[\"mobile\"],\"xaxis\":\"x\",\"y\":[350000],\"yaxis\":\"y\",\"type\":\"bar\"},{\"alignmentgroup\":\"True\",\"hovertemplate\":\"name=MyCabbage<br>category_code=%{x}<br>funding=%{y}<extra></extra>\",\"legendgroup\":\"MyCabbage\",\"marker\":{\"color\":\"#FFA15A\",\"pattern\":{\"shape\":\"\"}},\"name\":\"MyCabbage\",\"offsetgroup\":\"MyCabbage\",\"orientation\":\"v\",\"showlegend\":true,\"textposition\":\"auto\",\"x\":[\"mobile\"],\"xaxis\":\"x\",\"y\":[950000],\"yaxis\":\"y\",\"type\":\"bar\"},{\"alignmentgroup\":\"True\",\"hovertemplate\":\"name=Onavo<br>category_code=%{x}<br>funding=%{y}<extra></extra>\",\"legendgroup\":\"Onavo\",\"marker\":{\"color\":\"#19d3f3\",\"pattern\":{\"shape\":\"\"}},\"name\":\"Onavo\",\"offsetgroup\":\"Onavo\",\"orientation\":\"v\",\"showlegend\":true,\"textposition\":\"auto\",\"x\":[\"mobile\"],\"xaxis\":\"x\",\"y\":[13000000],\"yaxis\":\"y\",\"type\":\"bar\"},{\"alignmentgroup\":\"True\",\"hovertemplate\":\"name=Ortiva Wireless<br>category_code=%{x}<br>funding=%{y}<extra></extra>\",\"legendgroup\":\"Ortiva Wireless\",\"marker\":{\"color\":\"#FF6692\",\"pattern\":{\"shape\":\"\"}},\"name\":\"Ortiva Wireless\",\"offsetgroup\":\"Ortiva Wireless\",\"orientation\":\"v\",\"showlegend\":true,\"textposition\":\"auto\",\"x\":[\"mobile\"],\"xaxis\":\"x\",\"y\":[40000000],\"yaxis\":\"y\",\"type\":\"bar\"},{\"alignmentgroup\":\"True\",\"hovertemplate\":\"name=Peek & Co<br>category_code=%{x}<br>funding=%{y}<extra></extra>\",\"legendgroup\":\"Peek & Co\",\"marker\":{\"color\":\"#B6E880\",\"pattern\":{\"shape\":\"\"}},\"name\":\"Peek & Co\",\"offsetgroup\":\"Peek & Co\",\"orientation\":\"v\",\"showlegend\":true,\"textposition\":\"auto\",\"x\":[\"mobile\"],\"xaxis\":\"x\",\"y\":[626096],\"yaxis\":\"y\",\"type\":\"bar\"},{\"alignmentgroup\":\"True\",\"hovertemplate\":\"name=Pelago<br>category_code=%{x}<br>funding=%{y}<extra></extra>\",\"legendgroup\":\"Pelago\",\"marker\":{\"color\":\"#FF97FF\",\"pattern\":{\"shape\":\"\"}},\"name\":\"Pelago\",\"offsetgroup\":\"Pelago\",\"orientation\":\"v\",\"showlegend\":true,\"textposition\":\"auto\",\"x\":[\"mobile\"],\"xaxis\":\"x\",\"y\":[22400000],\"yaxis\":\"y\",\"type\":\"bar\"},{\"alignmentgroup\":\"True\",\"hovertemplate\":\"name=Pixelpipe<br>category_code=%{x}<br>funding=%{y}<extra></extra>\",\"legendgroup\":\"Pixelpipe\",\"marker\":{\"color\":\"#FECB52\",\"pattern\":{\"shape\":\"\"}},\"name\":\"Pixelpipe\",\"offsetgroup\":\"Pixelpipe\",\"orientation\":\"v\",\"showlegend\":true,\"textposition\":\"auto\",\"x\":[\"mobile\"],\"xaxis\":\"x\",\"y\":[2300000],\"yaxis\":\"y\",\"type\":\"bar\"},{\"alignmentgroup\":\"True\",\"hovertemplate\":\"name=PlayerDuel<br>category_code=%{x}<br>funding=%{y}<extra></extra>\",\"legendgroup\":\"PlayerDuel\",\"marker\":{\"color\":\"#636efa\",\"pattern\":{\"shape\":\"\"}},\"name\":\"PlayerDuel\",\"offsetgroup\":\"PlayerDuel\",\"orientation\":\"v\",\"showlegend\":true,\"textposition\":\"auto\",\"x\":[\"mobile\"],\"xaxis\":\"x\",\"y\":[21189],\"yaxis\":\"y\",\"type\":\"bar\"},{\"alignmentgroup\":\"True\",\"hovertemplate\":\"name=Plusmo<br>category_code=%{x}<br>funding=%{y}<extra></extra>\",\"legendgroup\":\"Plusmo\",\"marker\":{\"color\":\"#EF553B\",\"pattern\":{\"shape\":\"\"}},\"name\":\"Plusmo\",\"offsetgroup\":\"Plusmo\",\"orientation\":\"v\",\"showlegend\":true,\"textposition\":\"auto\",\"x\":[\"mobile\"],\"xaxis\":\"x\",\"y\":[4410000],\"yaxis\":\"y\",\"type\":\"bar\"},{\"alignmentgroup\":\"True\",\"hovertemplate\":\"name=Pocket Communications Northeast<br>category_code=%{x}<br>funding=%{y}<extra></extra>\",\"legendgroup\":\"Pocket Communications Northeast\",\"marker\":{\"color\":\"#00cc96\",\"pattern\":{\"shape\":\"\"}},\"name\":\"Pocket Communications Northeast\",\"offsetgroup\":\"Pocket Communications Northeast\",\"orientation\":\"v\",\"showlegend\":true,\"textposition\":\"auto\",\"x\":[\"mobile\"],\"xaxis\":\"x\",\"y\":[125000000],\"yaxis\":\"y\",\"type\":\"bar\"},{\"alignmentgroup\":\"True\",\"hovertemplate\":\"name=Qik<br>category_code=%{x}<br>funding=%{y}<extra></extra>\",\"legendgroup\":\"Qik\",\"marker\":{\"color\":\"#ab63fa\",\"pattern\":{\"shape\":\"\"}},\"name\":\"Qik\",\"offsetgroup\":\"Qik\",\"orientation\":\"v\",\"showlegend\":true,\"textposition\":\"auto\",\"x\":[\"mobile\"],\"xaxis\":\"x\",\"y\":[14800000],\"yaxis\":\"y\",\"type\":\"bar\"},{\"alignmentgroup\":\"True\",\"hovertemplate\":\"name=RFinity<br>category_code=%{x}<br>funding=%{y}<extra></extra>\",\"legendgroup\":\"RFinity\",\"marker\":{\"color\":\"#FFA15A\",\"pattern\":{\"shape\":\"\"}},\"name\":\"RFinity\",\"offsetgroup\":\"RFinity\",\"orientation\":\"v\",\"showlegend\":true,\"textposition\":\"auto\",\"x\":[\"mobile\"],\"xaxis\":\"x\",\"y\":[4000000],\"yaxis\":\"y\",\"type\":\"bar\"},{\"alignmentgroup\":\"True\",\"hovertemplate\":\"name=Ribbit<br>category_code=%{x}<br>funding=%{y}<extra></extra>\",\"legendgroup\":\"Ribbit\",\"marker\":{\"color\":\"#19d3f3\",\"pattern\":{\"shape\":\"\"}},\"name\":\"Ribbit\",\"offsetgroup\":\"Ribbit\",\"orientation\":\"v\",\"showlegend\":true,\"textposition\":\"auto\",\"x\":[\"mobile\"],\"xaxis\":\"x\",\"y\":[11000000],\"yaxis\":\"y\",\"type\":\"bar\"},{\"alignmentgroup\":\"True\",\"hovertemplate\":\"name=SkyPilot Networks<br>category_code=%{x}<br>funding=%{y}<extra></extra>\",\"legendgroup\":\"SkyPilot Networks\",\"marker\":{\"color\":\"#FF6692\",\"pattern\":{\"shape\":\"\"}},\"name\":\"SkyPilot Networks\",\"offsetgroup\":\"SkyPilot Networks\",\"orientation\":\"v\",\"showlegend\":true,\"textposition\":\"auto\",\"x\":[\"mobile\"],\"xaxis\":\"x\",\"y\":[68400000],\"yaxis\":\"y\",\"type\":\"bar\"},{\"alignmentgroup\":\"True\",\"hovertemplate\":\"name=Socialize<br>category_code=%{x}<br>funding=%{y}<extra></extra>\",\"legendgroup\":\"Socialize\",\"marker\":{\"color\":\"#B6E880\",\"pattern\":{\"shape\":\"\"}},\"name\":\"Socialize\",\"offsetgroup\":\"Socialize\",\"orientation\":\"v\",\"showlegend\":true,\"textposition\":\"auto\",\"x\":[\"mobile\"],\"xaxis\":\"x\",\"y\":[1820000],\"yaxis\":\"y\",\"type\":\"bar\"},{\"alignmentgroup\":\"True\",\"hovertemplate\":\"name=Sonar.me<br>category_code=%{x}<br>funding=%{y}<extra></extra>\",\"legendgroup\":\"Sonar.me\",\"marker\":{\"color\":\"#FF97FF\",\"pattern\":{\"shape\":\"\"}},\"name\":\"Sonar.me\",\"offsetgroup\":\"Sonar.me\",\"orientation\":\"v\",\"showlegend\":true,\"textposition\":\"auto\",\"x\":[\"mobile\"],\"xaxis\":\"x\",\"y\":[200000],\"yaxis\":\"y\",\"type\":\"bar\"},{\"alignmentgroup\":\"True\",\"hovertemplate\":\"name=Songbird<br>category_code=%{x}<br>funding=%{y}<extra></extra>\",\"legendgroup\":\"Songbird\",\"marker\":{\"color\":\"#FECB52\",\"pattern\":{\"shape\":\"\"}},\"name\":\"Songbird\",\"offsetgroup\":\"Songbird\",\"orientation\":\"v\",\"showlegend\":true,\"textposition\":\"auto\",\"x\":[\"mobile\"],\"xaxis\":\"x\",\"y\":[11015719],\"yaxis\":\"y\",\"type\":\"bar\"},{\"alignmentgroup\":\"True\",\"hovertemplate\":\"name=Tapioca Mobile<br>category_code=%{x}<br>funding=%{y}<extra></extra>\",\"legendgroup\":\"Tapioca Mobile\",\"marker\":{\"color\":\"#636efa\",\"pattern\":{\"shape\":\"\"}},\"name\":\"Tapioca Mobile\",\"offsetgroup\":\"Tapioca Mobile\",\"orientation\":\"v\",\"showlegend\":true,\"textposition\":\"auto\",\"x\":[\"mobile\"],\"xaxis\":\"x\",\"y\":[5000000],\"yaxis\":\"y\",\"type\":\"bar\"},{\"alignmentgroup\":\"True\",\"hovertemplate\":\"name=Tatara Systems<br>category_code=%{x}<br>funding=%{y}<extra></extra>\",\"legendgroup\":\"Tatara Systems\",\"marker\":{\"color\":\"#EF553B\",\"pattern\":{\"shape\":\"\"}},\"name\":\"Tatara Systems\",\"offsetgroup\":\"Tatara Systems\",\"orientation\":\"v\",\"showlegend\":true,\"textposition\":\"auto\",\"x\":[\"mobile\"],\"xaxis\":\"x\",\"y\":[33000000],\"yaxis\":\"y\",\"type\":\"bar\"},{\"alignmentgroup\":\"True\",\"hovertemplate\":\"name=TeleFlip<br>category_code=%{x}<br>funding=%{y}<extra></extra>\",\"legendgroup\":\"TeleFlip\",\"marker\":{\"color\":\"#00cc96\",\"pattern\":{\"shape\":\"\"}},\"name\":\"TeleFlip\",\"offsetgroup\":\"TeleFlip\",\"orientation\":\"v\",\"showlegend\":true,\"textposition\":\"auto\",\"x\":[\"mobile\"],\"xaxis\":\"x\",\"y\":[4900000],\"yaxis\":\"y\",\"type\":\"bar\"},{\"alignmentgroup\":\"True\",\"hovertemplate\":\"name=Trendslide<br>category_code=%{x}<br>funding=%{y}<extra></extra>\",\"legendgroup\":\"Trendslide\",\"marker\":{\"color\":\"#ab63fa\",\"pattern\":{\"shape\":\"\"}},\"name\":\"Trendslide\",\"offsetgroup\":\"Trendslide\",\"orientation\":\"v\",\"showlegend\":true,\"textposition\":\"auto\",\"x\":[\"mobile\"],\"xaxis\":\"x\",\"y\":[125000],\"yaxis\":\"y\",\"type\":\"bar\"},{\"alignmentgroup\":\"True\",\"hovertemplate\":\"name=Trust Digital<br>category_code=%{x}<br>funding=%{y}<extra></extra>\",\"legendgroup\":\"Trust Digital\",\"marker\":{\"color\":\"#FFA15A\",\"pattern\":{\"shape\":\"\"}},\"name\":\"Trust Digital\",\"offsetgroup\":\"Trust Digital\",\"orientation\":\"v\",\"showlegend\":true,\"textposition\":\"auto\",\"x\":[\"mobile\"],\"xaxis\":\"x\",\"y\":[23500000],\"yaxis\":\"y\",\"type\":\"bar\"},{\"alignmentgroup\":\"True\",\"hovertemplate\":\"name=Turf Geography Club<br>category_code=%{x}<br>funding=%{y}<extra></extra>\",\"legendgroup\":\"Turf Geography Club\",\"marker\":{\"color\":\"#19d3f3\",\"pattern\":{\"shape\":\"\"}},\"name\":\"Turf Geography Club\",\"offsetgroup\":\"Turf Geography Club\",\"orientation\":\"v\",\"showlegend\":true,\"textposition\":\"auto\",\"x\":[\"mobile\"],\"xaxis\":\"x\",\"y\":[890000],\"yaxis\":\"y\",\"type\":\"bar\"},{\"alignmentgroup\":\"True\",\"hovertemplate\":\"name=Venmo<br>category_code=%{x}<br>funding=%{y}<extra></extra>\",\"legendgroup\":\"Venmo\",\"marker\":{\"color\":\"#FF6692\",\"pattern\":{\"shape\":\"\"}},\"name\":\"Venmo\",\"offsetgroup\":\"Venmo\",\"orientation\":\"v\",\"showlegend\":true,\"textposition\":\"auto\",\"x\":[\"mobile\"],\"xaxis\":\"x\",\"y\":[1200000],\"yaxis\":\"y\",\"type\":\"bar\"},{\"alignmentgroup\":\"True\",\"hovertemplate\":\"name=Vizibility<br>category_code=%{x}<br>funding=%{y}<extra></extra>\",\"legendgroup\":\"Vizibility\",\"marker\":{\"color\":\"#B6E880\",\"pattern\":{\"shape\":\"\"}},\"name\":\"Vizibility\",\"offsetgroup\":\"Vizibility\",\"orientation\":\"v\",\"showlegend\":true,\"textposition\":\"auto\",\"x\":[\"mobile\"],\"xaxis\":\"x\",\"y\":[4705910],\"yaxis\":\"y\",\"type\":\"bar\"},{\"alignmentgroup\":\"True\",\"hovertemplate\":\"name=Vlingo<br>category_code=%{x}<br>funding=%{y}<extra></extra>\",\"legendgroup\":\"Vlingo\",\"marker\":{\"color\":\"#FF97FF\",\"pattern\":{\"shape\":\"\"}},\"name\":\"Vlingo\",\"offsetgroup\":\"Vlingo\",\"orientation\":\"v\",\"showlegend\":true,\"textposition\":\"auto\",\"x\":[\"mobile\"],\"xaxis\":\"x\",\"y\":[26500000],\"yaxis\":\"y\",\"type\":\"bar\"},{\"alignmentgroup\":\"True\",\"hovertemplate\":\"name=VoodooVox<br>category_code=%{x}<br>funding=%{y}<extra></extra>\",\"legendgroup\":\"VoodooVox\",\"marker\":{\"color\":\"#FECB52\",\"pattern\":{\"shape\":\"\"}},\"name\":\"VoodooVox\",\"offsetgroup\":\"VoodooVox\",\"orientation\":\"v\",\"showlegend\":true,\"textposition\":\"auto\",\"x\":[\"mobile\"],\"xaxis\":\"x\",\"y\":[9650000],\"yaxis\":\"y\",\"type\":\"bar\"},{\"alignmentgroup\":\"True\",\"hovertemplate\":\"name=WAY Systems<br>category_code=%{x}<br>funding=%{y}<extra></extra>\",\"legendgroup\":\"WAY Systems\",\"marker\":{\"color\":\"#636efa\",\"pattern\":{\"shape\":\"\"}},\"name\":\"WAY Systems\",\"offsetgroup\":\"WAY Systems\",\"orientation\":\"v\",\"showlegend\":true,\"textposition\":\"auto\",\"x\":[\"mobile\"],\"xaxis\":\"x\",\"y\":[22000000],\"yaxis\":\"y\",\"type\":\"bar\"},{\"alignmentgroup\":\"True\",\"hovertemplate\":\"name=Wander (f. YongoPal)<br>category_code=%{x}<br>funding=%{y}<extra></extra>\",\"legendgroup\":\"Wander (f. YongoPal)\",\"marker\":{\"color\":\"#EF553B\",\"pattern\":{\"shape\":\"\"}},\"name\":\"Wander (f. YongoPal)\",\"offsetgroup\":\"Wander (f. YongoPal)\",\"orientation\":\"v\",\"showlegend\":true,\"textposition\":\"auto\",\"x\":[\"mobile\"],\"xaxis\":\"x\",\"y\":[185000],\"yaxis\":\"y\",\"type\":\"bar\"},{\"alignmentgroup\":\"True\",\"hovertemplate\":\"name=Where<br>category_code=%{x}<br>funding=%{y}<extra></extra>\",\"legendgroup\":\"Where\",\"marker\":{\"color\":\"#00cc96\",\"pattern\":{\"shape\":\"\"}},\"name\":\"Where\",\"offsetgroup\":\"Where\",\"orientation\":\"v\",\"showlegend\":true,\"textposition\":\"auto\",\"x\":[\"mobile\"],\"xaxis\":\"x\",\"y\":[19100000],\"yaxis\":\"y\",\"type\":\"bar\"},{\"alignmentgroup\":\"True\",\"hovertemplate\":\"name=WiChorus<br>category_code=%{x}<br>funding=%{y}<extra></extra>\",\"legendgroup\":\"WiChorus\",\"marker\":{\"color\":\"#ab63fa\",\"pattern\":{\"shape\":\"\"}},\"name\":\"WiChorus\",\"offsetgroup\":\"WiChorus\",\"orientation\":\"v\",\"showlegend\":true,\"textposition\":\"auto\",\"x\":[\"mobile\"],\"xaxis\":\"x\",\"y\":[42500000],\"yaxis\":\"y\",\"type\":\"bar\"},{\"alignmentgroup\":\"True\",\"hovertemplate\":\"name=Xtify Inc.<br>category_code=%{x}<br>funding=%{y}<extra></extra>\",\"legendgroup\":\"Xtify Inc.\",\"marker\":{\"color\":\"#FFA15A\",\"pattern\":{\"shape\":\"\"}},\"name\":\"Xtify Inc.\",\"offsetgroup\":\"Xtify Inc.\",\"orientation\":\"v\",\"showlegend\":true,\"textposition\":\"auto\",\"x\":[\"mobile\"],\"xaxis\":\"x\",\"y\":[5686383],\"yaxis\":\"y\",\"type\":\"bar\"},{\"alignmentgroup\":\"True\",\"hovertemplate\":\"name=Zenprise<br>category_code=%{x}<br>funding=%{y}<extra></extra>\",\"legendgroup\":\"Zenprise\",\"marker\":{\"color\":\"#19d3f3\",\"pattern\":{\"shape\":\"\"}},\"name\":\"Zenprise\",\"offsetgroup\":\"Zenprise\",\"orientation\":\"v\",\"showlegend\":true,\"textposition\":\"auto\",\"x\":[\"mobile\"],\"xaxis\":\"x\",\"y\":[64630000],\"yaxis\":\"y\",\"type\":\"bar\"},{\"alignmentgroup\":\"True\",\"hovertemplate\":\"name=Zong<br>category_code=%{x}<br>funding=%{y}<extra></extra>\",\"legendgroup\":\"Zong\",\"marker\":{\"color\":\"#FF6692\",\"pattern\":{\"shape\":\"\"}},\"name\":\"Zong\",\"offsetgroup\":\"Zong\",\"orientation\":\"v\",\"showlegend\":true,\"textposition\":\"auto\",\"x\":[\"mobile\"],\"xaxis\":\"x\",\"y\":[27500000],\"yaxis\":\"y\",\"type\":\"bar\"},{\"alignmentgroup\":\"True\",\"hovertemplate\":\"name=ZoomSafer<br>category_code=%{x}<br>funding=%{y}<extra></extra>\",\"legendgroup\":\"ZoomSafer\",\"marker\":{\"color\":\"#B6E880\",\"pattern\":{\"shape\":\"\"}},\"name\":\"ZoomSafer\",\"offsetgroup\":\"ZoomSafer\",\"orientation\":\"v\",\"showlegend\":true,\"textposition\":\"auto\",\"x\":[\"mobile\"],\"xaxis\":\"x\",\"y\":[3350000],\"yaxis\":\"y\",\"type\":\"bar\"},{\"alignmentgroup\":\"True\",\"hovertemplate\":\"name=iSkoot<br>category_code=%{x}<br>funding=%{y}<extra></extra>\",\"legendgroup\":\"iSkoot\",\"marker\":{\"color\":\"#FF97FF\",\"pattern\":{\"shape\":\"\"}},\"name\":\"iSkoot\",\"offsetgroup\":\"iSkoot\",\"orientation\":\"v\",\"showlegend\":true,\"textposition\":\"auto\",\"x\":[\"mobile\"],\"xaxis\":\"x\",\"y\":[32200000],\"yaxis\":\"y\",\"type\":\"bar\"},{\"alignmentgroup\":\"True\",\"hovertemplate\":\"name=kwiry<br>category_code=%{x}<br>funding=%{y}<extra></extra>\",\"legendgroup\":\"kwiry\",\"marker\":{\"color\":\"#FECB52\",\"pattern\":{\"shape\":\"\"}},\"name\":\"kwiry\",\"offsetgroup\":\"kwiry\",\"orientation\":\"v\",\"showlegend\":true,\"textposition\":\"auto\",\"x\":[\"mobile\"],\"xaxis\":\"x\",\"y\":[1000000],\"yaxis\":\"y\",\"type\":\"bar\"},{\"alignmentgroup\":\"True\",\"hovertemplate\":\"name=mFoundry<br>category_code=%{x}<br>funding=%{y}<extra></extra>\",\"legendgroup\":\"mFoundry\",\"marker\":{\"color\":\"#636efa\",\"pattern\":{\"shape\":\"\"}},\"name\":\"mFoundry\",\"offsetgroup\":\"mFoundry\",\"orientation\":\"v\",\"showlegend\":true,\"textposition\":\"auto\",\"x\":[\"mobile\"],\"xaxis\":\"x\",\"y\":[40300000],\"yaxis\":\"y\",\"type\":\"bar\"},{\"alignmentgroup\":\"True\",\"hovertemplate\":\"name=mSnap<br>category_code=%{x}<br>funding=%{y}<extra></extra>\",\"legendgroup\":\"mSnap\",\"marker\":{\"color\":\"#EF553B\",\"pattern\":{\"shape\":\"\"}},\"name\":\"mSnap\",\"offsetgroup\":\"mSnap\",\"orientation\":\"v\",\"showlegend\":true,\"textposition\":\"auto\",\"x\":[\"mobile\"],\"xaxis\":\"x\",\"y\":[5000000],\"yaxis\":\"y\",\"type\":\"bar\"},{\"alignmentgroup\":\"True\",\"hovertemplate\":\"name=skyrockit<br>category_code=%{x}<br>funding=%{y}<extra></extra>\",\"legendgroup\":\"skyrockit\",\"marker\":{\"color\":\"#00cc96\",\"pattern\":{\"shape\":\"\"}},\"name\":\"skyrockit\",\"offsetgroup\":\"skyrockit\",\"orientation\":\"v\",\"showlegend\":true,\"textposition\":\"auto\",\"x\":[\"mobile\"],\"xaxis\":\"x\",\"y\":[2600000],\"yaxis\":\"y\",\"type\":\"bar\"},{\"alignmentgroup\":\"True\",\"hovertemplate\":\"name=Accept Software<br>category_code=%{x}<br>funding=%{y}<extra></extra>\",\"legendgroup\":\"Accept Software\",\"marker\":{\"color\":\"#ab63fa\",\"pattern\":{\"shape\":\"\"}},\"name\":\"Accept Software\",\"offsetgroup\":\"Accept Software\",\"orientation\":\"v\",\"showlegend\":true,\"textposition\":\"auto\",\"x\":[\"software\"],\"xaxis\":\"x\",\"y\":[25305000],\"yaxis\":\"y\",\"type\":\"bar\"},{\"alignmentgroup\":\"True\",\"hovertemplate\":\"name=Airwide Solutions<br>category_code=%{x}<br>funding=%{y}<extra></extra>\",\"legendgroup\":\"Airwide Solutions\",\"marker\":{\"color\":\"#FFA15A\",\"pattern\":{\"shape\":\"\"}},\"name\":\"Airwide Solutions\",\"offsetgroup\":\"Airwide Solutions\",\"orientation\":\"v\",\"showlegend\":true,\"textposition\":\"auto\",\"x\":[\"software\"],\"xaxis\":\"x\",\"y\":[25000000],\"yaxis\":\"y\",\"type\":\"bar\"},{\"alignmentgroup\":\"True\",\"hovertemplate\":\"name=Akorri Networks<br>category_code=%{x}<br>funding=%{y}<extra></extra>\",\"legendgroup\":\"Akorri Networks\",\"marker\":{\"color\":\"#19d3f3\",\"pattern\":{\"shape\":\"\"}},\"name\":\"Akorri Networks\",\"offsetgroup\":\"Akorri Networks\",\"orientation\":\"v\",\"showlegend\":true,\"textposition\":\"auto\",\"x\":[\"software\"],\"xaxis\":\"x\",\"y\":[48730000],\"yaxis\":\"y\",\"type\":\"bar\"},{\"alignmentgroup\":\"True\",\"hovertemplate\":\"name=AlterPoint<br>category_code=%{x}<br>funding=%{y}<extra></extra>\",\"legendgroup\":\"AlterPoint\",\"marker\":{\"color\":\"#FF6692\",\"pattern\":{\"shape\":\"\"}},\"name\":\"AlterPoint\",\"offsetgroup\":\"AlterPoint\",\"orientation\":\"v\",\"showlegend\":true,\"textposition\":\"auto\",\"x\":[\"software\"],\"xaxis\":\"x\",\"y\":[26800000],\"yaxis\":\"y\",\"type\":\"bar\"},{\"alignmentgroup\":\"True\",\"hovertemplate\":\"name=Amadesa<br>category_code=%{x}<br>funding=%{y}<extra></extra>\",\"legendgroup\":\"Amadesa\",\"marker\":{\"color\":\"#B6E880\",\"pattern\":{\"shape\":\"\"}},\"name\":\"Amadesa\",\"offsetgroup\":\"Amadesa\",\"orientation\":\"v\",\"showlegend\":true,\"textposition\":\"auto\",\"x\":[\"software\"],\"xaxis\":\"x\",\"y\":[12800000],\"yaxis\":\"y\",\"type\":\"bar\"},{\"alignmentgroup\":\"True\",\"hovertemplate\":\"name=Anystream<br>category_code=%{x}<br>funding=%{y}<extra></extra>\",\"legendgroup\":\"Anystream\",\"marker\":{\"color\":\"#FF97FF\",\"pattern\":{\"shape\":\"\"}},\"name\":\"Anystream\",\"offsetgroup\":\"Anystream\",\"orientation\":\"v\",\"showlegend\":true,\"textposition\":\"auto\",\"x\":[\"software\"],\"xaxis\":\"x\",\"y\":[59000000],\"yaxis\":\"y\",\"type\":\"bar\"},{\"alignmentgroup\":\"True\",\"hovertemplate\":\"name=Appscio<br>category_code=%{x}<br>funding=%{y}<extra></extra>\",\"legendgroup\":\"Appscio\",\"marker\":{\"color\":\"#FECB52\",\"pattern\":{\"shape\":\"\"}},\"name\":\"Appscio\",\"offsetgroup\":\"Appscio\",\"orientation\":\"v\",\"showlegend\":true,\"textposition\":\"auto\",\"x\":[\"software\"],\"xaxis\":\"x\",\"y\":[7000000],\"yaxis\":\"y\",\"type\":\"bar\"},{\"alignmentgroup\":\"True\",\"hovertemplate\":\"name=Appstores.com<br>category_code=%{x}<br>funding=%{y}<extra></extra>\",\"legendgroup\":\"Appstores.com\",\"marker\":{\"color\":\"#636efa\",\"pattern\":{\"shape\":\"\"}},\"name\":\"Appstores.com\",\"offsetgroup\":\"Appstores.com\",\"orientation\":\"v\",\"showlegend\":true,\"textposition\":\"auto\",\"x\":[\"software\"],\"xaxis\":\"x\",\"y\":[1155000],\"yaxis\":\"y\",\"type\":\"bar\"},{\"alignmentgroup\":\"True\",\"hovertemplate\":\"name=Aptana<br>category_code=%{x}<br>funding=%{y}<extra></extra>\",\"legendgroup\":\"Aptana\",\"marker\":{\"color\":\"#EF553B\",\"pattern\":{\"shape\":\"\"}},\"name\":\"Aptana\",\"offsetgroup\":\"Aptana\",\"orientation\":\"v\",\"showlegend\":true,\"textposition\":\"auto\",\"x\":[\"software\"],\"xaxis\":\"x\",\"y\":[7800000],\"yaxis\":\"y\",\"type\":\"bar\"},{\"alignmentgroup\":\"True\",\"hovertemplate\":\"name=ArcSight<br>category_code=%{x}<br>funding=%{y}<extra></extra>\",\"legendgroup\":\"ArcSight\",\"marker\":{\"color\":\"#00cc96\",\"pattern\":{\"shape\":\"\"}},\"name\":\"ArcSight\",\"offsetgroup\":\"ArcSight\",\"orientation\":\"v\",\"showlegend\":true,\"textposition\":\"auto\",\"x\":[\"software\"],\"xaxis\":\"x\",\"y\":[26914000],\"yaxis\":\"y\",\"type\":\"bar\"},{\"alignmentgroup\":\"True\",\"hovertemplate\":\"name=Arch Rock Corporation<br>category_code=%{x}<br>funding=%{y}<extra></extra>\",\"legendgroup\":\"Arch Rock Corporation\",\"marker\":{\"color\":\"#ab63fa\",\"pattern\":{\"shape\":\"\"}},\"name\":\"Arch Rock Corporation\",\"offsetgroup\":\"Arch Rock Corporation\",\"orientation\":\"v\",\"showlegend\":true,\"textposition\":\"auto\",\"x\":[\"software\"],\"xaxis\":\"x\",\"y\":[15000000],\"yaxis\":\"y\",\"type\":\"bar\"},{\"alignmentgroup\":\"True\",\"hovertemplate\":\"name=Athena Design Systems<br>category_code=%{x}<br>funding=%{y}<extra></extra>\",\"legendgroup\":\"Athena Design Systems\",\"marker\":{\"color\":\"#FFA15A\",\"pattern\":{\"shape\":\"\"}},\"name\":\"Athena Design Systems\",\"offsetgroup\":\"Athena Design Systems\",\"orientation\":\"v\",\"showlegend\":true,\"textposition\":\"auto\",\"x\":[\"software\"],\"xaxis\":\"x\",\"y\":[4000000],\"yaxis\":\"y\",\"type\":\"bar\"},{\"alignmentgroup\":\"True\",\"hovertemplate\":\"name=Attributor<br>category_code=%{x}<br>funding=%{y}<extra></extra>\",\"legendgroup\":\"Attributor\",\"marker\":{\"color\":\"#19d3f3\",\"pattern\":{\"shape\":\"\"}},\"name\":\"Attributor\",\"offsetgroup\":\"Attributor\",\"orientation\":\"v\",\"showlegend\":true,\"textposition\":\"auto\",\"x\":[\"software\"],\"xaxis\":\"x\",\"y\":[25200000],\"yaxis\":\"y\",\"type\":\"bar\"},{\"alignmentgroup\":\"True\",\"hovertemplate\":\"name=AutoVirt<br>category_code=%{x}<br>funding=%{y}<extra></extra>\",\"legendgroup\":\"AutoVirt\",\"marker\":{\"color\":\"#FF6692\",\"pattern\":{\"shape\":\"\"}},\"name\":\"AutoVirt\",\"offsetgroup\":\"AutoVirt\",\"orientation\":\"v\",\"showlegend\":true,\"textposition\":\"auto\",\"x\":[\"software\"],\"xaxis\":\"x\",\"y\":[24300000],\"yaxis\":\"y\",\"type\":\"bar\"},{\"alignmentgroup\":\"True\",\"hovertemplate\":\"name=Aveksa<br>category_code=%{x}<br>funding=%{y}<extra></extra>\",\"legendgroup\":\"Aveksa\",\"marker\":{\"color\":\"#B6E880\",\"pattern\":{\"shape\":\"\"}},\"name\":\"Aveksa\",\"offsetgroup\":\"Aveksa\",\"orientation\":\"v\",\"showlegend\":true,\"textposition\":\"auto\",\"x\":[\"software\"],\"xaxis\":\"x\",\"y\":[28000000],\"yaxis\":\"y\",\"type\":\"bar\"},{\"alignmentgroup\":\"True\",\"hovertemplate\":\"name=AwesomeTouch<br>category_code=%{x}<br>funding=%{y}<extra></extra>\",\"legendgroup\":\"AwesomeTouch\",\"marker\":{\"color\":\"#FF97FF\",\"pattern\":{\"shape\":\"\"}},\"name\":\"AwesomeTouch\",\"offsetgroup\":\"AwesomeTouch\",\"orientation\":\"v\",\"showlegend\":true,\"textposition\":\"auto\",\"x\":[\"software\"],\"xaxis\":\"x\",\"y\":[59700],\"yaxis\":\"y\",\"type\":\"bar\"},{\"alignmentgroup\":\"True\",\"hovertemplate\":\"name=Azaire Networks<br>category_code=%{x}<br>funding=%{y}<extra></extra>\",\"legendgroup\":\"Azaire Networks\",\"marker\":{\"color\":\"#FECB52\",\"pattern\":{\"shape\":\"\"}},\"name\":\"Azaire Networks\",\"offsetgroup\":\"Azaire Networks\",\"orientation\":\"v\",\"showlegend\":true,\"textposition\":\"auto\",\"x\":[\"software\"],\"xaxis\":\"x\",\"y\":[21000000],\"yaxis\":\"y\",\"type\":\"bar\"},{\"alignmentgroup\":\"True\",\"hovertemplate\":\"name=B-hive Networks<br>category_code=%{x}<br>funding=%{y}<extra></extra>\",\"legendgroup\":\"B-hive Networks\",\"marker\":{\"color\":\"#636efa\",\"pattern\":{\"shape\":\"\"}},\"name\":\"B-hive Networks\",\"offsetgroup\":\"B-hive Networks\",\"orientation\":\"v\",\"showlegend\":true,\"textposition\":\"auto\",\"x\":[\"software\"],\"xaxis\":\"x\",\"y\":[7500000],\"yaxis\":\"y\",\"type\":\"bar\"},{\"alignmentgroup\":\"True\",\"hovertemplate\":\"name=Behavio<br>category_code=%{x}<br>funding=%{y}<extra></extra>\",\"legendgroup\":\"Behavio\",\"marker\":{\"color\":\"#EF553B\",\"pattern\":{\"shape\":\"\"}},\"name\":\"Behavio\",\"offsetgroup\":\"Behavio\",\"orientation\":\"v\",\"showlegend\":true,\"textposition\":\"auto\",\"x\":[\"software\"],\"xaxis\":\"x\",\"y\":[355000],\"yaxis\":\"y\",\"type\":\"bar\"},{\"alignmentgroup\":\"True\",\"hovertemplate\":\"name=BestVendor<br>category_code=%{x}<br>funding=%{y}<extra></extra>\",\"legendgroup\":\"BestVendor\",\"marker\":{\"color\":\"#00cc96\",\"pattern\":{\"shape\":\"\"}},\"name\":\"BestVendor\",\"offsetgroup\":\"BestVendor\",\"orientation\":\"v\",\"showlegend\":true,\"textposition\":\"auto\",\"x\":[\"software\"],\"xaxis\":\"x\",\"y\":[4200000],\"yaxis\":\"y\",\"type\":\"bar\"},{\"alignmentgroup\":\"True\",\"hovertemplate\":\"name=BlueNote Networks<br>category_code=%{x}<br>funding=%{y}<extra></extra>\",\"legendgroup\":\"BlueNote Networks\",\"marker\":{\"color\":\"#ab63fa\",\"pattern\":{\"shape\":\"\"}},\"name\":\"BlueNote Networks\",\"offsetgroup\":\"BlueNote Networks\",\"orientation\":\"v\",\"showlegend\":true,\"textposition\":\"auto\",\"x\":[\"software\"],\"xaxis\":\"x\",\"y\":[23400000],\"yaxis\":\"y\",\"type\":\"bar\"},{\"alignmentgroup\":\"True\",\"hovertemplate\":\"name=Braintree<br>category_code=%{x}<br>funding=%{y}<extra></extra>\",\"legendgroup\":\"Braintree\",\"marker\":{\"color\":\"#FFA15A\",\"pattern\":{\"shape\":\"\"}},\"name\":\"Braintree\",\"offsetgroup\":\"Braintree\",\"orientation\":\"v\",\"showlegend\":true,\"textposition\":\"auto\",\"x\":[\"software\"],\"xaxis\":\"x\",\"y\":[69000000],\"yaxis\":\"y\",\"type\":\"bar\"},{\"alignmentgroup\":\"True\",\"hovertemplate\":\"name=Brickfish<br>category_code=%{x}<br>funding=%{y}<extra></extra>\",\"legendgroup\":\"Brickfish\",\"marker\":{\"color\":\"#19d3f3\",\"pattern\":{\"shape\":\"\"}},\"name\":\"Brickfish\",\"offsetgroup\":\"Brickfish\",\"orientation\":\"v\",\"showlegend\":true,\"textposition\":\"auto\",\"x\":[\"software\"],\"xaxis\":\"x\",\"y\":[940261],\"yaxis\":\"y\",\"type\":\"bar\"},{\"alignmentgroup\":\"True\",\"hovertemplate\":\"name=BridgePort Networks<br>category_code=%{x}<br>funding=%{y}<extra></extra>\",\"legendgroup\":\"BridgePort Networks\",\"marker\":{\"color\":\"#FF6692\",\"pattern\":{\"shape\":\"\"}},\"name\":\"BridgePort Networks\",\"offsetgroup\":\"BridgePort Networks\",\"orientation\":\"v\",\"showlegend\":true,\"textposition\":\"auto\",\"x\":[\"software\"],\"xaxis\":\"x\",\"y\":[13000000],\"yaxis\":\"y\",\"type\":\"bar\"},{\"alignmentgroup\":\"True\",\"hovertemplate\":\"name=BroadLight<br>category_code=%{x}<br>funding=%{y}<extra></extra>\",\"legendgroup\":\"BroadLight\",\"marker\":{\"color\":\"#B6E880\",\"pattern\":{\"shape\":\"\"}},\"name\":\"BroadLight\",\"offsetgroup\":\"BroadLight\",\"orientation\":\"v\",\"showlegend\":true,\"textposition\":\"auto\",\"x\":[\"software\"],\"xaxis\":\"x\",\"y\":[27000000],\"yaxis\":\"y\",\"type\":\"bar\"},{\"alignmentgroup\":\"True\",\"hovertemplate\":\"name=Camiant<br>category_code=%{x}<br>funding=%{y}<extra></extra>\",\"legendgroup\":\"Camiant\",\"marker\":{\"color\":\"#FF97FF\",\"pattern\":{\"shape\":\"\"}},\"name\":\"Camiant\",\"offsetgroup\":\"Camiant\",\"orientation\":\"v\",\"showlegend\":true,\"textposition\":\"auto\",\"x\":[\"software\"],\"xaxis\":\"x\",\"y\":[16100000],\"yaxis\":\"y\",\"type\":\"bar\"},{\"alignmentgroup\":\"True\",\"hovertemplate\":\"name=CardStar<br>category_code=%{x}<br>funding=%{y}<extra></extra>\",\"legendgroup\":\"CardStar\",\"marker\":{\"color\":\"#FECB52\",\"pattern\":{\"shape\":\"\"}},\"name\":\"CardStar\",\"offsetgroup\":\"CardStar\",\"orientation\":\"v\",\"showlegend\":true,\"textposition\":\"auto\",\"x\":[\"software\"],\"xaxis\":\"x\",\"y\":[2030882],\"yaxis\":\"y\",\"type\":\"bar\"},{\"alignmentgroup\":\"True\",\"hovertemplate\":\"name=Cassatt<br>category_code=%{x}<br>funding=%{y}<extra></extra>\",\"legendgroup\":\"Cassatt\",\"marker\":{\"color\":\"#636efa\",\"pattern\":{\"shape\":\"\"}},\"name\":\"Cassatt\",\"offsetgroup\":\"Cassatt\",\"orientation\":\"v\",\"showlegend\":true,\"textposition\":\"auto\",\"x\":[\"software\"],\"xaxis\":\"x\",\"y\":[15000000],\"yaxis\":\"y\",\"type\":\"bar\"},{\"alignmentgroup\":\"True\",\"hovertemplate\":\"name=Causata<br>category_code=%{x}<br>funding=%{y}<extra></extra>\",\"legendgroup\":\"Causata\",\"marker\":{\"color\":\"#EF553B\",\"pattern\":{\"shape\":\"\"}},\"name\":\"Causata\",\"offsetgroup\":\"Causata\",\"orientation\":\"v\",\"showlegend\":true,\"textposition\":\"auto\",\"x\":[\"software\"],\"xaxis\":\"x\",\"y\":[15500000],\"yaxis\":\"y\",\"type\":\"bar\"},{\"alignmentgroup\":\"True\",\"hovertemplate\":\"name=CentrePath<br>category_code=%{x}<br>funding=%{y}<extra></extra>\",\"legendgroup\":\"CentrePath\",\"marker\":{\"color\":\"#00cc96\",\"pattern\":{\"shape\":\"\"}},\"name\":\"CentrePath\",\"offsetgroup\":\"CentrePath\",\"orientation\":\"v\",\"showlegend\":true,\"textposition\":\"auto\",\"x\":[\"software\"],\"xaxis\":\"x\",\"y\":[15050000],\"yaxis\":\"y\",\"type\":\"bar\"},{\"alignmentgroup\":\"True\",\"hovertemplate\":\"name=Certeon<br>category_code=%{x}<br>funding=%{y}<extra></extra>\",\"legendgroup\":\"Certeon\",\"marker\":{\"color\":\"#ab63fa\",\"pattern\":{\"shape\":\"\"}},\"name\":\"Certeon\",\"offsetgroup\":\"Certeon\",\"orientation\":\"v\",\"showlegend\":true,\"textposition\":\"auto\",\"x\":[\"software\"],\"xaxis\":\"x\",\"y\":[19000000],\"yaxis\":\"y\",\"type\":\"bar\"},{\"alignmentgroup\":\"True\",\"hovertemplate\":\"name=Clearwell Systems<br>category_code=%{x}<br>funding=%{y}<extra></extra>\",\"legendgroup\":\"Clearwell Systems\",\"marker\":{\"color\":\"#FFA15A\",\"pattern\":{\"shape\":\"\"}},\"name\":\"Clearwell Systems\",\"offsetgroup\":\"Clearwell Systems\",\"orientation\":\"v\",\"showlegend\":true,\"textposition\":\"auto\",\"x\":[\"software\"],\"xaxis\":\"x\",\"y\":[29000000],\"yaxis\":\"y\",\"type\":\"bar\"},{\"alignmentgroup\":\"True\",\"hovertemplate\":\"name=CloudShield Technologies<br>category_code=%{x}<br>funding=%{y}<extra></extra>\",\"legendgroup\":\"CloudShield Technologies\",\"marker\":{\"color\":\"#19d3f3\",\"pattern\":{\"shape\":\"\"}},\"name\":\"CloudShield Technologies\",\"offsetgroup\":\"CloudShield Technologies\",\"orientation\":\"v\",\"showlegend\":true,\"textposition\":\"auto\",\"x\":[\"software\"],\"xaxis\":\"x\",\"y\":[25000000],\"yaxis\":\"y\",\"type\":\"bar\"},{\"alignmentgroup\":\"True\",\"hovertemplate\":\"name=Codesion<br>category_code=%{x}<br>funding=%{y}<extra></extra>\",\"legendgroup\":\"Codesion\",\"marker\":{\"color\":\"#FF6692\",\"pattern\":{\"shape\":\"\"}},\"name\":\"Codesion\",\"offsetgroup\":\"Codesion\",\"orientation\":\"v\",\"showlegend\":true,\"textposition\":\"auto\",\"x\":[\"software\"],\"xaxis\":\"x\",\"y\":[1400000],\"yaxis\":\"y\",\"type\":\"bar\"},{\"alignmentgroup\":\"True\",\"hovertemplate\":\"name=ColdSpark<br>category_code=%{x}<br>funding=%{y}<extra></extra>\",\"legendgroup\":\"ColdSpark\",\"marker\":{\"color\":\"#B6E880\",\"pattern\":{\"shape\":\"\"}},\"name\":\"ColdSpark\",\"offsetgroup\":\"ColdSpark\",\"orientation\":\"v\",\"showlegend\":true,\"textposition\":\"auto\",\"x\":[\"software\"],\"xaxis\":\"x\",\"y\":[6500000],\"yaxis\":\"y\",\"type\":\"bar\"},{\"alignmentgroup\":\"True\",\"hovertemplate\":\"name=Composite Software<br>category_code=%{x}<br>funding=%{y}<extra></extra>\",\"legendgroup\":\"Composite Software\",\"marker\":{\"color\":\"#FF97FF\",\"pattern\":{\"shape\":\"\"}},\"name\":\"Composite Software\",\"offsetgroup\":\"Composite Software\",\"orientation\":\"v\",\"showlegend\":true,\"textposition\":\"auto\",\"x\":[\"software\"],\"xaxis\":\"x\",\"y\":[14650003],\"yaxis\":\"y\",\"type\":\"bar\"},{\"alignmentgroup\":\"True\",\"hovertemplate\":\"name=Cotendo<br>category_code=%{x}<br>funding=%{y}<extra></extra>\",\"legendgroup\":\"Cotendo\",\"marker\":{\"color\":\"#FECB52\",\"pattern\":{\"shape\":\"\"}},\"name\":\"Cotendo\",\"offsetgroup\":\"Cotendo\",\"orientation\":\"v\",\"showlegend\":true,\"textposition\":\"auto\",\"x\":[\"software\"],\"xaxis\":\"x\",\"y\":[36000000],\"yaxis\":\"y\",\"type\":\"bar\"},{\"alignmentgroup\":\"True\",\"hovertemplate\":\"name=Crowdcast<br>category_code=%{x}<br>funding=%{y}<extra></extra>\",\"legendgroup\":\"Crowdcast\",\"marker\":{\"color\":\"#636efa\",\"pattern\":{\"shape\":\"\"}},\"name\":\"Crowdcast\",\"offsetgroup\":\"Crowdcast\",\"orientation\":\"v\",\"showlegend\":true,\"textposition\":\"auto\",\"x\":[\"software\"],\"xaxis\":\"x\",\"y\":[6000000],\"yaxis\":\"y\",\"type\":\"bar\"},{\"alignmentgroup\":\"True\",\"hovertemplate\":\"name=Elanti Systems<br>category_code=%{x}<br>funding=%{y}<extra></extra>\",\"legendgroup\":\"Elanti Systems\",\"marker\":{\"color\":\"#EF553B\",\"pattern\":{\"shape\":\"\"}},\"name\":\"Elanti Systems\",\"offsetgroup\":\"Elanti Systems\",\"orientation\":\"v\",\"showlegend\":true,\"textposition\":\"auto\",\"x\":[\"software\"],\"xaxis\":\"x\",\"y\":[5500000],\"yaxis\":\"y\",\"type\":\"bar\"},{\"alignmentgroup\":\"True\",\"hovertemplate\":\"name=Elastra<br>category_code=%{x}<br>funding=%{y}<extra></extra>\",\"legendgroup\":\"Elastra\",\"marker\":{\"color\":\"#00cc96\",\"pattern\":{\"shape\":\"\"}},\"name\":\"Elastra\",\"offsetgroup\":\"Elastra\",\"orientation\":\"v\",\"showlegend\":true,\"textposition\":\"auto\",\"x\":[\"software\"],\"xaxis\":\"x\",\"y\":[14600000],\"yaxis\":\"y\",\"type\":\"bar\"},{\"alignmentgroup\":\"True\",\"hovertemplate\":\"name=Encentuate<br>category_code=%{x}<br>funding=%{y}<extra></extra>\",\"legendgroup\":\"Encentuate\",\"marker\":{\"color\":\"#ab63fa\",\"pattern\":{\"shape\":\"\"}},\"name\":\"Encentuate\",\"offsetgroup\":\"Encentuate\",\"orientation\":\"v\",\"showlegend\":true,\"textposition\":\"auto\",\"x\":[\"software\"],\"xaxis\":\"x\",\"y\":[16000000],\"yaxis\":\"y\",\"type\":\"bar\"},{\"alignmentgroup\":\"True\",\"hovertemplate\":\"name=Entertainment Media Works<br>category_code=%{x}<br>funding=%{y}<extra></extra>\",\"legendgroup\":\"Entertainment Media Works\",\"marker\":{\"color\":\"#FFA15A\",\"pattern\":{\"shape\":\"\"}},\"name\":\"Entertainment Media Works\",\"offsetgroup\":\"Entertainment Media Works\",\"orientation\":\"v\",\"showlegend\":true,\"textposition\":\"auto\",\"x\":[\"software\"],\"xaxis\":\"x\",\"y\":[4000000],\"yaxis\":\"y\",\"type\":\"bar\"},{\"alignmentgroup\":\"True\",\"hovertemplate\":\"name=ExactTarget<br>category_code=%{x}<br>funding=%{y}<extra></extra>\",\"legendgroup\":\"ExactTarget\",\"marker\":{\"color\":\"#19d3f3\",\"pattern\":{\"shape\":\"\"}},\"name\":\"ExactTarget\",\"offsetgroup\":\"ExactTarget\",\"orientation\":\"v\",\"showlegend\":true,\"textposition\":\"auto\",\"x\":[\"software\"],\"xaxis\":\"x\",\"y\":[238209999],\"yaxis\":\"y\",\"type\":\"bar\"},{\"alignmentgroup\":\"True\",\"hovertemplate\":\"name=Exit41<br>category_code=%{x}<br>funding=%{y}<extra></extra>\",\"legendgroup\":\"Exit41\",\"marker\":{\"color\":\"#FF6692\",\"pattern\":{\"shape\":\"\"}},\"name\":\"Exit41\",\"offsetgroup\":\"Exit41\",\"orientation\":\"v\",\"showlegend\":true,\"textposition\":\"auto\",\"x\":[\"software\"],\"xaxis\":\"x\",\"y\":[24200000],\"yaxis\":\"y\",\"type\":\"bar\"},{\"alignmentgroup\":\"True\",\"hovertemplate\":\"name=FastSoft<br>category_code=%{x}<br>funding=%{y}<extra></extra>\",\"legendgroup\":\"FastSoft\",\"marker\":{\"color\":\"#B6E880\",\"pattern\":{\"shape\":\"\"}},\"name\":\"FastSoft\",\"offsetgroup\":\"FastSoft\",\"orientation\":\"v\",\"showlegend\":true,\"textposition\":\"auto\",\"x\":[\"software\"],\"xaxis\":\"x\",\"y\":[5965000],\"yaxis\":\"y\",\"type\":\"bar\"},{\"alignmentgroup\":\"True\",\"hovertemplate\":\"name=FireStar Software<br>category_code=%{x}<br>funding=%{y}<extra></extra>\",\"legendgroup\":\"FireStar Software\",\"marker\":{\"color\":\"#FF97FF\",\"pattern\":{\"shape\":\"\"}},\"name\":\"FireStar Software\",\"offsetgroup\":\"FireStar Software\",\"orientation\":\"v\",\"showlegend\":true,\"textposition\":\"auto\",\"x\":[\"software\"],\"xaxis\":\"x\",\"y\":[980000],\"yaxis\":\"y\",\"type\":\"bar\"},{\"alignmentgroup\":\"True\",\"hovertemplate\":\"name=FlashSoft<br>category_code=%{x}<br>funding=%{y}<extra></extra>\",\"legendgroup\":\"FlashSoft\",\"marker\":{\"color\":\"#FECB52\",\"pattern\":{\"shape\":\"\"}},\"name\":\"FlashSoft\",\"offsetgroup\":\"FlashSoft\",\"orientation\":\"v\",\"showlegend\":true,\"textposition\":\"auto\",\"x\":[\"software\"],\"xaxis\":\"x\",\"y\":[3000000],\"yaxis\":\"y\",\"type\":\"bar\"},{\"alignmentgroup\":\"True\",\"hovertemplate\":\"name=Fortify Software<br>category_code=%{x}<br>funding=%{y}<extra></extra>\",\"legendgroup\":\"Fortify Software\",\"marker\":{\"color\":\"#636efa\",\"pattern\":{\"shape\":\"\"}},\"name\":\"Fortify Software\",\"offsetgroup\":\"Fortify Software\",\"orientation\":\"v\",\"showlegend\":true,\"textposition\":\"auto\",\"x\":[\"software\"],\"xaxis\":\"x\",\"y\":[10000000],\"yaxis\":\"y\",\"type\":\"bar\"},{\"alignmentgroup\":\"True\",\"hovertemplate\":\"name=Fortisphere<br>category_code=%{x}<br>funding=%{y}<extra></extra>\",\"legendgroup\":\"Fortisphere\",\"marker\":{\"color\":\"#EF553B\",\"pattern\":{\"shape\":\"\"}},\"name\":\"Fortisphere\",\"offsetgroup\":\"Fortisphere\",\"orientation\":\"v\",\"showlegend\":true,\"textposition\":\"auto\",\"x\":[\"software\"],\"xaxis\":\"x\",\"y\":[10000000],\"yaxis\":\"y\",\"type\":\"bar\"},{\"alignmentgroup\":\"True\",\"hovertemplate\":\"name=Game Trust<br>category_code=%{x}<br>funding=%{y}<extra></extra>\",\"legendgroup\":\"Game Trust\",\"marker\":{\"color\":\"#00cc96\",\"pattern\":{\"shape\":\"\"}},\"name\":\"Game Trust\",\"offsetgroup\":\"Game Trust\",\"orientation\":\"v\",\"showlegend\":true,\"textposition\":\"auto\",\"x\":[\"software\"],\"xaxis\":\"x\",\"y\":[9000000],\"yaxis\":\"y\",\"type\":\"bar\"},{\"alignmentgroup\":\"True\",\"hovertemplate\":\"name=Generic Media<br>category_code=%{x}<br>funding=%{y}<extra></extra>\",\"legendgroup\":\"Generic Media\",\"marker\":{\"color\":\"#ab63fa\",\"pattern\":{\"shape\":\"\"}},\"name\":\"Generic Media\",\"offsetgroup\":\"Generic Media\",\"orientation\":\"v\",\"showlegend\":true,\"textposition\":\"auto\",\"x\":[\"software\"],\"xaxis\":\"x\",\"y\":[2500000],\"yaxis\":\"y\",\"type\":\"bar\"},{\"alignmentgroup\":\"True\",\"hovertemplate\":\"name=GlobalCrypto<br>category_code=%{x}<br>funding=%{y}<extra></extra>\",\"legendgroup\":\"GlobalCrypto\",\"marker\":{\"color\":\"#FFA15A\",\"pattern\":{\"shape\":\"\"}},\"name\":\"GlobalCrypto\",\"offsetgroup\":\"GlobalCrypto\",\"orientation\":\"v\",\"showlegend\":true,\"textposition\":\"auto\",\"x\":[\"software\"],\"xaxis\":\"x\",\"y\":[1000000],\"yaxis\":\"y\",\"type\":\"bar\"},{\"alignmentgroup\":\"True\",\"hovertemplate\":\"name=Greenplum Software<br>category_code=%{x}<br>funding=%{y}<extra></extra>\",\"legendgroup\":\"Greenplum Software\",\"marker\":{\"color\":\"#19d3f3\",\"pattern\":{\"shape\":\"\"}},\"name\":\"Greenplum Software\",\"offsetgroup\":\"Greenplum Software\",\"orientation\":\"v\",\"showlegend\":true,\"textposition\":\"auto\",\"x\":[\"software\"],\"xaxis\":\"x\",\"y\":[61000000],\"yaxis\":\"y\",\"type\":\"bar\"},{\"alignmentgroup\":\"True\",\"hovertemplate\":\"name=GuardianEdge Technologies<br>category_code=%{x}<br>funding=%{y}<extra></extra>\",\"legendgroup\":\"GuardianEdge Technologies\",\"marker\":{\"color\":\"#FF6692\",\"pattern\":{\"shape\":\"\"}},\"name\":\"GuardianEdge Technologies\",\"offsetgroup\":\"GuardianEdge Technologies\",\"orientation\":\"v\",\"showlegend\":true,\"textposition\":\"auto\",\"x\":[\"software\"],\"xaxis\":\"x\",\"y\":[19500000],\"yaxis\":\"y\",\"type\":\"bar\"},{\"alignmentgroup\":\"True\",\"hovertemplate\":\"name=Hatteras Networks<br>category_code=%{x}<br>funding=%{y}<extra></extra>\",\"legendgroup\":\"Hatteras Networks\",\"marker\":{\"color\":\"#B6E880\",\"pattern\":{\"shape\":\"\"}},\"name\":\"Hatteras Networks\",\"offsetgroup\":\"Hatteras Networks\",\"orientation\":\"v\",\"showlegend\":true,\"textposition\":\"auto\",\"x\":[\"software\"],\"xaxis\":\"x\",\"y\":[36000000],\"yaxis\":\"y\",\"type\":\"bar\"},{\"alignmentgroup\":\"True\",\"hovertemplate\":\"name=HeadCase Humanufacturing<br>category_code=%{x}<br>funding=%{y}<extra></extra>\",\"legendgroup\":\"HeadCase Humanufacturing\",\"marker\":{\"color\":\"#FF97FF\",\"pattern\":{\"shape\":\"\"}},\"name\":\"HeadCase Humanufacturing\",\"offsetgroup\":\"HeadCase Humanufacturing\",\"orientation\":\"v\",\"showlegend\":true,\"textposition\":\"auto\",\"x\":[\"software\"],\"xaxis\":\"x\",\"y\":[900000],\"yaxis\":\"y\",\"type\":\"bar\"},{\"alignmentgroup\":\"True\",\"hovertemplate\":\"name=HiWired<br>category_code=%{x}<br>funding=%{y}<extra></extra>\",\"legendgroup\":\"HiWired\",\"marker\":{\"color\":\"#FECB52\",\"pattern\":{\"shape\":\"\"}},\"name\":\"HiWired\",\"offsetgroup\":\"HiWired\",\"orientation\":\"v\",\"showlegend\":true,\"textposition\":\"auto\",\"x\":[\"software\"],\"xaxis\":\"x\",\"y\":[14000000],\"yaxis\":\"y\",\"type\":\"bar\"},{\"alignmentgroup\":\"True\",\"hovertemplate\":\"name=Hubspan<br>category_code=%{x}<br>funding=%{y}<extra></extra>\",\"legendgroup\":\"Hubspan\",\"marker\":{\"color\":\"#636efa\",\"pattern\":{\"shape\":\"\"}},\"name\":\"Hubspan\",\"offsetgroup\":\"Hubspan\",\"orientation\":\"v\",\"showlegend\":true,\"textposition\":\"auto\",\"x\":[\"software\"],\"xaxis\":\"x\",\"y\":[13000000],\"yaxis\":\"y\",\"type\":\"bar\"},{\"alignmentgroup\":\"True\",\"hovertemplate\":\"name=Hyperic<br>category_code=%{x}<br>funding=%{y}<extra></extra>\",\"legendgroup\":\"Hyperic\",\"marker\":{\"color\":\"#EF553B\",\"pattern\":{\"shape\":\"\"}},\"name\":\"Hyperic\",\"offsetgroup\":\"Hyperic\",\"orientation\":\"v\",\"showlegend\":true,\"textposition\":\"auto\",\"x\":[\"software\"],\"xaxis\":\"x\",\"y\":[9900000],\"yaxis\":\"y\",\"type\":\"bar\"},{\"alignmentgroup\":\"True\",\"hovertemplate\":\"name=Imagine Communications<br>category_code=%{x}<br>funding=%{y}<extra></extra>\",\"legendgroup\":\"Imagine Communications\",\"marker\":{\"color\":\"#00cc96\",\"pattern\":{\"shape\":\"\"}},\"name\":\"Imagine Communications\",\"offsetgroup\":\"Imagine Communications\",\"orientation\":\"v\",\"showlegend\":true,\"textposition\":\"auto\",\"x\":[\"software\"],\"xaxis\":\"x\",\"y\":[34700000],\"yaxis\":\"y\",\"type\":\"bar\"},{\"alignmentgroup\":\"True\",\"hovertemplate\":\"name=Immunet Corporation<br>category_code=%{x}<br>funding=%{y}<extra></extra>\",\"legendgroup\":\"Immunet Corporation\",\"marker\":{\"color\":\"#ab63fa\",\"pattern\":{\"shape\":\"\"}},\"name\":\"Immunet Corporation\",\"offsetgroup\":\"Immunet Corporation\",\"orientation\":\"v\",\"showlegend\":true,\"textposition\":\"auto\",\"x\":[\"software\"],\"xaxis\":\"x\",\"y\":[2000000],\"yaxis\":\"y\",\"type\":\"bar\"},{\"alignmentgroup\":\"True\",\"hovertemplate\":\"name=Impeva<br>category_code=%{x}<br>funding=%{y}<extra></extra>\",\"legendgroup\":\"Impeva\",\"marker\":{\"color\":\"#FFA15A\",\"pattern\":{\"shape\":\"\"}},\"name\":\"Impeva\",\"offsetgroup\":\"Impeva\",\"orientation\":\"v\",\"showlegend\":true,\"textposition\":\"auto\",\"x\":[\"software\"],\"xaxis\":\"x\",\"y\":[10000000],\"yaxis\":\"y\",\"type\":\"bar\"},{\"alignmentgroup\":\"True\",\"hovertemplate\":\"name=Inertia Beverage Group<br>category_code=%{x}<br>funding=%{y}<extra></extra>\",\"legendgroup\":\"Inertia Beverage Group\",\"marker\":{\"color\":\"#19d3f3\",\"pattern\":{\"shape\":\"\"}},\"name\":\"Inertia Beverage Group\",\"offsetgroup\":\"Inertia Beverage Group\",\"orientation\":\"v\",\"showlegend\":true,\"textposition\":\"auto\",\"x\":[\"software\"],\"xaxis\":\"x\",\"y\":[25500100],\"yaxis\":\"y\",\"type\":\"bar\"},{\"alignmentgroup\":\"True\",\"hovertemplate\":\"name=Infineta Systems<br>category_code=%{x}<br>funding=%{y}<extra></extra>\",\"legendgroup\":\"Infineta Systems\",\"marker\":{\"color\":\"#FF6692\",\"pattern\":{\"shape\":\"\"}},\"name\":\"Infineta Systems\",\"offsetgroup\":\"Infineta Systems\",\"orientation\":\"v\",\"showlegend\":true,\"textposition\":\"auto\",\"x\":[\"software\"],\"xaxis\":\"x\",\"y\":[30000000],\"yaxis\":\"y\",\"type\":\"bar\"},{\"alignmentgroup\":\"True\",\"hovertemplate\":\"name=Intelliden<br>category_code=%{x}<br>funding=%{y}<extra></extra>\",\"legendgroup\":\"Intelliden\",\"marker\":{\"color\":\"#B6E880\",\"pattern\":{\"shape\":\"\"}},\"name\":\"Intelliden\",\"offsetgroup\":\"Intelliden\",\"orientation\":\"v\",\"showlegend\":true,\"textposition\":\"auto\",\"x\":[\"software\"],\"xaxis\":\"x\",\"y\":[80000000],\"yaxis\":\"y\",\"type\":\"bar\"},{\"alignmentgroup\":\"True\",\"hovertemplate\":\"name=Intrusic<br>category_code=%{x}<br>funding=%{y}<extra></extra>\",\"legendgroup\":\"Intrusic\",\"marker\":{\"color\":\"#FF97FF\",\"pattern\":{\"shape\":\"\"}},\"name\":\"Intrusic\",\"offsetgroup\":\"Intrusic\",\"orientation\":\"v\",\"showlegend\":true,\"textposition\":\"auto\",\"x\":[\"software\"],\"xaxis\":\"x\",\"y\":[16000000],\"yaxis\":\"y\",\"type\":\"bar\"},{\"alignmentgroup\":\"True\",\"hovertemplate\":\"name=Involver<br>category_code=%{x}<br>funding=%{y}<extra></extra>\",\"legendgroup\":\"Involver\",\"marker\":{\"color\":\"#FECB52\",\"pattern\":{\"shape\":\"\"}},\"name\":\"Involver\",\"offsetgroup\":\"Involver\",\"orientation\":\"v\",\"showlegend\":true,\"textposition\":\"auto\",\"x\":[\"software\"],\"xaxis\":\"x\",\"y\":[11040000],\"yaxis\":\"y\",\"type\":\"bar\"},{\"alignmentgroup\":\"True\",\"hovertemplate\":\"name=IonLogix Systems<br>category_code=%{x}<br>funding=%{y}<extra></extra>\",\"legendgroup\":\"IonLogix Systems\",\"marker\":{\"color\":\"#636efa\",\"pattern\":{\"shape\":\"\"}},\"name\":\"IonLogix Systems\",\"offsetgroup\":\"IonLogix Systems\",\"orientation\":\"v\",\"showlegend\":true,\"textposition\":\"auto\",\"x\":[\"software\"],\"xaxis\":\"x\",\"y\":[30000],\"yaxis\":\"y\",\"type\":\"bar\"},{\"alignmentgroup\":\"True\",\"hovertemplate\":\"name=JackBe<br>category_code=%{x}<br>funding=%{y}<extra></extra>\",\"legendgroup\":\"JackBe\",\"marker\":{\"color\":\"#EF553B\",\"pattern\":{\"shape\":\"\"}},\"name\":\"JackBe\",\"offsetgroup\":\"JackBe\",\"orientation\":\"v\",\"showlegend\":true,\"textposition\":\"auto\",\"x\":[\"software\"],\"xaxis\":\"x\",\"y\":[24500000],\"yaxis\":\"y\",\"type\":\"bar\"},{\"alignmentgroup\":\"True\",\"hovertemplate\":\"name=JavaJobs<br>category_code=%{x}<br>funding=%{y}<extra></extra>\",\"legendgroup\":\"JavaJobs\",\"marker\":{\"color\":\"#00cc96\",\"pattern\":{\"shape\":\"\"}},\"name\":\"JavaJobs\",\"offsetgroup\":\"JavaJobs\",\"orientation\":\"v\",\"showlegend\":true,\"textposition\":\"auto\",\"x\":[\"software\"],\"xaxis\":\"x\",\"y\":[50000],\"yaxis\":\"y\",\"type\":\"bar\"},{\"alignmentgroup\":\"True\",\"hovertemplate\":\"name=Kace networks<br>category_code=%{x}<br>funding=%{y}<extra></extra>\",\"legendgroup\":\"Kace networks\",\"marker\":{\"color\":\"#ab63fa\",\"pattern\":{\"shape\":\"\"}},\"name\":\"Kace networks\",\"offsetgroup\":\"Kace networks\",\"orientation\":\"v\",\"showlegend\":true,\"textposition\":\"auto\",\"x\":[\"software\"],\"xaxis\":\"x\",\"y\":[11000000],\"yaxis\":\"y\",\"type\":\"bar\"},{\"alignmentgroup\":\"True\",\"hovertemplate\":\"name=Kapow Software<br>category_code=%{x}<br>funding=%{y}<extra></extra>\",\"legendgroup\":\"Kapow Software\",\"marker\":{\"color\":\"#FFA15A\",\"pattern\":{\"shape\":\"\"}},\"name\":\"Kapow Software\",\"offsetgroup\":\"Kapow Software\",\"orientation\":\"v\",\"showlegend\":true,\"textposition\":\"auto\",\"x\":[\"software\"],\"xaxis\":\"x\",\"y\":[19743770],\"yaxis\":\"y\",\"type\":\"bar\"},{\"alignmentgroup\":\"True\",\"hovertemplate\":\"name=Kickfire<br>category_code=%{x}<br>funding=%{y}<extra></extra>\",\"legendgroup\":\"Kickfire\",\"marker\":{\"color\":\"#19d3f3\",\"pattern\":{\"shape\":\"\"}},\"name\":\"Kickfire\",\"offsetgroup\":\"Kickfire\",\"orientation\":\"v\",\"showlegend\":true,\"textposition\":\"auto\",\"x\":[\"software\"],\"xaxis\":\"x\",\"y\":[20000000],\"yaxis\":\"y\",\"type\":\"bar\"},{\"alignmentgroup\":\"True\",\"hovertemplate\":\"name=Kiha Software<br>category_code=%{x}<br>funding=%{y}<extra></extra>\",\"legendgroup\":\"Kiha Software\",\"marker\":{\"color\":\"#FF6692\",\"pattern\":{\"shape\":\"\"}},\"name\":\"Kiha Software\",\"offsetgroup\":\"Kiha Software\",\"orientation\":\"v\",\"showlegend\":true,\"textposition\":\"auto\",\"x\":[\"software\"],\"xaxis\":\"x\",\"y\":[20000000],\"yaxis\":\"y\",\"type\":\"bar\"},{\"alignmentgroup\":\"True\",\"hovertemplate\":\"name=Kurani Interactive<br>category_code=%{x}<br>funding=%{y}<extra></extra>\",\"legendgroup\":\"Kurani Interactive\",\"marker\":{\"color\":\"#B6E880\",\"pattern\":{\"shape\":\"\"}},\"name\":\"Kurani Interactive\",\"offsetgroup\":\"Kurani Interactive\",\"orientation\":\"v\",\"showlegend\":true,\"textposition\":\"auto\",\"x\":[\"software\"],\"xaxis\":\"x\",\"y\":[275000],\"yaxis\":\"y\",\"type\":\"bar\"},{\"alignmentgroup\":\"True\",\"hovertemplate\":\"name=Layer 7 Technologies<br>category_code=%{x}<br>funding=%{y}<extra></extra>\",\"legendgroup\":\"Layer 7 Technologies\",\"marker\":{\"color\":\"#FF97FF\",\"pattern\":{\"shape\":\"\"}},\"name\":\"Layer 7 Technologies\",\"offsetgroup\":\"Layer 7 Technologies\",\"orientation\":\"v\",\"showlegend\":true,\"textposition\":\"auto\",\"x\":[\"software\"],\"xaxis\":\"x\",\"y\":[19900000],\"yaxis\":\"y\",\"type\":\"bar\"},{\"alignmentgroup\":\"True\",\"hovertemplate\":\"name=LeisureLogix<br>category_code=%{x}<br>funding=%{y}<extra></extra>\",\"legendgroup\":\"LeisureLogix\",\"marker\":{\"color\":\"#FECB52\",\"pattern\":{\"shape\":\"\"}},\"name\":\"LeisureLogix\",\"offsetgroup\":\"LeisureLogix\",\"orientation\":\"v\",\"showlegend\":true,\"textposition\":\"auto\",\"x\":[\"software\"],\"xaxis\":\"x\",\"y\":[5900000],\"yaxis\":\"y\",\"type\":\"bar\"},{\"alignmentgroup\":\"True\",\"hovertemplate\":\"name=Levanta<br>category_code=%{x}<br>funding=%{y}<extra></extra>\",\"legendgroup\":\"Levanta\",\"marker\":{\"color\":\"#636efa\",\"pattern\":{\"shape\":\"\"}},\"name\":\"Levanta\",\"offsetgroup\":\"Levanta\",\"orientation\":\"v\",\"showlegend\":true,\"textposition\":\"auto\",\"x\":[\"software\"],\"xaxis\":\"x\",\"y\":[8000000],\"yaxis\":\"y\",\"type\":\"bar\"},{\"alignmentgroup\":\"True\",\"hovertemplate\":\"name=Likewise Software<br>category_code=%{x}<br>funding=%{y}<extra></extra>\",\"legendgroup\":\"Likewise Software\",\"marker\":{\"color\":\"#EF553B\",\"pattern\":{\"shape\":\"\"}},\"name\":\"Likewise Software\",\"offsetgroup\":\"Likewise Software\",\"orientation\":\"v\",\"showlegend\":true,\"textposition\":\"auto\",\"x\":[\"software\"],\"xaxis\":\"x\",\"y\":[10000000],\"yaxis\":\"y\",\"type\":\"bar\"},{\"alignmentgroup\":\"True\",\"hovertemplate\":\"name=Locately<br>category_code=%{x}<br>funding=%{y}<extra></extra>\",\"legendgroup\":\"Locately\",\"marker\":{\"color\":\"#00cc96\",\"pattern\":{\"shape\":\"\"}},\"name\":\"Locately\",\"offsetgroup\":\"Locately\",\"orientation\":\"v\",\"showlegend\":true,\"textposition\":\"auto\",\"x\":[\"software\"],\"xaxis\":\"x\",\"y\":[1178000],\"yaxis\":\"y\",\"type\":\"bar\"},{\"alignmentgroup\":\"True\",\"hovertemplate\":\"name=Loyalty Lab<br>category_code=%{x}<br>funding=%{y}<extra></extra>\",\"legendgroup\":\"Loyalty Lab\",\"marker\":{\"color\":\"#ab63fa\",\"pattern\":{\"shape\":\"\"}},\"name\":\"Loyalty Lab\",\"offsetgroup\":\"Loyalty Lab\",\"orientation\":\"v\",\"showlegend\":true,\"textposition\":\"auto\",\"x\":[\"software\"],\"xaxis\":\"x\",\"y\":[11000000],\"yaxis\":\"y\",\"type\":\"bar\"},{\"alignmentgroup\":\"True\",\"hovertemplate\":\"name=M-Factor<br>category_code=%{x}<br>funding=%{y}<extra></extra>\",\"legendgroup\":\"M-Factor\",\"marker\":{\"color\":\"#FFA15A\",\"pattern\":{\"shape\":\"\"}},\"name\":\"M-Factor\",\"offsetgroup\":\"M-Factor\",\"orientation\":\"v\",\"showlegend\":true,\"textposition\":\"auto\",\"x\":[\"software\"],\"xaxis\":\"x\",\"y\":[10100000],\"yaxis\":\"y\",\"type\":\"bar\"},{\"alignmentgroup\":\"True\",\"hovertemplate\":\"name=Mendocino Software<br>category_code=%{x}<br>funding=%{y}<extra></extra>\",\"legendgroup\":\"Mendocino Software\",\"marker\":{\"color\":\"#19d3f3\",\"pattern\":{\"shape\":\"\"}},\"name\":\"Mendocino Software\",\"offsetgroup\":\"Mendocino Software\",\"orientation\":\"v\",\"showlegend\":true,\"textposition\":\"auto\",\"x\":[\"software\"],\"xaxis\":\"x\",\"y\":[19700000],\"yaxis\":\"y\",\"type\":\"bar\"},{\"alignmentgroup\":\"True\",\"hovertemplate\":\"name=MessageGate<br>category_code=%{x}<br>funding=%{y}<extra></extra>\",\"legendgroup\":\"MessageGate\",\"marker\":{\"color\":\"#FF6692\",\"pattern\":{\"shape\":\"\"}},\"name\":\"MessageGate\",\"offsetgroup\":\"MessageGate\",\"orientation\":\"v\",\"showlegend\":true,\"textposition\":\"auto\",\"x\":[\"software\"],\"xaxis\":\"x\",\"y\":[5000000],\"yaxis\":\"y\",\"type\":\"bar\"},{\"alignmentgroup\":\"True\",\"hovertemplate\":\"name=Metreos Corporation<br>category_code=%{x}<br>funding=%{y}<extra></extra>\",\"legendgroup\":\"Metreos Corporation\",\"marker\":{\"color\":\"#B6E880\",\"pattern\":{\"shape\":\"\"}},\"name\":\"Metreos Corporation\",\"offsetgroup\":\"Metreos Corporation\",\"orientation\":\"v\",\"showlegend\":true,\"textposition\":\"auto\",\"x\":[\"software\"],\"xaxis\":\"x\",\"y\":[4355000],\"yaxis\":\"y\",\"type\":\"bar\"},{\"alignmentgroup\":\"True\",\"hovertemplate\":\"name=Mimosa Systems<br>category_code=%{x}<br>funding=%{y}<extra></extra>\",\"legendgroup\":\"Mimosa Systems\",\"marker\":{\"color\":\"#FF97FF\",\"pattern\":{\"shape\":\"\"}},\"name\":\"Mimosa Systems\",\"offsetgroup\":\"Mimosa Systems\",\"orientation\":\"v\",\"showlegend\":true,\"textposition\":\"auto\",\"x\":[\"software\"],\"xaxis\":\"x\",\"y\":[53816776],\"yaxis\":\"y\",\"type\":\"bar\"},{\"alignmentgroup\":\"True\",\"hovertemplate\":\"name=MobileReactor<br>category_code=%{x}<br>funding=%{y}<extra></extra>\",\"legendgroup\":\"MobileReactor\",\"marker\":{\"color\":\"#FECB52\",\"pattern\":{\"shape\":\"\"}},\"name\":\"MobileReactor\",\"offsetgroup\":\"MobileReactor\",\"orientation\":\"v\",\"showlegend\":true,\"textposition\":\"auto\",\"x\":[\"software\"],\"xaxis\":\"x\",\"y\":[1175000],\"yaxis\":\"y\",\"type\":\"bar\"},{\"alignmentgroup\":\"True\",\"hovertemplate\":\"name=Myrio<br>category_code=%{x}<br>funding=%{y}<extra></extra>\",\"legendgroup\":\"Myrio\",\"marker\":{\"color\":\"#636efa\",\"pattern\":{\"shape\":\"\"}},\"name\":\"Myrio\",\"offsetgroup\":\"Myrio\",\"orientation\":\"v\",\"showlegend\":true,\"textposition\":\"auto\",\"x\":[\"software\"],\"xaxis\":\"x\",\"y\":[20500000],\"yaxis\":\"y\",\"type\":\"bar\"},{\"alignmentgroup\":\"True\",\"hovertemplate\":\"name=NetDevices<br>category_code=%{x}<br>funding=%{y}<extra></extra>\",\"legendgroup\":\"NetDevices\",\"marker\":{\"color\":\"#EF553B\",\"pattern\":{\"shape\":\"\"}},\"name\":\"NetDevices\",\"offsetgroup\":\"NetDevices\",\"orientation\":\"v\",\"showlegend\":true,\"textposition\":\"auto\",\"x\":[\"software\"],\"xaxis\":\"x\",\"y\":[25000000],\"yaxis\":\"y\",\"type\":\"bar\"},{\"alignmentgroup\":\"True\",\"hovertemplate\":\"name=NexGen Storage<br>category_code=%{x}<br>funding=%{y}<extra></extra>\",\"legendgroup\":\"NexGen Storage\",\"marker\":{\"color\":\"#00cc96\",\"pattern\":{\"shape\":\"\"}},\"name\":\"NexGen Storage\",\"offsetgroup\":\"NexGen Storage\",\"orientation\":\"v\",\"showlegend\":true,\"textposition\":\"auto\",\"x\":[\"software\"],\"xaxis\":\"x\",\"y\":[12010000],\"yaxis\":\"y\",\"type\":\"bar\"},{\"alignmentgroup\":\"True\",\"hovertemplate\":\"name=NextMedium<br>category_code=%{x}<br>funding=%{y}<extra></extra>\",\"legendgroup\":\"NextMedium\",\"marker\":{\"color\":\"#ab63fa\",\"pattern\":{\"shape\":\"\"}},\"name\":\"NextMedium\",\"offsetgroup\":\"NextMedium\",\"orientation\":\"v\",\"showlegend\":true,\"textposition\":\"auto\",\"x\":[\"software\"],\"xaxis\":\"x\",\"y\":[9500000],\"yaxis\":\"y\",\"type\":\"bar\"},{\"alignmentgroup\":\"True\",\"hovertemplate\":\"name=Oasys Mobile<br>category_code=%{x}<br>funding=%{y}<extra></extra>\",\"legendgroup\":\"Oasys Mobile\",\"marker\":{\"color\":\"#FFA15A\",\"pattern\":{\"shape\":\"\"}},\"name\":\"Oasys Mobile\",\"offsetgroup\":\"Oasys Mobile\",\"orientation\":\"v\",\"showlegend\":true,\"textposition\":\"auto\",\"x\":[\"software\"],\"xaxis\":\"x\",\"y\":[8000000],\"yaxis\":\"y\",\"type\":\"bar\"},{\"alignmentgroup\":\"True\",\"hovertemplate\":\"name=Octavian<br>category_code=%{x}<br>funding=%{y}<extra></extra>\",\"legendgroup\":\"Octavian\",\"marker\":{\"color\":\"#19d3f3\",\"pattern\":{\"shape\":\"\"}},\"name\":\"Octavian\",\"offsetgroup\":\"Octavian\",\"orientation\":\"v\",\"showlegend\":true,\"textposition\":\"auto\",\"x\":[\"software\"],\"xaxis\":\"x\",\"y\":[15000000],\"yaxis\":\"y\",\"type\":\"bar\"},{\"alignmentgroup\":\"True\",\"hovertemplate\":\"name=OpVista<br>category_code=%{x}<br>funding=%{y}<extra></extra>\",\"legendgroup\":\"OpVista\",\"marker\":{\"color\":\"#FF6692\",\"pattern\":{\"shape\":\"\"}},\"name\":\"OpVista\",\"offsetgroup\":\"OpVista\",\"orientation\":\"v\",\"showlegend\":true,\"textposition\":\"auto\",\"x\":[\"software\"],\"xaxis\":\"x\",\"y\":[43000000],\"yaxis\":\"y\",\"type\":\"bar\"},{\"alignmentgroup\":\"True\",\"hovertemplate\":\"name=Open Kernel Labs<br>category_code=%{x}<br>funding=%{y}<extra></extra>\",\"legendgroup\":\"Open Kernel Labs\",\"marker\":{\"color\":\"#B6E880\",\"pattern\":{\"shape\":\"\"}},\"name\":\"Open Kernel Labs\",\"offsetgroup\":\"Open Kernel Labs\",\"orientation\":\"v\",\"showlegend\":true,\"textposition\":\"auto\",\"x\":[\"software\"],\"xaxis\":\"x\",\"y\":[10764323],\"yaxis\":\"y\",\"type\":\"bar\"},{\"alignmentgroup\":\"True\",\"hovertemplate\":\"name=Ounce Labs<br>category_code=%{x}<br>funding=%{y}<extra></extra>\",\"legendgroup\":\"Ounce Labs\",\"marker\":{\"color\":\"#FF97FF\",\"pattern\":{\"shape\":\"\"}},\"name\":\"Ounce Labs\",\"offsetgroup\":\"Ounce Labs\",\"orientation\":\"v\",\"showlegend\":true,\"textposition\":\"auto\",\"x\":[\"software\"],\"xaxis\":\"x\",\"y\":[13500000],\"yaxis\":\"y\",\"type\":\"bar\"},{\"alignmentgroup\":\"True\",\"hovertemplate\":\"name=PANTA Systems<br>category_code=%{x}<br>funding=%{y}<extra></extra>\",\"legendgroup\":\"PANTA Systems\",\"marker\":{\"color\":\"#FECB52\",\"pattern\":{\"shape\":\"\"}},\"name\":\"PANTA Systems\",\"offsetgroup\":\"PANTA Systems\",\"orientation\":\"v\",\"showlegend\":true,\"textposition\":\"auto\",\"x\":[\"software\"],\"xaxis\":\"x\",\"y\":[9500000],\"yaxis\":\"y\",\"type\":\"bar\"},{\"alignmentgroup\":\"True\",\"hovertemplate\":\"name=Particle Code<br>category_code=%{x}<br>funding=%{y}<extra></extra>\",\"legendgroup\":\"Particle Code\",\"marker\":{\"color\":\"#636efa\",\"pattern\":{\"shape\":\"\"}},\"name\":\"Particle Code\",\"offsetgroup\":\"Particle Code\",\"orientation\":\"v\",\"showlegend\":true,\"textposition\":\"auto\",\"x\":[\"software\"],\"xaxis\":\"x\",\"y\":[3000000],\"yaxis\":\"y\",\"type\":\"bar\"},{\"alignmentgroup\":\"True\",\"hovertemplate\":\"name=PasswordBank<br>category_code=%{x}<br>funding=%{y}<extra></extra>\",\"legendgroup\":\"PasswordBank\",\"marker\":{\"color\":\"#EF553B\",\"pattern\":{\"shape\":\"\"}},\"name\":\"PasswordBank\",\"offsetgroup\":\"PasswordBank\",\"orientation\":\"v\",\"showlegend\":true,\"textposition\":\"auto\",\"x\":[\"software\"],\"xaxis\":\"x\",\"y\":[3500000],\"yaxis\":\"y\",\"type\":\"bar\"},{\"alignmentgroup\":\"True\",\"hovertemplate\":\"name=Performable<br>category_code=%{x}<br>funding=%{y}<extra></extra>\",\"legendgroup\":\"Performable\",\"marker\":{\"color\":\"#00cc96\",\"pattern\":{\"shape\":\"\"}},\"name\":\"Performable\",\"offsetgroup\":\"Performable\",\"orientation\":\"v\",\"showlegend\":true,\"textposition\":\"auto\",\"x\":[\"software\"],\"xaxis\":\"x\",\"y\":[3000000],\"yaxis\":\"y\",\"type\":\"bar\"},{\"alignmentgroup\":\"True\",\"hovertemplate\":\"name=Persystent Technologies<br>category_code=%{x}<br>funding=%{y}<extra></extra>\",\"legendgroup\":\"Persystent Technologies\",\"marker\":{\"color\":\"#ab63fa\",\"pattern\":{\"shape\":\"\"}},\"name\":\"Persystent Technologies\",\"offsetgroup\":\"Persystent Technologies\",\"orientation\":\"v\",\"showlegend\":true,\"textposition\":\"auto\",\"x\":[\"software\"],\"xaxis\":\"x\",\"y\":[21460663],\"yaxis\":\"y\",\"type\":\"bar\"},{\"alignmentgroup\":\"True\",\"hovertemplate\":\"name=Phurnace Software<br>category_code=%{x}<br>funding=%{y}<extra></extra>\",\"legendgroup\":\"Phurnace Software\",\"marker\":{\"color\":\"#FFA15A\",\"pattern\":{\"shape\":\"\"}},\"name\":\"Phurnace Software\",\"offsetgroup\":\"Phurnace Software\",\"orientation\":\"v\",\"showlegend\":true,\"textposition\":\"auto\",\"x\":[\"software\"],\"xaxis\":\"x\",\"y\":[10000000],\"yaxis\":\"y\",\"type\":\"bar\"},{\"alignmentgroup\":\"True\",\"hovertemplate\":\"name=Pinch Media<br>category_code=%{x}<br>funding=%{y}<extra></extra>\",\"legendgroup\":\"Pinch Media\",\"marker\":{\"color\":\"#19d3f3\",\"pattern\":{\"shape\":\"\"}},\"name\":\"Pinch Media\",\"offsetgroup\":\"Pinch Media\",\"orientation\":\"v\",\"showlegend\":true,\"textposition\":\"auto\",\"x\":[\"software\"],\"xaxis\":\"x\",\"y\":[560001],\"yaxis\":\"y\",\"type\":\"bar\"},{\"alignmentgroup\":\"True\",\"hovertemplate\":\"name=Plethora Technology<br>category_code=%{x}<br>funding=%{y}<extra></extra>\",\"legendgroup\":\"Plethora Technology\",\"marker\":{\"color\":\"#FF6692\",\"pattern\":{\"shape\":\"\"}},\"name\":\"Plethora Technology\",\"offsetgroup\":\"Plethora Technology\",\"orientation\":\"v\",\"showlegend\":true,\"textposition\":\"auto\",\"x\":[\"software\"],\"xaxis\":\"x\",\"y\":[1000000],\"yaxis\":\"y\",\"type\":\"bar\"},{\"alignmentgroup\":\"True\",\"hovertemplate\":\"name=Producteev<br>category_code=%{x}<br>funding=%{y}<extra></extra>\",\"legendgroup\":\"Producteev\",\"marker\":{\"color\":\"#B6E880\",\"pattern\":{\"shape\":\"\"}},\"name\":\"Producteev\",\"offsetgroup\":\"Producteev\",\"orientation\":\"v\",\"showlegend\":true,\"textposition\":\"auto\",\"x\":[\"software\"],\"xaxis\":\"x\",\"y\":[1310000],\"yaxis\":\"y\",\"type\":\"bar\"},{\"alignmentgroup\":\"True\",\"hovertemplate\":\"name=Punch Entertainment<br>category_code=%{x}<br>funding=%{y}<extra></extra>\",\"legendgroup\":\"Punch Entertainment\",\"marker\":{\"color\":\"#FF97FF\",\"pattern\":{\"shape\":\"\"}},\"name\":\"Punch Entertainment\",\"offsetgroup\":\"Punch Entertainment\",\"orientation\":\"v\",\"showlegend\":true,\"textposition\":\"auto\",\"x\":[\"software\"],\"xaxis\":\"x\",\"y\":[1200000],\"yaxis\":\"y\",\"type\":\"bar\"},{\"alignmentgroup\":\"True\",\"hovertemplate\":\"name=Pyxis Mobile<br>category_code=%{x}<br>funding=%{y}<extra></extra>\",\"legendgroup\":\"Pyxis Mobile\",\"marker\":{\"color\":\"#FECB52\",\"pattern\":{\"shape\":\"\"}},\"name\":\"Pyxis Mobile\",\"offsetgroup\":\"Pyxis Mobile\",\"orientation\":\"v\",\"showlegend\":true,\"textposition\":\"auto\",\"x\":[\"software\"],\"xaxis\":\"x\",\"y\":[24150000],\"yaxis\":\"y\",\"type\":\"bar\"},{\"alignmentgroup\":\"True\",\"hovertemplate\":\"name=QuikCycle<br>category_code=%{x}<br>funding=%{y}<extra></extra>\",\"legendgroup\":\"QuikCycle\",\"marker\":{\"color\":\"#636efa\",\"pattern\":{\"shape\":\"\"}},\"name\":\"QuikCycle\",\"offsetgroup\":\"QuikCycle\",\"orientation\":\"v\",\"showlegend\":true,\"textposition\":\"auto\",\"x\":[\"software\"],\"xaxis\":\"x\",\"y\":[17800000],\"yaxis\":\"y\",\"type\":\"bar\"},{\"alignmentgroup\":\"True\",\"hovertemplate\":\"name=RatePoint<br>category_code=%{x}<br>funding=%{y}<extra></extra>\",\"legendgroup\":\"RatePoint\",\"marker\":{\"color\":\"#EF553B\",\"pattern\":{\"shape\":\"\"}},\"name\":\"RatePoint\",\"offsetgroup\":\"RatePoint\",\"orientation\":\"v\",\"showlegend\":true,\"textposition\":\"auto\",\"x\":[\"software\"],\"xaxis\":\"x\",\"y\":[24500000],\"yaxis\":\"y\",\"type\":\"bar\"},{\"alignmentgroup\":\"True\",\"hovertemplate\":\"name=Recurve<br>category_code=%{x}<br>funding=%{y}<extra></extra>\",\"legendgroup\":\"Recurve\",\"marker\":{\"color\":\"#00cc96\",\"pattern\":{\"shape\":\"\"}},\"name\":\"Recurve\",\"offsetgroup\":\"Recurve\",\"orientation\":\"v\",\"showlegend\":true,\"textposition\":\"auto\",\"x\":[\"software\"],\"xaxis\":\"x\",\"y\":[14000000],\"yaxis\":\"y\",\"type\":\"bar\"},{\"alignmentgroup\":\"True\",\"hovertemplate\":\"name=Replay Solutions<br>category_code=%{x}<br>funding=%{y}<extra></extra>\",\"legendgroup\":\"Replay Solutions\",\"marker\":{\"color\":\"#ab63fa\",\"pattern\":{\"shape\":\"\"}},\"name\":\"Replay Solutions\",\"offsetgroup\":\"Replay Solutions\",\"orientation\":\"v\",\"showlegend\":true,\"textposition\":\"auto\",\"x\":[\"software\"],\"xaxis\":\"x\",\"y\":[15200000],\"yaxis\":\"y\",\"type\":\"bar\"},{\"alignmentgroup\":\"True\",\"hovertemplate\":\"name=Right90<br>category_code=%{x}<br>funding=%{y}<extra></extra>\",\"legendgroup\":\"Right90\",\"marker\":{\"color\":\"#FFA15A\",\"pattern\":{\"shape\":\"\"}},\"name\":\"Right90\",\"offsetgroup\":\"Right90\",\"orientation\":\"v\",\"showlegend\":true,\"textposition\":\"auto\",\"x\":[\"software\"],\"xaxis\":\"x\",\"y\":[22000000],\"yaxis\":\"y\",\"type\":\"bar\"},{\"alignmentgroup\":\"True\",\"hovertemplate\":\"name=RingCube Technologies<br>category_code=%{x}<br>funding=%{y}<extra></extra>\",\"legendgroup\":\"RingCube Technologies\",\"marker\":{\"color\":\"#19d3f3\",\"pattern\":{\"shape\":\"\"}},\"name\":\"RingCube Technologies\",\"offsetgroup\":\"RingCube Technologies\",\"orientation\":\"v\",\"showlegend\":true,\"textposition\":\"auto\",\"x\":[\"software\"],\"xaxis\":\"x\",\"y\":[26000000],\"yaxis\":\"y\",\"type\":\"bar\"},{\"alignmentgroup\":\"True\",\"hovertemplate\":\"name=RipCode<br>category_code=%{x}<br>funding=%{y}<extra></extra>\",\"legendgroup\":\"RipCode\",\"marker\":{\"color\":\"#FF6692\",\"pattern\":{\"shape\":\"\"}},\"name\":\"RipCode\",\"offsetgroup\":\"RipCode\",\"orientation\":\"v\",\"showlegend\":true,\"textposition\":\"auto\",\"x\":[\"software\"],\"xaxis\":\"x\",\"y\":[33000000],\"yaxis\":\"y\",\"type\":\"bar\"},{\"alignmentgroup\":\"True\",\"hovertemplate\":\"name=Rollstream<br>category_code=%{x}<br>funding=%{y}<extra></extra>\",\"legendgroup\":\"Rollstream\",\"marker\":{\"color\":\"#B6E880\",\"pattern\":{\"shape\":\"\"}},\"name\":\"Rollstream\",\"offsetgroup\":\"Rollstream\",\"orientation\":\"v\",\"showlegend\":true,\"textposition\":\"auto\",\"x\":[\"software\"],\"xaxis\":\"x\",\"y\":[7500000],\"yaxis\":\"y\",\"type\":\"bar\"},{\"alignmentgroup\":\"True\",\"hovertemplate\":\"name=SNAPin Software<br>category_code=%{x}<br>funding=%{y}<extra></extra>\",\"legendgroup\":\"SNAPin Software\",\"marker\":{\"color\":\"#FF97FF\",\"pattern\":{\"shape\":\"\"}},\"name\":\"SNAPin Software\",\"offsetgroup\":\"SNAPin Software\",\"orientation\":\"v\",\"showlegend\":true,\"textposition\":\"auto\",\"x\":[\"software\"],\"xaxis\":\"x\",\"y\":[22300000],\"yaxis\":\"y\",\"type\":\"bar\"},{\"alignmentgroup\":\"True\",\"hovertemplate\":\"name=Sabrix<br>category_code=%{x}<br>funding=%{y}<extra></extra>\",\"legendgroup\":\"Sabrix\",\"marker\":{\"color\":\"#FECB52\",\"pattern\":{\"shape\":\"\"}},\"name\":\"Sabrix\",\"offsetgroup\":\"Sabrix\",\"orientation\":\"v\",\"showlegend\":true,\"textposition\":\"auto\",\"x\":[\"software\"],\"xaxis\":\"x\",\"y\":[13000000],\"yaxis\":\"y\",\"type\":\"bar\"},{\"alignmentgroup\":\"True\",\"hovertemplate\":\"name=ScaleIO<br>category_code=%{x}<br>funding=%{y}<extra></extra>\",\"legendgroup\":\"ScaleIO\",\"marker\":{\"color\":\"#636efa\",\"pattern\":{\"shape\":\"\"}},\"name\":\"ScaleIO\",\"offsetgroup\":\"ScaleIO\",\"orientation\":\"v\",\"showlegend\":true,\"textposition\":\"auto\",\"x\":[\"software\"],\"xaxis\":\"x\",\"y\":[12000000],\"yaxis\":\"y\",\"type\":\"bar\"},{\"alignmentgroup\":\"True\",\"hovertemplate\":\"name=Semantra<br>category_code=%{x}<br>funding=%{y}<extra></extra>\",\"legendgroup\":\"Semantra\",\"marker\":{\"color\":\"#EF553B\",\"pattern\":{\"shape\":\"\"}},\"name\":\"Semantra\",\"offsetgroup\":\"Semantra\",\"orientation\":\"v\",\"showlegend\":true,\"textposition\":\"auto\",\"x\":[\"software\"],\"xaxis\":\"x\",\"y\":[9100000],\"yaxis\":\"y\",\"type\":\"bar\"},{\"alignmentgroup\":\"True\",\"hovertemplate\":\"name=Sentrigo<br>category_code=%{x}<br>funding=%{y}<extra></extra>\",\"legendgroup\":\"Sentrigo\",\"marker\":{\"color\":\"#00cc96\",\"pattern\":{\"shape\":\"\"}},\"name\":\"Sentrigo\",\"offsetgroup\":\"Sentrigo\",\"orientation\":\"v\",\"showlegend\":true,\"textposition\":\"auto\",\"x\":[\"software\"],\"xaxis\":\"x\",\"y\":[9500000],\"yaxis\":\"y\",\"type\":\"bar\"},{\"alignmentgroup\":\"True\",\"hovertemplate\":\"name=Servo Software<br>category_code=%{x}<br>funding=%{y}<extra></extra>\",\"legendgroup\":\"Servo Software\",\"marker\":{\"color\":\"#ab63fa\",\"pattern\":{\"shape\":\"\"}},\"name\":\"Servo Software\",\"offsetgroup\":\"Servo Software\",\"orientation\":\"v\",\"showlegend\":true,\"textposition\":\"auto\",\"x\":[\"software\"],\"xaxis\":\"x\",\"y\":[3011408],\"yaxis\":\"y\",\"type\":\"bar\"},{\"alignmentgroup\":\"True\",\"hovertemplate\":\"name=Skyrider<br>category_code=%{x}<br>funding=%{y}<extra></extra>\",\"legendgroup\":\"Skyrider\",\"marker\":{\"color\":\"#FFA15A\",\"pattern\":{\"shape\":\"\"}},\"name\":\"Skyrider\",\"offsetgroup\":\"Skyrider\",\"orientation\":\"v\",\"showlegend\":true,\"textposition\":\"auto\",\"x\":[\"software\"],\"xaxis\":\"x\",\"y\":[17000000],\"yaxis\":\"y\",\"type\":\"bar\"},{\"alignmentgroup\":\"True\",\"hovertemplate\":\"name=Skyway Software<br>category_code=%{x}<br>funding=%{y}<extra></extra>\",\"legendgroup\":\"Skyway Software\",\"marker\":{\"color\":\"#19d3f3\",\"pattern\":{\"shape\":\"\"}},\"name\":\"Skyway Software\",\"offsetgroup\":\"Skyway Software\",\"orientation\":\"v\",\"showlegend\":true,\"textposition\":\"auto\",\"x\":[\"software\"],\"xaxis\":\"x\",\"y\":[4000000],\"yaxis\":\"y\",\"type\":\"bar\"},{\"alignmentgroup\":\"True\",\"hovertemplate\":\"name=SnapTell<br>category_code=%{x}<br>funding=%{y}<extra></extra>\",\"legendgroup\":\"SnapTell\",\"marker\":{\"color\":\"#FF6692\",\"pattern\":{\"shape\":\"\"}},\"name\":\"SnapTell\",\"offsetgroup\":\"SnapTell\",\"orientation\":\"v\",\"showlegend\":true,\"textposition\":\"auto\",\"x\":[\"software\"],\"xaxis\":\"x\",\"y\":[4000000],\"yaxis\":\"y\",\"type\":\"bar\"},{\"alignmentgroup\":\"True\",\"hovertemplate\":\"name=SocialShield<br>category_code=%{x}<br>funding=%{y}<extra></extra>\",\"legendgroup\":\"SocialShield\",\"marker\":{\"color\":\"#B6E880\",\"pattern\":{\"shape\":\"\"}},\"name\":\"SocialShield\",\"offsetgroup\":\"SocialShield\",\"orientation\":\"v\",\"showlegend\":true,\"textposition\":\"auto\",\"x\":[\"software\"],\"xaxis\":\"x\",\"y\":[10000000],\"yaxis\":\"y\",\"type\":\"bar\"},{\"alignmentgroup\":\"True\",\"hovertemplate\":\"name=Solidcore Systems<br>category_code=%{x}<br>funding=%{y}<extra></extra>\",\"legendgroup\":\"Solidcore Systems\",\"marker\":{\"color\":\"#FF97FF\",\"pattern\":{\"shape\":\"\"}},\"name\":\"Solidcore Systems\",\"offsetgroup\":\"Solidcore Systems\",\"orientation\":\"v\",\"showlegend\":true,\"textposition\":\"auto\",\"x\":[\"software\"],\"xaxis\":\"x\",\"y\":[40000000],\"yaxis\":\"y\",\"type\":\"bar\"},{\"alignmentgroup\":\"True\",\"hovertemplate\":\"name=SpaBooker<br>category_code=%{x}<br>funding=%{y}<extra></extra>\",\"legendgroup\":\"SpaBooker\",\"marker\":{\"color\":\"#FECB52\",\"pattern\":{\"shape\":\"\"}},\"name\":\"SpaBooker\",\"offsetgroup\":\"SpaBooker\",\"orientation\":\"v\",\"showlegend\":true,\"textposition\":\"auto\",\"x\":[\"software\"],\"xaxis\":\"x\",\"y\":[14700000],\"yaxis\":\"y\",\"type\":\"bar\"},{\"alignmentgroup\":\"True\",\"hovertemplate\":\"name=Storspeed<br>category_code=%{x}<br>funding=%{y}<extra></extra>\",\"legendgroup\":\"Storspeed\",\"marker\":{\"color\":\"#636efa\",\"pattern\":{\"shape\":\"\"}},\"name\":\"Storspeed\",\"offsetgroup\":\"Storspeed\",\"orientation\":\"v\",\"showlegend\":true,\"textposition\":\"auto\",\"x\":[\"software\"],\"xaxis\":\"x\",\"y\":[13000000],\"yaxis\":\"y\",\"type\":\"bar\"},{\"alignmentgroup\":\"True\",\"hovertemplate\":\"name=Stratavia<br>category_code=%{x}<br>funding=%{y}<extra></extra>\",\"legendgroup\":\"Stratavia\",\"marker\":{\"color\":\"#EF553B\",\"pattern\":{\"shape\":\"\"}},\"name\":\"Stratavia\",\"offsetgroup\":\"Stratavia\",\"orientation\":\"v\",\"showlegend\":true,\"textposition\":\"auto\",\"x\":[\"software\"],\"xaxis\":\"x\",\"y\":[10700000],\"yaxis\":\"y\",\"type\":\"bar\"},{\"alignmentgroup\":\"True\",\"hovertemplate\":\"name=StreamBase Systems<br>category_code=%{x}<br>funding=%{y}<extra></extra>\",\"legendgroup\":\"StreamBase Systems\",\"marker\":{\"color\":\"#00cc96\",\"pattern\":{\"shape\":\"\"}},\"name\":\"StreamBase Systems\",\"offsetgroup\":\"StreamBase Systems\",\"orientation\":\"v\",\"showlegend\":true,\"textposition\":\"auto\",\"x\":[\"software\"],\"xaxis\":\"x\",\"y\":[39000000],\"yaxis\":\"y\",\"type\":\"bar\"},{\"alignmentgroup\":\"True\",\"hovertemplate\":\"name=Sweepery<br>category_code=%{x}<br>funding=%{y}<extra></extra>\",\"legendgroup\":\"Sweepery\",\"marker\":{\"color\":\"#ab63fa\",\"pattern\":{\"shape\":\"\"}},\"name\":\"Sweepery\",\"offsetgroup\":\"Sweepery\",\"orientation\":\"v\",\"showlegend\":true,\"textposition\":\"auto\",\"x\":[\"software\"],\"xaxis\":\"x\",\"y\":[500000],\"yaxis\":\"y\",\"type\":\"bar\"},{\"alignmentgroup\":\"True\",\"hovertemplate\":\"name=Terracotta<br>category_code=%{x}<br>funding=%{y}<extra></extra>\",\"legendgroup\":\"Terracotta\",\"marker\":{\"color\":\"#FFA15A\",\"pattern\":{\"shape\":\"\"}},\"name\":\"Terracotta\",\"offsetgroup\":\"Terracotta\",\"orientation\":\"v\",\"showlegend\":true,\"textposition\":\"auto\",\"x\":[\"software\"],\"xaxis\":\"x\",\"y\":[23500000],\"yaxis\":\"y\",\"type\":\"bar\"},{\"alignmentgroup\":\"True\",\"hovertemplate\":\"name=Texert<br>category_code=%{x}<br>funding=%{y}<extra></extra>\",\"legendgroup\":\"Texert\",\"marker\":{\"color\":\"#19d3f3\",\"pattern\":{\"shape\":\"\"}},\"name\":\"Texert\",\"offsetgroup\":\"Texert\",\"orientation\":\"v\",\"showlegend\":true,\"textposition\":\"auto\",\"x\":[\"software\"],\"xaxis\":\"x\",\"y\":[3000000],\"yaxis\":\"y\",\"type\":\"bar\"},{\"alignmentgroup\":\"True\",\"hovertemplate\":\"name=Transparency Software<br>category_code=%{x}<br>funding=%{y}<extra></extra>\",\"legendgroup\":\"Transparency Software\",\"marker\":{\"color\":\"#FF6692\",\"pattern\":{\"shape\":\"\"}},\"name\":\"Transparency Software\",\"offsetgroup\":\"Transparency Software\",\"orientation\":\"v\",\"showlegend\":true,\"textposition\":\"auto\",\"x\":[\"software\"],\"xaxis\":\"x\",\"y\":[12050000],\"yaxis\":\"y\",\"type\":\"bar\"},{\"alignmentgroup\":\"True\",\"hovertemplate\":\"name=TrenStar<br>category_code=%{x}<br>funding=%{y}<extra></extra>\",\"legendgroup\":\"TrenStar\",\"marker\":{\"color\":\"#B6E880\",\"pattern\":{\"shape\":\"\"}},\"name\":\"TrenStar\",\"offsetgroup\":\"TrenStar\",\"orientation\":\"v\",\"showlegend\":true,\"textposition\":\"auto\",\"x\":[\"software\"],\"xaxis\":\"x\",\"y\":[10000000],\"yaxis\":\"y\",\"type\":\"bar\"},{\"alignmentgroup\":\"True\",\"hovertemplate\":\"name=Univa UD<br>category_code=%{x}<br>funding=%{y}<extra></extra>\",\"legendgroup\":\"Univa UD\",\"marker\":{\"color\":\"#FF97FF\",\"pattern\":{\"shape\":\"\"}},\"name\":\"Univa UD\",\"offsetgroup\":\"Univa UD\",\"orientation\":\"v\",\"showlegend\":true,\"textposition\":\"auto\",\"x\":[\"software\"],\"xaxis\":\"x\",\"y\":[33000000],\"yaxis\":\"y\",\"type\":\"bar\"},{\"alignmentgroup\":\"True\",\"hovertemplate\":\"name=Vela Systems<br>category_code=%{x}<br>funding=%{y}<extra></extra>\",\"legendgroup\":\"Vela Systems\",\"marker\":{\"color\":\"#FECB52\",\"pattern\":{\"shape\":\"\"}},\"name\":\"Vela Systems\",\"offsetgroup\":\"Vela Systems\",\"orientation\":\"v\",\"showlegend\":true,\"textposition\":\"auto\",\"x\":[\"software\"],\"xaxis\":\"x\",\"y\":[12000000],\"yaxis\":\"y\",\"type\":\"bar\"},{\"alignmentgroup\":\"True\",\"hovertemplate\":\"name=Viridity Software<br>category_code=%{x}<br>funding=%{y}<extra></extra>\",\"legendgroup\":\"Viridity Software\",\"marker\":{\"color\":\"#636efa\",\"pattern\":{\"shape\":\"\"}},\"name\":\"Viridity Software\",\"offsetgroup\":\"Viridity Software\",\"orientation\":\"v\",\"showlegend\":true,\"textposition\":\"auto\",\"x\":[\"software\"],\"xaxis\":\"x\",\"y\":[15000000],\"yaxis\":\"y\",\"type\":\"bar\"},{\"alignmentgroup\":\"True\",\"hovertemplate\":\"name=Virsto Software<br>category_code=%{x}<br>funding=%{y}<extra></extra>\",\"legendgroup\":\"Virsto Software\",\"marker\":{\"color\":\"#EF553B\",\"pattern\":{\"shape\":\"\"}},\"name\":\"Virsto Software\",\"offsetgroup\":\"Virsto Software\",\"orientation\":\"v\",\"showlegend\":true,\"textposition\":\"auto\",\"x\":[\"software\"],\"xaxis\":\"x\",\"y\":[24000000],\"yaxis\":\"y\",\"type\":\"bar\"},{\"alignmentgroup\":\"True\",\"hovertemplate\":\"name=Virtual Computer<br>category_code=%{x}<br>funding=%{y}<extra></extra>\",\"legendgroup\":\"Virtual Computer\",\"marker\":{\"color\":\"#00cc96\",\"pattern\":{\"shape\":\"\"}},\"name\":\"Virtual Computer\",\"offsetgroup\":\"Virtual Computer\",\"orientation\":\"v\",\"showlegend\":true,\"textposition\":\"auto\",\"x\":[\"software\"],\"xaxis\":\"x\",\"y\":[21000000],\"yaxis\":\"y\",\"type\":\"bar\"},{\"alignmentgroup\":\"True\",\"hovertemplate\":\"name=VirtualLogix<br>category_code=%{x}<br>funding=%{y}<extra></extra>\",\"legendgroup\":\"VirtualLogix\",\"marker\":{\"color\":\"#ab63fa\",\"pattern\":{\"shape\":\"\"}},\"name\":\"VirtualLogix\",\"offsetgroup\":\"VirtualLogix\",\"orientation\":\"v\",\"showlegend\":true,\"textposition\":\"auto\",\"x\":[\"software\"],\"xaxis\":\"x\",\"y\":[29288979],\"yaxis\":\"y\",\"type\":\"bar\"},{\"alignmentgroup\":\"True\",\"hovertemplate\":\"name=Visiprise<br>category_code=%{x}<br>funding=%{y}<extra></extra>\",\"legendgroup\":\"Visiprise\",\"marker\":{\"color\":\"#FFA15A\",\"pattern\":{\"shape\":\"\"}},\"name\":\"Visiprise\",\"offsetgroup\":\"Visiprise\",\"orientation\":\"v\",\"showlegend\":true,\"textposition\":\"auto\",\"x\":[\"software\"],\"xaxis\":\"x\",\"y\":[32000000],\"yaxis\":\"y\",\"type\":\"bar\"},{\"alignmentgroup\":\"True\",\"hovertemplate\":\"name=Vocalocity<br>category_code=%{x}<br>funding=%{y}<extra></extra>\",\"legendgroup\":\"Vocalocity\",\"marker\":{\"color\":\"#19d3f3\",\"pattern\":{\"shape\":\"\"}},\"name\":\"Vocalocity\",\"offsetgroup\":\"Vocalocity\",\"orientation\":\"v\",\"showlegend\":true,\"textposition\":\"auto\",\"x\":[\"software\"],\"xaxis\":\"x\",\"y\":[13600000],\"yaxis\":\"y\",\"type\":\"bar\"},{\"alignmentgroup\":\"True\",\"hovertemplate\":\"name=Vontu<br>category_code=%{x}<br>funding=%{y}<extra></extra>\",\"legendgroup\":\"Vontu\",\"marker\":{\"color\":\"#FF6692\",\"pattern\":{\"shape\":\"\"}},\"name\":\"Vontu\",\"offsetgroup\":\"Vontu\",\"orientation\":\"v\",\"showlegend\":true,\"textposition\":\"auto\",\"x\":[\"software\"],\"xaxis\":\"x\",\"y\":[20000000],\"yaxis\":\"y\",\"type\":\"bar\"},{\"alignmentgroup\":\"True\",\"hovertemplate\":\"name=WebVisible<br>category_code=%{x}<br>funding=%{y}<extra></extra>\",\"legendgroup\":\"WebVisible\",\"marker\":{\"color\":\"#B6E880\",\"pattern\":{\"shape\":\"\"}},\"name\":\"WebVisible\",\"offsetgroup\":\"WebVisible\",\"orientation\":\"v\",\"showlegend\":true,\"textposition\":\"auto\",\"x\":[\"software\"],\"xaxis\":\"x\",\"y\":[37000000],\"yaxis\":\"y\",\"type\":\"bar\"},{\"alignmentgroup\":\"True\",\"hovertemplate\":\"name=ZManda<br>category_code=%{x}<br>funding=%{y}<extra></extra>\",\"legendgroup\":\"ZManda\",\"marker\":{\"color\":\"#FF97FF\",\"pattern\":{\"shape\":\"\"}},\"name\":\"ZManda\",\"offsetgroup\":\"ZManda\",\"orientation\":\"v\",\"showlegend\":true,\"textposition\":\"auto\",\"x\":[\"software\"],\"xaxis\":\"x\",\"y\":[13000000],\"yaxis\":\"y\",\"type\":\"bar\"},{\"alignmentgroup\":\"True\",\"hovertemplate\":\"name=Zencoder<br>category_code=%{x}<br>funding=%{y}<extra></extra>\",\"legendgroup\":\"Zencoder\",\"marker\":{\"color\":\"#FECB52\",\"pattern\":{\"shape\":\"\"}},\"name\":\"Zencoder\",\"offsetgroup\":\"Zencoder\",\"orientation\":\"v\",\"showlegend\":true,\"textposition\":\"auto\",\"x\":[\"software\"],\"xaxis\":\"x\",\"y\":[2000000],\"yaxis\":\"y\",\"type\":\"bar\"},{\"alignmentgroup\":\"True\",\"hovertemplate\":\"name=dynaTrace software<br>category_code=%{x}<br>funding=%{y}<extra></extra>\",\"legendgroup\":\"dynaTrace software\",\"marker\":{\"color\":\"#636efa\",\"pattern\":{\"shape\":\"\"}},\"name\":\"dynaTrace software\",\"offsetgroup\":\"dynaTrace software\",\"orientation\":\"v\",\"showlegend\":true,\"textposition\":\"auto\",\"x\":[\"software\"],\"xaxis\":\"x\",\"y\":[21900000],\"yaxis\":\"y\",\"type\":\"bar\"},{\"alignmentgroup\":\"True\",\"hovertemplate\":\"name=eMinor<br>category_code=%{x}<br>funding=%{y}<extra></extra>\",\"legendgroup\":\"eMinor\",\"marker\":{\"color\":\"#EF553B\",\"pattern\":{\"shape\":\"\"}},\"name\":\"eMinor\",\"offsetgroup\":\"eMinor\",\"orientation\":\"v\",\"showlegend\":true,\"textposition\":\"auto\",\"x\":[\"software\"],\"xaxis\":\"x\",\"y\":[5000000],\"yaxis\":\"y\",\"type\":\"bar\"},{\"alignmentgroup\":\"True\",\"hovertemplate\":\"name=easy2comply (Dynasec)<br>category_code=%{x}<br>funding=%{y}<extra></extra>\",\"legendgroup\":\"easy2comply (Dynasec)\",\"marker\":{\"color\":\"#00cc96\",\"pattern\":{\"shape\":\"\"}},\"name\":\"easy2comply (Dynasec)\",\"offsetgroup\":\"easy2comply (Dynasec)\",\"orientation\":\"v\",\"showlegend\":true,\"textposition\":\"auto\",\"x\":[\"software\"],\"xaxis\":\"x\",\"y\":[1000000],\"yaxis\":\"y\",\"type\":\"bar\"},{\"alignmentgroup\":\"True\",\"hovertemplate\":\"name=expressor software<br>category_code=%{x}<br>funding=%{y}<extra></extra>\",\"legendgroup\":\"expressor software\",\"marker\":{\"color\":\"#ab63fa\",\"pattern\":{\"shape\":\"\"}},\"name\":\"expressor software\",\"offsetgroup\":\"expressor software\",\"orientation\":\"v\",\"showlegend\":true,\"textposition\":\"auto\",\"x\":[\"software\"],\"xaxis\":\"x\",\"y\":[29050000],\"yaxis\":\"y\",\"type\":\"bar\"},{\"alignmentgroup\":\"True\",\"hovertemplate\":\"name=iConclude<br>category_code=%{x}<br>funding=%{y}<extra></extra>\",\"legendgroup\":\"iConclude\",\"marker\":{\"color\":\"#FFA15A\",\"pattern\":{\"shape\":\"\"}},\"name\":\"iConclude\",\"offsetgroup\":\"iConclude\",\"orientation\":\"v\",\"showlegend\":true,\"textposition\":\"auto\",\"x\":[\"software\"],\"xaxis\":\"x\",\"y\":[12500000],\"yaxis\":\"y\",\"type\":\"bar\"},{\"alignmentgroup\":\"True\",\"hovertemplate\":\"name=xkoto<br>category_code=%{x}<br>funding=%{y}<extra></extra>\",\"legendgroup\":\"xkoto\",\"marker\":{\"color\":\"#19d3f3\",\"pattern\":{\"shape\":\"\"}},\"name\":\"xkoto\",\"offsetgroup\":\"xkoto\",\"orientation\":\"v\",\"showlegend\":true,\"textposition\":\"auto\",\"x\":[\"software\"],\"xaxis\":\"x\",\"y\":[11035000],\"yaxis\":\"y\",\"type\":\"bar\"},{\"alignmentgroup\":\"True\",\"hovertemplate\":\"name=1000memories<br>category_code=%{x}<br>funding=%{y}<extra></extra>\",\"legendgroup\":\"1000memories\",\"marker\":{\"color\":\"#FF6692\",\"pattern\":{\"shape\":\"\"}},\"name\":\"1000memories\",\"offsetgroup\":\"1000memories\",\"orientation\":\"v\",\"showlegend\":true,\"textposition\":\"auto\",\"x\":[\"web\"],\"xaxis\":\"x\",\"y\":[2535000],\"yaxis\":\"y\",\"type\":\"bar\"},{\"alignmentgroup\":\"True\",\"hovertemplate\":\"name=Aardvark<br>category_code=%{x}<br>funding=%{y}<extra></extra>\",\"legendgroup\":\"Aardvark\",\"marker\":{\"color\":\"#B6E880\",\"pattern\":{\"shape\":\"\"}},\"name\":\"Aardvark\",\"offsetgroup\":\"Aardvark\",\"orientation\":\"v\",\"showlegend\":true,\"textposition\":\"auto\",\"x\":[\"web\"],\"xaxis\":\"x\",\"y\":[6000000],\"yaxis\":\"y\",\"type\":\"bar\"},{\"alignmentgroup\":\"True\",\"hovertemplate\":\"name=Allurent<br>category_code=%{x}<br>funding=%{y}<extra></extra>\",\"legendgroup\":\"Allurent\",\"marker\":{\"color\":\"#FF97FF\",\"pattern\":{\"shape\":\"\"}},\"name\":\"Allurent\",\"offsetgroup\":\"Allurent\",\"orientation\":\"v\",\"showlegend\":true,\"textposition\":\"auto\",\"x\":[\"web\"],\"xaxis\":\"x\",\"y\":[2000000],\"yaxis\":\"y\",\"type\":\"bar\"},{\"alignmentgroup\":\"True\",\"hovertemplate\":\"name=Bebo<br>category_code=%{x}<br>funding=%{y}<extra></extra>\",\"legendgroup\":\"Bebo\",\"marker\":{\"color\":\"#FECB52\",\"pattern\":{\"shape\":\"\"}},\"name\":\"Bebo\",\"offsetgroup\":\"Bebo\",\"orientation\":\"v\",\"showlegend\":true,\"textposition\":\"auto\",\"x\":[\"web\"],\"xaxis\":\"x\",\"y\":[15000000],\"yaxis\":\"y\",\"type\":\"bar\"},{\"alignmentgroup\":\"True\",\"hovertemplate\":\"name=Behance<br>category_code=%{x}<br>funding=%{y}<extra></extra>\",\"legendgroup\":\"Behance\",\"marker\":{\"color\":\"#636efa\",\"pattern\":{\"shape\":\"\"}},\"name\":\"Behance\",\"offsetgroup\":\"Behance\",\"orientation\":\"v\",\"showlegend\":true,\"textposition\":\"auto\",\"x\":[\"web\"],\"xaxis\":\"x\",\"y\":[6500000],\"yaxis\":\"y\",\"type\":\"bar\"},{\"alignmentgroup\":\"True\",\"hovertemplate\":\"name=Bill Me Later<br>category_code=%{x}<br>funding=%{y}<extra></extra>\",\"legendgroup\":\"Bill Me Later\",\"marker\":{\"color\":\"#EF553B\",\"pattern\":{\"shape\":\"\"}},\"name\":\"Bill Me Later\",\"offsetgroup\":\"Bill Me Later\",\"orientation\":\"v\",\"showlegend\":true,\"textposition\":\"auto\",\"x\":[\"web\"],\"xaxis\":\"x\",\"y\":[100000000],\"yaxis\":\"y\",\"type\":\"bar\"},{\"alignmentgroup\":\"True\",\"hovertemplate\":\"name=BlockBeacon<br>category_code=%{x}<br>funding=%{y}<extra></extra>\",\"legendgroup\":\"BlockBeacon\",\"marker\":{\"color\":\"#00cc96\",\"pattern\":{\"shape\":\"\"}},\"name\":\"BlockBeacon\",\"offsetgroup\":\"BlockBeacon\",\"orientation\":\"v\",\"showlegend\":true,\"textposition\":\"auto\",\"x\":[\"web\"],\"xaxis\":\"x\",\"y\":[500000],\"yaxis\":\"y\",\"type\":\"bar\"},{\"alignmentgroup\":\"True\",\"hovertemplate\":\"name=BookFresh<br>category_code=%{x}<br>funding=%{y}<extra></extra>\",\"legendgroup\":\"BookFresh\",\"marker\":{\"color\":\"#ab63fa\",\"pattern\":{\"shape\":\"\"}},\"name\":\"BookFresh\",\"offsetgroup\":\"BookFresh\",\"orientation\":\"v\",\"showlegend\":true,\"textposition\":\"auto\",\"x\":[\"web\"],\"xaxis\":\"x\",\"y\":[500000],\"yaxis\":\"y\",\"type\":\"bar\"},{\"alignmentgroup\":\"True\",\"hovertemplate\":\"name=CafeBots<br>category_code=%{x}<br>funding=%{y}<extra></extra>\",\"legendgroup\":\"CafeBots\",\"marker\":{\"color\":\"#FFA15A\",\"pattern\":{\"shape\":\"\"}},\"name\":\"CafeBots\",\"offsetgroup\":\"CafeBots\",\"orientation\":\"v\",\"showlegend\":true,\"textposition\":\"auto\",\"x\":[\"web\"],\"xaxis\":\"x\",\"y\":[5000000],\"yaxis\":\"y\",\"type\":\"bar\"},{\"alignmentgroup\":\"True\",\"hovertemplate\":\"name=CakeStyle<br>category_code=%{x}<br>funding=%{y}<extra></extra>\",\"legendgroup\":\"CakeStyle\",\"marker\":{\"color\":\"#19d3f3\",\"pattern\":{\"shape\":\"\"}},\"name\":\"CakeStyle\",\"offsetgroup\":\"CakeStyle\",\"orientation\":\"v\",\"showlegend\":true,\"textposition\":\"auto\",\"x\":[\"web\"],\"xaxis\":\"x\",\"y\":[1000000],\"yaxis\":\"y\",\"type\":\"bar\"},{\"alignmentgroup\":\"True\",\"hovertemplate\":\"name=Center'd<br>category_code=%{x}<br>funding=%{y}<extra></extra>\",\"legendgroup\":\"Center'd\",\"marker\":{\"color\":\"#FF6692\",\"pattern\":{\"shape\":\"\"}},\"name\":\"Center'd\",\"offsetgroup\":\"Center'd\",\"orientation\":\"v\",\"showlegend\":true,\"textposition\":\"auto\",\"x\":[\"web\"],\"xaxis\":\"x\",\"y\":[10400000],\"yaxis\":\"y\",\"type\":\"bar\"},{\"alignmentgroup\":\"True\",\"hovertemplate\":\"name=Clever Sense<br>category_code=%{x}<br>funding=%{y}<extra></extra>\",\"legendgroup\":\"Clever Sense\",\"marker\":{\"color\":\"#B6E880\",\"pattern\":{\"shape\":\"\"}},\"name\":\"Clever Sense\",\"offsetgroup\":\"Clever Sense\",\"orientation\":\"v\",\"showlegend\":true,\"textposition\":\"auto\",\"x\":[\"web\"],\"xaxis\":\"x\",\"y\":[2000000],\"yaxis\":\"y\",\"type\":\"bar\"},{\"alignmentgroup\":\"True\",\"hovertemplate\":\"name=Consorte Media<br>category_code=%{x}<br>funding=%{y}<extra></extra>\",\"legendgroup\":\"Consorte Media\",\"marker\":{\"color\":\"#FF97FF\",\"pattern\":{\"shape\":\"\"}},\"name\":\"Consorte Media\",\"offsetgroup\":\"Consorte Media\",\"orientation\":\"v\",\"showlegend\":true,\"textposition\":\"auto\",\"x\":[\"web\"],\"xaxis\":\"x\",\"y\":[7000000],\"yaxis\":\"y\",\"type\":\"bar\"},{\"alignmentgroup\":\"True\",\"hovertemplate\":\"name=Cozi Group<br>category_code=%{x}<br>funding=%{y}<extra></extra>\",\"legendgroup\":\"Cozi Group\",\"marker\":{\"color\":\"#FECB52\",\"pattern\":{\"shape\":\"\"}},\"name\":\"Cozi Group\",\"offsetgroup\":\"Cozi Group\",\"orientation\":\"v\",\"showlegend\":true,\"textposition\":\"auto\",\"x\":[\"web\"],\"xaxis\":\"x\",\"y\":[26390819],\"yaxis\":\"y\",\"type\":\"bar\"},{\"alignmentgroup\":\"True\",\"hovertemplate\":\"name=Cramster<br>category_code=%{x}<br>funding=%{y}<extra></extra>\",\"legendgroup\":\"Cramster\",\"marker\":{\"color\":\"#636efa\",\"pattern\":{\"shape\":\"\"}},\"name\":\"Cramster\",\"offsetgroup\":\"Cramster\",\"orientation\":\"v\",\"showlegend\":true,\"textposition\":\"auto\",\"x\":[\"web\"],\"xaxis\":\"x\",\"y\":[9000000],\"yaxis\":\"y\",\"type\":\"bar\"},{\"alignmentgroup\":\"True\",\"hovertemplate\":\"name=DailyBurn<br>category_code=%{x}<br>funding=%{y}<extra></extra>\",\"legendgroup\":\"DailyBurn\",\"marker\":{\"color\":\"#EF553B\",\"pattern\":{\"shape\":\"\"}},\"name\":\"DailyBurn\",\"offsetgroup\":\"DailyBurn\",\"orientation\":\"v\",\"showlegend\":true,\"textposition\":\"auto\",\"x\":[\"web\"],\"xaxis\":\"x\",\"y\":[540000],\"yaxis\":\"y\",\"type\":\"bar\"},{\"alignmentgroup\":\"True\",\"hovertemplate\":\"name=DailyStrength<br>category_code=%{x}<br>funding=%{y}<extra></extra>\",\"legendgroup\":\"DailyStrength\",\"marker\":{\"color\":\"#00cc96\",\"pattern\":{\"shape\":\"\"}},\"name\":\"DailyStrength\",\"offsetgroup\":\"DailyStrength\",\"orientation\":\"v\",\"showlegend\":true,\"textposition\":\"auto\",\"x\":[\"web\"],\"xaxis\":\"x\",\"y\":[5000000],\"yaxis\":\"y\",\"type\":\"bar\"},{\"alignmentgroup\":\"True\",\"hovertemplate\":\"name=Define My Style<br>category_code=%{x}<br>funding=%{y}<extra></extra>\",\"legendgroup\":\"Define My Style\",\"marker\":{\"color\":\"#ab63fa\",\"pattern\":{\"shape\":\"\"}},\"name\":\"Define My Style\",\"offsetgroup\":\"Define My Style\",\"orientation\":\"v\",\"showlegend\":true,\"textposition\":\"auto\",\"x\":[\"web\"],\"xaxis\":\"x\",\"y\":[690000],\"yaxis\":\"y\",\"type\":\"bar\"},{\"alignmentgroup\":\"True\",\"hovertemplate\":\"name=Dimdim<br>category_code=%{x}<br>funding=%{y}<extra></extra>\",\"legendgroup\":\"Dimdim\",\"marker\":{\"color\":\"#FFA15A\",\"pattern\":{\"shape\":\"\"}},\"name\":\"Dimdim\",\"offsetgroup\":\"Dimdim\",\"orientation\":\"v\",\"showlegend\":true,\"textposition\":\"auto\",\"x\":[\"web\"],\"xaxis\":\"x\",\"y\":[8400000],\"yaxis\":\"y\",\"type\":\"bar\"},{\"alignmentgroup\":\"True\",\"hovertemplate\":\"name=DocVerse<br>category_code=%{x}<br>funding=%{y}<extra></extra>\",\"legendgroup\":\"DocVerse\",\"marker\":{\"color\":\"#19d3f3\",\"pattern\":{\"shape\":\"\"}},\"name\":\"DocVerse\",\"offsetgroup\":\"DocVerse\",\"orientation\":\"v\",\"showlegend\":true,\"textposition\":\"auto\",\"x\":[\"web\"],\"xaxis\":\"x\",\"y\":[1300000],\"yaxis\":\"y\",\"type\":\"bar\"},{\"alignmentgroup\":\"True\",\"hovertemplate\":\"name=Docstoc<br>category_code=%{x}<br>funding=%{y}<extra></extra>\",\"legendgroup\":\"Docstoc\",\"marker\":{\"color\":\"#FF6692\",\"pattern\":{\"shape\":\"\"}},\"name\":\"Docstoc\",\"offsetgroup\":\"Docstoc\",\"orientation\":\"v\",\"showlegend\":true,\"textposition\":\"auto\",\"x\":[\"web\"],\"xaxis\":\"x\",\"y\":[4000000],\"yaxis\":\"y\",\"type\":\"bar\"},{\"alignmentgroup\":\"True\",\"hovertemplate\":\"name=Doostang<br>category_code=%{x}<br>funding=%{y}<extra></extra>\",\"legendgroup\":\"Doostang\",\"marker\":{\"color\":\"#B6E880\",\"pattern\":{\"shape\":\"\"}},\"name\":\"Doostang\",\"offsetgroup\":\"Doostang\",\"orientation\":\"v\",\"showlegend\":true,\"textposition\":\"auto\",\"x\":[\"web\"],\"xaxis\":\"x\",\"y\":[5750000],\"yaxis\":\"y\",\"type\":\"bar\"},{\"alignmentgroup\":\"True\",\"hovertemplate\":\"name=EQAL<br>category_code=%{x}<br>funding=%{y}<extra></extra>\",\"legendgroup\":\"EQAL\",\"marker\":{\"color\":\"#FF97FF\",\"pattern\":{\"shape\":\"\"}},\"name\":\"EQAL\",\"offsetgroup\":\"EQAL\",\"orientation\":\"v\",\"showlegend\":true,\"textposition\":\"auto\",\"x\":[\"web\"],\"xaxis\":\"x\",\"y\":[6875000],\"yaxis\":\"y\",\"type\":\"bar\"},{\"alignmentgroup\":\"True\",\"hovertemplate\":\"name=EchoSign<br>category_code=%{x}<br>funding=%{y}<extra></extra>\",\"legendgroup\":\"EchoSign\",\"marker\":{\"color\":\"#FECB52\",\"pattern\":{\"shape\":\"\"}},\"name\":\"EchoSign\",\"offsetgroup\":\"EchoSign\",\"orientation\":\"v\",\"showlegend\":true,\"textposition\":\"auto\",\"x\":[\"web\"],\"xaxis\":\"x\",\"y\":[8500000],\"yaxis\":\"y\",\"type\":\"bar\"},{\"alignmentgroup\":\"True\",\"hovertemplate\":\"name=Etology<br>category_code=%{x}<br>funding=%{y}<extra></extra>\",\"legendgroup\":\"Etology\",\"marker\":{\"color\":\"#636efa\",\"pattern\":{\"shape\":\"\"}},\"name\":\"Etology\",\"offsetgroup\":\"Etology\",\"orientation\":\"v\",\"showlegend\":true,\"textposition\":\"auto\",\"x\":[\"web\"],\"xaxis\":\"x\",\"y\":[4000000],\"yaxis\":\"y\",\"type\":\"bar\"},{\"alignmentgroup\":\"True\",\"hovertemplate\":\"name=Eyeona<br>category_code=%{x}<br>funding=%{y}<extra></extra>\",\"legendgroup\":\"Eyeona\",\"marker\":{\"color\":\"#EF553B\",\"pattern\":{\"shape\":\"\"}},\"name\":\"Eyeona\",\"offsetgroup\":\"Eyeona\",\"orientation\":\"v\",\"showlegend\":true,\"textposition\":\"auto\",\"x\":[\"web\"],\"xaxis\":\"x\",\"y\":[2000000],\"yaxis\":\"y\",\"type\":\"bar\"},{\"alignmentgroup\":\"True\",\"hovertemplate\":\"name=Factery<br>category_code=%{x}<br>funding=%{y}<extra></extra>\",\"legendgroup\":\"Factery\",\"marker\":{\"color\":\"#00cc96\",\"pattern\":{\"shape\":\"\"}},\"name\":\"Factery\",\"offsetgroup\":\"Factery\",\"orientation\":\"v\",\"showlegend\":true,\"textposition\":\"auto\",\"x\":[\"web\"],\"xaxis\":\"x\",\"y\":[1200000],\"yaxis\":\"y\",\"type\":\"bar\"},{\"alignmentgroup\":\"True\",\"hovertemplate\":\"name=Faves<br>category_code=%{x}<br>funding=%{y}<extra></extra>\",\"legendgroup\":\"Faves\",\"marker\":{\"color\":\"#ab63fa\",\"pattern\":{\"shape\":\"\"}},\"name\":\"Faves\",\"offsetgroup\":\"Faves\",\"orientation\":\"v\",\"showlegend\":true,\"textposition\":\"auto\",\"x\":[\"web\"],\"xaxis\":\"x\",\"y\":[1500000],\"yaxis\":\"y\",\"type\":\"bar\"},{\"alignmentgroup\":\"True\",\"hovertemplate\":\"name=FeedBurner<br>category_code=%{x}<br>funding=%{y}<extra></extra>\",\"legendgroup\":\"FeedBurner\",\"marker\":{\"color\":\"#FFA15A\",\"pattern\":{\"shape\":\"\"}},\"name\":\"FeedBurner\",\"offsetgroup\":\"FeedBurner\",\"orientation\":\"v\",\"showlegend\":true,\"textposition\":\"auto\",\"x\":[\"web\"],\"xaxis\":\"x\",\"y\":[8000000],\"yaxis\":\"y\",\"type\":\"bar\"},{\"alignmentgroup\":\"True\",\"hovertemplate\":\"name=Feedtrace<br>category_code=%{x}<br>funding=%{y}<extra></extra>\",\"legendgroup\":\"Feedtrace\",\"marker\":{\"color\":\"#19d3f3\",\"pattern\":{\"shape\":\"\"}},\"name\":\"Feedtrace\",\"offsetgroup\":\"Feedtrace\",\"orientation\":\"v\",\"showlegend\":true,\"textposition\":\"auto\",\"x\":[\"web\"],\"xaxis\":\"x\",\"y\":[130000],\"yaxis\":\"y\",\"type\":\"bar\"},{\"alignmentgroup\":\"True\",\"hovertemplate\":\"name=FiveRuns<br>category_code=%{x}<br>funding=%{y}<extra></extra>\",\"legendgroup\":\"FiveRuns\",\"marker\":{\"color\":\"#FF6692\",\"pattern\":{\"shape\":\"\"}},\"name\":\"FiveRuns\",\"offsetgroup\":\"FiveRuns\",\"orientation\":\"v\",\"showlegend\":true,\"textposition\":\"auto\",\"x\":[\"web\"],\"xaxis\":\"x\",\"y\":[9200000],\"yaxis\":\"y\",\"type\":\"bar\"},{\"alignmentgroup\":\"True\",\"hovertemplate\":\"name=FlipKey<br>category_code=%{x}<br>funding=%{y}<extra></extra>\",\"legendgroup\":\"FlipKey\",\"marker\":{\"color\":\"#B6E880\",\"pattern\":{\"shape\":\"\"}},\"name\":\"FlipKey\",\"offsetgroup\":\"FlipKey\",\"orientation\":\"v\",\"showlegend\":true,\"textposition\":\"auto\",\"x\":[\"web\"],\"xaxis\":\"x\",\"y\":[500000],\"yaxis\":\"y\",\"type\":\"bar\"},{\"alignmentgroup\":\"True\",\"hovertemplate\":\"name=Flixster<br>category_code=%{x}<br>funding=%{y}<extra></extra>\",\"legendgroup\":\"Flixster\",\"marker\":{\"color\":\"#FF97FF\",\"pattern\":{\"shape\":\"\"}},\"name\":\"Flixster\",\"offsetgroup\":\"Flixster\",\"orientation\":\"v\",\"showlegend\":true,\"textposition\":\"auto\",\"x\":[\"web\"],\"xaxis\":\"x\",\"y\":[7175000],\"yaxis\":\"y\",\"type\":\"bar\"},{\"alignmentgroup\":\"True\",\"hovertemplate\":\"name=Flock<br>category_code=%{x}<br>funding=%{y}<extra></extra>\",\"legendgroup\":\"Flock\",\"marker\":{\"color\":\"#FECB52\",\"pattern\":{\"shape\":\"\"}},\"name\":\"Flock\",\"offsetgroup\":\"Flock\",\"orientation\":\"v\",\"showlegend\":true,\"textposition\":\"auto\",\"x\":[\"web\"],\"xaxis\":\"x\",\"y\":[28300000],\"yaxis\":\"y\",\"type\":\"bar\"},{\"alignmentgroup\":\"True\",\"hovertemplate\":\"name=Flowgram<br>category_code=%{x}<br>funding=%{y}<extra></extra>\",\"legendgroup\":\"Flowgram\",\"marker\":{\"color\":\"#636efa\",\"pattern\":{\"shape\":\"\"}},\"name\":\"Flowgram\",\"offsetgroup\":\"Flowgram\",\"orientation\":\"v\",\"showlegend\":true,\"textposition\":\"auto\",\"x\":[\"web\"],\"xaxis\":\"x\",\"y\":[1300000],\"yaxis\":\"y\",\"type\":\"bar\"},{\"alignmentgroup\":\"True\",\"hovertemplate\":\"name=Fluther<br>category_code=%{x}<br>funding=%{y}<extra></extra>\",\"legendgroup\":\"Fluther\",\"marker\":{\"color\":\"#EF553B\",\"pattern\":{\"shape\":\"\"}},\"name\":\"Fluther\",\"offsetgroup\":\"Fluther\",\"orientation\":\"v\",\"showlegend\":true,\"textposition\":\"auto\",\"x\":[\"web\"],\"xaxis\":\"x\",\"y\":[600000],\"yaxis\":\"y\",\"type\":\"bar\"},{\"alignmentgroup\":\"True\",\"hovertemplate\":\"name=Fondu<br>category_code=%{x}<br>funding=%{y}<extra></extra>\",\"legendgroup\":\"Fondu\",\"marker\":{\"color\":\"#00cc96\",\"pattern\":{\"shape\":\"\"}},\"name\":\"Fondu\",\"offsetgroup\":\"Fondu\",\"orientation\":\"v\",\"showlegend\":true,\"textposition\":\"auto\",\"x\":[\"web\"],\"xaxis\":\"x\",\"y\":[575000],\"yaxis\":\"y\",\"type\":\"bar\"},{\"alignmentgroup\":\"True\",\"hovertemplate\":\"name=Footnote<br>category_code=%{x}<br>funding=%{y}<extra></extra>\",\"legendgroup\":\"Footnote\",\"marker\":{\"color\":\"#ab63fa\",\"pattern\":{\"shape\":\"\"}},\"name\":\"Footnote\",\"offsetgroup\":\"Footnote\",\"orientation\":\"v\",\"showlegend\":true,\"textposition\":\"auto\",\"x\":[\"web\"],\"xaxis\":\"x\",\"y\":[10000000],\"yaxis\":\"y\",\"type\":\"bar\"},{\"alignmentgroup\":\"True\",\"hovertemplate\":\"name=Forrst<br>category_code=%{x}<br>funding=%{y}<extra></extra>\",\"legendgroup\":\"Forrst\",\"marker\":{\"color\":\"#FFA15A\",\"pattern\":{\"shape\":\"\"}},\"name\":\"Forrst\",\"offsetgroup\":\"Forrst\",\"orientation\":\"v\",\"showlegend\":true,\"textposition\":\"auto\",\"x\":[\"web\"],\"xaxis\":\"x\",\"y\":[205000],\"yaxis\":\"y\",\"type\":\"bar\"},{\"alignmentgroup\":\"True\",\"hovertemplate\":\"name=Friendsignia<br>category_code=%{x}<br>funding=%{y}<extra></extra>\",\"legendgroup\":\"Friendsignia\",\"marker\":{\"color\":\"#19d3f3\",\"pattern\":{\"shape\":\"\"}},\"name\":\"Friendsignia\",\"offsetgroup\":\"Friendsignia\",\"orientation\":\"v\",\"showlegend\":true,\"textposition\":\"auto\",\"x\":[\"web\"],\"xaxis\":\"x\",\"y\":[15000],\"yaxis\":\"y\",\"type\":\"bar\"},{\"alignmentgroup\":\"True\",\"hovertemplate\":\"name=GeekStatus<br>category_code=%{x}<br>funding=%{y}<extra></extra>\",\"legendgroup\":\"GeekStatus\",\"marker\":{\"color\":\"#FF6692\",\"pattern\":{\"shape\":\"\"}},\"name\":\"GeekStatus\",\"offsetgroup\":\"GeekStatus\",\"orientation\":\"v\",\"showlegend\":true,\"textposition\":\"auto\",\"x\":[\"web\"],\"xaxis\":\"x\",\"y\":[435953],\"yaxis\":\"y\",\"type\":\"bar\"},{\"alignmentgroup\":\"True\",\"hovertemplate\":\"name=Geni<br>category_code=%{x}<br>funding=%{y}<extra></extra>\",\"legendgroup\":\"Geni\",\"marker\":{\"color\":\"#B6E880\",\"pattern\":{\"shape\":\"\"}},\"name\":\"Geni\",\"offsetgroup\":\"Geni\",\"orientation\":\"v\",\"showlegend\":true,\"textposition\":\"auto\",\"x\":[\"web\"],\"xaxis\":\"x\",\"y\":[16500000],\"yaxis\":\"y\",\"type\":\"bar\"},{\"alignmentgroup\":\"True\",\"hovertemplate\":\"name=GetBack<br>category_code=%{x}<br>funding=%{y}<extra></extra>\",\"legendgroup\":\"GetBack\",\"marker\":{\"color\":\"#FF97FF\",\"pattern\":{\"shape\":\"\"}},\"name\":\"GetBack\",\"offsetgroup\":\"GetBack\",\"orientation\":\"v\",\"showlegend\":true,\"textposition\":\"auto\",\"x\":[\"web\"],\"xaxis\":\"x\",\"y\":[1700000],\"yaxis\":\"y\",\"type\":\"bar\"},{\"alignmentgroup\":\"True\",\"hovertemplate\":\"name=Giant Realm<br>category_code=%{x}<br>funding=%{y}<extra></extra>\",\"legendgroup\":\"Giant Realm\",\"marker\":{\"color\":\"#FECB52\",\"pattern\":{\"shape\":\"\"}},\"name\":\"Giant Realm\",\"offsetgroup\":\"Giant Realm\",\"orientation\":\"v\",\"showlegend\":true,\"textposition\":\"auto\",\"x\":[\"web\"],\"xaxis\":\"x\",\"y\":[5500000],\"yaxis\":\"y\",\"type\":\"bar\"},{\"alignmentgroup\":\"True\",\"hovertemplate\":\"name=GoPollGo<br>category_code=%{x}<br>funding=%{y}<extra></extra>\",\"legendgroup\":\"GoPollGo\",\"marker\":{\"color\":\"#636efa\",\"pattern\":{\"shape\":\"\"}},\"name\":\"GoPollGo\",\"offsetgroup\":\"GoPollGo\",\"orientation\":\"v\",\"showlegend\":true,\"textposition\":\"auto\",\"x\":[\"web\"],\"xaxis\":\"x\",\"y\":[425000],\"yaxis\":\"y\",\"type\":\"bar\"},{\"alignmentgroup\":\"True\",\"hovertemplate\":\"name=GoodGuide<br>category_code=%{x}<br>funding=%{y}<extra></extra>\",\"legendgroup\":\"GoodGuide\",\"marker\":{\"color\":\"#EF553B\",\"pattern\":{\"shape\":\"\"}},\"name\":\"GoodGuide\",\"offsetgroup\":\"GoodGuide\",\"orientation\":\"v\",\"showlegend\":true,\"textposition\":\"auto\",\"x\":[\"web\"],\"xaxis\":\"x\",\"y\":[14229998],\"yaxis\":\"y\",\"type\":\"bar\"},{\"alignmentgroup\":\"True\",\"hovertemplate\":\"name=Goodreads<br>category_code=%{x}<br>funding=%{y}<extra></extra>\",\"legendgroup\":\"Goodreads\",\"marker\":{\"color\":\"#00cc96\",\"pattern\":{\"shape\":\"\"}},\"name\":\"Goodreads\",\"offsetgroup\":\"Goodreads\",\"orientation\":\"v\",\"showlegend\":true,\"textposition\":\"auto\",\"x\":[\"web\"],\"xaxis\":\"x\",\"y\":[2750000],\"yaxis\":\"y\",\"type\":\"bar\"},{\"alignmentgroup\":\"True\",\"hovertemplate\":\"name=Gotuit<br>category_code=%{x}<br>funding=%{y}<extra></extra>\",\"legendgroup\":\"Gotuit\",\"marker\":{\"color\":\"#ab63fa\",\"pattern\":{\"shape\":\"\"}},\"name\":\"Gotuit\",\"offsetgroup\":\"Gotuit\",\"orientation\":\"v\",\"showlegend\":true,\"textposition\":\"auto\",\"x\":[\"web\"],\"xaxis\":\"x\",\"y\":[16000000],\"yaxis\":\"y\",\"type\":\"bar\"},{\"alignmentgroup\":\"True\",\"hovertemplate\":\"name=Gowalla<br>category_code=%{x}<br>funding=%{y}<extra></extra>\",\"legendgroup\":\"Gowalla\",\"marker\":{\"color\":\"#FFA15A\",\"pattern\":{\"shape\":\"\"}},\"name\":\"Gowalla\",\"offsetgroup\":\"Gowalla\",\"orientation\":\"v\",\"showlegend\":true,\"textposition\":\"auto\",\"x\":[\"web\"],\"xaxis\":\"x\",\"y\":[10400001],\"yaxis\":\"y\",\"type\":\"bar\"},{\"alignmentgroup\":\"True\",\"hovertemplate\":\"name=HotPads<br>category_code=%{x}<br>funding=%{y}<extra></extra>\",\"legendgroup\":\"HotPads\",\"marker\":{\"color\":\"#19d3f3\",\"pattern\":{\"shape\":\"\"}},\"name\":\"HotPads\",\"offsetgroup\":\"HotPads\",\"orientation\":\"v\",\"showlegend\":true,\"textposition\":\"auto\",\"x\":[\"web\"],\"xaxis\":\"x\",\"y\":[2300000],\"yaxis\":\"y\",\"type\":\"bar\"},{\"alignmentgroup\":\"True\",\"hovertemplate\":\"name=Hotelicopter<br>category_code=%{x}<br>funding=%{y}<extra></extra>\",\"legendgroup\":\"Hotelicopter\",\"marker\":{\"color\":\"#FF6692\",\"pattern\":{\"shape\":\"\"}},\"name\":\"Hotelicopter\",\"offsetgroup\":\"Hotelicopter\",\"orientation\":\"v\",\"showlegend\":true,\"textposition\":\"auto\",\"x\":[\"web\"],\"xaxis\":\"x\",\"y\":[5000000],\"yaxis\":\"y\",\"type\":\"bar\"},{\"alignmentgroup\":\"True\",\"hovertemplate\":\"name=ID Analytics<br>category_code=%{x}<br>funding=%{y}<extra></extra>\",\"legendgroup\":\"ID Analytics\",\"marker\":{\"color\":\"#B6E880\",\"pattern\":{\"shape\":\"\"}},\"name\":\"ID Analytics\",\"offsetgroup\":\"ID Analytics\",\"orientation\":\"v\",\"showlegend\":true,\"textposition\":\"auto\",\"x\":[\"web\"],\"xaxis\":\"x\",\"y\":[35150000],\"yaxis\":\"y\",\"type\":\"bar\"},{\"alignmentgroup\":\"True\",\"hovertemplate\":\"name=Idooble<br>category_code=%{x}<br>funding=%{y}<extra></extra>\",\"legendgroup\":\"Idooble\",\"marker\":{\"color\":\"#FF97FF\",\"pattern\":{\"shape\":\"\"}},\"name\":\"Idooble\",\"offsetgroup\":\"Idooble\",\"orientation\":\"v\",\"showlegend\":true,\"textposition\":\"auto\",\"x\":[\"web\"],\"xaxis\":\"x\",\"y\":[400000],\"yaxis\":\"y\",\"type\":\"bar\"},{\"alignmentgroup\":\"True\",\"hovertemplate\":\"name=Indeed<br>category_code=%{x}<br>funding=%{y}<extra></extra>\",\"legendgroup\":\"Indeed\",\"marker\":{\"color\":\"#FECB52\",\"pattern\":{\"shape\":\"\"}},\"name\":\"Indeed\",\"offsetgroup\":\"Indeed\",\"orientation\":\"v\",\"showlegend\":true,\"textposition\":\"auto\",\"x\":[\"web\"],\"xaxis\":\"x\",\"y\":[5000000],\"yaxis\":\"y\",\"type\":\"bar\"},{\"alignmentgroup\":\"True\",\"hovertemplate\":\"name=Infinity Box<br>category_code=%{x}<br>funding=%{y}<extra></extra>\",\"legendgroup\":\"Infinity Box\",\"marker\":{\"color\":\"#636efa\",\"pattern\":{\"shape\":\"\"}},\"name\":\"Infinity Box\",\"offsetgroup\":\"Infinity Box\",\"orientation\":\"v\",\"showlegend\":true,\"textposition\":\"auto\",\"x\":[\"web\"],\"xaxis\":\"x\",\"y\":[118000],\"yaxis\":\"y\",\"type\":\"bar\"},{\"alignmentgroup\":\"True\",\"hovertemplate\":\"name=JackPot Rewards<br>category_code=%{x}<br>funding=%{y}<extra></extra>\",\"legendgroup\":\"JackPot Rewards\",\"marker\":{\"color\":\"#EF553B\",\"pattern\":{\"shape\":\"\"}},\"name\":\"JackPot Rewards\",\"offsetgroup\":\"JackPot Rewards\",\"orientation\":\"v\",\"showlegend\":true,\"textposition\":\"auto\",\"x\":[\"web\"],\"xaxis\":\"x\",\"y\":[16700000],\"yaxis\":\"y\",\"type\":\"bar\"},{\"alignmentgroup\":\"True\",\"hovertemplate\":\"name=Jobfox<br>category_code=%{x}<br>funding=%{y}<extra></extra>\",\"legendgroup\":\"Jobfox\",\"marker\":{\"color\":\"#00cc96\",\"pattern\":{\"shape\":\"\"}},\"name\":\"Jobfox\",\"offsetgroup\":\"Jobfox\",\"orientation\":\"v\",\"showlegend\":true,\"textposition\":\"auto\",\"x\":[\"web\"],\"xaxis\":\"x\",\"y\":[42000000],\"yaxis\":\"y\",\"type\":\"bar\"},{\"alignmentgroup\":\"True\",\"hovertemplate\":\"name=Jobs2Web<br>category_code=%{x}<br>funding=%{y}<extra></extra>\",\"legendgroup\":\"Jobs2Web\",\"marker\":{\"color\":\"#ab63fa\",\"pattern\":{\"shape\":\"\"}},\"name\":\"Jobs2Web\",\"offsetgroup\":\"Jobs2Web\",\"orientation\":\"v\",\"showlegend\":true,\"textposition\":\"auto\",\"x\":[\"web\"],\"xaxis\":\"x\",\"y\":[5550000],\"yaxis\":\"y\",\"type\":\"bar\"},{\"alignmentgroup\":\"True\",\"hovertemplate\":\"name=Kluster<br>category_code=%{x}<br>funding=%{y}<extra></extra>\",\"legendgroup\":\"Kluster\",\"marker\":{\"color\":\"#FFA15A\",\"pattern\":{\"shape\":\"\"}},\"name\":\"Kluster\",\"offsetgroup\":\"Kluster\",\"orientation\":\"v\",\"showlegend\":true,\"textposition\":\"auto\",\"x\":[\"web\"],\"xaxis\":\"x\",\"y\":[1000000],\"yaxis\":\"y\",\"type\":\"bar\"},{\"alignmentgroup\":\"True\",\"hovertemplate\":\"name=Kosmix<br>category_code=%{x}<br>funding=%{y}<extra></extra>\",\"legendgroup\":\"Kosmix\",\"marker\":{\"color\":\"#19d3f3\",\"pattern\":{\"shape\":\"\"}},\"name\":\"Kosmix\",\"offsetgroup\":\"Kosmix\",\"orientation\":\"v\",\"showlegend\":true,\"textposition\":\"auto\",\"x\":[\"web\"],\"xaxis\":\"x\",\"y\":[55000000],\"yaxis\":\"y\",\"type\":\"bar\"},{\"alignmentgroup\":\"True\",\"hovertemplate\":\"name=Krillion<br>category_code=%{x}<br>funding=%{y}<extra></extra>\",\"legendgroup\":\"Krillion\",\"marker\":{\"color\":\"#FF6692\",\"pattern\":{\"shape\":\"\"}},\"name\":\"Krillion\",\"offsetgroup\":\"Krillion\",\"orientation\":\"v\",\"showlegend\":true,\"textposition\":\"auto\",\"x\":[\"web\"],\"xaxis\":\"x\",\"y\":[9150000],\"yaxis\":\"y\",\"type\":\"bar\"},{\"alignmentgroup\":\"True\",\"hovertemplate\":\"name=Lifestander<br>category_code=%{x}<br>funding=%{y}<extra></extra>\",\"legendgroup\":\"Lifestander\",\"marker\":{\"color\":\"#B6E880\",\"pattern\":{\"shape\":\"\"}},\"name\":\"Lifestander\",\"offsetgroup\":\"Lifestander\",\"orientation\":\"v\",\"showlegend\":true,\"textposition\":\"auto\",\"x\":[\"web\"],\"xaxis\":\"x\",\"y\":[31000],\"yaxis\":\"y\",\"type\":\"bar\"},{\"alignmentgroup\":\"True\",\"hovertemplate\":\"name=LikeList<br>category_code=%{x}<br>funding=%{y}<extra></extra>\",\"legendgroup\":\"LikeList\",\"marker\":{\"color\":\"#FF97FF\",\"pattern\":{\"shape\":\"\"}},\"name\":\"LikeList\",\"offsetgroup\":\"LikeList\",\"orientation\":\"v\",\"showlegend\":true,\"textposition\":\"auto\",\"x\":[\"web\"],\"xaxis\":\"x\",\"y\":[5000000],\"yaxis\":\"y\",\"type\":\"bar\"},{\"alignmentgroup\":\"True\",\"hovertemplate\":\"name=Local Marketers<br>category_code=%{x}<br>funding=%{y}<extra></extra>\",\"legendgroup\":\"Local Marketers\",\"marker\":{\"color\":\"#FECB52\",\"pattern\":{\"shape\":\"\"}},\"name\":\"Local Marketers\",\"offsetgroup\":\"Local Marketers\",\"orientation\":\"v\",\"showlegend\":true,\"textposition\":\"auto\",\"x\":[\"web\"],\"xaxis\":\"x\",\"y\":[4100000],\"yaxis\":\"y\",\"type\":\"bar\"},{\"alignmentgroup\":\"True\",\"hovertemplate\":\"name=Localocracy<br>category_code=%{x}<br>funding=%{y}<extra></extra>\",\"legendgroup\":\"Localocracy\",\"marker\":{\"color\":\"#636efa\",\"pattern\":{\"shape\":\"\"}},\"name\":\"Localocracy\",\"offsetgroup\":\"Localocracy\",\"orientation\":\"v\",\"showlegend\":true,\"textposition\":\"auto\",\"x\":[\"web\"],\"xaxis\":\"x\",\"y\":[172500],\"yaxis\":\"y\",\"type\":\"bar\"},{\"alignmentgroup\":\"True\",\"hovertemplate\":\"name=Lolapps<br>category_code=%{x}<br>funding=%{y}<extra></extra>\",\"legendgroup\":\"Lolapps\",\"marker\":{\"color\":\"#EF553B\",\"pattern\":{\"shape\":\"\"}},\"name\":\"Lolapps\",\"offsetgroup\":\"Lolapps\",\"orientation\":\"v\",\"showlegend\":true,\"textposition\":\"auto\",\"x\":[\"web\"],\"xaxis\":\"x\",\"y\":[4000000],\"yaxis\":\"y\",\"type\":\"bar\"},{\"alignmentgroup\":\"True\",\"hovertemplate\":\"name=Lookery<br>category_code=%{x}<br>funding=%{y}<extra></extra>\",\"legendgroup\":\"Lookery\",\"marker\":{\"color\":\"#00cc96\",\"pattern\":{\"shape\":\"\"}},\"name\":\"Lookery\",\"offsetgroup\":\"Lookery\",\"orientation\":\"v\",\"showlegend\":true,\"textposition\":\"auto\",\"x\":[\"web\"],\"xaxis\":\"x\",\"y\":[3150000],\"yaxis\":\"y\",\"type\":\"bar\"},{\"alignmentgroup\":\"True\",\"hovertemplate\":\"name=Loosecubes<br>category_code=%{x}<br>funding=%{y}<extra></extra>\",\"legendgroup\":\"Loosecubes\",\"marker\":{\"color\":\"#ab63fa\",\"pattern\":{\"shape\":\"\"}},\"name\":\"Loosecubes\",\"offsetgroup\":\"Loosecubes\",\"orientation\":\"v\",\"showlegend\":true,\"textposition\":\"auto\",\"x\":[\"web\"],\"xaxis\":\"x\",\"y\":[9030000],\"yaxis\":\"y\",\"type\":\"bar\"},{\"alignmentgroup\":\"True\",\"hovertemplate\":\"name=Loud3r<br>category_code=%{x}<br>funding=%{y}<extra></extra>\",\"legendgroup\":\"Loud3r\",\"marker\":{\"color\":\"#FFA15A\",\"pattern\":{\"shape\":\"\"}},\"name\":\"Loud3r\",\"offsetgroup\":\"Loud3r\",\"orientation\":\"v\",\"showlegend\":true,\"textposition\":\"auto\",\"x\":[\"web\"],\"xaxis\":\"x\",\"y\":[3529175],\"yaxis\":\"y\",\"type\":\"bar\"},{\"alignmentgroup\":\"True\",\"hovertemplate\":\"name=Loudcaster<br>category_code=%{x}<br>funding=%{y}<extra></extra>\",\"legendgroup\":\"Loudcaster\",\"marker\":{\"color\":\"#19d3f3\",\"pattern\":{\"shape\":\"\"}},\"name\":\"Loudcaster\",\"offsetgroup\":\"Loudcaster\",\"orientation\":\"v\",\"showlegend\":true,\"textposition\":\"auto\",\"x\":[\"web\"],\"xaxis\":\"x\",\"y\":[53000],\"yaxis\":\"y\",\"type\":\"bar\"},{\"alignmentgroup\":\"True\",\"hovertemplate\":\"name=Mail.com Media Corporation<br>category_code=%{x}<br>funding=%{y}<extra></extra>\",\"legendgroup\":\"Mail.com Media Corporation\",\"marker\":{\"color\":\"#FF6692\",\"pattern\":{\"shape\":\"\"}},\"name\":\"Mail.com Media Corporation\",\"offsetgroup\":\"Mail.com Media Corporation\",\"orientation\":\"v\",\"showlegend\":true,\"textposition\":\"auto\",\"x\":[\"web\"],\"xaxis\":\"x\",\"y\":[35000000],\"yaxis\":\"y\",\"type\":\"bar\"},{\"alignmentgroup\":\"True\",\"hovertemplate\":\"name=Media Chaperone<br>category_code=%{x}<br>funding=%{y}<extra></extra>\",\"legendgroup\":\"Media Chaperone\",\"marker\":{\"color\":\"#B6E880\",\"pattern\":{\"shape\":\"\"}},\"name\":\"Media Chaperone\",\"offsetgroup\":\"Media Chaperone\",\"orientation\":\"v\",\"showlegend\":true,\"textposition\":\"auto\",\"x\":[\"web\"],\"xaxis\":\"x\",\"y\":[1050000],\"yaxis\":\"y\",\"type\":\"bar\"},{\"alignmentgroup\":\"True\",\"hovertemplate\":\"name=Meebo<br>category_code=%{x}<br>funding=%{y}<extra></extra>\",\"legendgroup\":\"Meebo\",\"marker\":{\"color\":\"#FF97FF\",\"pattern\":{\"shape\":\"\"}},\"name\":\"Meebo\",\"offsetgroup\":\"Meebo\",\"orientation\":\"v\",\"showlegend\":true,\"textposition\":\"auto\",\"x\":[\"web\"],\"xaxis\":\"x\",\"y\":[70000000],\"yaxis\":\"y\",\"type\":\"bar\"},{\"alignmentgroup\":\"True\",\"hovertemplate\":\"name=MeetMe, Inc.<br>category_code=%{x}<br>funding=%{y}<extra></extra>\",\"legendgroup\":\"MeetMe, Inc.\",\"marker\":{\"color\":\"#FECB52\",\"pattern\":{\"shape\":\"\"}},\"name\":\"MeetMe, Inc.\",\"offsetgroup\":\"MeetMe, Inc.\",\"orientation\":\"v\",\"showlegend\":true,\"textposition\":\"auto\",\"x\":[\"web\"],\"xaxis\":\"x\",\"y\":[17100000],\"yaxis\":\"y\",\"type\":\"bar\"},{\"alignmentgroup\":\"True\",\"hovertemplate\":\"name=MerchantCircle<br>category_code=%{x}<br>funding=%{y}<extra></extra>\",\"legendgroup\":\"MerchantCircle\",\"marker\":{\"color\":\"#636efa\",\"pattern\":{\"shape\":\"\"}},\"name\":\"MerchantCircle\",\"offsetgroup\":\"MerchantCircle\",\"orientation\":\"v\",\"showlegend\":true,\"textposition\":\"auto\",\"x\":[\"web\"],\"xaxis\":\"x\",\"y\":[14300000],\"yaxis\":\"y\",\"type\":\"bar\"},{\"alignmentgroup\":\"True\",\"hovertemplate\":\"name=Metaweb Technologies<br>category_code=%{x}<br>funding=%{y}<extra></extra>\",\"legendgroup\":\"Metaweb Technologies\",\"marker\":{\"color\":\"#EF553B\",\"pattern\":{\"shape\":\"\"}},\"name\":\"Metaweb Technologies\",\"offsetgroup\":\"Metaweb Technologies\",\"orientation\":\"v\",\"showlegend\":true,\"textposition\":\"auto\",\"x\":[\"web\"],\"xaxis\":\"x\",\"y\":[57000000],\"yaxis\":\"y\",\"type\":\"bar\"},{\"alignmentgroup\":\"True\",\"hovertemplate\":\"name=Milo<br>category_code=%{x}<br>funding=%{y}<extra></extra>\",\"legendgroup\":\"Milo\",\"marker\":{\"color\":\"#00cc96\",\"pattern\":{\"shape\":\"\"}},\"name\":\"Milo\",\"offsetgroup\":\"Milo\",\"orientation\":\"v\",\"showlegend\":true,\"textposition\":\"auto\",\"x\":[\"web\"],\"xaxis\":\"x\",\"y\":[4950000],\"yaxis\":\"y\",\"type\":\"bar\"},{\"alignmentgroup\":\"True\",\"hovertemplate\":\"name=Minekey<br>category_code=%{x}<br>funding=%{y}<extra></extra>\",\"legendgroup\":\"Minekey\",\"marker\":{\"color\":\"#ab63fa\",\"pattern\":{\"shape\":\"\"}},\"name\":\"Minekey\",\"offsetgroup\":\"Minekey\",\"orientation\":\"v\",\"showlegend\":true,\"textposition\":\"auto\",\"x\":[\"web\"],\"xaxis\":\"x\",\"y\":[3600000],\"yaxis\":\"y\",\"type\":\"bar\"},{\"alignmentgroup\":\"True\",\"hovertemplate\":\"name=Moonshoot<br>category_code=%{x}<br>funding=%{y}<extra></extra>\",\"legendgroup\":\"Moonshoot\",\"marker\":{\"color\":\"#FFA15A\",\"pattern\":{\"shape\":\"\"}},\"name\":\"Moonshoot\",\"offsetgroup\":\"Moonshoot\",\"orientation\":\"v\",\"showlegend\":true,\"textposition\":\"auto\",\"x\":[\"web\"],\"xaxis\":\"x\",\"y\":[6760000],\"yaxis\":\"y\",\"type\":\"bar\"},{\"alignmentgroup\":\"True\",\"hovertemplate\":\"name=MyEnergy<br>category_code=%{x}<br>funding=%{y}<extra></extra>\",\"legendgroup\":\"MyEnergy\",\"marker\":{\"color\":\"#19d3f3\",\"pattern\":{\"shape\":\"\"}},\"name\":\"MyEnergy\",\"offsetgroup\":\"MyEnergy\",\"orientation\":\"v\",\"showlegend\":true,\"textposition\":\"auto\",\"x\":[\"web\"],\"xaxis\":\"x\",\"y\":[4000000],\"yaxis\":\"y\",\"type\":\"bar\"},{\"alignmentgroup\":\"True\",\"hovertemplate\":\"name=Neopolitan Networks<br>category_code=%{x}<br>funding=%{y}<extra></extra>\",\"legendgroup\":\"Neopolitan Networks\",\"marker\":{\"color\":\"#FF6692\",\"pattern\":{\"shape\":\"\"}},\"name\":\"Neopolitan Networks\",\"offsetgroup\":\"Neopolitan Networks\",\"orientation\":\"v\",\"showlegend\":true,\"textposition\":\"auto\",\"x\":[\"web\"],\"xaxis\":\"x\",\"y\":[3170000],\"yaxis\":\"y\",\"type\":\"bar\"},{\"alignmentgroup\":\"True\",\"hovertemplate\":\"name=Nettle<br>category_code=%{x}<br>funding=%{y}<extra></extra>\",\"legendgroup\":\"Nettle\",\"marker\":{\"color\":\"#B6E880\",\"pattern\":{\"shape\":\"\"}},\"name\":\"Nettle\",\"offsetgroup\":\"Nettle\",\"orientation\":\"v\",\"showlegend\":true,\"textposition\":\"auto\",\"x\":[\"web\"],\"xaxis\":\"x\",\"y\":[500000],\"yaxis\":\"y\",\"type\":\"bar\"},{\"alignmentgroup\":\"True\",\"hovertemplate\":\"name=Next New Networks<br>category_code=%{x}<br>funding=%{y}<extra></extra>\",\"legendgroup\":\"Next New Networks\",\"marker\":{\"color\":\"#FF97FF\",\"pattern\":{\"shape\":\"\"}},\"name\":\"Next New Networks\",\"offsetgroup\":\"Next New Networks\",\"orientation\":\"v\",\"showlegend\":true,\"textposition\":\"auto\",\"x\":[\"web\"],\"xaxis\":\"x\",\"y\":[27063781],\"yaxis\":\"y\",\"type\":\"bar\"},{\"alignmentgroup\":\"True\",\"hovertemplate\":\"name=Offermatic<br>category_code=%{x}<br>funding=%{y}<extra></extra>\",\"legendgroup\":\"Offermatic\",\"marker\":{\"color\":\"#FECB52\",\"pattern\":{\"shape\":\"\"}},\"name\":\"Offermatic\",\"offsetgroup\":\"Offermatic\",\"orientation\":\"v\",\"showlegend\":true,\"textposition\":\"auto\",\"x\":[\"web\"],\"xaxis\":\"x\",\"y\":[4500000],\"yaxis\":\"y\",\"type\":\"bar\"},{\"alignmentgroup\":\"True\",\"hovertemplate\":\"name=Outside.in<br>category_code=%{x}<br>funding=%{y}<extra></extra>\",\"legendgroup\":\"Outside.in\",\"marker\":{\"color\":\"#636efa\",\"pattern\":{\"shape\":\"\"}},\"name\":\"Outside.in\",\"offsetgroup\":\"Outside.in\",\"orientation\":\"v\",\"showlegend\":true,\"textposition\":\"auto\",\"x\":[\"web\"],\"xaxis\":\"x\",\"y\":[14400000],\"yaxis\":\"y\",\"type\":\"bar\"},{\"alignmentgroup\":\"True\",\"hovertemplate\":\"name=Photobucket<br>category_code=%{x}<br>funding=%{y}<extra></extra>\",\"legendgroup\":\"Photobucket\",\"marker\":{\"color\":\"#EF553B\",\"pattern\":{\"shape\":\"\"}},\"name\":\"Photobucket\",\"offsetgroup\":\"Photobucket\",\"orientation\":\"v\",\"showlegend\":true,\"textposition\":\"auto\",\"x\":[\"web\"],\"xaxis\":\"x\",\"y\":[33672656],\"yaxis\":\"y\",\"type\":\"bar\"},{\"alignmentgroup\":\"True\",\"hovertemplate\":\"name=PicApp<br>category_code=%{x}<br>funding=%{y}<extra></extra>\",\"legendgroup\":\"PicApp\",\"marker\":{\"color\":\"#00cc96\",\"pattern\":{\"shape\":\"\"}},\"name\":\"PicApp\",\"offsetgroup\":\"PicApp\",\"orientation\":\"v\",\"showlegend\":true,\"textposition\":\"auto\",\"x\":[\"web\"],\"xaxis\":\"x\",\"y\":[3200000],\"yaxis\":\"y\",\"type\":\"bar\"},{\"alignmentgroup\":\"True\",\"hovertemplate\":\"name=Picateers<br>category_code=%{x}<br>funding=%{y}<extra></extra>\",\"legendgroup\":\"Picateers\",\"marker\":{\"color\":\"#ab63fa\",\"pattern\":{\"shape\":\"\"}},\"name\":\"Picateers\",\"offsetgroup\":\"Picateers\",\"orientation\":\"v\",\"showlegend\":true,\"textposition\":\"auto\",\"x\":[\"web\"],\"xaxis\":\"x\",\"y\":[12100000],\"yaxis\":\"y\",\"type\":\"bar\"},{\"alignmentgroup\":\"True\",\"hovertemplate\":\"name=Plaxo<br>category_code=%{x}<br>funding=%{y}<extra></extra>\",\"legendgroup\":\"Plaxo\",\"marker\":{\"color\":\"#FFA15A\",\"pattern\":{\"shape\":\"\"}},\"name\":\"Plaxo\",\"offsetgroup\":\"Plaxo\",\"orientation\":\"v\",\"showlegend\":true,\"textposition\":\"auto\",\"x\":[\"web\"],\"xaxis\":\"x\",\"y\":[28300000],\"yaxis\":\"y\",\"type\":\"bar\"},{\"alignmentgroup\":\"True\",\"hovertemplate\":\"name=Plixi<br>category_code=%{x}<br>funding=%{y}<extra></extra>\",\"legendgroup\":\"Plixi\",\"marker\":{\"color\":\"#19d3f3\",\"pattern\":{\"shape\":\"\"}},\"name\":\"Plixi\",\"offsetgroup\":\"Plixi\",\"orientation\":\"v\",\"showlegend\":true,\"textposition\":\"auto\",\"x\":[\"web\"],\"xaxis\":\"x\",\"y\":[2600000],\"yaxis\":\"y\",\"type\":\"bar\"},{\"alignmentgroup\":\"True\",\"hovertemplate\":\"name=PostPath<br>category_code=%{x}<br>funding=%{y}<extra></extra>\",\"legendgroup\":\"PostPath\",\"marker\":{\"color\":\"#FF6692\",\"pattern\":{\"shape\":\"\"}},\"name\":\"PostPath\",\"offsetgroup\":\"PostPath\",\"orientation\":\"v\",\"showlegend\":true,\"textposition\":\"auto\",\"x\":[\"web\"],\"xaxis\":\"x\",\"y\":[24300000],\"yaxis\":\"y\",\"type\":\"bar\"},{\"alignmentgroup\":\"True\",\"hovertemplate\":\"name=Reddit<br>category_code=%{x}<br>funding=%{y}<extra></extra>\",\"legendgroup\":\"Reddit\",\"marker\":{\"color\":\"#B6E880\",\"pattern\":{\"shape\":\"\"}},\"name\":\"Reddit\",\"offsetgroup\":\"Reddit\",\"orientation\":\"v\",\"showlegend\":true,\"textposition\":\"auto\",\"x\":[\"web\"],\"xaxis\":\"x\",\"y\":[100000],\"yaxis\":\"y\",\"type\":\"bar\"},{\"alignmentgroup\":\"True\",\"hovertemplate\":\"name=RentStuff.com<br>category_code=%{x}<br>funding=%{y}<extra></extra>\",\"legendgroup\":\"RentStuff.com\",\"marker\":{\"color\":\"#FF97FF\",\"pattern\":{\"shape\":\"\"}},\"name\":\"RentStuff.com\",\"offsetgroup\":\"RentStuff.com\",\"orientation\":\"v\",\"showlegend\":true,\"textposition\":\"auto\",\"x\":[\"web\"],\"xaxis\":\"x\",\"y\":[675000],\"yaxis\":\"y\",\"type\":\"bar\"},{\"alignmentgroup\":\"True\",\"hovertemplate\":\"name=Resonant Vibes<br>category_code=%{x}<br>funding=%{y}<extra></extra>\",\"legendgroup\":\"Resonant Vibes\",\"marker\":{\"color\":\"#FECB52\",\"pattern\":{\"shape\":\"\"}},\"name\":\"Resonant Vibes\",\"offsetgroup\":\"Resonant Vibes\",\"orientation\":\"v\",\"showlegend\":true,\"textposition\":\"auto\",\"x\":[\"web\"],\"xaxis\":\"x\",\"y\":[350000],\"yaxis\":\"y\",\"type\":\"bar\"},{\"alignmentgroup\":\"True\",\"hovertemplate\":\"name=RetailMeNot, Inc.<br>category_code=%{x}<br>funding=%{y}<extra></extra>\",\"legendgroup\":\"RetailMeNot, Inc.\",\"marker\":{\"color\":\"#636efa\",\"pattern\":{\"shape\":\"\"}},\"name\":\"RetailMeNot, Inc.\",\"offsetgroup\":\"RetailMeNot, Inc.\",\"orientation\":\"v\",\"showlegend\":true,\"textposition\":\"auto\",\"x\":[\"web\"],\"xaxis\":\"x\",\"y\":[299500000],\"yaxis\":\"y\",\"type\":\"bar\"},{\"alignmentgroup\":\"True\",\"hovertemplate\":\"name=Revetto<br>category_code=%{x}<br>funding=%{y}<extra></extra>\",\"legendgroup\":\"Revetto\",\"marker\":{\"color\":\"#EF553B\",\"pattern\":{\"shape\":\"\"}},\"name\":\"Revetto\",\"offsetgroup\":\"Revetto\",\"orientation\":\"v\",\"showlegend\":true,\"textposition\":\"auto\",\"x\":[\"web\"],\"xaxis\":\"x\",\"y\":[20000],\"yaxis\":\"y\",\"type\":\"bar\"},{\"alignmentgroup\":\"True\",\"hovertemplate\":\"name=Rudder<br>category_code=%{x}<br>funding=%{y}<extra></extra>\",\"legendgroup\":\"Rudder\",\"marker\":{\"color\":\"#00cc96\",\"pattern\":{\"shape\":\"\"}},\"name\":\"Rudder\",\"offsetgroup\":\"Rudder\",\"orientation\":\"v\",\"showlegend\":true,\"textposition\":\"auto\",\"x\":[\"web\"],\"xaxis\":\"x\",\"y\":[2000000],\"yaxis\":\"y\",\"type\":\"bar\"},{\"alignmentgroup\":\"True\",\"hovertemplate\":\"name=Sampa<br>category_code=%{x}<br>funding=%{y}<extra></extra>\",\"legendgroup\":\"Sampa\",\"marker\":{\"color\":\"#ab63fa\",\"pattern\":{\"shape\":\"\"}},\"name\":\"Sampa\",\"offsetgroup\":\"Sampa\",\"orientation\":\"v\",\"showlegend\":true,\"textposition\":\"auto\",\"x\":[\"web\"],\"xaxis\":\"x\",\"y\":[1310000],\"yaxis\":\"y\",\"type\":\"bar\"},{\"alignmentgroup\":\"True\",\"hovertemplate\":\"name=Scrapblog<br>category_code=%{x}<br>funding=%{y}<extra></extra>\",\"legendgroup\":\"Scrapblog\",\"marker\":{\"color\":\"#FFA15A\",\"pattern\":{\"shape\":\"\"}},\"name\":\"Scrapblog\",\"offsetgroup\":\"Scrapblog\",\"orientation\":\"v\",\"showlegend\":true,\"textposition\":\"auto\",\"x\":[\"web\"],\"xaxis\":\"x\",\"y\":[10000000],\"yaxis\":\"y\",\"type\":\"bar\"},{\"alignmentgroup\":\"True\",\"hovertemplate\":\"name=Seesmic<br>category_code=%{x}<br>funding=%{y}<extra></extra>\",\"legendgroup\":\"Seesmic\",\"marker\":{\"color\":\"#19d3f3\",\"pattern\":{\"shape\":\"\"}},\"name\":\"Seesmic\",\"offsetgroup\":\"Seesmic\",\"orientation\":\"v\",\"showlegend\":true,\"textposition\":\"auto\",\"x\":[\"web\"],\"xaxis\":\"x\",\"y\":[16000000],\"yaxis\":\"y\",\"type\":\"bar\"},{\"alignmentgroup\":\"True\",\"hovertemplate\":\"name=Sensory Networks<br>category_code=%{x}<br>funding=%{y}<extra></extra>\",\"legendgroup\":\"Sensory Networks\",\"marker\":{\"color\":\"#FF6692\",\"pattern\":{\"shape\":\"\"}},\"name\":\"Sensory Networks\",\"offsetgroup\":\"Sensory Networks\",\"orientation\":\"v\",\"showlegend\":true,\"textposition\":\"auto\",\"x\":[\"web\"],\"xaxis\":\"x\",\"y\":[17400000],\"yaxis\":\"y\",\"type\":\"bar\"},{\"alignmentgroup\":\"True\",\"hovertemplate\":\"name=SezWho<br>category_code=%{x}<br>funding=%{y}<extra></extra>\",\"legendgroup\":\"SezWho\",\"marker\":{\"color\":\"#B6E880\",\"pattern\":{\"shape\":\"\"}},\"name\":\"SezWho\",\"offsetgroup\":\"SezWho\",\"orientation\":\"v\",\"showlegend\":true,\"textposition\":\"auto\",\"x\":[\"web\"],\"xaxis\":\"x\",\"y\":[1000000],\"yaxis\":\"y\",\"type\":\"bar\"},{\"alignmentgroup\":\"True\",\"hovertemplate\":\"name=Sharetivity<br>category_code=%{x}<br>funding=%{y}<extra></extra>\",\"legendgroup\":\"Sharetivity\",\"marker\":{\"color\":\"#FF97FF\",\"pattern\":{\"shape\":\"\"}},\"name\":\"Sharetivity\",\"offsetgroup\":\"Sharetivity\",\"orientation\":\"v\",\"showlegend\":true,\"textposition\":\"auto\",\"x\":[\"web\"],\"xaxis\":\"x\",\"y\":[2000000],\"yaxis\":\"y\",\"type\":\"bar\"},{\"alignmentgroup\":\"True\",\"hovertemplate\":\"name=ShopWell<br>category_code=%{x}<br>funding=%{y}<extra></extra>\",\"legendgroup\":\"ShopWell\",\"marker\":{\"color\":\"#FECB52\",\"pattern\":{\"shape\":\"\"}},\"name\":\"ShopWell\",\"offsetgroup\":\"ShopWell\",\"orientation\":\"v\",\"showlegend\":true,\"textposition\":\"auto\",\"x\":[\"web\"],\"xaxis\":\"x\",\"y\":[7939553],\"yaxis\":\"y\",\"type\":\"bar\"},{\"alignmentgroup\":\"True\",\"hovertemplate\":\"name=SideTour<br>category_code=%{x}<br>funding=%{y}<extra></extra>\",\"legendgroup\":\"SideTour\",\"marker\":{\"color\":\"#636efa\",\"pattern\":{\"shape\":\"\"}},\"name\":\"SideTour\",\"offsetgroup\":\"SideTour\",\"orientation\":\"v\",\"showlegend\":true,\"textposition\":\"auto\",\"x\":[\"web\"],\"xaxis\":\"x\",\"y\":[4000000],\"yaxis\":\"y\",\"type\":\"bar\"},{\"alignmentgroup\":\"True\",\"hovertemplate\":\"name=Simple Star<br>category_code=%{x}<br>funding=%{y}<extra></extra>\",\"legendgroup\":\"Simple Star\",\"marker\":{\"color\":\"#EF553B\",\"pattern\":{\"shape\":\"\"}},\"name\":\"Simple Star\",\"offsetgroup\":\"Simple Star\",\"orientation\":\"v\",\"showlegend\":true,\"textposition\":\"auto\",\"x\":[\"web\"],\"xaxis\":\"x\",\"y\":[7100000],\"yaxis\":\"y\",\"type\":\"bar\"},{\"alignmentgroup\":\"True\",\"hovertemplate\":\"name=SinglePlatform<br>category_code=%{x}<br>funding=%{y}<extra></extra>\",\"legendgroup\":\"SinglePlatform\",\"marker\":{\"color\":\"#00cc96\",\"pattern\":{\"shape\":\"\"}},\"name\":\"SinglePlatform\",\"offsetgroup\":\"SinglePlatform\",\"orientation\":\"v\",\"showlegend\":true,\"textposition\":\"auto\",\"x\":[\"web\"],\"xaxis\":\"x\",\"y\":[4575000],\"yaxis\":\"y\",\"type\":\"bar\"},{\"alignmentgroup\":\"True\",\"hovertemplate\":\"name=SkillSlate<br>category_code=%{x}<br>funding=%{y}<extra></extra>\",\"legendgroup\":\"SkillSlate\",\"marker\":{\"color\":\"#ab63fa\",\"pattern\":{\"shape\":\"\"}},\"name\":\"SkillSlate\",\"offsetgroup\":\"SkillSlate\",\"orientation\":\"v\",\"showlegend\":true,\"textposition\":\"auto\",\"x\":[\"web\"],\"xaxis\":\"x\",\"y\":[1100000],\"yaxis\":\"y\",\"type\":\"bar\"},{\"alignmentgroup\":\"True\",\"hovertemplate\":\"name=Slipstream<br>category_code=%{x}<br>funding=%{y}<extra></extra>\",\"legendgroup\":\"Slipstream\",\"marker\":{\"color\":\"#FFA15A\",\"pattern\":{\"shape\":\"\"}},\"name\":\"Slipstream\",\"offsetgroup\":\"Slipstream\",\"orientation\":\"v\",\"showlegend\":true,\"textposition\":\"auto\",\"x\":[\"web\"],\"xaxis\":\"x\",\"y\":[20000],\"yaxis\":\"y\",\"type\":\"bar\"},{\"alignmentgroup\":\"True\",\"hovertemplate\":\"name=Smalltown<br>category_code=%{x}<br>funding=%{y}<extra></extra>\",\"legendgroup\":\"Smalltown\",\"marker\":{\"color\":\"#19d3f3\",\"pattern\":{\"shape\":\"\"}},\"name\":\"Smalltown\",\"offsetgroup\":\"Smalltown\",\"orientation\":\"v\",\"showlegend\":true,\"textposition\":\"auto\",\"x\":[\"web\"],\"xaxis\":\"x\",\"y\":[4000000],\"yaxis\":\"y\",\"type\":\"bar\"},{\"alignmentgroup\":\"True\",\"hovertemplate\":\"name=Social Collective<br>category_code=%{x}<br>funding=%{y}<extra></extra>\",\"legendgroup\":\"Social Collective\",\"marker\":{\"color\":\"#FF6692\",\"pattern\":{\"shape\":\"\"}},\"name\":\"Social Collective\",\"offsetgroup\":\"Social Collective\",\"orientation\":\"v\",\"showlegend\":true,\"textposition\":\"auto\",\"x\":[\"web\"],\"xaxis\":\"x\",\"y\":[20000],\"yaxis\":\"y\",\"type\":\"bar\"},{\"alignmentgroup\":\"True\",\"hovertemplate\":\"name=Sponge<br>category_code=%{x}<br>funding=%{y}<extra></extra>\",\"legendgroup\":\"Sponge\",\"marker\":{\"color\":\"#B6E880\",\"pattern\":{\"shape\":\"\"}},\"name\":\"Sponge\",\"offsetgroup\":\"Sponge\",\"orientation\":\"v\",\"showlegend\":true,\"textposition\":\"auto\",\"x\":[\"web\"],\"xaxis\":\"x\",\"y\":[400000],\"yaxis\":\"y\",\"type\":\"bar\"},{\"alignmentgroup\":\"True\",\"hovertemplate\":\"name=Stickybits<br>category_code=%{x}<br>funding=%{y}<extra></extra>\",\"legendgroup\":\"Stickybits\",\"marker\":{\"color\":\"#FF97FF\",\"pattern\":{\"shape\":\"\"}},\"name\":\"Stickybits\",\"offsetgroup\":\"Stickybits\",\"orientation\":\"v\",\"showlegend\":true,\"textposition\":\"auto\",\"x\":[\"web\"],\"xaxis\":\"x\",\"y\":[1900000],\"yaxis\":\"y\",\"type\":\"bar\"},{\"alignmentgroup\":\"True\",\"hovertemplate\":\"name=Storify<br>category_code=%{x}<br>funding=%{y}<extra></extra>\",\"legendgroup\":\"Storify\",\"marker\":{\"color\":\"#FECB52\",\"pattern\":{\"shape\":\"\"}},\"name\":\"Storify\",\"offsetgroup\":\"Storify\",\"orientation\":\"v\",\"showlegend\":true,\"textposition\":\"auto\",\"x\":[\"web\"],\"xaxis\":\"x\",\"y\":[2023000],\"yaxis\":\"y\",\"type\":\"bar\"},{\"alignmentgroup\":\"True\",\"hovertemplate\":\"name=Surphace<br>category_code=%{x}<br>funding=%{y}<extra></extra>\",\"legendgroup\":\"Surphace\",\"marker\":{\"color\":\"#636efa\",\"pattern\":{\"shape\":\"\"}},\"name\":\"Surphace\",\"offsetgroup\":\"Surphace\",\"orientation\":\"v\",\"showlegend\":true,\"textposition\":\"auto\",\"x\":[\"web\"],\"xaxis\":\"x\",\"y\":[3500000],\"yaxis\":\"y\",\"type\":\"bar\"},{\"alignmentgroup\":\"True\",\"hovertemplate\":\"name=Swaptree Inc.<br>category_code=%{x}<br>funding=%{y}<extra></extra>\",\"legendgroup\":\"Swaptree Inc.\",\"marker\":{\"color\":\"#EF553B\",\"pattern\":{\"shape\":\"\"}},\"name\":\"Swaptree Inc.\",\"offsetgroup\":\"Swaptree Inc.\",\"orientation\":\"v\",\"showlegend\":true,\"textposition\":\"auto\",\"x\":[\"web\"],\"xaxis\":\"x\",\"y\":[11300000],\"yaxis\":\"y\",\"type\":\"bar\"},{\"alignmentgroup\":\"True\",\"hovertemplate\":\"name=TalkPlus<br>category_code=%{x}<br>funding=%{y}<extra></extra>\",\"legendgroup\":\"TalkPlus\",\"marker\":{\"color\":\"#00cc96\",\"pattern\":{\"shape\":\"\"}},\"name\":\"TalkPlus\",\"offsetgroup\":\"TalkPlus\",\"orientation\":\"v\",\"showlegend\":true,\"textposition\":\"auto\",\"x\":[\"web\"],\"xaxis\":\"x\",\"y\":[5500000],\"yaxis\":\"y\",\"type\":\"bar\"},{\"alignmentgroup\":\"True\",\"hovertemplate\":\"name=TheMarkets<br>category_code=%{x}<br>funding=%{y}<extra></extra>\",\"legendgroup\":\"TheMarkets\",\"marker\":{\"color\":\"#ab63fa\",\"pattern\":{\"shape\":\"\"}},\"name\":\"TheMarkets\",\"offsetgroup\":\"TheMarkets\",\"orientation\":\"v\",\"showlegend\":true,\"textposition\":\"auto\",\"x\":[\"web\"],\"xaxis\":\"x\",\"y\":[30000000],\"yaxis\":\"y\",\"type\":\"bar\"},{\"alignmentgroup\":\"True\",\"hovertemplate\":\"name=TimeBridge<br>category_code=%{x}<br>funding=%{y}<extra></extra>\",\"legendgroup\":\"TimeBridge\",\"marker\":{\"color\":\"#FFA15A\",\"pattern\":{\"shape\":\"\"}},\"name\":\"TimeBridge\",\"offsetgroup\":\"TimeBridge\",\"orientation\":\"v\",\"showlegend\":true,\"textposition\":\"auto\",\"x\":[\"web\"],\"xaxis\":\"x\",\"y\":[12400000],\"yaxis\":\"y\",\"type\":\"bar\"},{\"alignmentgroup\":\"True\",\"hovertemplate\":\"name=TravelMuse<br>category_code=%{x}<br>funding=%{y}<extra></extra>\",\"legendgroup\":\"TravelMuse\",\"marker\":{\"color\":\"#19d3f3\",\"pattern\":{\"shape\":\"\"}},\"name\":\"TravelMuse\",\"offsetgroup\":\"TravelMuse\",\"orientation\":\"v\",\"showlegend\":true,\"textposition\":\"auto\",\"x\":[\"web\"],\"xaxis\":\"x\",\"y\":[5600000],\"yaxis\":\"y\",\"type\":\"bar\"},{\"alignmentgroup\":\"True\",\"hovertemplate\":\"name=TrustDegrees<br>category_code=%{x}<br>funding=%{y}<extra></extra>\",\"legendgroup\":\"TrustDegrees\",\"marker\":{\"color\":\"#FF6692\",\"pattern\":{\"shape\":\"\"}},\"name\":\"TrustDegrees\",\"offsetgroup\":\"TrustDegrees\",\"orientation\":\"v\",\"showlegend\":true,\"textposition\":\"auto\",\"x\":[\"web\"],\"xaxis\":\"x\",\"y\":[11000],\"yaxis\":\"y\",\"type\":\"bar\"},{\"alignmentgroup\":\"True\",\"hovertemplate\":\"name=Tumblr<br>category_code=%{x}<br>funding=%{y}<extra></extra>\",\"legendgroup\":\"Tumblr\",\"marker\":{\"color\":\"#B6E880\",\"pattern\":{\"shape\":\"\"}},\"name\":\"Tumblr\",\"offsetgroup\":\"Tumblr\",\"orientation\":\"v\",\"showlegend\":true,\"textposition\":\"auto\",\"x\":[\"web\"],\"xaxis\":\"x\",\"y\":[125250000],\"yaxis\":\"y\",\"type\":\"bar\"},{\"alignmentgroup\":\"True\",\"hovertemplate\":\"name=TwtBks<br>category_code=%{x}<br>funding=%{y}<extra></extra>\",\"legendgroup\":\"TwtBks\",\"marker\":{\"color\":\"#FF97FF\",\"pattern\":{\"shape\":\"\"}},\"name\":\"TwtBks\",\"offsetgroup\":\"TwtBks\",\"orientation\":\"v\",\"showlegend\":true,\"textposition\":\"auto\",\"x\":[\"web\"],\"xaxis\":\"x\",\"y\":[25000],\"yaxis\":\"y\",\"type\":\"bar\"},{\"alignmentgroup\":\"True\",\"hovertemplate\":\"name=Visible Path<br>category_code=%{x}<br>funding=%{y}<extra></extra>\",\"legendgroup\":\"Visible Path\",\"marker\":{\"color\":\"#FECB52\",\"pattern\":{\"shape\":\"\"}},\"name\":\"Visible Path\",\"offsetgroup\":\"Visible Path\",\"orientation\":\"v\",\"showlegend\":true,\"textposition\":\"auto\",\"x\":[\"web\"],\"xaxis\":\"x\",\"y\":[24700000],\"yaxis\":\"y\",\"type\":\"bar\"},{\"alignmentgroup\":\"True\",\"hovertemplate\":\"name=Votizen<br>category_code=%{x}<br>funding=%{y}<extra></extra>\",\"legendgroup\":\"Votizen\",\"marker\":{\"color\":\"#636efa\",\"pattern\":{\"shape\":\"\"}},\"name\":\"Votizen\",\"offsetgroup\":\"Votizen\",\"orientation\":\"v\",\"showlegend\":true,\"textposition\":\"auto\",\"x\":[\"web\"],\"xaxis\":\"x\",\"y\":[2250000],\"yaxis\":\"y\",\"type\":\"bar\"},{\"alignmentgroup\":\"True\",\"hovertemplate\":\"name=Wavii<br>category_code=%{x}<br>funding=%{y}<extra></extra>\",\"legendgroup\":\"Wavii\",\"marker\":{\"color\":\"#EF553B\",\"pattern\":{\"shape\":\"\"}},\"name\":\"Wavii\",\"offsetgroup\":\"Wavii\",\"orientation\":\"v\",\"showlegend\":true,\"textposition\":\"auto\",\"x\":[\"web\"],\"xaxis\":\"x\",\"y\":[2000000],\"yaxis\":\"y\",\"type\":\"bar\"},{\"alignmentgroup\":\"True\",\"hovertemplate\":\"name=Weatherista<br>category_code=%{x}<br>funding=%{y}<extra></extra>\",\"legendgroup\":\"Weatherista\",\"marker\":{\"color\":\"#00cc96\",\"pattern\":{\"shape\":\"\"}},\"name\":\"Weatherista\",\"offsetgroup\":\"Weatherista\",\"orientation\":\"v\",\"showlegend\":true,\"textposition\":\"auto\",\"x\":[\"web\"],\"xaxis\":\"x\",\"y\":[500000],\"yaxis\":\"y\",\"type\":\"bar\"},{\"alignmentgroup\":\"True\",\"hovertemplate\":\"name=Wesabe<br>category_code=%{x}<br>funding=%{y}<extra></extra>\",\"legendgroup\":\"Wesabe\",\"marker\":{\"color\":\"#ab63fa\",\"pattern\":{\"shape\":\"\"}},\"name\":\"Wesabe\",\"offsetgroup\":\"Wesabe\",\"orientation\":\"v\",\"showlegend\":true,\"textposition\":\"auto\",\"x\":[\"web\"],\"xaxis\":\"x\",\"y\":[4700000],\"yaxis\":\"y\",\"type\":\"bar\"},{\"alignmentgroup\":\"True\",\"hovertemplate\":\"name=What They Like<br>category_code=%{x}<br>funding=%{y}<extra></extra>\",\"legendgroup\":\"What They Like\",\"marker\":{\"color\":\"#FFA15A\",\"pattern\":{\"shape\":\"\"}},\"name\":\"What They Like\",\"offsetgroup\":\"What They Like\",\"orientation\":\"v\",\"showlegend\":true,\"textposition\":\"auto\",\"x\":[\"web\"],\"xaxis\":\"x\",\"y\":[990000],\"yaxis\":\"y\",\"type\":\"bar\"},{\"alignmentgroup\":\"True\",\"hovertemplate\":\"name=Whiskey Media<br>category_code=%{x}<br>funding=%{y}<extra></extra>\",\"legendgroup\":\"Whiskey Media\",\"marker\":{\"color\":\"#19d3f3\",\"pattern\":{\"shape\":\"\"}},\"name\":\"Whiskey Media\",\"offsetgroup\":\"Whiskey Media\",\"orientation\":\"v\",\"showlegend\":true,\"textposition\":\"auto\",\"x\":[\"web\"],\"xaxis\":\"x\",\"y\":[4000000],\"yaxis\":\"y\",\"type\":\"bar\"},{\"alignmentgroup\":\"True\",\"hovertemplate\":\"name=WildBlue<br>category_code=%{x}<br>funding=%{y}<extra></extra>\",\"legendgroup\":\"WildBlue\",\"marker\":{\"color\":\"#FF6692\",\"pattern\":{\"shape\":\"\"}},\"name\":\"WildBlue\",\"offsetgroup\":\"WildBlue\",\"orientation\":\"v\",\"showlegend\":true,\"textposition\":\"auto\",\"x\":[\"web\"],\"xaxis\":\"x\",\"y\":[50000000],\"yaxis\":\"y\",\"type\":\"bar\"},{\"alignmentgroup\":\"True\",\"hovertemplate\":\"name=WooMe<br>category_code=%{x}<br>funding=%{y}<extra></extra>\",\"legendgroup\":\"WooMe\",\"marker\":{\"color\":\"#B6E880\",\"pattern\":{\"shape\":\"\"}},\"name\":\"WooMe\",\"offsetgroup\":\"WooMe\",\"orientation\":\"v\",\"showlegend\":true,\"textposition\":\"auto\",\"x\":[\"web\"],\"xaxis\":\"x\",\"y\":[17400000],\"yaxis\":\"y\",\"type\":\"bar\"},{\"alignmentgroup\":\"True\",\"hovertemplate\":\"name=Xoopit<br>category_code=%{x}<br>funding=%{y}<extra></extra>\",\"legendgroup\":\"Xoopit\",\"marker\":{\"color\":\"#FF97FF\",\"pattern\":{\"shape\":\"\"}},\"name\":\"Xoopit\",\"offsetgroup\":\"Xoopit\",\"orientation\":\"v\",\"showlegend\":true,\"textposition\":\"auto\",\"x\":[\"web\"],\"xaxis\":\"x\",\"y\":[6500000],\"yaxis\":\"y\",\"type\":\"bar\"},{\"alignmentgroup\":\"True\",\"hovertemplate\":\"name=Yamisee<br>category_code=%{x}<br>funding=%{y}<extra></extra>\",\"legendgroup\":\"Yamisee\",\"marker\":{\"color\":\"#FECB52\",\"pattern\":{\"shape\":\"\"}},\"name\":\"Yamisee\",\"offsetgroup\":\"Yamisee\",\"orientation\":\"v\",\"showlegend\":true,\"textposition\":\"auto\",\"x\":[\"web\"],\"xaxis\":\"x\",\"y\":[700000],\"yaxis\":\"y\",\"type\":\"bar\"},{\"alignmentgroup\":\"True\",\"hovertemplate\":\"name=Yobongo<br>category_code=%{x}<br>funding=%{y}<extra></extra>\",\"legendgroup\":\"Yobongo\",\"marker\":{\"color\":\"#636efa\",\"pattern\":{\"shape\":\"\"}},\"name\":\"Yobongo\",\"offsetgroup\":\"Yobongo\",\"orientation\":\"v\",\"showlegend\":true,\"textposition\":\"auto\",\"x\":[\"web\"],\"xaxis\":\"x\",\"y\":[1350000],\"yaxis\":\"y\",\"type\":\"bar\"},{\"alignmentgroup\":\"True\",\"hovertemplate\":\"name=Zinch<br>category_code=%{x}<br>funding=%{y}<extra></extra>\",\"legendgroup\":\"Zinch\",\"marker\":{\"color\":\"#EF553B\",\"pattern\":{\"shape\":\"\"}},\"name\":\"Zinch\",\"offsetgroup\":\"Zinch\",\"orientation\":\"v\",\"showlegend\":true,\"textposition\":\"auto\",\"x\":[\"web\"],\"xaxis\":\"x\",\"y\":[5000000],\"yaxis\":\"y\",\"type\":\"bar\"},{\"alignmentgroup\":\"True\",\"hovertemplate\":\"name=ZipList<br>category_code=%{x}<br>funding=%{y}<extra></extra>\",\"legendgroup\":\"ZipList\",\"marker\":{\"color\":\"#00cc96\",\"pattern\":{\"shape\":\"\"}},\"name\":\"ZipList\",\"offsetgroup\":\"ZipList\",\"orientation\":\"v\",\"showlegend\":true,\"textposition\":\"auto\",\"x\":[\"web\"],\"xaxis\":\"x\",\"y\":[4500000],\"yaxis\":\"y\",\"type\":\"bar\"},{\"alignmentgroup\":\"True\",\"hovertemplate\":\"name=about.me<br>category_code=%{x}<br>funding=%{y}<extra></extra>\",\"legendgroup\":\"about.me\",\"marker\":{\"color\":\"#ab63fa\",\"pattern\":{\"shape\":\"\"}},\"name\":\"about.me\",\"offsetgroup\":\"about.me\",\"orientation\":\"v\",\"showlegend\":true,\"textposition\":\"auto\",\"x\":[\"web\"],\"xaxis\":\"x\",\"y\":[5675000],\"yaxis\":\"y\",\"type\":\"bar\"},{\"alignmentgroup\":\"True\",\"hovertemplate\":\"name=ezzai - how to arabia<br>category_code=%{x}<br>funding=%{y}<extra></extra>\",\"legendgroup\":\"ezzai - how to arabia\",\"marker\":{\"color\":\"#FFA15A\",\"pattern\":{\"shape\":\"\"}},\"name\":\"ezzai - how to arabia\",\"offsetgroup\":\"ezzai - how to arabia\",\"orientation\":\"v\",\"showlegend\":true,\"textposition\":\"auto\",\"x\":[\"web\"],\"xaxis\":\"x\",\"y\":[45000000],\"yaxis\":\"y\",\"type\":\"bar\"},{\"alignmentgroup\":\"True\",\"hovertemplate\":\"name=iCurrent<br>category_code=%{x}<br>funding=%{y}<extra></extra>\",\"legendgroup\":\"iCurrent\",\"marker\":{\"color\":\"#19d3f3\",\"pattern\":{\"shape\":\"\"}},\"name\":\"iCurrent\",\"offsetgroup\":\"iCurrent\",\"orientation\":\"v\",\"showlegend\":true,\"textposition\":\"auto\",\"x\":[\"web\"],\"xaxis\":\"x\",\"y\":[3000000],\"yaxis\":\"y\",\"type\":\"bar\"},{\"alignmentgroup\":\"True\",\"hovertemplate\":\"name=lifeIO<br>category_code=%{x}<br>funding=%{y}<extra></extra>\",\"legendgroup\":\"lifeIO\",\"marker\":{\"color\":\"#FF6692\",\"pattern\":{\"shape\":\"\"}},\"name\":\"lifeIO\",\"offsetgroup\":\"lifeIO\",\"orientation\":\"v\",\"showlegend\":true,\"textposition\":\"auto\",\"x\":[\"web\"],\"xaxis\":\"x\",\"y\":[500000],\"yaxis\":\"y\",\"type\":\"bar\"},{\"alignmentgroup\":\"True\",\"hovertemplate\":\"name=neoSaej<br>category_code=%{x}<br>funding=%{y}<extra></extra>\",\"legendgroup\":\"neoSaej\",\"marker\":{\"color\":\"#B6E880\",\"pattern\":{\"shape\":\"\"}},\"name\":\"neoSaej\",\"offsetgroup\":\"neoSaej\",\"orientation\":\"v\",\"showlegend\":true,\"textposition\":\"auto\",\"x\":[\"web\"],\"xaxis\":\"x\",\"y\":[13130000],\"yaxis\":\"y\",\"type\":\"bar\"},{\"alignmentgroup\":\"True\",\"hovertemplate\":\"name=spotdock<br>category_code=%{x}<br>funding=%{y}<extra></extra>\",\"legendgroup\":\"spotdock\",\"marker\":{\"color\":\"#FF97FF\",\"pattern\":{\"shape\":\"\"}},\"name\":\"spotdock\",\"offsetgroup\":\"spotdock\",\"orientation\":\"v\",\"showlegend\":true,\"textposition\":\"auto\",\"x\":[\"web\"],\"xaxis\":\"x\",\"y\":[600000],\"yaxis\":\"y\",\"type\":\"bar\"},{\"alignmentgroup\":\"True\",\"hovertemplate\":\"name=thePlatform<br>category_code=%{x}<br>funding=%{y}<extra></extra>\",\"legendgroup\":\"thePlatform\",\"marker\":{\"color\":\"#FECB52\",\"pattern\":{\"shape\":\"\"}},\"name\":\"thePlatform\",\"offsetgroup\":\"thePlatform\",\"orientation\":\"v\",\"showlegend\":true,\"textposition\":\"auto\",\"x\":[\"web\"],\"xaxis\":\"x\",\"y\":[8000000],\"yaxis\":\"y\",\"type\":\"bar\"}],                        {\"template\":{\"data\":{\"bar\":[{\"error_x\":{\"color\":\"#2a3f5f\"},\"error_y\":{\"color\":\"#2a3f5f\"},\"marker\":{\"line\":{\"color\":\"#E5ECF6\",\"width\":0.5},\"pattern\":{\"fillmode\":\"overlay\",\"size\":10,\"solidity\":0.2}},\"type\":\"bar\"}],\"barpolar\":[{\"marker\":{\"line\":{\"color\":\"#E5ECF6\",\"width\":0.5},\"pattern\":{\"fillmode\":\"overlay\",\"size\":10,\"solidity\":0.2}},\"type\":\"barpolar\"}],\"carpet\":[{\"aaxis\":{\"endlinecolor\":\"#2a3f5f\",\"gridcolor\":\"white\",\"linecolor\":\"white\",\"minorgridcolor\":\"white\",\"startlinecolor\":\"#2a3f5f\"},\"baxis\":{\"endlinecolor\":\"#2a3f5f\",\"gridcolor\":\"white\",\"linecolor\":\"white\",\"minorgridcolor\":\"white\",\"startlinecolor\":\"#2a3f5f\"},\"type\":\"carpet\"}],\"choropleth\":[{\"colorbar\":{\"outlinewidth\":0,\"ticks\":\"\"},\"type\":\"choropleth\"}],\"contour\":[{\"colorbar\":{\"outlinewidth\":0,\"ticks\":\"\"},\"colorscale\":[[0.0,\"#0d0887\"],[0.1111111111111111,\"#46039f\"],[0.2222222222222222,\"#7201a8\"],[0.3333333333333333,\"#9c179e\"],[0.4444444444444444,\"#bd3786\"],[0.5555555555555556,\"#d8576b\"],[0.6666666666666666,\"#ed7953\"],[0.7777777777777778,\"#fb9f3a\"],[0.8888888888888888,\"#fdca26\"],[1.0,\"#f0f921\"]],\"type\":\"contour\"}],\"contourcarpet\":[{\"colorbar\":{\"outlinewidth\":0,\"ticks\":\"\"},\"type\":\"contourcarpet\"}],\"heatmap\":[{\"colorbar\":{\"outlinewidth\":0,\"ticks\":\"\"},\"colorscale\":[[0.0,\"#0d0887\"],[0.1111111111111111,\"#46039f\"],[0.2222222222222222,\"#7201a8\"],[0.3333333333333333,\"#9c179e\"],[0.4444444444444444,\"#bd3786\"],[0.5555555555555556,\"#d8576b\"],[0.6666666666666666,\"#ed7953\"],[0.7777777777777778,\"#fb9f3a\"],[0.8888888888888888,\"#fdca26\"],[1.0,\"#f0f921\"]],\"type\":\"heatmap\"}],\"heatmapgl\":[{\"colorbar\":{\"outlinewidth\":0,\"ticks\":\"\"},\"colorscale\":[[0.0,\"#0d0887\"],[0.1111111111111111,\"#46039f\"],[0.2222222222222222,\"#7201a8\"],[0.3333333333333333,\"#9c179e\"],[0.4444444444444444,\"#bd3786\"],[0.5555555555555556,\"#d8576b\"],[0.6666666666666666,\"#ed7953\"],[0.7777777777777778,\"#fb9f3a\"],[0.8888888888888888,\"#fdca26\"],[1.0,\"#f0f921\"]],\"type\":\"heatmapgl\"}],\"histogram\":[{\"marker\":{\"pattern\":{\"fillmode\":\"overlay\",\"size\":10,\"solidity\":0.2}},\"type\":\"histogram\"}],\"histogram2d\":[{\"colorbar\":{\"outlinewidth\":0,\"ticks\":\"\"},\"colorscale\":[[0.0,\"#0d0887\"],[0.1111111111111111,\"#46039f\"],[0.2222222222222222,\"#7201a8\"],[0.3333333333333333,\"#9c179e\"],[0.4444444444444444,\"#bd3786\"],[0.5555555555555556,\"#d8576b\"],[0.6666666666666666,\"#ed7953\"],[0.7777777777777778,\"#fb9f3a\"],[0.8888888888888888,\"#fdca26\"],[1.0,\"#f0f921\"]],\"type\":\"histogram2d\"}],\"histogram2dcontour\":[{\"colorbar\":{\"outlinewidth\":0,\"ticks\":\"\"},\"colorscale\":[[0.0,\"#0d0887\"],[0.1111111111111111,\"#46039f\"],[0.2222222222222222,\"#7201a8\"],[0.3333333333333333,\"#9c179e\"],[0.4444444444444444,\"#bd3786\"],[0.5555555555555556,\"#d8576b\"],[0.6666666666666666,\"#ed7953\"],[0.7777777777777778,\"#fb9f3a\"],[0.8888888888888888,\"#fdca26\"],[1.0,\"#f0f921\"]],\"type\":\"histogram2dcontour\"}],\"mesh3d\":[{\"colorbar\":{\"outlinewidth\":0,\"ticks\":\"\"},\"type\":\"mesh3d\"}],\"parcoords\":[{\"line\":{\"colorbar\":{\"outlinewidth\":0,\"ticks\":\"\"}},\"type\":\"parcoords\"}],\"pie\":[{\"automargin\":true,\"type\":\"pie\"}],\"scatter\":[{\"marker\":{\"colorbar\":{\"outlinewidth\":0,\"ticks\":\"\"}},\"type\":\"scatter\"}],\"scatter3d\":[{\"line\":{\"colorbar\":{\"outlinewidth\":0,\"ticks\":\"\"}},\"marker\":{\"colorbar\":{\"outlinewidth\":0,\"ticks\":\"\"}},\"type\":\"scatter3d\"}],\"scattercarpet\":[{\"marker\":{\"colorbar\":{\"outlinewidth\":0,\"ticks\":\"\"}},\"type\":\"scattercarpet\"}],\"scattergeo\":[{\"marker\":{\"colorbar\":{\"outlinewidth\":0,\"ticks\":\"\"}},\"type\":\"scattergeo\"}],\"scattergl\":[{\"marker\":{\"colorbar\":{\"outlinewidth\":0,\"ticks\":\"\"}},\"type\":\"scattergl\"}],\"scattermapbox\":[{\"marker\":{\"colorbar\":{\"outlinewidth\":0,\"ticks\":\"\"}},\"type\":\"scattermapbox\"}],\"scatterpolar\":[{\"marker\":{\"colorbar\":{\"outlinewidth\":0,\"ticks\":\"\"}},\"type\":\"scatterpolar\"}],\"scatterpolargl\":[{\"marker\":{\"colorbar\":{\"outlinewidth\":0,\"ticks\":\"\"}},\"type\":\"scatterpolargl\"}],\"scatterternary\":[{\"marker\":{\"colorbar\":{\"outlinewidth\":0,\"ticks\":\"\"}},\"type\":\"scatterternary\"}],\"surface\":[{\"colorbar\":{\"outlinewidth\":0,\"ticks\":\"\"},\"colorscale\":[[0.0,\"#0d0887\"],[0.1111111111111111,\"#46039f\"],[0.2222222222222222,\"#7201a8\"],[0.3333333333333333,\"#9c179e\"],[0.4444444444444444,\"#bd3786\"],[0.5555555555555556,\"#d8576b\"],[0.6666666666666666,\"#ed7953\"],[0.7777777777777778,\"#fb9f3a\"],[0.8888888888888888,\"#fdca26\"],[1.0,\"#f0f921\"]],\"type\":\"surface\"}],\"table\":[{\"cells\":{\"fill\":{\"color\":\"#EBF0F8\"},\"line\":{\"color\":\"white\"}},\"header\":{\"fill\":{\"color\":\"#C8D4E3\"},\"line\":{\"color\":\"white\"}},\"type\":\"table\"}]},\"layout\":{\"annotationdefaults\":{\"arrowcolor\":\"#2a3f5f\",\"arrowhead\":0,\"arrowwidth\":1},\"autotypenumbers\":\"strict\",\"coloraxis\":{\"colorbar\":{\"outlinewidth\":0,\"ticks\":\"\"}},\"colorscale\":{\"diverging\":[[0,\"#8e0152\"],[0.1,\"#c51b7d\"],[0.2,\"#de77ae\"],[0.3,\"#f1b6da\"],[0.4,\"#fde0ef\"],[0.5,\"#f7f7f7\"],[0.6,\"#e6f5d0\"],[0.7,\"#b8e186\"],[0.8,\"#7fbc41\"],[0.9,\"#4d9221\"],[1,\"#276419\"]],\"sequential\":[[0.0,\"#0d0887\"],[0.1111111111111111,\"#46039f\"],[0.2222222222222222,\"#7201a8\"],[0.3333333333333333,\"#9c179e\"],[0.4444444444444444,\"#bd3786\"],[0.5555555555555556,\"#d8576b\"],[0.6666666666666666,\"#ed7953\"],[0.7777777777777778,\"#fb9f3a\"],[0.8888888888888888,\"#fdca26\"],[1.0,\"#f0f921\"]],\"sequentialminus\":[[0.0,\"#0d0887\"],[0.1111111111111111,\"#46039f\"],[0.2222222222222222,\"#7201a8\"],[0.3333333333333333,\"#9c179e\"],[0.4444444444444444,\"#bd3786\"],[0.5555555555555556,\"#d8576b\"],[0.6666666666666666,\"#ed7953\"],[0.7777777777777778,\"#fb9f3a\"],[0.8888888888888888,\"#fdca26\"],[1.0,\"#f0f921\"]]},\"colorway\":[\"#636efa\",\"#EF553B\",\"#00cc96\",\"#ab63fa\",\"#FFA15A\",\"#19d3f3\",\"#FF6692\",\"#B6E880\",\"#FF97FF\",\"#FECB52\"],\"font\":{\"color\":\"#2a3f5f\"},\"geo\":{\"bgcolor\":\"white\",\"lakecolor\":\"white\",\"landcolor\":\"#E5ECF6\",\"showlakes\":true,\"showland\":true,\"subunitcolor\":\"white\"},\"hoverlabel\":{\"align\":\"left\"},\"hovermode\":\"closest\",\"mapbox\":{\"style\":\"light\"},\"paper_bgcolor\":\"white\",\"plot_bgcolor\":\"#E5ECF6\",\"polar\":{\"angularaxis\":{\"gridcolor\":\"white\",\"linecolor\":\"white\",\"ticks\":\"\"},\"bgcolor\":\"#E5ECF6\",\"radialaxis\":{\"gridcolor\":\"white\",\"linecolor\":\"white\",\"ticks\":\"\"}},\"scene\":{\"xaxis\":{\"backgroundcolor\":\"#E5ECF6\",\"gridcolor\":\"white\",\"gridwidth\":2,\"linecolor\":\"white\",\"showbackground\":true,\"ticks\":\"\",\"zerolinecolor\":\"white\"},\"yaxis\":{\"backgroundcolor\":\"#E5ECF6\",\"gridcolor\":\"white\",\"gridwidth\":2,\"linecolor\":\"white\",\"showbackground\":true,\"ticks\":\"\",\"zerolinecolor\":\"white\"},\"zaxis\":{\"backgroundcolor\":\"#E5ECF6\",\"gridcolor\":\"white\",\"gridwidth\":2,\"linecolor\":\"white\",\"showbackground\":true,\"ticks\":\"\",\"zerolinecolor\":\"white\"}},\"shapedefaults\":{\"line\":{\"color\":\"#2a3f5f\"}},\"ternary\":{\"aaxis\":{\"gridcolor\":\"white\",\"linecolor\":\"white\",\"ticks\":\"\"},\"baxis\":{\"gridcolor\":\"white\",\"linecolor\":\"white\",\"ticks\":\"\"},\"bgcolor\":\"#E5ECF6\",\"caxis\":{\"gridcolor\":\"white\",\"linecolor\":\"white\",\"ticks\":\"\"}},\"title\":{\"x\":0.05},\"xaxis\":{\"automargin\":true,\"gridcolor\":\"white\",\"linecolor\":\"white\",\"ticks\":\"\",\"title\":{\"standoff\":15},\"zerolinecolor\":\"white\",\"zerolinewidth\":2},\"yaxis\":{\"automargin\":true,\"gridcolor\":\"white\",\"linecolor\":\"white\",\"ticks\":\"\",\"title\":{\"standoff\":15},\"zerolinecolor\":\"white\",\"zerolinewidth\":2}}},\"xaxis\":{\"anchor\":\"y\",\"domain\":[0.0,1.0],\"title\":{\"text\":\" Industry category\",\"font\":{\"size\":18}}},\"yaxis\":{\"anchor\":\"x\",\"domain\":[0.0,1.0],\"title\":{\"text\":\" Funding in per billion Dollars\",\"font\":{\"size\":18}}},\"legend\":{\"title\":{\"text\":\"name\"},\"tracegroupgap\":0},\"title\":{\"text\":\"American startups: Funding us Industry category\",\"font\":{\"size\":18}},\"barmode\":\"relative\",\"height\":600,\"paper_bgcolor\":\"white\",\"plot_bgcolor\":\"rgb(254, 246, 224)\"},                        {\"responsive\": true}                    ).then(function(){\n",
       "                            \n",
       "var gd = document.getElementById('d222ccdf-0b9a-4108-939c-abddae109b36');\n",
       "var x = new MutationObserver(function (mutations, observer) {{\n",
       "        var display = window.getComputedStyle(gd).display;\n",
       "        if (!display || display === 'none') {{\n",
       "            console.log([gd, 'removed!']);\n",
       "            Plotly.purge(gd);\n",
       "            observer.disconnect();\n",
       "        }}\n",
       "}});\n",
       "\n",
       "// Listen for the removal of the full notebook cells\n",
       "var notebookContainer = gd.closest('#notebook-container');\n",
       "if (notebookContainer) {{\n",
       "    x.observe(notebookContainer, {childList: true});\n",
       "}}\n",
       "\n",
       "// Listen for the clearing of the current output cell\n",
       "var outputEl = gd.closest('.output');\n",
       "if (outputEl) {{\n",
       "    x.observe(outputEl, {childList: true});\n",
       "}}\n",
       "\n",
       "                        })                };                });            </script>        </div>"
      ]
     },
     "metadata": {},
     "output_type": "display_data"
    }
   ],
   "source": [
    "import plotly.express as px\n",
    "\n",
    "fig3 = px.bar(df_category_company_funding, x=\"category_code\", y=\"funding\", color=\"name\", title=\"American startups: Funding us Industry category\", height=600)\n",
    "fig3.update_layout(\n",
    "    title={\"text\": \"American startups: Funding us Industry category\", \"font\": {\"size\": 18}},\n",
    "    xaxis={\"title\": {\"text\": \" Industry category\", \"font\": {\"size\": 18}}},\n",
    "    yaxis={\"title\": {\"text\": \" Funding in per billion Dollars\", \"font\": {\"size\": 18}}},\n",
    "    paper_bgcolor='white',plot_bgcolor='rgb(254, 246, 224)'\n",
    ")\n",
    "fig3.show()"
   ]
  }
 ],
 "metadata": {
  "kernelspec": {
   "display_name": "Python 3 (ipykernel)",
   "language": "python",
   "name": "python3"
  },
  "language_info": {
   "codemirror_mode": {
    "name": "ipython",
    "version": 3
   },
   "file_extension": ".py",
   "mimetype": "text/x-python",
   "name": "python",
   "nbconvert_exporter": "python",
   "pygments_lexer": "ipython3",
   "version": "3.9.12"
  }
 },
 "nbformat": 4,
 "nbformat_minor": 5
}
