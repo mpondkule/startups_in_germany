{
 "cells": [
  {
   "cell_type": "markdown",
   "id": "1d7d9610-7330-4f6a-97da-268b1391e289",
   "metadata": {},
   "source": [
    "### Notebook for Webscraping Data to get information about German Startups"
   ]
  },
  {
   "cell_type": "code",
   "execution_count": 4,
   "id": "6019609f-d744-4869-82cd-d4a4a8b56815",
   "metadata": {},
   "outputs": [
    {
     "name": "stdout",
     "output_type": "stream",
     "text": [
      "<Response [200]>\n",
      "200\n"
     ]
    }
   ],
   "source": [
    "# import requests\n",
    "from pip._vendor import requests\n",
    "# making a request to a webpage\n",
    "page = requests.get(\"https://www.failory.com/startups/germany\", timeout=15)\n",
    "print(page)\n",
    "print(page.status_code) ## prints 200 as status code\n",
    "#print(page.content[:5000]) ## prints the entire webpage content"
   ]
  },
  {
   "cell_type": "code",
   "execution_count": 2,
   "id": "7ca10692-d5fe-4ab5-b9e7-bef7921e044a",
   "metadata": {},
   "outputs": [],
   "source": [
    "from bs4 import BeautifulSoup\n",
    "import re # a library to do regular expression matching\n",
    "import pandas as pd\n",
    "import numpy as np"
   ]
  },
  {
   "cell_type": "code",
   "execution_count": 6,
   "id": "6588598b-d2d3-4942-9100-f60c04b26649",
   "metadata": {},
   "outputs": [
    {
     "data": {
      "text/plain": [
       "bs4.BeautifulSoup"
      ]
     },
     "execution_count": 6,
     "metadata": {},
     "output_type": "execute_result"
    }
   ],
   "source": [
    "soup = BeautifulSoup(page.content, \"html.parser\") # converts the page content into a beautifulsoup object\n",
    "type(soup)"
   ]
  },
  {
   "cell_type": "code",
   "execution_count": 7,
   "id": "e200650b-43bb-4a4e-a03a-2d8be4807d03",
   "metadata": {},
   "outputs": [
    {
     "data": {
      "text/plain": [
       "'https://global-uploads.webflow.com/5fada95bd7a18db677087e20/css/failory-v3.webflow.7138e7e6a.min.css'"
      ]
     },
     "execution_count": 7,
     "metadata": {},
     "output_type": "execute_result"
    }
   ],
   "source": [
    "soup.find('link').get('href')"
   ]
  },
  {
   "cell_type": "code",
   "execution_count": 8,
   "id": "078e21db-7d05-463e-8ef2-810e7c1bcb68",
   "metadata": {},
   "outputs": [
    {
     "data": {
      "text/plain": [
       "'https://www.failory.com/startups/germany'"
      ]
     },
     "execution_count": 8,
     "metadata": {},
     "output_type": "execute_result"
    }
   ],
   "source": [
    "soup.findAll('link')[3].get('href')"
   ]
  },
  {
   "cell_type": "code",
   "execution_count": 10,
   "id": "4925aefe-bcbd-486a-83c5-9c5fc1899959",
   "metadata": {},
   "outputs": [
    {
     "data": {
      "text/plain": [
       "\"300 Best Startups in Germany\\n\\n\\n\\nLearn how to validate your startup idea by pre-selling it, for only $80 (includes a free 1-hour consultancy call).FailoryInterviewsBlogGraveyardToolsDealsResourcesDownload The List of the\\xa0100 Highest-Valued UnicornsThis free sheet contains all the information about the top 100 unicorns, including their valuation, HQ's location, founded year, name of founders, funding amount and number of employees.\\n\\nGet the Free Sheet\\nDownload The List of the\\xa0100 Highest-Valued Pr\""
      ]
     },
     "execution_count": 10,
     "metadata": {},
     "output_type": "execute_result"
    }
   ],
   "source": [
    "soup.get_text()[:500]"
   ]
  },
  {
   "cell_type": "code",
   "execution_count": 75,
   "id": "69bb4022-1e61-4f65-95bf-51e999f843af",
   "metadata": {},
   "outputs": [],
   "source": [
    "company_title = soup.findAll('h3')\n",
    "#company_title.partition(')')[0]\n",
    "#company_title"
   ]
  },
  {
   "cell_type": "code",
   "execution_count": 30,
   "id": "c3201368-071a-47b5-b9ed-0867f6391f31",
   "metadata": {},
   "outputs": [
    {
     "data": {
      "text/plain": [
       "<ul role=\"list\"><li>City: Munich</li><li>Started in: 2011</li><li>Founders: Alexander Rinke, Bastian Nominacher, Martin Klenk</li><li>Industries: Analytics, Business Intelligence, SaaS, Software</li><li>Number of employees: 1001-5000</li><li>Funding amount: $1,367,500,000</li><li>Number of funding rounds: 4</li><li>Number of investors: 9</li></ul>"
      ]
     },
     "execution_count": 30,
     "metadata": {},
     "output_type": "execute_result"
    }
   ],
   "source": [
    "soup.findAll('ul',{'role': 'list'})[0]"
   ]
  },
  {
   "cell_type": "code",
   "execution_count": 32,
   "id": "046d11e7-3f52-4086-81e3-88f7045f76af",
   "metadata": {},
   "outputs": [
    {
     "data": {
      "text/plain": [
       "300"
      ]
     },
     "execution_count": 32,
     "metadata": {},
     "output_type": "execute_result"
    }
   ],
   "source": [
    "len(soup.findAll('ul',{'role': 'list'}))"
   ]
  },
  {
   "cell_type": "code",
   "execution_count": 33,
   "id": "00dd34dc-d1e5-482d-9c45-e29f89d20a95",
   "metadata": {},
   "outputs": [
    {
     "data": {
      "text/plain": [
       "{'role': 'list'}"
      ]
     },
     "execution_count": 33,
     "metadata": {},
     "output_type": "execute_result"
    }
   ],
   "source": [
    "soup.findAll('ul',{'role': 'list'})[0].attrs"
   ]
  },
  {
   "cell_type": "code",
   "execution_count": 172,
   "id": "858daf8c-5eed-4804-b549-5cbfae4c6818",
   "metadata": {},
   "outputs": [
    {
     "data": {
      "text/plain": [
       "[<li>City: Berlin</li>,\n",
       " <li>Number of employees: 51-100</li>,\n",
       " <li>Funding amount: $87,201,448</li>]"
      ]
     },
     "execution_count": 172,
     "metadata": {},
     "output_type": "execute_result"
    }
   ],
   "source": [
    "info = soup.findAll('ul',{'role': 'list'})[1].findAll('li')\n",
    "len(info)\n",
    "info"
   ]
  },
  {
   "cell_type": "code",
   "execution_count": 173,
   "id": "808ae8f4-c0a5-4d02-9ebb-e28124ec188d",
   "metadata": {},
   "outputs": [
    {
     "data": {
      "text/plain": [
       "['City: Berlin', 'Number of employees: 51-100', 'Funding amount: $87,201,448']"
      ]
     },
     "execution_count": 173,
     "metadata": {},
     "output_type": "execute_result"
    }
   ],
   "source": [
    "[i.get_text().strip() for i in info]"
   ]
  },
  {
   "cell_type": "code",
   "execution_count": 174,
   "id": "28d459a2-0ad7-459b-b56a-2119b5772e32",
   "metadata": {},
   "outputs": [
    {
     "data": {
      "text/plain": [
       "['City: Berlin',\n",
       " 'Started in: ',\n",
       " 'Founders: ',\n",
       " 'Industries: ',\n",
       " 'Number of employees: 51-100',\n",
       " 'Funding amount: ',\n",
       " 'Number of funding rounds: ',\n",
       " 'Number of investors: ']"
      ]
     },
     "execution_count": 174,
     "metadata": {},
     "output_type": "execute_result"
    }
   ],
   "source": [
    "info_used = [\"City: \",\"Started in: \",\"Founders: \",\"Industries: \",\"Number of employees: \",\"Funding amount: \",\n",
    "            \"Number of funding rounds: \",\"Number of investors: \"]\n",
    "#info_used = []\n",
    "for i in info:\n",
    "    if(i.get_text().strip().partition(':')[0] == \"City\"):\n",
    "        info_used[0] = i.get_text().strip()\n",
    "    elif(i.get_text().strip().partition(':')[0] == \"Number of employees\"):\n",
    "        info_used[4] = i.get_text().strip()    \n",
    "##info_used.append(i.get_text().strip().partition(':')[2])\n",
    "info_used"
   ]
  },
  {
   "cell_type": "code",
   "execution_count": 101,
   "id": "14129847-44e9-49ff-8c0d-d25c05890fbc",
   "metadata": {},
   "outputs": [
    {
     "data": {
      "text/plain": [
       "['City: Munich',\n",
       " 'Started in: 2011',\n",
       " 'Founders: Alexander Rinke, Bastian Nominacher, Martin Klenk',\n",
       " 'Industries: Analytics, Business Intelligence, SaaS, Software',\n",
       " 'Number of employees: 1001-5000',\n",
       " 'Funding amount: $1,367,500,000',\n",
       " 'Number of funding rounds: 4',\n",
       " 'Number of investors: 9']"
      ]
     },
     "execution_count": 101,
     "metadata": {},
     "output_type": "execute_result"
    }
   ],
   "source": [
    "info_used = []\n",
    "for i in info:\n",
    "    info_used.append(i.get_text().strip())\n",
    "info_used"
   ]
  },
  {
   "cell_type": "code",
   "execution_count": 58,
   "id": "a96e3235-4ad0-4c69-98f0-55aec1c81bcf",
   "metadata": {},
   "outputs": [],
   "source": [
    "start_date = info[1].text"
   ]
  },
  {
   "cell_type": "code",
   "execution_count": 60,
   "id": "53ed905d-f0d2-4ad6-8251-d3a7b048fa37",
   "metadata": {},
   "outputs": [
    {
     "data": {
      "text/plain": [
       "' 2011'"
      ]
     },
     "execution_count": 60,
     "metadata": {},
     "output_type": "execute_result"
    }
   ],
   "source": [
    "start_date.partition(':')[2]"
   ]
  },
  {
   "cell_type": "code",
   "execution_count": 96,
   "id": "2ef07dec-7748-4a91-9d58-f29f9bcdfb4b",
   "metadata": {},
   "outputs": [
    {
     "data": {
      "text/plain": [
       "' Alexander Rinke, Bastian Nominacher, Martin Klenk'"
      ]
     },
     "execution_count": 96,
     "metadata": {},
     "output_type": "execute_result"
    }
   ],
   "source": [
    "founders = info[2].text.partition(':')[2]\n",
    "founders"
   ]
  },
  {
   "cell_type": "code",
   "execution_count": 89,
   "id": "2cf26b41-e76b-4fd6-924a-96f21e884e07",
   "metadata": {},
   "outputs": [
    {
     "data": {
      "text/plain": [
       "' Analytics, Business Intelligence, SaaS, Software'"
      ]
     },
     "execution_count": 89,
     "metadata": {},
     "output_type": "execute_result"
    }
   ],
   "source": [
    "info[3].text.partition(':')[2]"
   ]
  },
  {
   "cell_type": "code",
   "execution_count": 62,
   "id": "69754043-3c95-4cc8-8290-e15869f74230",
   "metadata": {},
   "outputs": [
    {
     "data": {
      "text/plain": [
       "' Alexander Rinke, Bastian Nominacher, Martin Klenk'"
      ]
     },
     "execution_count": 62,
     "metadata": {},
     "output_type": "execute_result"
    }
   ],
   "source": [
    "founders.partition(':')[2]"
   ]
  },
  {
   "cell_type": "code",
   "execution_count": 44,
   "id": "d12d2e1a-dbc2-4d03-9708-13495a077b3d",
   "metadata": {},
   "outputs": [],
   "source": [
    "city = info[0].text.split()"
   ]
  },
  {
   "cell_type": "code",
   "execution_count": 45,
   "id": "471ce6df-a688-4ad1-a7e2-3648d2564b18",
   "metadata": {},
   "outputs": [
    {
     "data": {
      "text/plain": [
       "'Munich'"
      ]
     },
     "execution_count": 45,
     "metadata": {},
     "output_type": "execute_result"
    }
   ],
   "source": [
    "city[1]"
   ]
  },
  {
   "cell_type": "code",
   "execution_count": 104,
   "id": "d7c243a4-e0ca-4b66-aeec-e0a5567ae218",
   "metadata": {},
   "outputs": [],
   "source": [
    "company_name = [] \n",
    "for i in company_title:\n",
    "    company_name.append(i.get_text().strip())    "
   ]
  },
  {
   "cell_type": "code",
   "execution_count": 82,
   "id": "eff58509-967b-45a9-836a-9287e397dae4",
   "metadata": {},
   "outputs": [
    {
     "name": "stdout",
     "output_type": "stream",
     "text": [
      " TradeRepublic\n"
     ]
    }
   ],
   "source": [
    "print(company_name[1].partition(')')[2])"
   ]
  },
  {
   "cell_type": "code",
   "execution_count": 157,
   "id": "89a4e97f-c70b-4270-a23d-1fc2649517ce",
   "metadata": {},
   "outputs": [
    {
     "data": {
      "text/plain": [
       "'Celonis'"
      ]
     },
     "execution_count": 157,
     "metadata": {},
     "output_type": "execute_result"
    }
   ],
   "source": [
    "test_company = company_name[0].split()\n",
    "test_company[1]"
   ]
  },
  {
   "cell_type": "code",
   "execution_count": 166,
   "id": "004cc352-3d0f-4370-96c9-c6cc53cd6a9e",
   "metadata": {},
   "outputs": [
    {
     "data": {
      "text/plain": [
       "[<li>City: Berlin</li>,\n",
       " <li>Number of employees: 51-100</li>,\n",
       " <li>Funding amount: $87,201,448</li>]"
      ]
     },
     "execution_count": 166,
     "metadata": {},
     "output_type": "execute_result"
    }
   ],
   "source": [
    "info_used = soup.findAll('ul',{'role': 'list'})[1].findAll('li')\n",
    "info_used"
   ]
  },
  {
   "cell_type": "code",
   "execution_count": 169,
   "id": "70dc1028-3e61-46bc-94ba-d6ed30ed6510",
   "metadata": {},
   "outputs": [
    {
     "name": "stdout",
     "output_type": "stream",
     "text": [
      "[<li>City: Munich</li>, <li>Started in: 2011</li>, <li>Founders: Alexander Rinke, Bastian Nominacher, Martin Klenk</li>, <li>Industries: Analytics, Business Intelligence, SaaS, Software</li>, <li>Number of employees: 1001-5000</li>, <li>Funding amount: $1,367,500,000</li>, <li>Number of funding rounds: 4</li>, <li>Number of investors: 9</li>]\n",
      "[<li>City: Berlin</li>, <li>Number of employees: 51-100</li>, <li>Funding amount: $87,201,448</li>]\n"
     ]
    }
   ],
   "source": [
    "cols = [\"Company\", \"City\", \"Started_in\", \"Founders\", \"Industries\", \"Number_of_employees\",\n",
    "            \"Funding_amount\", \"Number_of_funding_rounds\", \"Number_of_investors\"]\n",
    "    \n",
    "df = pd.DataFrame(columns = cols)\n",
    "\n",
    "#for i in range(len(soup.findAll('ul',{'role': 'list'}))):\n",
    "for i in range(2):\n",
    "\n",
    "    info = [\"City: \",\"Started in: \",\"Founders: \",\"Industries: \",\"Number of employees: \",\"Funding amount: \",\n",
    "            \"Number of funding rounds: \",\"Number of investors: \"]\n",
    "    info_used = soup.findAll('ul',{'role': 'list'})[i].findAll('li')\n",
    "    print(info_used)"
   ]
  },
  {
   "cell_type": "code",
   "execution_count": 179,
   "id": "bccabe32-6cbb-48e1-8bfe-4149f10b6182",
   "metadata": {},
   "outputs": [
    {
     "name": "stdout",
     "output_type": "stream",
     "text": [
      "{'Company': 'Celonis', 'City': nan, 'Started_in': nan, 'Founders': nan, 'Industries': nan, 'Number_of_employees': nan, 'Funding_amount': nan, 'Number_of_funding_rounds': nan, 'Number_of_investors': nan}\n"
     ]
    }
   ],
   "source": [
    "cols = [\"Company\", \"City\", \"Started_in\", \"Founders\", \"Industries\", \"Number_of_employees\",\n",
    "            \"Funding_amount\", \"Number_of_funding_rounds\", \"Number_of_investors\"]\n",
    "    \n",
    "df = pd.DataFrame(columns = cols)\n",
    "\n",
    "#for i in range(len(soup.findAll('ul',{'role': 'list'}))):\n",
    "for i in range(1):\n",
    "\n",
    "    info = [\"City: \",\"Started in: \",\"Founders: \",\"Industries: \",\"Number of employees: \",\"Funding amount: \",\n",
    "            \"Number of funding rounds: \",\"Number of investors: \"]\n",
    "    info_used = soup.findAll('ul',{'role': 'list'})[i].findAll('li')\n",
    "    #info_used\n",
    "    for j in info_used:\n",
    "        if(j.get_text().strip().partition(':')[0] == \"City\"):\n",
    "            info[0] = j.get_text().strip()\n",
    "        elif(j.get_text().strip().partition(':')[0] == \"Started in\"):\n",
    "            info[1] = j.get_text().strip()\n",
    "        elif(j.get_text().strip().partition(':')[0] == \"Founders\"):\n",
    "            info[2] = j.get_text().strip()\n",
    "        elif(j.get_text().strip().partition(':')[0] == \"Industries\"):\n",
    "            info[3] = j.get_text().strip()\n",
    "        elif(j.get_text().strip().partition(':')[0] == \"Number of employees\"):\n",
    "            info[4] = j.get_text().strip()                \n",
    "        elif(j.get_text().strip().partition(':')[0] == \"Funding amount\"):\n",
    "            info[5] = j.get_text().strip()\n",
    "        elif(j.get_text().strip().partition(':')[0] == \"Number of funding rounds\"):\n",
    "            info[6] = j.get_text().strip()\n",
    "        elif(j.get_text().strip().partition(':')[0] == \"Number of investors\"):\n",
    "            info[7] = j.get_text().strip()\n",
    "     \n",
    "        \n",
    "    try:\n",
    "        test_company = company_name[i].split()\n",
    "        Company = test_company[1]\n",
    "    except AttributeError:\n",
    "        Company = np.nan\n",
    "\n",
    "    try:\n",
    "        City = info[0].text.partition(':')[2]\n",
    "    except AttributeError:\n",
    "        City = np.nan\n",
    "\n",
    "    try:\n",
    "        Started_in = info[1].text.partition(':')[2]\n",
    "    except AttributeError:\n",
    "        Started_in = np.nan\n",
    "            \n",
    "    try:\n",
    "        Founders =  info[2].text.partition(':')[2]\n",
    "    except AttributeError:\n",
    "        Founders = np.nan\n",
    "            \n",
    "    try:\n",
    "        Industries = info[3].text.partition(':')[2]\n",
    "    except AttributeError:\n",
    "        Industries = np.nan\n",
    "\n",
    "    try:\n",
    "        Number_of_employees = info[4].text.partition(':')[2]\n",
    "    except AttributeError:\n",
    "        Number_of_employees = np.nan\n",
    "\n",
    "    try:\n",
    "        Funding_amount = info[5].text.partition(':')[2]\n",
    "    except AttributeError:\n",
    "        Funding_amount = np.nan\n",
    "\n",
    "    try:\n",
    "        Number_of_funding_rounds = info[6].text.partition(':')[2]\n",
    "    except AttributeError:\n",
    "        Number_of_funding_rounds = np.nan\n",
    "            \n",
    "    try:\n",
    "        Number_of_investors = info[7].text.partition(':')[2]\n",
    "    except AttributeError:\n",
    "        Number_of_investors = np.nan\n",
    "            \n",
    "    job_dict = { \n",
    "          'Company': Company, \n",
    "          'City': City, \n",
    "          'Started_in': Started_in, \n",
    "          'Founders': Founders,\n",
    "          'Industries': Industries,\n",
    "          'Number_of_employees': Number_of_employees, \n",
    "          'Funding_amount': Funding_amount,\n",
    "          'Number_of_funding_rounds': Number_of_funding_rounds,  \n",
    "          'Number_of_investors': Number_of_investors }\n",
    "    print(job_dict)\n",
    "    #df = df.append(job_dict, ignore_index=True)    \n"
   ]
  },
  {
   "cell_type": "code",
   "execution_count": 153,
   "id": "581aa982-4b28-40fb-a468-6b4c85d8ae0c",
   "metadata": {},
   "outputs": [
    {
     "data": {
      "text/html": [
       "<div>\n",
       "<style scoped>\n",
       "    .dataframe tbody tr th:only-of-type {\n",
       "        vertical-align: middle;\n",
       "    }\n",
       "\n",
       "    .dataframe tbody tr th {\n",
       "        vertical-align: top;\n",
       "    }\n",
       "\n",
       "    .dataframe thead th {\n",
       "        text-align: right;\n",
       "    }\n",
       "</style>\n",
       "<table border=\"1\" class=\"dataframe\">\n",
       "  <thead>\n",
       "    <tr style=\"text-align: right;\">\n",
       "      <th></th>\n",
       "      <th>Company</th>\n",
       "      <th>City</th>\n",
       "      <th>Started_in</th>\n",
       "      <th>Founders</th>\n",
       "      <th>Industries</th>\n",
       "      <th>Number_of_employees</th>\n",
       "      <th>Funding_amount</th>\n",
       "      <th>Number_of_funding_rounds</th>\n",
       "      <th>Number_of_investors</th>\n",
       "    </tr>\n",
       "  </thead>\n",
       "  <tbody>\n",
       "    <tr>\n",
       "      <th>0</th>\n",
       "      <td>Celonis</td>\n",
       "      <td>NaN</td>\n",
       "      <td>NaN</td>\n",
       "      <td>NaN</td>\n",
       "      <td>NaN</td>\n",
       "      <td>NaN</td>\n",
       "      <td>NaN</td>\n",
       "      <td>NaN</td>\n",
       "      <td>NaN</td>\n",
       "    </tr>\n",
       "  </tbody>\n",
       "</table>\n",
       "</div>"
      ],
      "text/plain": [
       "   Company City Started_in Founders Industries Number_of_employees  \\\n",
       "0  Celonis  NaN        NaN      NaN        NaN                 NaN   \n",
       "\n",
       "  Funding_amount Number_of_funding_rounds Number_of_investors  \n",
       "0            NaN                      NaN                 NaN  "
      ]
     },
     "execution_count": 153,
     "metadata": {},
     "output_type": "execute_result"
    }
   ],
   "source": [
    "df.head()"
   ]
  }
 ],
 "metadata": {
  "kernelspec": {
   "display_name": "Python 3 (ipykernel)",
   "language": "python",
   "name": "python3"
  },
  "language_info": {
   "codemirror_mode": {
    "name": "ipython",
    "version": 3
   },
   "file_extension": ".py",
   "mimetype": "text/x-python",
   "name": "python",
   "nbconvert_exporter": "python",
   "pygments_lexer": "ipython3",
   "version": "3.9.12"
  }
 },
 "nbformat": 4,
 "nbformat_minor": 5
}
